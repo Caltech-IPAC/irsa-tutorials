{
 "cells": [
  {
   "cell_type": "markdown",
   "id": "71e6bc8e",
   "metadata": {},
   "source": [
    "# Simulated Roman Time Domain Survey Data"
   ]
  },
  {
   "cell_type": "markdown",
   "id": "687e9247",
   "metadata": {},
   "source": [
    "## Learning Goals:\n",
    "\n",
    "By the end of this tutorial, you will:\n",
    "\n",
    "1. learn more about the \"observations\" that make up the simulated Roman TDS preview.\n",
    "2. learn how to find the locations of simulated supernovae in the preview data.\n",
    "3. learn how to create aligned cutouts of simulated Roman images.\n",
    "4. learn how to make an animated gif from these cutouts."
   ]
  },
  {
   "cell_type": "markdown",
   "id": "8078fbed",
   "metadata": {},
   "source": [
    "## Install and Import required modules"
   ]
  },
  {
   "cell_type": "code",
   "execution_count": 1,
   "id": "d73ef115",
   "metadata": {},
   "outputs": [],
   "source": [
    "# Install libraries if necessary by uncommenting the following\n",
    "# !pip install astropy matplotlib numpy pandas pyarrow s3fs scipy"
   ]
  },
  {
   "cell_type": "code",
   "execution_count": 2,
   "id": "25e37e8a",
   "metadata": {},
   "outputs": [],
   "source": [
    "# Import modules\n",
    "import warnings\n",
    "\n",
    "import astropy.units as u\n",
    "import matplotlib.pyplot as plt\n",
    "import numpy as np\n",
    "import pandas as pd\n",
    "from astropy.coordinates import SkyCoord\n",
    "from astropy.io import fits\n",
    "from astropy.nddata import Cutout2D\n",
    "from astropy.nddata.utils import NoOverlapError\n",
    "from astropy.table import Table\n",
    "from astropy.wcs import WCS, FITSFixedWarning\n",
    "from matplotlib import animation\n",
    "from scipy.ndimage import rotate\n",
    "\n",
    "# Needed to access data in the cloud\n",
    "import s3fs\n",
    "s3 = s3fs.S3FileSystem(anon=True) # create an S3 client\n",
    "\n",
    "# Filter out the FITSFixedWarning, which is consequenceless and gets thrown every time you deal with a WCS\n",
    "# in a Roman openuniverse simulated image using astropy.\n",
    "warnings.simplefilter('ignore',category=FITSFixedWarning)"
   ]
  },
  {
   "cell_type": "markdown",
   "id": "f7325fca",
   "metadata": {},
   "source": [
    "## Define a module to get the date (mjd) of a particular pointing."
   ]
  },
  {
   "cell_type": "code",
   "execution_count": 3,
   "id": "ed1a0a47",
   "metadata": {},
   "outputs": [],
   "source": [
    "def get_mjd(pointing,\n",
    "            obseq_path=f's3://nasa-irsa-simulations/openuniverse2024/roman/preview/RomanTDS/Roman_TDS_obseq_11_6_23.fits'):\n",
    "\n",
    "    \"\"\"\n",
    "    Retrieve MJD of a given pointing.\n",
    "\n",
    "    :param pointing: Pointing ID.\n",
    "    :type pointing: int\n",
    "    :param obseq_path: Path to obseq file Roman_TDS_obseq_11_6_23.fits.\n",
    "    :type obseq_path: str, optional\n",
    "    :return: MJD of specified pointing.\n",
    "    :rtype: float\n",
    "    \"\"\"\n",
    "\n",
    "    with fits.open(obseq_path, fsspec_kwargs={\"anon\": True}) as obs:\n",
    "        obseq = Table(obs[1].data)\n",
    "    mjd = float(obseq['date'][int(pointing)])\n",
    "\n",
    "    return mjd"
   ]
  },
  {
   "cell_type": "markdown",
   "id": "9541d995",
   "metadata": {},
   "source": [
    "## Define a module to create an animated gif from a collection of cutouts."
   ]
  },
  {
   "cell_type": "code",
   "execution_count": 4,
   "id": "866f0d46",
   "metadata": {},
   "outputs": [],
   "source": [
    "def animate_stamps(stamps,savepath,no_whitespace=True,\n",
    "                   labels=[],labelxy=(0.05,0.95),\n",
    "                   **kwargs):\n",
    "    \"\"\"\n",
    "    Make an animation of a sequence of image stamps.\n",
    "\n",
    "    :param stamps: Must be in chronological order.\n",
    "    :type stamps: List of stamps from get_stamps or get_object_instances.\n",
    "    :param savepath: Path to save gif.\n",
    "    :type savepath: str\n",
    "    \"\"\"\n",
    "\n",
    "    if no_whitespace:\n",
    "        with_whitespace = np.invert(np.any((np.isnan(np.array(stamps))), axis=(1,2))) # NOTE: Your first axis (first indexing value) should return one stamp. e.g. stamps[0] is the first stamp.\n",
    "        idx_whitespace = np.where(with_whitespace)[0]\n",
    "        stamps = np.array(stamps)[idx_whitespace]\n",
    "        if len(labels) != 0:\n",
    "            labels = np.array(labels)[idx_whitespace]\n",
    "\n",
    "    fig, ax = plt.subplots(figsize=(5,5))\n",
    "    fig.subplots_adjust(left=0, bottom=0, right=1, top=1, wspace=None, hspace=None)\n",
    "    plt.xticks([])\n",
    "    plt.yticks([])\n",
    "\n",
    "    im = ax.imshow(stamps[0], animated=True)\n",
    "\n",
    "    if len(labels) != 0:\n",
    "        txt = ax.text(labelxy[0],labelxy[1],labels[0],animated=True,color='white',transform=ax.transAxes,va='top',ha='left',**kwargs)\n",
    "\n",
    "    def animate(i):\n",
    "        im.set_array(stamps[i])\n",
    "        if len(labels) != 0:\n",
    "            txt.set_text(labels[i])\n",
    "\n",
    "            return [im] + [txt]\n",
    "        else:\n",
    "            return [im]\n",
    "\n",
    "    writer = animation.PillowWriter()\n",
    "    anim = animation.FuncAnimation(fig, animate, interval=600, frames=len(stamps))\n",
    "    anim.save(savepath, writer=writer)"
   ]
  },
  {
   "cell_type": "markdown",
   "id": "89911295",
   "metadata": {},
   "source": [
    "## Read in the Observation Sequence File to learn more about the \"observations\" that make up the simulated Roman Time Domain Survey."
   ]
  },
  {
   "cell_type": "code",
   "execution_count": 5,
   "id": "cab7b9da",
   "metadata": {},
   "outputs": [
    {
     "name": "stdout",
     "output_type": "stream",
     "text": [
      "             ra      dec filter  exptime         date        pa\n",
      "0       7.60523 -45.6541   R062  161.025  62000.02139   0.00000\n",
      "1       7.60523 -44.8337   R062  161.025  62000.02407   0.00000\n",
      "2       7.60523 -44.0134   R062  161.025  62000.02674   0.00000\n",
      "3       7.60523 -43.1930   R062  161.025  62000.02941   0.00000\n",
      "4       7.60523 -42.3727   R062  161.025  62000.03209   0.00000\n",
      "...         ...      ...    ...      ...          ...       ...\n",
      "57360  11.81670 -44.9265   K213  901.175  63563.01290  19.72602\n",
      "57361  11.53980 -44.1543   K213  901.175  63563.02420  19.72602\n",
      "57362  11.26290 -43.3821   K213  901.175  63563.03540  19.72602\n",
      "57363  10.98600 -42.6099   K213  901.175  63563.04660  19.72602\n",
      "57364  10.70920 -41.8377   K213  901.175  63563.05790  19.72602\n",
      "\n",
      "[57365 rows x 6 columns]\n"
     ]
    }
   ],
   "source": [
    "# Read in the (simulated) Observation Sequence File.\n",
    "\n",
    "BUCKET_NAME = 'nasa-irsa-simulations'\n",
    "ROMAN_PREFIX = 'openuniverse2024/roman/preview'\n",
    "\n",
    "ROMAN_TDS_PATH = f'{ROMAN_PREFIX}/RomanTDS'\n",
    "FILENAME = 'Roman_TDS_obseq_11_6_23.fits'\n",
    "OBSEQ_PATH = f's3://{BUCKET_NAME}/{ROMAN_TDS_PATH}/{FILENAME}'\n",
    "\n",
    "obseq_hdu = fits.open(OBSEQ_PATH, fsspec_kwargs={\"anon\": True})\n",
    "obseq = pd.DataFrame(obseq_hdu[1].data)\n",
    "\n",
    "print(obseq)"
   ]
  },
  {
   "cell_type": "markdown",
   "id": "c7bd2b9e",
   "metadata": {},
   "source": [
    "## What is the spatial and temporal coverage of the openuniverse2024 Roman TDS data preview?"
   ]
  },
  {
   "cell_type": "code",
   "execution_count": 6,
   "id": "02381fd7",
   "metadata": {},
   "outputs": [
    {
     "name": "stdout",
     "output_type": "stream",
     "text": [
      "ra_min, ra_max: 6.97879 12.0204\n",
      "mjd_min, mjd_max: 62000.02139 63563.0579\n"
     ]
    }
   ],
   "source": [
    "# Find the ranges of RA, Dec, and date listed in the observation sequence file.\n",
    "\n",
    "ra_min, dec_min = obseq[['ra','dec']].min()\n",
    "ra_max, dec_max = obseq[['ra','dec']].max()\n",
    "mjd_min = obseq['date'].min()\n",
    "mjd_max = obseq['date'].max()\n",
    "\n",
    "print(\"ra_min, ra_max:\", ra_min, ra_max)\n",
    "print(\"mjd_min, mjd_max:\", mjd_min, mjd_max)"
   ]
  },
  {
   "cell_type": "markdown",
   "id": "df3f0b2f",
   "metadata": {},
   "source": [
    "## Read in the Supernova Analysis (SNANA) file."
   ]
  },
  {
   "cell_type": "code",
   "execution_count": 7,
   "id": "59960a2a",
   "metadata": {},
   "outputs": [],
   "source": [
    "parquet_file = f's3://{BUCKET_NAME}/{ROMAN_PREFIX}/roman_rubin_cats_v1.1.2_faint/snana_10307.parquet'\n",
    "transients = pd.read_parquet(parquet_file, filesystem=s3)"
   ]
  },
  {
   "cell_type": "markdown",
   "id": "b2075fe0",
   "metadata": {},
   "source": [
    "## Let's find a relatively nearby SN Ia that lies within the region of the data preview."
   ]
  },
  {
   "cell_type": "code",
   "execution_count": 8,
   "id": "51e67615",
   "metadata": {},
   "outputs": [
    {
     "data": {
      "text/plain": [
       "['FIXMAG',\n",
       " 'NON1ASED.KN-K17',\n",
       " 'NON1ASED.PISN-STELLA-HECORE',\n",
       " 'NON1ASED.PISN-STELLA-HYDROGENIC',\n",
       " 'NON1ASED.SLSN-I-BBFIT',\n",
       " 'NON1ASED.V19_CC+HostXT_WAVEEXT',\n",
       " 'SALT3.NIR_WAVEEXT',\n",
       " 'NON1ASED.SNIax',\n",
       " 'NON1ASED.TDE-BBFIT']"
      ]
     },
     "execution_count": 8,
     "metadata": {},
     "output_type": "execute_result"
    }
   ],
   "source": [
    "#List the unique models in the SNANA file.\n",
    "unique_models = pd.Series(transients['model_name']).drop_duplicates().tolist()\n",
    "unique_models"
   ]
  },
  {
   "cell_type": "code",
   "execution_count": 9,
   "id": "f45463ee",
   "metadata": {},
   "outputs": [
    {
     "name": "stdout",
     "output_type": "stream",
     "text": [
      "Number of SN1a in SNANA file:  10369\n"
     ]
    }
   ],
   "source": [
    "# Most of the models are non SNIa (NON1ASED).\n",
    "# Choose only the SNIa\n",
    "sn1a = transients[transients['model_name'] == 'SALT3.NIR_WAVEEXT'] # SNe Ia only.\n",
    "print('Number of SN1a in SNANA file: ', len(sn1a))"
   ]
  },
  {
   "cell_type": "code",
   "execution_count": 10,
   "id": "59304469",
   "metadata": {},
   "outputs": [
    {
     "name": "stdout",
     "output_type": "stream",
     "text": [
      "Number of SNIa in OpenUniverse2024 data preview: 6718\n"
     ]
    }
   ],
   "source": [
    "# Choose the SNIa that overlap with the spatial extent of the OpenUniverse2024 Roman TDS data preview.\n",
    "ra_mask = np.logical_and(sn1a['ra'] > ra_min, sn1a['ra'] < ra_max)\n",
    "dec_mask = np.logical_and(sn1a['dec'] > dec_min, sn1a['dec'] < dec_max)\n",
    "mjd_mask = np.logical_and(sn1a['start_mjd'] > mjd_min, sn1a['end_mjd'] < mjd_max)\n",
    "all_mask = np.logical_and.reduce((ra_mask,dec_mask,mjd_mask))\n",
    "preview_sn1a = sn1a[all_mask]\n",
    "print('Number of SNIa in OpenUniverse2024 data preview:', len(preview_sn1a))"
   ]
  },
  {
   "cell_type": "code",
   "execution_count": 11,
   "id": "06262275",
   "metadata": {},
   "outputs": [
    {
     "name": "stdout",
     "output_type": "stream",
     "text": [
      "Number of nearby SNIa in OpenUniverse2024 data preview: 573\n"
     ]
    }
   ],
   "source": [
    "# Choose the SNIa in the data preview that are nearby, at redshifts less than 0.7.\n",
    "nearby_preview_sn1a = preview_sn1a[preview_sn1a['z_CMB'] < 0.7]\n",
    "print('Number of nearby SNIa in OpenUniverse2024 data preview:', len(nearby_preview_sn1a))"
   ]
  },
  {
   "cell_type": "code",
   "execution_count": 12,
   "id": "b86b8c46",
   "metadata": {},
   "outputs": [],
   "source": [
    "# Let's choose SN 20000808.\n",
    "oid = 20000808\n",
    "chosen_object = nearby_preview_sn1a[nearby_preview_sn1a['id'] == oid]\n",
    "ra = chosen_object.get('ra')\n",
    "dec = chosen_object.get('dec')\n",
    "ra, dec = 9.619282, -44.313894\n",
    "coord = SkyCoord(ra*u.deg, dec*u.deg)"
   ]
  },
  {
   "cell_type": "markdown",
   "id": "f73b8673",
   "metadata": {},
   "source": [
    "## Read in the auxiliary file that lists the simulated Roman TDS images covering the chosen SNIa."
   ]
  },
  {
   "cell_type": "code",
   "execution_count": 13,
   "id": "c6ec41fa",
   "metadata": {},
   "outputs": [
    {
     "data": {
      "text/html": [
       "<div>\n",
       "<style scoped>\n",
       "    .dataframe tbody tr th:only-of-type {\n",
       "        vertical-align: middle;\n",
       "    }\n",
       "\n",
       "    .dataframe tbody tr th {\n",
       "        vertical-align: top;\n",
       "    }\n",
       "\n",
       "    .dataframe thead th {\n",
       "        text-align: right;\n",
       "    }\n",
       "</style>\n",
       "<table border=\"1\" class=\"dataframe\">\n",
       "  <thead>\n",
       "    <tr style=\"text-align: right;\">\n",
       "      <th></th>\n",
       "      <th>filter</th>\n",
       "      <th>pointing</th>\n",
       "      <th>sca</th>\n",
       "    </tr>\n",
       "  </thead>\n",
       "  <tbody>\n",
       "    <tr>\n",
       "      <th>0</th>\n",
       "      <td>R062</td>\n",
       "      <td>407</td>\n",
       "      <td>7</td>\n",
       "    </tr>\n",
       "    <tr>\n",
       "      <th>1</th>\n",
       "      <td>R062</td>\n",
       "      <td>4257</td>\n",
       "      <td>10</td>\n",
       "    </tr>\n",
       "    <tr>\n",
       "      <th>2</th>\n",
       "      <td>R062</td>\n",
       "      <td>4647</td>\n",
       "      <td>6</td>\n",
       "    </tr>\n",
       "    <tr>\n",
       "      <th>3</th>\n",
       "      <td>R062</td>\n",
       "      <td>6182</td>\n",
       "      <td>5</td>\n",
       "    </tr>\n",
       "    <tr>\n",
       "      <th>4</th>\n",
       "      <td>R062</td>\n",
       "      <td>8112</td>\n",
       "      <td>15</td>\n",
       "    </tr>\n",
       "    <tr>\n",
       "      <th>5</th>\n",
       "      <td>R062</td>\n",
       "      <td>9652</td>\n",
       "      <td>17</td>\n",
       "    </tr>\n",
       "    <tr>\n",
       "      <th>6</th>\n",
       "      <td>R062</td>\n",
       "      <td>11197</td>\n",
       "      <td>1</td>\n",
       "    </tr>\n",
       "    <tr>\n",
       "      <th>7</th>\n",
       "      <td>R062</td>\n",
       "      <td>11582</td>\n",
       "      <td>1</td>\n",
       "    </tr>\n",
       "    <tr>\n",
       "      <th>8</th>\n",
       "      <td>R062</td>\n",
       "      <td>15037</td>\n",
       "      <td>8</td>\n",
       "    </tr>\n",
       "    <tr>\n",
       "      <th>9</th>\n",
       "      <td>R062</td>\n",
       "      <td>16962</td>\n",
       "      <td>11</td>\n",
       "    </tr>\n",
       "    <tr>\n",
       "      <th>10</th>\n",
       "      <td>R062</td>\n",
       "      <td>18502</td>\n",
       "      <td>10</td>\n",
       "    </tr>\n",
       "    <tr>\n",
       "      <th>11</th>\n",
       "      <td>R062</td>\n",
       "      <td>18507</td>\n",
       "      <td>6</td>\n",
       "    </tr>\n",
       "    <tr>\n",
       "      <th>12</th>\n",
       "      <td>R062</td>\n",
       "      <td>20812</td>\n",
       "      <td>6</td>\n",
       "    </tr>\n",
       "    <tr>\n",
       "      <th>13</th>\n",
       "      <td>R062</td>\n",
       "      <td>21592</td>\n",
       "      <td>18</td>\n",
       "    </tr>\n",
       "    <tr>\n",
       "      <th>14</th>\n",
       "      <td>R062</td>\n",
       "      <td>21977</td>\n",
       "      <td>17</td>\n",
       "    </tr>\n",
       "    <tr>\n",
       "      <th>15</th>\n",
       "      <td>R062</td>\n",
       "      <td>22357</td>\n",
       "      <td>15</td>\n",
       "    </tr>\n",
       "    <tr>\n",
       "      <th>16</th>\n",
       "      <td>R062</td>\n",
       "      <td>23512</td>\n",
       "      <td>17</td>\n",
       "    </tr>\n",
       "    <tr>\n",
       "      <th>17</th>\n",
       "      <td>R062</td>\n",
       "      <td>25442</td>\n",
       "      <td>1</td>\n",
       "    </tr>\n",
       "    <tr>\n",
       "      <th>18</th>\n",
       "      <td>R062</td>\n",
       "      <td>27367</td>\n",
       "      <td>13</td>\n",
       "    </tr>\n",
       "    <tr>\n",
       "      <th>19</th>\n",
       "      <td>R062</td>\n",
       "      <td>28512</td>\n",
       "      <td>7</td>\n",
       "    </tr>\n",
       "    <tr>\n",
       "      <th>20</th>\n",
       "      <td>R062</td>\n",
       "      <td>32362</td>\n",
       "      <td>10</td>\n",
       "    </tr>\n",
       "    <tr>\n",
       "      <th>21</th>\n",
       "      <td>R062</td>\n",
       "      <td>32752</td>\n",
       "      <td>6</td>\n",
       "    </tr>\n",
       "    <tr>\n",
       "      <th>22</th>\n",
       "      <td>R062</td>\n",
       "      <td>34287</td>\n",
       "      <td>5</td>\n",
       "    </tr>\n",
       "    <tr>\n",
       "      <th>23</th>\n",
       "      <td>R062</td>\n",
       "      <td>36217</td>\n",
       "      <td>15</td>\n",
       "    </tr>\n",
       "    <tr>\n",
       "      <th>24</th>\n",
       "      <td>R062</td>\n",
       "      <td>37757</td>\n",
       "      <td>17</td>\n",
       "    </tr>\n",
       "    <tr>\n",
       "      <th>25</th>\n",
       "      <td>R062</td>\n",
       "      <td>39302</td>\n",
       "      <td>1</td>\n",
       "    </tr>\n",
       "    <tr>\n",
       "      <th>26</th>\n",
       "      <td>R062</td>\n",
       "      <td>39687</td>\n",
       "      <td>1</td>\n",
       "    </tr>\n",
       "    <tr>\n",
       "      <th>27</th>\n",
       "      <td>R062</td>\n",
       "      <td>43142</td>\n",
       "      <td>8</td>\n",
       "    </tr>\n",
       "    <tr>\n",
       "      <th>28</th>\n",
       "      <td>R062</td>\n",
       "      <td>45067</td>\n",
       "      <td>11</td>\n",
       "    </tr>\n",
       "    <tr>\n",
       "      <th>29</th>\n",
       "      <td>R062</td>\n",
       "      <td>46607</td>\n",
       "      <td>10</td>\n",
       "    </tr>\n",
       "    <tr>\n",
       "      <th>30</th>\n",
       "      <td>R062</td>\n",
       "      <td>46612</td>\n",
       "      <td>6</td>\n",
       "    </tr>\n",
       "    <tr>\n",
       "      <th>31</th>\n",
       "      <td>R062</td>\n",
       "      <td>48917</td>\n",
       "      <td>6</td>\n",
       "    </tr>\n",
       "    <tr>\n",
       "      <th>32</th>\n",
       "      <td>R062</td>\n",
       "      <td>49697</td>\n",
       "      <td>18</td>\n",
       "    </tr>\n",
       "    <tr>\n",
       "      <th>33</th>\n",
       "      <td>R062</td>\n",
       "      <td>50082</td>\n",
       "      <td>17</td>\n",
       "    </tr>\n",
       "    <tr>\n",
       "      <th>34</th>\n",
       "      <td>R062</td>\n",
       "      <td>50462</td>\n",
       "      <td>15</td>\n",
       "    </tr>\n",
       "    <tr>\n",
       "      <th>35</th>\n",
       "      <td>R062</td>\n",
       "      <td>51617</td>\n",
       "      <td>17</td>\n",
       "    </tr>\n",
       "    <tr>\n",
       "      <th>36</th>\n",
       "      <td>R062</td>\n",
       "      <td>53547</td>\n",
       "      <td>1</td>\n",
       "    </tr>\n",
       "    <tr>\n",
       "      <th>37</th>\n",
       "      <td>R062</td>\n",
       "      <td>55472</td>\n",
       "      <td>13</td>\n",
       "    </tr>\n",
       "    <tr>\n",
       "      <th>38</th>\n",
       "      <td>R062</td>\n",
       "      <td>56617</td>\n",
       "      <td>7</td>\n",
       "    </tr>\n",
       "  </tbody>\n",
       "</table>\n",
       "</div>"
      ],
      "text/plain": [
       "   filter  pointing  sca\n",
       "0    R062       407    7\n",
       "1    R062      4257   10\n",
       "2    R062      4647    6\n",
       "3    R062      6182    5\n",
       "4    R062      8112   15\n",
       "5    R062      9652   17\n",
       "6    R062     11197    1\n",
       "7    R062     11582    1\n",
       "8    R062     15037    8\n",
       "9    R062     16962   11\n",
       "10   R062     18502   10\n",
       "11   R062     18507    6\n",
       "12   R062     20812    6\n",
       "13   R062     21592   18\n",
       "14   R062     21977   17\n",
       "15   R062     22357   15\n",
       "16   R062     23512   17\n",
       "17   R062     25442    1\n",
       "18   R062     27367   13\n",
       "19   R062     28512    7\n",
       "20   R062     32362   10\n",
       "21   R062     32752    6\n",
       "22   R062     34287    5\n",
       "23   R062     36217   15\n",
       "24   R062     37757   17\n",
       "25   R062     39302    1\n",
       "26   R062     39687    1\n",
       "27   R062     43142    8\n",
       "28   R062     45067   11\n",
       "29   R062     46607   10\n",
       "30   R062     46612    6\n",
       "31   R062     48917    6\n",
       "32   R062     49697   18\n",
       "33   R062     50082   17\n",
       "34   R062     50462   15\n",
       "35   R062     51617   17\n",
       "36   R062     53547    1\n",
       "37   R062     55472   13\n",
       "38   R062     56617    7"
      ]
     },
     "execution_count": 13,
     "metadata": {},
     "output_type": "execute_result"
    }
   ],
   "source": [
    "# The auxiliary file contains all the images this thing is in.\n",
    "# If you need to download this file, see https://irsa.ipac.caltech.edu/docs/notebooks/.\n",
    "csvfile = './openuniverse2024_roman_demodata_20000808_instances.csv'\n",
    "instances = pd.read_csv(csvfile, usecols=['filter','pointing','sca'])\n",
    "instances"
   ]
  },
  {
   "cell_type": "markdown",
   "id": "33468490",
   "metadata": {},
   "source": [
    "## Create cutouts of the chosen SNIa in the band of your choice."
   ]
  },
  {
   "cell_type": "code",
   "execution_count": 14,
   "id": "b612b2f3",
   "metadata": {},
   "outputs": [],
   "source": [
    "band = 'R062'\n",
    "instances = instances[instances['filter'] == band]"
   ]
  },
  {
   "cell_type": "code",
   "execution_count": 15,
   "id": "cfb97dc9",
   "metadata": {},
   "outputs": [
    {
     "name": "stdout",
     "output_type": "stream",
     "text": [
      "s3://nasa-irsa-simulations/openuniverse2024/roman/preview/RomanTDS/images/simple_model/R062/407/Roman_TDS_simple_model_R062_407_7.fits.gz\n"
     ]
    },
    {
     "name": "stdout",
     "output_type": "stream",
     "text": [
      "s3://nasa-irsa-simulations/openuniverse2024/roman/preview/RomanTDS/images/simple_model/R062/4257/Roman_TDS_simple_model_R062_4257_10.fits.gz\n"
     ]
    },
    {
     "name": "stdout",
     "output_type": "stream",
     "text": [
      "s3://nasa-irsa-simulations/openuniverse2024/roman/preview/RomanTDS/images/simple_model/R062/4647/Roman_TDS_simple_model_R062_4647_6.fits.gz\n"
     ]
    },
    {
     "name": "stdout",
     "output_type": "stream",
     "text": [
      "s3://nasa-irsa-simulations/openuniverse2024/roman/preview/RomanTDS/images/simple_model/R062/6182/Roman_TDS_simple_model_R062_6182_5.fits.gz\n"
     ]
    },
    {
     "name": "stdout",
     "output_type": "stream",
     "text": [
      "s3://nasa-irsa-simulations/openuniverse2024/roman/preview/RomanTDS/images/simple_model/R062/8112/Roman_TDS_simple_model_R062_8112_15.fits.gz\n"
     ]
    },
    {
     "name": "stdout",
     "output_type": "stream",
     "text": [
      "s3://nasa-irsa-simulations/openuniverse2024/roman/preview/RomanTDS/images/simple_model/R062/9652/Roman_TDS_simple_model_R062_9652_17.fits.gz\n"
     ]
    },
    {
     "name": "stdout",
     "output_type": "stream",
     "text": [
      "s3://nasa-irsa-simulations/openuniverse2024/roman/preview/RomanTDS/images/simple_model/R062/11197/Roman_TDS_simple_model_R062_11197_1.fits.gz\n"
     ]
    },
    {
     "name": "stdout",
     "output_type": "stream",
     "text": [
      "s3://nasa-irsa-simulations/openuniverse2024/roman/preview/RomanTDS/images/simple_model/R062/11582/Roman_TDS_simple_model_R062_11582_1.fits.gz\n"
     ]
    },
    {
     "name": "stdout",
     "output_type": "stream",
     "text": [
      "s3://nasa-irsa-simulations/openuniverse2024/roman/preview/RomanTDS/images/simple_model/R062/15037/Roman_TDS_simple_model_R062_15037_8.fits.gz\n"
     ]
    },
    {
     "name": "stdout",
     "output_type": "stream",
     "text": [
      "s3://nasa-irsa-simulations/openuniverse2024/roman/preview/RomanTDS/images/simple_model/R062/16962/Roman_TDS_simple_model_R062_16962_11.fits.gz\n"
     ]
    },
    {
     "name": "stdout",
     "output_type": "stream",
     "text": [
      "s3://nasa-irsa-simulations/openuniverse2024/roman/preview/RomanTDS/images/simple_model/R062/18502/Roman_TDS_simple_model_R062_18502_10.fits.gz\n"
     ]
    },
    {
     "name": "stdout",
     "output_type": "stream",
     "text": [
      "s3://nasa-irsa-simulations/openuniverse2024/roman/preview/RomanTDS/images/simple_model/R062/18507/Roman_TDS_simple_model_R062_18507_6.fits.gz\n"
     ]
    },
    {
     "name": "stdout",
     "output_type": "stream",
     "text": [
      "s3://nasa-irsa-simulations/openuniverse2024/roman/preview/RomanTDS/images/simple_model/R062/20812/Roman_TDS_simple_model_R062_20812_6.fits.gz\n"
     ]
    },
    {
     "name": "stdout",
     "output_type": "stream",
     "text": [
      "s3://nasa-irsa-simulations/openuniverse2024/roman/preview/RomanTDS/images/simple_model/R062/21592/Roman_TDS_simple_model_R062_21592_18.fits.gz\n"
     ]
    },
    {
     "name": "stdout",
     "output_type": "stream",
     "text": [
      "s3://nasa-irsa-simulations/openuniverse2024/roman/preview/RomanTDS/images/simple_model/R062/21977/Roman_TDS_simple_model_R062_21977_17.fits.gz\n"
     ]
    },
    {
     "name": "stdout",
     "output_type": "stream",
     "text": [
      "s3://nasa-irsa-simulations/openuniverse2024/roman/preview/RomanTDS/images/simple_model/R062/22357/Roman_TDS_simple_model_R062_22357_15.fits.gz\n"
     ]
    },
    {
     "name": "stdout",
     "output_type": "stream",
     "text": [
      "s3://nasa-irsa-simulations/openuniverse2024/roman/preview/RomanTDS/images/simple_model/R062/23512/Roman_TDS_simple_model_R062_23512_17.fits.gz\n"
     ]
    },
    {
     "name": "stdout",
     "output_type": "stream",
     "text": [
      "s3://nasa-irsa-simulations/openuniverse2024/roman/preview/RomanTDS/images/simple_model/R062/25442/Roman_TDS_simple_model_R062_25442_1.fits.gz\n"
     ]
    },
    {
     "name": "stdout",
     "output_type": "stream",
     "text": [
      "s3://nasa-irsa-simulations/openuniverse2024/roman/preview/RomanTDS/images/simple_model/R062/27367/Roman_TDS_simple_model_R062_27367_13.fits.gz\n"
     ]
    },
    {
     "name": "stdout",
     "output_type": "stream",
     "text": [
      "s3://nasa-irsa-simulations/openuniverse2024/roman/preview/RomanTDS/images/simple_model/R062/28512/Roman_TDS_simple_model_R062_28512_7.fits.gz\n"
     ]
    },
    {
     "name": "stdout",
     "output_type": "stream",
     "text": [
      "s3://nasa-irsa-simulations/openuniverse2024/roman/preview/RomanTDS/images/simple_model/R062/32362/Roman_TDS_simple_model_R062_32362_10.fits.gz\n"
     ]
    },
    {
     "name": "stdout",
     "output_type": "stream",
     "text": [
      "s3://nasa-irsa-simulations/openuniverse2024/roman/preview/RomanTDS/images/simple_model/R062/32752/Roman_TDS_simple_model_R062_32752_6.fits.gz\n"
     ]
    },
    {
     "name": "stdout",
     "output_type": "stream",
     "text": [
      "s3://nasa-irsa-simulations/openuniverse2024/roman/preview/RomanTDS/images/simple_model/R062/34287/Roman_TDS_simple_model_R062_34287_5.fits.gz\n"
     ]
    },
    {
     "name": "stdout",
     "output_type": "stream",
     "text": [
      "s3://nasa-irsa-simulations/openuniverse2024/roman/preview/RomanTDS/images/simple_model/R062/36217/Roman_TDS_simple_model_R062_36217_15.fits.gz\n"
     ]
    },
    {
     "name": "stdout",
     "output_type": "stream",
     "text": [
      "s3://nasa-irsa-simulations/openuniverse2024/roman/preview/RomanTDS/images/simple_model/R062/37757/Roman_TDS_simple_model_R062_37757_17.fits.gz\n"
     ]
    },
    {
     "name": "stdout",
     "output_type": "stream",
     "text": [
      "s3://nasa-irsa-simulations/openuniverse2024/roman/preview/RomanTDS/images/simple_model/R062/39302/Roman_TDS_simple_model_R062_39302_1.fits.gz\n"
     ]
    },
    {
     "name": "stdout",
     "output_type": "stream",
     "text": [
      "s3://nasa-irsa-simulations/openuniverse2024/roman/preview/RomanTDS/images/simple_model/R062/39687/Roman_TDS_simple_model_R062_39687_1.fits.gz\n"
     ]
    },
    {
     "name": "stdout",
     "output_type": "stream",
     "text": [
      "s3://nasa-irsa-simulations/openuniverse2024/roman/preview/RomanTDS/images/simple_model/R062/43142/Roman_TDS_simple_model_R062_43142_8.fits.gz\n"
     ]
    },
    {
     "name": "stdout",
     "output_type": "stream",
     "text": [
      "s3://nasa-irsa-simulations/openuniverse2024/roman/preview/RomanTDS/images/simple_model/R062/45067/Roman_TDS_simple_model_R062_45067_11.fits.gz\n"
     ]
    },
    {
     "name": "stdout",
     "output_type": "stream",
     "text": [
      "s3://nasa-irsa-simulations/openuniverse2024/roman/preview/RomanTDS/images/simple_model/R062/46607/Roman_TDS_simple_model_R062_46607_10.fits.gz\n"
     ]
    },
    {
     "name": "stdout",
     "output_type": "stream",
     "text": [
      "s3://nasa-irsa-simulations/openuniverse2024/roman/preview/RomanTDS/images/simple_model/R062/46612/Roman_TDS_simple_model_R062_46612_6.fits.gz\n"
     ]
    },
    {
     "name": "stdout",
     "output_type": "stream",
     "text": [
      "s3://nasa-irsa-simulations/openuniverse2024/roman/preview/RomanTDS/images/simple_model/R062/48917/Roman_TDS_simple_model_R062_48917_6.fits.gz\n"
     ]
    },
    {
     "name": "stdout",
     "output_type": "stream",
     "text": [
      "s3://nasa-irsa-simulations/openuniverse2024/roman/preview/RomanTDS/images/simple_model/R062/49697/Roman_TDS_simple_model_R062_49697_18.fits.gz\n"
     ]
    },
    {
     "name": "stdout",
     "output_type": "stream",
     "text": [
      "s3://nasa-irsa-simulations/openuniverse2024/roman/preview/RomanTDS/images/simple_model/R062/50082/Roman_TDS_simple_model_R062_50082_17.fits.gz\n"
     ]
    },
    {
     "name": "stdout",
     "output_type": "stream",
     "text": [
      "s3://nasa-irsa-simulations/openuniverse2024/roman/preview/RomanTDS/images/simple_model/R062/50462/Roman_TDS_simple_model_R062_50462_15.fits.gz\n"
     ]
    },
    {
     "name": "stdout",
     "output_type": "stream",
     "text": [
      "s3://nasa-irsa-simulations/openuniverse2024/roman/preview/RomanTDS/images/simple_model/R062/51617/Roman_TDS_simple_model_R062_51617_17.fits.gz\n"
     ]
    },
    {
     "name": "stdout",
     "output_type": "stream",
     "text": [
      "s3://nasa-irsa-simulations/openuniverse2024/roman/preview/RomanTDS/images/simple_model/R062/53547/Roman_TDS_simple_model_R062_53547_1.fits.gz\n"
     ]
    },
    {
     "name": "stdout",
     "output_type": "stream",
     "text": [
      "s3://nasa-irsa-simulations/openuniverse2024/roman/preview/RomanTDS/images/simple_model/R062/55472/Roman_TDS_simple_model_R062_55472_13.fits.gz\n"
     ]
    },
    {
     "name": "stdout",
     "output_type": "stream",
     "text": [
      "s3://nasa-irsa-simulations/openuniverse2024/roman/preview/RomanTDS/images/simple_model/R062/56617/Roman_TDS_simple_model_R062_56617_7.fits.gz\n"
     ]
    }
   ],
   "source": [
    "#Make the cutouts; this will take a couple of minutes.\n",
    "stamps = []\n",
    "mjd = []\n",
    "for i, row in enumerate(instances.itertuples()):\n",
    "    band, pointing, sca = row[1], row[2], row[3]\n",
    "    imgpath = f's3://{BUCKET_NAME}/{ROMAN_TDS_PATH}/images/simple_model/{band}/{pointing}/Roman_TDS_simple_model_{band}_{pointing}_{sca}.fits.gz'\n",
    "    print(imgpath)\n",
    "    with fits.open(imgpath, fsspec_kwargs={\"anon\": True}) as hdu:\n",
    "        img = hdu[1].data\n",
    "        header = hdu[0].header\n",
    "        wcs = WCS(header)\n",
    "        x, y = wcs.world_to_pixel(coord)\n",
    "\n",
    "        # Manually rotate the images so they are all aligned.\n",
    "        CDmat = np.array([header['CD1_1'], header['CD1_2'],\n",
    "                          header['CD2_1'], header['CD2_2']]).reshape(2,2)\n",
    "\n",
    "        orientation = hdu[0].header['ORIENTAT']\n",
    "\n",
    "        # These chips are \"flipped\".\n",
    "        if sca % 3 == 0:\n",
    "            orientation += 180\n",
    "\n",
    "        # Build rotation matrix.\n",
    "        CD1_1_rot = np.cos(-orientation*np.pi/180)\n",
    "        CD1_2_rot = -np.sin(-orientation*np.pi/180)\n",
    "        CD2_1_rot = np.sin(-orientation*np.pi/180)\n",
    "        CD2_2_rot = np.cos(-orientation*np.pi/180)\n",
    "\n",
    "        RotMat = np.array([CD1_1_rot, CD1_2_rot,\n",
    "                          CD2_1_rot, CD2_2_rot]).reshape(2,2)\n",
    "\n",
    "        RotMat_inv = np.array([CD1_1_rot, -CD1_2_rot,\n",
    "                              -CD2_1_rot, CD2_2_rot]).reshape(2,2)\n",
    "\n",
    "        # Apply rotation to the CDi_j header keywords.\n",
    "        CDmat_rot = np.dot(CDmat,RotMat_inv)\n",
    "\n",
    "        # Update header.\n",
    "        header['CD1_1'], header['CD1_2'] = CDmat_rot[0]\n",
    "        header['CD2_1'], header['CD2_2'] = CDmat_rot[1]\n",
    "        header['ORIENTAT'] -= orientation\n",
    "\n",
    "        # Rotate the image.\n",
    "        rot_img = rotate(img,angle=orientation,reshape=False,cval=np.nan)\n",
    "        hdu[1].data = rot_img\n",
    "\n",
    "        rot_wcs = WCS(header)\n",
    "\n",
    "        try:\n",
    "            # Make cutout around SN Ia location.\n",
    "            cutout = Cutout2D(rot_img,coord,100,wcs=rot_wcs,mode='partial')\n",
    "            stamps.append(cutout.data)\n",
    "            mjd.append(get_mjd(pointing))\n",
    "        except NoOverlapError:\n",
    "            pass"
   ]
  },
  {
   "cell_type": "markdown",
   "id": "dcc0d315",
   "metadata": {},
   "source": [
    "## Make an animated gif out of the cutouts."
   ]
  },
  {
   "cell_type": "code",
   "execution_count": 16,
   "id": "649002bf",
   "metadata": {},
   "outputs": [
    {
     "data": {
      "image/png": "[encoded data removed]",
      "text/plain": [
       "<Figure size 500x500 with 1 Axes>"
      ]
     },
     "metadata": {},
     "output_type": "display_data"
    }
   ],
   "source": [
    "savepath = f'SN{oid}.gif'\n",
    "savepath\n",
    "animate_stamps(stamps,savepath,labels=mjd)"
   ]
  },
  {
   "cell_type": "markdown",
   "id": "91c10b4c",
   "metadata": {},
   "source": [
    "![animated gif](SN20000808.gif)"
   ]
  },
  {
   "cell_type": "markdown",
   "id": "b8fe5da2",
   "metadata": {},
   "source": [
    "## About this notebook\n",
    "\n",
    "- Author: Lauren Aldoroty (laurenaldoroty@gmail.com) with minor subsequent modifications to match repository style\n",
    "- Contact: https://irsa.ipac.caltech.edu/docs/help_desk.html\n",
    "- Updated: 2024-06-10"
   ]
  },
  {
   "cell_type": "code",
   "execution_count": null,
   "id": "396c019e",
   "metadata": {},
   "outputs": [],
   "source": []
  }
 ],
 "metadata": {
  "jupytext": {
   "text_representation": {
    "extension": ".md",
    "format_name": "myst",
    "format_version": 0.13,
    "jupytext_version": "1.16.2"
   }
  },
  "kernelspec": {
   "display_name": "science_demo",
   "language": "python",
   "name": "python3"
  },
  "language_info": {
   "codemirror_mode": {
    "name": "ipython",
    "version": 3
   },
   "file_extension": ".py",
   "mimetype": "text/x-python",
   "name": "python",
   "nbconvert_exporter": "python",
   "pygments_lexer": "ipython3",
   "version": "3.11.9"
  },
  "source_map": [
   12,
   16,
   27,
   31,
   36,
   60,
   64,
   84,
   88,
   130,
   134,
   148,
   152,
   162,
   166,
   169,
   173,
   179,
   186,
   196,
   202,
   210,
   214,
   220,
   224,
   229,
   286,
   290,
   294,
   298,
   306
  ]
 },
 "nbformat": 4,
 "nbformat_minor": 5
}