{
 "cells": [
  {
   "cell_type": "markdown",
   "id": "28cea426",
   "metadata": {},
   "source": [
    "# Introduction to SPHEREx Spectral Images"
   ]
  },
  {
   "cell_type": "markdown",
   "id": "e34fd134",
   "metadata": {},
   "source": [
    "## 1. Learning Goals\n",
    "\n",
    "- Query for SPHEREx Spectral Image Multi-Extension FITS files (MEFs) that overlap a given coordinate on the sky.\n",
    "- Read in a SPHEREx Spectral Image MEF using Astropy and understand its structure.\n",
    "- Interactively visualize a SPHEREx Spectral Image MEF using Firefly.\n",
    "- Explore each extension. For the Spectral Image extension, this includes understanding the astrometric and spectral WCS systems."
   ]
  },
  {
   "cell_type": "markdown",
   "id": "0ca87831",
   "metadata": {},
   "source": [
    "## 2. SPHEREx Overview\n",
    "\n",
    "SPHEREx is a NASA Astrophysics Medium Explorer mission that launched in March 2025. During its planned two-year mission, SPHEREx will obtain 0.75-5 micron spectroscopy over the entire sky, with deeper data in the SPHEREx Deep Fields. SPHEREx data will be used to:\n",
    "\n",
    "* **constrain the physics of inflation** by measuring its imprints on the three-dimensional large-scale distribution of matter,\n",
    "* **trace the history of galactic light production** through a deep multi-band measurement of large-scale clustering,\n",
    "* **investigate the abundance and composition of water and biogenic ices** in the early phases of star and planetary disk formation.\n",
    "\n",
    "The community will also mine SPHEREx data and combine it with synergistic data sets to address a variety of additional topics in astrophysics.\n",
    "\n",
    "More information is available in the [SPHEREx Explanatory Supplement](https://irsa.ipac.caltech.edu/data/SPHEREx/docs/SPHEREx_Expsupp_QR_v1.0.pdf)."
   ]
  },
  {
   "cell_type": "markdown",
   "id": "0f0a0dbc",
   "metadata": {},
   "source": [
    "## 3. Requirements\n",
    "The following packages must be installed to run this notebook. Comment out the following lines if they are already installed."
   ]
  },
  {
   "cell_type": "code",
   "execution_count": 1,
   "id": "828ce248",
   "metadata": {},
   "outputs": [],
   "source": [
    "# pip install numpy matplotlib astropy astroquery firefly-client"
   ]
  },
  {
   "cell_type": "markdown",
   "id": "929ab7d1",
   "metadata": {},
   "source": [
    "## 4. Imports"
   ]
  },
  {
   "cell_type": "code",
   "execution_count": 2,
   "id": "baffe41f",
   "metadata": {},
   "outputs": [],
   "source": [
    "import numpy as np\n",
    "import matplotlib.pyplot as plt\n",
    "\n",
    "from astropy.io import fits\n",
    "from astropy.wcs import WCS\n",
    "from astropy.table import Table\n",
    "from astropy import units as u\n",
    "from astropy.coordinates import SkyCoord\n",
    "\n",
    "from astroquery.ipac.irsa import Irsa\n",
    "\n",
    "from firefly_client import FireflyClient"
   ]
  },
  {
   "cell_type": "markdown",
   "id": "8bfd53e6",
   "metadata": {},
   "source": [
    "## 5. Search for SPHEREx Spectral Image MEFs that overlap coordinates you are interested in"
   ]
  },
  {
   "cell_type": "markdown",
   "id": "bd0e25df",
   "metadata": {},
   "source": [
    "Define some coordinates of interest."
   ]
  },
  {
   "cell_type": "code",
   "execution_count": 3,
   "id": "3b6ed37b",
   "metadata": {},
   "outputs": [],
   "source": [
    "ra_deg = 304.693508808\n",
    "dec_deg = 42.4436872991\n",
    "\n",
    "coord = SkyCoord(ra_deg, dec_deg, unit='deg')\n",
    "search_radius = 1 * u.arcsec"
   ]
  },
  {
   "cell_type": "markdown",
   "id": "d93b54d9",
   "metadata": {},
   "source": [
    "Query IRSA for a list of Spectral Image MEFs that overlap this position. We use the [IRSA module in astroquery](https://astroquery.readthedocs.io/en/latest/ipac/irsa/irsa.html) and the Simple Image Access (SIA) API."
   ]
  },
  {
   "cell_type": "markdown",
   "id": "0a91b294",
   "metadata": {},
   "source": [
    "```{tip}\n",
    "The IRSA SIA collections can be listed using using the ``list_collections`` method, we can filter on the ones containing \"spherex\" in the collection name:\n",
    "\n",
    "    Irsa.list_collections(filter='spherex')\n",
    "```"
   ]
  },
  {
   "cell_type": "markdown",
   "id": "baf415a5",
   "metadata": {},
   "source": [
    "The collections are documented at [SPHEREx Data Access: Application Program Interfaces (APIs)](https://caltech-ipac.github.io/spherex-archive-documentation/spherex-data-access#application-program-interfaces-apis)\n",
    "There are currently three collections available:\n",
    "\n",
    "* `'spherex_qr'` -- Quick Release Spectral Image MEFs that are part of the SPHEREx **Wide Survey**\n",
    "* `'spherex_qr_cal'` -- Quick Release **Calibration files**\n",
    "* `'spherex_qr_deep'` -- Quick Release Spectral Image MEFs that are part of the SPHEREx **Deep Survey**"
   ]
  },
  {
   "cell_type": "code",
   "execution_count": 4,
   "id": "d146604d",
   "metadata": {},
   "outputs": [],
   "source": [
    "results = Irsa.query_sia(pos=(coord, search_radius), collection='spherex_qr')"
   ]
  },
  {
   "cell_type": "markdown",
   "id": "93ccda0d",
   "metadata": {},
   "source": [
    "Each row of the results of your query represents a different spectral image.\n",
    "Because SPHEREx data will be released on a weekly basis, the number of rows returned will change\n",
    "depending on when you submit the query.\n",
    "Let's see how many images are returned today."
   ]
  },
  {
   "cell_type": "code",
   "execution_count": 5,
   "id": "139c990a",
   "metadata": {},
   "outputs": [
    {
     "data": {
      "text/plain": [
       "162"
      ]
     },
     "execution_count": 5,
     "metadata": {},
     "output_type": "execute_result"
    }
   ],
   "source": [
    "len(results)"
   ]
  },
  {
   "cell_type": "markdown",
   "id": "51725485",
   "metadata": {},
   "source": [
    "The query results provide a lot of metadata about each spectral image. These columns have standard names as defined by the IVOA. Let's list them:"
   ]
  },
  {
   "cell_type": "code",
   "execution_count": 6,
   "id": "0f472bb1",
   "metadata": {},
   "outputs": [
    {
     "data": {
      "text/plain": [
       "['s_ra',\n",
       " 's_dec',\n",
       " 'facility_name',\n",
       " 'instrument_name',\n",
       " 'dataproduct_subtype',\n",
       " 'calib_level',\n",
       " 'dataproduct_type',\n",
       " 'energy_bandpassname',\n",
       " 'energy_emband',\n",
       " 'obs_id',\n",
       " 's_resolution',\n",
       " 'em_min',\n",
       " 'em_max',\n",
       " 'em_res_power',\n",
       " 'proposal_title',\n",
       " 'access_url',\n",
       " 'access_format',\n",
       " 'access_estsize',\n",
       " 't_exptime',\n",
       " 's_region',\n",
       " 'obs_collection',\n",
       " 'obs_intent',\n",
       " 'algorithm_name',\n",
       " 'facility_keywords',\n",
       " 'instrument_keywords',\n",
       " 'environment_photometric',\n",
       " 'proposal_id',\n",
       " 'proposal_pi',\n",
       " 'proposal_project',\n",
       " 'target_name',\n",
       " 'target_type',\n",
       " 'target_standard',\n",
       " 'target_moving',\n",
       " 'target_keywords',\n",
       " 'obs_release_date',\n",
       " 's_xel1',\n",
       " 's_xel2',\n",
       " 's_pixel_scale',\n",
       " 'position_timedependent',\n",
       " 't_min',\n",
       " 't_max',\n",
       " 't_resolution',\n",
       " 't_xel',\n",
       " 'obs_publisher_did',\n",
       " 's_fov',\n",
       " 'em_xel',\n",
       " 'pol_states',\n",
       " 'pol_xel',\n",
       " 'cloud_access',\n",
       " 'o_ucd',\n",
       " 'upload_row_id']"
      ]
     },
     "execution_count": 6,
     "metadata": {},
     "output_type": "execute_result"
    }
   ],
   "source": [
    "results.colnames"
   ]
  },
  {
   "cell_type": "markdown",
   "id": "b3d6534b",
   "metadata": {},
   "source": [
    "The `'access_url'` column is particularly important because it tells you how to access the data. Let's look at the `'access_url'` value for the first row:"
   ]
  },
  {
   "cell_type": "code",
   "execution_count": 7,
   "id": "b64c303b",
   "metadata": {},
   "outputs": [
    {
     "name": "stdout",
     "output_type": "stream",
     "text": [
      "https://irsa.ipac.caltech.edu/ibe/data/spherex/qr/level2/2025W18_1B/l2b-v13-2025-198/4/level2_2025W18_1B_0157_2D4_spx_l2b-v13-2025-198.fits\n"
     ]
    }
   ],
   "source": [
    "spectral_image_url = results['access_url'][0]\n",
    "print(spectral_image_url)"
   ]
  },
  {
   "cell_type": "markdown",
   "id": "80f745c3",
   "metadata": {},
   "source": [
    "You can put this URL into a browser to download the file. Or you can work with it in Python, as shown below."
   ]
  },
  {
   "cell_type": "markdown",
   "id": "c85e658b",
   "metadata": {},
   "source": [
    "## 6. Examine the header of one of the SPHEREx Spectral Image MEFs"
   ]
  },
  {
   "cell_type": "markdown",
   "id": "1c52ac69",
   "metadata": {},
   "source": [
    "Use Astropy to examine the header of the URL from the previous step."
   ]
  },
  {
   "cell_type": "code",
   "execution_count": 8,
   "id": "dc585c41",
   "metadata": {},
   "outputs": [
    {
     "name": "stdout",
     "output_type": "stream",
     "text": [
      "Filename: /home/runner/.astropy/cache/download/url/aff048d4c56ba987c96f9d2e6f471343/contents\n",
      "No.    Name      Ver    Type      Cards   Dimensions   Format\n",
      "  0  PRIMARY       1 PrimaryHDU       5   ()      \n",
      "  1  IMAGE         1 ImageHDU       217   (2040, 2040)   float32   \n",
      "  2  FLAGS         1 ImageHDU       146   (2040, 2040)   int32   \n",
      "  3  VARIANCE      1 ImageHDU       119   (2040, 2040)   float32   \n",
      "  4  ZODI          1 ImageHDU       119   (2040, 2040)   float32   \n",
      "  5  PSF           1 ImageHDU       509   (101, 101, 121)   float32   \n",
      "  6  WCS-WAVE      1 BinTableHDU     18   1R x 3C   [13J, 13J, 338E]\n"
     ]
    }
   ],
   "source": [
    "hdulist = fits.open(spectral_image_url)\n",
    "hdulist.info()"
   ]
  },
  {
   "cell_type": "markdown",
   "id": "34c45095",
   "metadata": {},
   "source": [
    "You can see that the Level 2 Spectral Image files are multi-extension FITS files (MEFs) with the following extensions:\n",
    "\n",
    "* **IMAGE:** Calibrated fluxes for a detector array in scientific units of MJy/sr.\n",
    "* **FLAGS:** A bitmap with per-pixel status and processing flags.\n",
    "* **VARIANCE:** A per-pixel estimate of the variance.\n",
    "* **ZODI:** An model of the zodiacal dust background signal. Note that this is not subtracted from the IMAGE extension.\n",
    "* **PSF:** An image cube (3D array) where each plane represents a Point Spread Function (PSF) for a cutout in over-sampled pixel space.\n",
    "* **WCS-WAVE:** Spectral WCS lookup table that maps pixel coordinates to the central wavelength and bandwidth of each pixel.\n",
    "\n",
    "We will tour each extension in the sections below."
   ]
  },
  {
   "cell_type": "markdown",
   "id": "efeb3ba4",
   "metadata": {},
   "source": [
    "## 7. Visualize a SPHEREx Spectral Image MEF using the Firefly Python Client."
   ]
  },
  {
   "cell_type": "markdown",
   "id": "5b0166e3",
   "metadata": {},
   "source": [
    "We will use the open-source astronomy data visualization software Firefly visualize SPHEREx data. Firefly has a Python client and it understands the alternative WCS coordinates of SPHEREx, allowing users to see how the wavelength and bandwidth vary with spectral image pixels.\n",
    "\n",
    "Open a Firefly viewer in a separate browser tab and initialize it."
   ]
  },
  {
   "cell_type": "code",
   "execution_count": 9,
   "id": "2cdb10bc",
   "metadata": {},
   "outputs": [
    {
     "data": {
      "text/html": [
       "Open your web browser to <a href=\"https://irsa.ipac.caltech.edu/irsaviewer/?__wsch=MjAyNS0wOS0yNQ\"\" target=\"_blank\">this link</a>"
      ],
      "text/plain": [
       "<IPython.core.display.HTML object>"
      ]
     },
     "metadata": {},
     "output_type": "display_data"
    },
    {
     "data": {
      "text/plain": [
       "{'success': True}"
      ]
     },
     "execution_count": 9,
     "metadata": {},
     "output_type": "execute_result"
    }
   ],
   "source": [
    "fc = FireflyClient.make_client(url=\"https://irsa.ipac.caltech.edu/irsaviewer\")\n",
    "\n",
    "fc.reinit_viewer()"
   ]
  },
  {
   "cell_type": "markdown",
   "id": "3573740c",
   "metadata": {},
   "source": [
    "Visualize a spectral image MEF by sending its URL to the viewer."
   ]
  },
  {
   "cell_type": "code",
   "execution_count": 10,
   "id": "3044ac9c",
   "metadata": {},
   "outputs": [
    {
     "name": "stdout",
     "output_type": "stream",
     "text": [
      "WARNING: show_fits() is deprecated. Use show_fits_image() instead.\n",
      "WARNING: url is deprecated, use file_input parameter instead\n"
     ]
    },
    {
     "data": {
      "text/plain": [
       "{'success': True}"
      ]
     },
     "execution_count": 10,
     "metadata": {},
     "output_type": "execute_result"
    }
   ],
   "source": [
    "fc.show_fits(url=spectral_image_url,\n",
    "             plot_id=\"spectral_image\",\n",
    "             Title=\"Spectral Image\"\n",
    "             )"
   ]
  },
  {
   "cell_type": "markdown",
   "id": "5e03a347",
   "metadata": {},
   "source": [
    "Try use the interactive tools in the viewer to explore the data."
   ]
  },
  {
   "cell_type": "markdown",
   "id": "457ae8b7",
   "metadata": {},
   "source": [
    "## 8. Explore the first extension: IMAGE\n",
    "\n",
    "The first extension of the MEF is the the calibrated surface brightness flux density in units of MJy/sr, stored as a 2040 x 2040 image. No zodiacal light subtraction is applied.\n",
    "\n",
    "The SPHEREx focal plane is split with a dichroic to three short-wavelength and three long-wavelength detector arrays. Two focal plane assemblies (FPAs) simultaneously image the sky through a dichroic beam splitter. Each FPA contains three 2K x 2K detector arrays placed behind a set of linear variable filters (LVFs), providing narrow-band response with a band center that varies along one axis of the array. SPHEREx obtains spectra through multiple exposures, placing a given source at multiple positions in the field of view, where it is measured at multiple wavelengths by repointing the spacecraft.\n",
    "\n",
    "* Band 1: λ= 0.75 - 1.09 µm; R=39\n",
    "* Band 2: λ= 1.10 - 1.62 µm; R=41\n",
    "* Band 3: λ= 1.63 - 2.41 µm; R=41\n",
    "* Band 4: λ= 2.42 - 3.82 µm; R=35\n",
    "* Band 5: λ= 3.83 - 4.41 µm; R=112\n",
    "* Band 6: λ= 4.42 - 5.00 µm; R=128"
   ]
  },
  {
   "cell_type": "markdown",
   "id": "b8314c62",
   "metadata": {},
   "source": [
    "Examine the header of the first extension, printing out select keywords."
   ]
  },
  {
   "cell_type": "code",
   "execution_count": 11,
   "id": "efb972b7",
   "metadata": {},
   "outputs": [
    {
     "name": "stdout",
     "output_type": "stream",
     "text": [
      "EXTNAME: IMAGE\n",
      "NAXIS1: 2040\n",
      "NAXIS2: 2040\n",
      "BUNIT: MJy / sr\n",
      "DETECTOR: 4\n",
      "OBSID: 2025W18_1B_0157_2\n",
      "DATE: 2025-07-18T00:07:08.811\n",
      "PSF_FWHM: 6.0230709217726535\n"
     ]
    }
   ],
   "source": [
    "spectral_image_header = hdulist[1].header\n",
    "\n",
    "keywords_to_print = ['EXTNAME', 'NAXIS1', 'NAXIS2', 'BUNIT', 'DETECTOR', 'OBSID', 'DATE', 'PSF_FWHM']\n",
    "\n",
    "for keyword in keywords_to_print:\n",
    "    value = spectral_image_header.get(keyword, 'Keyword not found')\n",
    "    print(f\"{keyword}: {value}\")"
   ]
  },
  {
   "cell_type": "markdown",
   "id": "57b339ec",
   "metadata": {},
   "source": [
    "We can see that this image was taken with Detector 2, so we can expect the wavelength to vary from 1.10 - 1.62 µm. Try examining the Firefly visualization to confirm this."
   ]
  },
  {
   "cell_type": "markdown",
   "id": "657a9aee",
   "metadata": {},
   "source": [
    "Notice that there is more than one WCS!"
   ]
  },
  {
   "cell_type": "code",
   "execution_count": 12,
   "id": "ec3f9244",
   "metadata": {},
   "outputs": [
    {
     "data": {
      "text/plain": [
       "WCSNAMEA= '0-based active pixel coordinates' / Coordinate system title          \n",
       "WCSNAMEW= 'Approximated per-pixel wavelength and bandpass' / WCS label          "
      ]
     },
     "execution_count": 12,
     "metadata": {},
     "output_type": "execute_result"
    }
   ],
   "source": [
    "spectral_image_header['WCSNAME*']"
   ]
  },
  {
   "cell_type": "markdown",
   "id": "ecda9b49",
   "metadata": {},
   "source": [
    "The main WCS describes the astrometric registration of the image, including optical distortion parameters, based on the FITS pixel convention starting with 1.\n",
    "\n",
    "There are two alternative WCS systems:\n",
    "- WCSNAMEA describes zero-based pixel coordinates.\n",
    "- WCSNAMEW describes spectral coordinates 'Wavelength' and 'Bandpass'. This WCS contains a reference to the lookup table in the 'WCS-WAVE' extension."
   ]
  },
  {
   "cell_type": "markdown",
   "id": "fa2f2a33",
   "metadata": {},
   "source": [
    "### 8a. Spatial WCS"
   ]
  },
  {
   "cell_type": "markdown",
   "id": "09c546d0",
   "metadata": {},
   "source": [
    "Load the Spatial WCS"
   ]
  },
  {
   "cell_type": "code",
   "execution_count": 13,
   "id": "fd2287de",
   "metadata": {},
   "outputs": [
    {
     "data": {
      "text/plain": [
       "WCS Keywords\n",
       "\n",
       "Number of WCS axes: 2\n",
       "CTYPE : 'RA---TAN-SIP' 'DEC--TAN-SIP' \n",
       "CRVAL : 304.141682837 43.5491436591 \n",
       "CRPIX : 1020.5 1020.5 \n",
       "PC1_1 PC1_2  : -0.00160258389753 -0.000547226371435 \n",
       "PC2_1 PC2_2  : -0.00061096946265 0.00162099177297 \n",
       "CDELT : 1.0 1.0 \n",
       "NAXIS : 2040  2040"
      ]
     },
     "execution_count": 13,
     "metadata": {},
     "output_type": "execute_result"
    }
   ],
   "source": [
    "wcs = WCS(spectral_image_header)\n",
    "wcs"
   ]
  },
  {
   "cell_type": "markdown",
   "id": "c70b7f06",
   "metadata": {},
   "source": [
    "Use standard Astropy methods to resolve the central ra and dec (given by crval1 and crval2 in the header) into image pixel coordinates."
   ]
  },
  {
   "cell_type": "code",
   "execution_count": 14,
   "id": "c42fb0f8",
   "metadata": {},
   "outputs": [
    {
     "name": "stdout",
     "output_type": "stream",
     "text": [
      "304.141682837 43.5491436591 1019.3357611126833 1020.3856999640356\n"
     ]
    }
   ],
   "source": [
    "ra, dec = wcs.wcs.crval\n",
    "x, y = wcs.world_to_pixel(SkyCoord(ra=ra, dec=dec, unit=\"deg\"))\n",
    "print(ra, dec, x, y)"
   ]
  },
  {
   "cell_type": "markdown",
   "id": "a0d93cfc",
   "metadata": {},
   "source": [
    "### 8b. Spectral WCS\n",
    "\n",
    "The use of Linear Variable Filters (LVFs) is a key component of SPHEREx imaging. Each pixel of the detector corresponds to a slightly different wavelength and bandwidth due to the LVF’s gradual variation in spectral transmission across its surface. Contours of constant wavelength are curved due to the method of filter fabrication, so the wavelength-vs-pixel function is inherently two-dimensional.\n",
    "\n",
    "A compact, approximate representation of the wavelength and bandwidth per pixel is included in each image using the WAVE-TAB lookup-table mechanism defined in the FITS standard.\n",
    "\n",
    "Below we illustrate how to use Spectral WCS to find an approximate wavelength at each pixel."
   ]
  },
  {
   "cell_type": "code",
   "execution_count": 15,
   "id": "0222e446",
   "metadata": {},
   "outputs": [
    {
     "name": "stdout",
     "output_type": "stream",
     "text": [
      "INFO: \n",
      "                Inconsistent SIP distortion information is present in the FITS header and the WCS object:\n",
      "                SIP coefficients were detected, but CTYPE is missing a \"-SIP\" suffix.\n",
      "                astropy.wcs is using the SIP distortion coefficients,\n",
      "                therefore the coordinates calculated here might be incorrect.\n",
      "\n",
      "                If you do not want to apply the SIP distortion coefficients,\n",
      "                please remove the SIP coefficients from the FITS header or the\n",
      "                WCS object.  As an example, if the image is already distortion-corrected\n",
      "                (e.g., drizzled) then distortion components should not apply and the SIP\n",
      "                coefficients should be removed.\n",
      "\n",
      "                While the SIP distortion coefficients are being applied here, if that was indeed the intent,\n",
      "                for consistency please append \"-SIP\" to the CTYPE in the FITS header or the WCS object.\n",
      "\n",
      "                 [astropy.wcs.wcs]\n"
     ]
    }
   ],
   "source": [
    "# Load the Spectral WCS from the header.\n",
    "# Note that we need to provide a reference to HDU List, which contains a lookup table.\n",
    "spectral_wcs = WCS(header=hdulist[\"IMAGE\"].header, fobj=hdulist, key=\"W\")"
   ]
  },
  {
   "cell_type": "markdown",
   "id": "48469e2a",
   "metadata": {},
   "source": [
    "Note: The previous line triggers an Astropy INFO printout,\n",
    "which implies that the SIP distortion coefficients from the main WCS are preserved in the alternative WCS.\n",
    "This is because the SIP convention, not formally part of the FITS standard,\n",
    "is ambiguous as to whether it is meant to apply to 'alternative' (lettered) WCSes in addition to the primary WCS.\n",
    "See [astropy/astropy#13105](https://github.com/astropy/astropy/issues/13105).)\n",
    "\n",
    "The wavelength per pixel is a property of the detector-filter combination and is independent of optical distortion in the telescope,\n",
    "and is modeled accordingly in WCS 'W', so we turn the SIP distortion off for this WCS."
   ]
  },
  {
   "cell_type": "code",
   "execution_count": 16,
   "id": "97b44539",
   "metadata": {},
   "outputs": [],
   "source": [
    "# SIP distortions must be turned off for the spectral WCS.\n",
    "spectral_wcs.sip = None"
   ]
  },
  {
   "cell_type": "code",
   "execution_count": 17,
   "id": "45e9c36b",
   "metadata": {},
   "outputs": [
    {
     "data": {
      "text/plain": [
       "(<SpectralCoord 3.00582716 um>, <Quantity 0.08612685 um>)"
      ]
     },
     "execution_count": 17,
     "metadata": {},
     "output_type": "execute_result"
    }
   ],
   "source": [
    "# The standard Astropy methods for converting pixel coordinates to world coordinates can also be used to obtain spectral coordinates.\n",
    "# Take the pixel coordinates that we determined for the image center and resolve them to the wavelength and bandpass for that pixel\n",
    "wl, bp = spectral_wcs.pixel_to_world(x, y)\n",
    "wl, bp"
   ]
  },
  {
   "cell_type": "markdown",
   "id": "56675377",
   "metadata": {},
   "source": [
    "### 8c. How does wavelength vary across the detector?"
   ]
  },
  {
   "cell_type": "code",
   "execution_count": 18,
   "id": "6cea2f7f",
   "metadata": {},
   "outputs": [
    {
     "name": "stdout",
     "output_type": "stream",
     "text": [
      "Wavelength: \n",
      " [[3.8652277  3.86514933 3.86507097 ... 3.86153065 3.86160558 3.86168051]\n",
      " [3.86436234 3.86428395 3.86420556 ... 3.86066508 3.86074003 3.86081498]\n",
      " [3.86349698 3.86341857 3.86334016 ... 3.85979951 3.85987448 3.85994945]\n",
      " ...\n",
      " [2.40904977 2.40900849 2.40896721 ... 2.40604904 2.40608748 2.40612591]\n",
      " [2.40848578 2.40844456 2.40840333 ... 2.40548595 2.40552433 2.4055627 ]\n",
      " [2.40792179 2.40788062 2.40783946 ... 2.40492285 2.40496117 2.40499949]] um\n",
      "Bandpass: \n",
      " [[0.1107515  0.11074926 0.11074701 ... 0.11064557 0.11064772 0.11064987]\n",
      " [0.11072671 0.11072446 0.11072221 ... 0.11062077 0.11062292 0.11062507]\n",
      " [0.11070191 0.11069966 0.11069742 ... 0.11059597 0.11059812 0.11060027]\n",
      " ...\n",
      " [0.06902721 0.06902602 0.06902484 ... 0.06894123 0.06894233 0.06894343]\n",
      " [0.06901105 0.06900987 0.06900869 ... 0.0689251  0.0689262  0.0689273 ]\n",
      " [0.06899489 0.06899371 0.06899253 ... 0.06890896 0.06891006 0.06891116]] um\n"
     ]
    }
   ],
   "source": [
    "# Read in the spectral image data.\n",
    "spectral_image = hdulist[\"IMAGE\"]\n",
    "spectral_image_data = spectral_image.data\n",
    "\n",
    "# Get arrays of pixel coordinates for the image.\n",
    "(y, x) = np.indices(spectral_image.shape)\n",
    "\n",
    "# Use the spectral WCS to convert these pixel coordinates to spectral coordinates.\n",
    "spectral_coords = spectral_wcs.pixel_to_world(x, y)\n",
    "\n",
    "# Break out the two spectral coordinates (wavelength and bandpass) from the spectral coordinates, and print the results.\n",
    "wavelength, bandpass = spectral_coords\n",
    "print(\"Wavelength: \\n\", wavelength)\n",
    "print(\"Bandpass: \\n\", bandpass)"
   ]
  },
  {
   "cell_type": "code",
   "execution_count": 19,
   "id": "3a501d02",
   "metadata": {},
   "outputs": [
    {
     "data": {
      "image/png": "[encoded data removed]",
      "text/plain": [
       "<Figure size 640x480 with 2 Axes>"
      ]
     },
     "metadata": {},
     "output_type": "display_data"
    }
   ],
   "source": [
    "# Plot the wavelength as a greyscale color map across the image pixels.\n",
    "plt.imshow(wavelength.value, origin='lower', cmap='gray')\n",
    "plt.colorbar(label=f\"Wavelength [{wavelength.unit}]\")\n",
    "\n",
    "detector = hdulist[\"IMAGE\"].header[\"DETECTOR\"]\n",
    "plt.title(f\"Wavelength - Detector {detector}\")\n",
    "plt.show()"
   ]
  },
  {
   "cell_type": "markdown",
   "id": "24916adc",
   "metadata": {},
   "source": [
    "As expected, the wavelengths range from approximately 1.1=16 micron for Detector 2. You can see that the longest wavelengths are at the bottom and the shortest wavelengths are at the top. You can verify this is the case in the Firefly visualization, as well."
   ]
  },
  {
   "cell_type": "markdown",
   "id": "ff42b7d2",
   "metadata": {},
   "source": [
    "### 8d. Number of flagged pixels in this image\n",
    "\n",
    "Now let's take a look at some header keywords that provide information about how many pixels have been flagged during processing."
   ]
  },
  {
   "cell_type": "code",
   "execution_count": 20,
   "id": "f66061b3",
   "metadata": {},
   "outputs": [
    {
     "data": {
      "text/plain": [
       "HIERARCH L2 N_NONLINEAR = 0 / number of pixels flagged nonlinear                \n",
       "HIERARCH L2 N_PERSIST = 19400 / number of pixels flagged persist                \n",
       "HIERARCH L2 N_HOT =                    4 / number of pixels flagged hot         \n",
       "HIERARCH L2 N_COLD = 1323 / number of pixels flagged cold                       \n",
       "HIERARCH L2 N_SOURCE = 4136057 / number of source flagged pixels                \n",
       "HIERARCH L2 N_OUTLIER = 3491 / number of flagged outlier pixels                 \n",
       "HIERARCH L2 N_TRANSIENT = 85457 / number of flagged transient pixels            \n",
       "HIERARCH L2 N_OVERFLOW = 7045 / number of flagged overflow pixels               \n",
       "HIERARCH L2 N_SUR_ERROR = 49525 / number of flagged sur error pixels            \n",
       "HIERARCH L2 N_NONFUNC = 12713 / number of flagged nonfunctional pixels          \n",
       "HIERARCH L2 N_DICHROIC = 112375 / number of flagged pixels due to low efficiency\n",
       "HIERARCH L2 N_MISSING = 0 / number of flagged pixels with missing data          \n",
       "HIERARCH L2 N_FULLSAMPLE = 240 / number of flagged full-sample pixels           \n",
       "HIERARCH L2 N_PHANMISS = 0 / number of flagged phanmiss pixels                  "
      ]
     },
     "execution_count": 20,
     "metadata": {},
     "output_type": "execute_result"
    }
   ],
   "source": [
    "spectral_image_header['L2 N_*']"
   ]
  },
  {
   "cell_type": "markdown",
   "id": "b11bd606",
   "metadata": {},
   "source": [
    "There are 14 flags in total. Typically, most of the pixels are identified as SOURCE pixels, which are pixels mapped to a known source. The remaining flags are described in Table 8 of the [SPHEREx Explanatory Supplement](https://irsa.ipac.caltech.edu/data/SPHEREx/docs/spherex_explanatory_supplement.pdf)."
   ]
  },
  {
   "cell_type": "markdown",
   "id": "dca8d000",
   "metadata": {},
   "source": [
    "## 9. Explore the second extension: FLAGS\n",
    "\n",
    "The second extension (FLAGS) provides a bitmap of per-pixel status and processing flags, stored as a 2040 x 2040 image.\n",
    "\n",
    "Let's take a look at the header of the FLAGS extension, and print out some header keywords of interest."
   ]
  },
  {
   "cell_type": "code",
   "execution_count": 21,
   "id": "4964f3ea",
   "metadata": {},
   "outputs": [
    {
     "name": "stdout",
     "output_type": "stream",
     "text": [
      "EXTNAME: FLAGS\n",
      "NAXIS1: 2040\n",
      "NAXIS2: 2040\n",
      "BUNIT:\n"
     ]
    }
   ],
   "source": [
    "flags_header = hdulist[2].header\n",
    "\n",
    "keywords_to_print = ['EXTNAME', 'NAXIS1', 'NAXIS2', 'BUNIT']\n",
    "\n",
    "for keyword in keywords_to_print:\n",
    "    value = flags_header.get(keyword, 'Keyword not found')\n",
    "    print(f\"{keyword}: {value}\")"
   ]
  },
  {
   "cell_type": "markdown",
   "id": "403818ad",
   "metadata": {},
   "source": [
    "Conveniently, the definitions of the flags are also provided in the FLAGS header."
   ]
  },
  {
   "cell_type": "code",
   "execution_count": 22,
   "id": "70c75ad5",
   "metadata": {},
   "outputs": [
    {
     "data": {
      "text/plain": [
       "HIERARCH MP_TRANSIENT = 0 / Transient detected during SUR                       \n",
       "HIERARCH MP_OVERFLOW = 1 / Overflow detected during SUR                         \n",
       "HIERARCH MP_SUR_ERROR = 2 / Error in onboard processing                         \n",
       "HIERARCH MP_PHANTOM = 4 / Phantom pixel                                         \n",
       "HIERARCH MP_REFERENCE = 5 / Reference pixel                                     \n",
       "HIERARCH MP_NONFUNC = 6 / Permanently unusable                                  \n",
       "HIERARCH MP_DICHROIC = 7 / Low efficiency due to dichroic                       \n",
       "HIERARCH MP_MISSING_DATA = 9 / Onboard data lost                                \n",
       "MP_HOT  =                   10 / Hot pixel                                      \n",
       "MP_COLD =                   11 / Anomalously low signal                         \n",
       "HIERARCH MP_FULLSAMPLE = 12 / Pixel full sample history is available            \n",
       "HIERARCH MP_PHANMISS = 14 / Phantom correction was not applied                  \n",
       "HIERARCH MP_NONLINEAR = 15 / Pixel for which a reliable nonlinearity correction \n",
       "HIERARCH MP_PERSIST = 17 / Persistent charge above threshold                    \n",
       "HIERARCH MP_OUTLIER = 19 / Pixel flagged by Detect Outliers                     \n",
       "HIERARCH MP_SOURCE = 21 / Pixel mapped to a known source                        "
      ]
     },
     "execution_count": 22,
     "metadata": {},
     "output_type": "execute_result"
    }
   ],
   "source": [
    "flags_header['MP*']"
   ]
  },
  {
   "cell_type": "markdown",
   "id": "49ce0c3d",
   "metadata": {},
   "source": [
    "Tip: In the Firefly visualization, if you are looking at the first extension (IMAGE), you can open up the layers icon (top right) to enable overlaying a visualization of the flags."
   ]
  },
  {
   "cell_type": "markdown",
   "id": "180bc8a8",
   "metadata": {},
   "source": [
    "## 10. Explore the third extension: VARIANCE\n",
    "\n",
    "The third extension of the MEF is the variance of the calibrated surface brightness flux in units of (MJy/sr)^2, stored as a 2,040 x 2,040 image. Let's look at some specific header keywords:"
   ]
  },
  {
   "cell_type": "code",
   "execution_count": 23,
   "id": "f3a08696",
   "metadata": {},
   "outputs": [
    {
     "name": "stdout",
     "output_type": "stream",
     "text": [
      "EXTNAME: VARIANCE\n",
      "NAXIS1: 2040\n",
      "NAXIS2: 2040\n",
      "BUNIT: MJy2 / sr2\n"
     ]
    }
   ],
   "source": [
    "variance_header = hdulist[3].header\n",
    "\n",
    "keywords_to_print = ['EXTNAME', 'NAXIS1', 'NAXIS2', 'BUNIT']\n",
    "\n",
    "for keyword in keywords_to_print:\n",
    "    value = variance_header.get(keyword, 'Keyword not found')\n",
    "    print(f\"{keyword}: {value}\")"
   ]
  },
  {
   "cell_type": "markdown",
   "id": "5174ad3e",
   "metadata": {},
   "source": [
    "## 11. Explore the fourth extension: ZODI\n",
    "\n",
    "The fourth extension of the MEF is the modeled zodiacal light background flux in units of MJy/sr, stored as a 2040 x 2040 image. This has not been subtracted from the IMAGE extension. Let's examine some header keywords:"
   ]
  },
  {
   "cell_type": "code",
   "execution_count": 24,
   "id": "fcb29e0c",
   "metadata": {},
   "outputs": [
    {
     "name": "stdout",
     "output_type": "stream",
     "text": [
      "EXTNAME: ZODI\n",
      "NAXIS1: 2040\n",
      "NAXIS2: 2040\n",
      "BUNIT: MJy / sr\n"
     ]
    }
   ],
   "source": [
    "zodi_header = hdulist[4].header\n",
    "\n",
    "keywords_to_print = ['EXTNAME', 'NAXIS1', 'NAXIS2', 'BUNIT']\n",
    "\n",
    "for keyword in keywords_to_print:\n",
    "    value = zodi_header.get(keyword, 'Keyword not found')\n",
    "    print(f\"{keyword}: {value}\")"
   ]
  },
  {
   "cell_type": "markdown",
   "id": "8782bc8a",
   "metadata": {},
   "source": [
    "## 12. Explore the fifth extension: PSF\n",
    "\n",
    "The fifth extension of the MEF contains 121 Point-spread functions (PSFs); each PSF is represented as a 101 x 101 image and all 121 are assembled together into a cube. Each of the 121 layers represents a \"super-resolution\" PSF estimate in a different region (defined by an 11x11 grid) of the detector. Each PSF is a two-dimensional array with size of 101 × 101 pixels. The PSFs are oversampled such that 10 PSF pixels cover the same spatial extent as one spectral image pixel (0.615 arcsec). Let's look at some specific header keywords for the PSF:"
   ]
  },
  {
   "cell_type": "code",
   "execution_count": 25,
   "id": "719ae3cc",
   "metadata": {},
   "outputs": [
    {
     "name": "stdout",
     "output_type": "stream",
     "text": [
      "EXTNAME: PSF\n",
      "NAXIS1: 101\n",
      "NAXIS2: 101\n",
      "NAXIS3: 121\n",
      "BUNIT:\n"
     ]
    }
   ],
   "source": [
    "psf_header = hdulist[5].header\n",
    "\n",
    "keywords_to_print = ['EXTNAME', 'NAXIS1', 'NAXIS2', 'NAXIS3', 'BUNIT']\n",
    "\n",
    "for keyword in keywords_to_print:\n",
    "    value = psf_header.get(keyword, 'Keyword not found')\n",
    "    print(f\"{keyword}: {value}\")"
   ]
  },
  {
   "cell_type": "markdown",
   "id": "e47fe79b",
   "metadata": {},
   "source": [
    "## 13. Explore the sixth extension: WCS-WAVE\n",
    "\n",
    "The sixth extension is a FITS-compliant spectral World Coordinate System (WCS) lookup table that maps spectral image pixel coordinates to central wavelengths and bandwidths. The lookup table consists of 1 row with 3 columns (X, Y, VALUES). X and Y are each arrays defining a grid of control points in spectral image pixel space. For each (X, Y) control point, VALUES defines a two-element array containing the central wavelength and the corresponding bandwidth. Originally adopted to support the unique nature of the SPHEREx LVF filters, this rarely-used part of the FITS standard has yet to be implemented by all readers. The Firefly client we use in this notebook does correctly interpret this lookup table.\n",
    "\n",
    "Let's look at the header of the WCS-WAVE extension:"
   ]
  },
  {
   "cell_type": "code",
   "execution_count": 26,
   "id": "2a422738",
   "metadata": {},
   "outputs": [
    {
     "data": {
      "text/plain": [
       "XTENSION= 'BINTABLE'           / binary table extension                         \n",
       "BITPIX  =                    8 / array data type                                \n",
       "NAXIS   =                    2 / number of array dimensions                     \n",
       "NAXIS1  =                 1456 / length of dimension 1                          \n",
       "NAXIS2  =                    1 / length of dimension 2                          \n",
       "PCOUNT  =                    0 / number of group parameters                     \n",
       "GCOUNT  =                    1 / number of groups                               \n",
       "TFIELDS =                    3 / number of table fields                         \n",
       "EXTNAME = 'WCS-WAVE'                                                            \n",
       "TTYPE1  = 'X       '                                                            \n",
       "TFORM1  = '13J     '                                                            \n",
       "TDIM1   = '(13)    '                                                            \n",
       "TTYPE2  = 'Y       '                                                            \n",
       "TFORM2  = '13J     '                                                            \n",
       "TDIM2   = '(13)    '                                                            \n",
       "TTYPE3  = 'VALUES  '                                                            \n",
       "TFORM3  = '338E    '                                                            \n",
       "TDIM3   = '(2,13,13)'                                                           "
      ]
     },
     "execution_count": 26,
     "metadata": {},
     "output_type": "execute_result"
    }
   ],
   "source": [
    "wcs_wave_header = hdulist[6].header\n",
    "wcs_wave_header"
   ]
  },
  {
   "cell_type": "markdown",
   "id": "34ea417d",
   "metadata": {},
   "source": [
    "Unlike the other extensions, this is a binary table. Let's read it iinto an Astropy table."
   ]
  },
  {
   "cell_type": "code",
   "execution_count": 27,
   "id": "7a1a5057",
   "metadata": {},
   "outputs": [
    {
     "name": "stdout",
     "output_type": "stream",
     "text": [
      "Number of rows: 1\n",
      "Column names: ['X', 'Y', 'VALUES']\n"
     ]
    }
   ],
   "source": [
    "wcs_wave_table = Table(hdulist[6].data)\n",
    "\n",
    "print(\"Number of rows:\", len(wcs_wave_table))\n",
    "print(\"Column names:\", wcs_wave_table.colnames)"
   ]
  },
  {
   "cell_type": "markdown",
   "id": "f9954e52",
   "metadata": {},
   "source": [
    "This table consists of just 1 row with three columns. Let's inspect the columns:"
   ]
  },
  {
   "cell_type": "code",
   "execution_count": 28,
   "id": "8300c8e8",
   "metadata": {},
   "outputs": [
    {
     "name": "stdout",
     "output_type": "stream",
     "text": [
      "X: [   1  171  341  511  681  851 1021 1191 1361 1531 1701 1871 2040]\n",
      "Y: [   1  171  341  511  681  851 1021 1191 1361 1531 1701 1871 2040]\n",
      "Dimensions of VALUES array: (13, 13, 2)\n"
     ]
    }
   ],
   "source": [
    "x_array      = wcs_wave_table[\"X\"][0]\n",
    "y_array      = wcs_wave_table[\"Y\"][0]\n",
    "wavelengths  = wcs_wave_table[\"VALUES\"][0]\n",
    "\n",
    "print(\"X:\",  x_array)\n",
    "print(\"Y:\",y_array)\n",
    "print(\"Dimensions of VALUES array:\",  wavelengths.shape)"
   ]
  },
  {
   "cell_type": "markdown",
   "id": "3d5e26c8",
   "metadata": {},
   "source": [
    "## Acknowledgements\n",
    "\n",
    "- [IPAC-IRSA](https://irsa.ipac.caltech.edu/)"
   ]
  },
  {
   "cell_type": "markdown",
   "id": "a0cef7ae",
   "metadata": {},
   "source": [
    "## About this notebook\n",
    "\n",
    "**Authors:** IPAC Science Platform Team, including Jessica Krick, Troy Raen, Brigitta Sipőcz, Jaladh Singhal,\n",
    "Andreas Faisst, Shoubaneh Hemmati, Vandana Desai\n",
    "\n",
    "**Contact:** [IRSA Helpdesk](https://irsa.ipac.caltech.edu/docs/help_desk.html) with questions\n",
    "or problems.\n",
    "\n",
    "**Updated:** June 2025\n",
    "\n",
    "**Runtime:** approximately 30 seconds"
   ]
  }
 ],
 "metadata": {
  "jupytext": {
   "formats": "md:myst",
   "text_representation": {
    "extension": ".md",
    "format_name": "myst",
    "format_version": 0.13,
    "jupytext_version": "1.17.2"
   }
  },
  "kernelspec": {
   "display_name": "Python 3 (ipykernel)",
   "language": "python",
   "name": "python3"
  },
  "language_info": {
   "codemirror_mode": {
    "name": "ipython",
    "version": 3
   },
   "file_extension": ".py",
   "mimetype": "text/x-python",
   "name": "python",
   "nbconvert_exporter": "python",
   "pygments_lexer": "ipython3",
   "version": "3.11.13"
  },
  "source_map": [
   13,
   17,
   26,
   40,
   45,
   47,
   51,
   64,
   68,
   72,
   78,
   82,
   90,
   99,
   101,
   108,
   110,
   114,
   116,
   120,
   123,
   127,
   131,
   135,
   138,
   151,
   155,
   161,
   165,
   169,
   174,
   178,
   193,
   197,
   205,
   209,
   213,
   215,
   223,
   227,
   231,
   234,
   238,
   242,
   252,
   256,
   267,
   272,
   277,
   281,
   298,
   306,
   310,
   316,
   318,
   322,
   330,
   338,
   342,
   344,
   348,
   354,
   362,
   368,
   376,
   382,
   390,
   398,
   401,
   405,
   410,
   414,
   422,
   428
  ]
 },
 "nbformat": 4,
 "nbformat_minor": 5
}