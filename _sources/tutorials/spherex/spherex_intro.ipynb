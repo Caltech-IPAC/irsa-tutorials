{
 "cells": [
  {
   "cell_type": "markdown",
   "id": "d857da1d",
   "metadata": {},
   "source": [
    "# Introduction to SPHEREx Spectral Images"
   ]
  },
  {
   "cell_type": "markdown",
   "id": "32a8d03e",
   "metadata": {},
   "source": [
    "## 1. Learning Goals\n",
    "\n",
    "- Query for SPHEREx Spectral Image Multi-Extension FITS files (MEFs) that overlap a given coordinate on the sky.\n",
    "- Read in a SPHEREx Spectral Image MEF using Astropy and understand its structure.\n",
    "- Interactively visualize a SPHEREx Spectral Image MEF using Firefly.\n",
    "- Explore each extension. For the Spectral Image extension, this includes understanding the astrometric and spectral WCS systems."
   ]
  },
  {
   "cell_type": "markdown",
   "id": "5076e29d",
   "metadata": {},
   "source": [
    "## 2. SPHEREx Overview\n",
    "\n",
    "SPHEREx is a NASA Astrophysics Medium Explorer mission that launched in March 2025. During its planned two-year mission, SPHEREx will obtain 0.75-5 micron spectroscopy over the entire sky, with deeper data in the SPHEREx Deep Fields. SPHEREx data will be used to:\n",
    "\n",
    "* **constrain the physics of inflation** by measuring its imprints on the three-dimensional large-scale distribution of matter,\n",
    "* **trace the history of galactic light production** through a deep multi-band measurement of large-scale clustering,\n",
    "* **investigate the abundance and composition of water and biogenic ices** in the early phases of star and planetary disk formation.\n",
    "\n",
    "The community will also mine SPHEREx data and combine it with synergistic data sets to address a variety of additional topics in astrophysics.\n",
    "\n",
    "More information is available in the [SPHEREx Explanatory Supplement](https://irsa.ipac.caltech.edu/data/SPHEREx/docs/SPHEREx_Expsupp_QR_v1.0.pdf)."
   ]
  },
  {
   "cell_type": "markdown",
   "id": "45b83df5",
   "metadata": {},
   "source": [
    "## 3. Requirements\n",
    "The following packages must be installed to run this notebook. Comment out the following lines if they are already installed."
   ]
  },
  {
   "cell_type": "code",
   "execution_count": 1,
   "id": "2de37c18",
   "metadata": {},
   "outputs": [],
   "source": [
    "# !pip install numpy matplotlib astropy pyvo firefly-client"
   ]
  },
  {
   "cell_type": "markdown",
   "id": "89786106",
   "metadata": {},
   "source": [
    "## 4. Imports"
   ]
  },
  {
   "cell_type": "code",
   "execution_count": 2,
   "id": "efdc4c07",
   "metadata": {},
   "outputs": [],
   "source": [
    "import numpy as np\n",
    "import matplotlib.pyplot as plt\n",
    "\n",
    "from astropy.io import fits\n",
    "from astropy.wcs import WCS\n",
    "from astropy.table import Table\n",
    "from astropy import units as u\n",
    "from astropy.coordinates import SkyCoord\n",
    "\n",
    "import pyvo\n",
    "from pyvo.dal.adhoc import DatalinkResults\n",
    "\n",
    "from firefly_client import FireflyClient"
   ]
  },
  {
   "cell_type": "markdown",
   "id": "0c54670f",
   "metadata": {},
   "source": [
    "## 5. Search for SPHEREx Spectral Image MEFs that overlap coordinates you are interested in"
   ]
  },
  {
   "cell_type": "markdown",
   "id": "df483c42",
   "metadata": {},
   "source": [
    "Define some coordinates of interest."
   ]
  },
  {
   "cell_type": "code",
   "execution_count": 3,
   "id": "8da9852f",
   "metadata": {},
   "outputs": [],
   "source": [
    "ra_deg = 304.693508808\n",
    "dec_deg = 42.4436872991"
   ]
  },
  {
   "cell_type": "markdown",
   "id": "f6b3d1cf",
   "metadata": {},
   "source": [
    "Query IRSA for a list of Spectral Image MEFs that overlap this position."
   ]
  },
  {
   "cell_type": "code",
   "execution_count": 4,
   "id": "a7eefa47",
   "metadata": {},
   "outputs": [],
   "source": [
    "# Define the TAP service URL for IRSA\n",
    "tap_url = \"https://irsa.ipac.caltech.edu/TAP\"\n",
    "\n",
    "# Connect to the TAP service\n",
    "service = pyvo.dal.TAPService(tap_url)\n",
    "\n",
    "# Define your ADQL query\n",
    "query = \"SELECT * FROM spherex.obscore WHERE CONTAINS(POINT('ICRS',\"+str(ra_deg)+\",\"+str(dec_deg)+\"), s_region)=1\"\n",
    "\n",
    "# Submit the asynchronous query\n",
    "job = service.submit_job(query)\n",
    "\n",
    "# Run the job (starts the query execution on the server)\n",
    "job.run()\n",
    "\n",
    "# Wait for the job to complete (polling)\n",
    "job.wait(phases=[\"COMPLETED\", \"ERROR\", \"ABORTED\"], timeout=300)\n",
    "\n",
    "# Capture the results\n",
    "results = job.fetch_result()"
   ]
  },
  {
   "cell_type": "markdown",
   "id": "6fd9deea",
   "metadata": {},
   "source": [
    "Each row of the results of your query represents a different spectral image.\n",
    "Because SPHEREx data will be released on a weekly basis, the number of rows returned will change\n",
    "depending on when you submit the query.\n",
    "Let's see how many images are returned today."
   ]
  },
  {
   "cell_type": "code",
   "execution_count": 5,
   "id": "c6f5c916",
   "metadata": {},
   "outputs": [
    {
     "data": {
      "text/plain": [
       "139"
      ]
     },
     "execution_count": 5,
     "metadata": {},
     "output_type": "execute_result"
    }
   ],
   "source": [
    "len(results)"
   ]
  },
  {
   "cell_type": "markdown",
   "id": "3f6167f9",
   "metadata": {},
   "source": [
    "The query results provide a lot of metadata about each spectral image. These columns have standard names as defined by the IVOA. Let's list them:"
   ]
  },
  {
   "cell_type": "code",
   "execution_count": 6,
   "id": "cb02b777",
   "metadata": {},
   "outputs": [
    {
     "data": {
      "text/plain": [
       "['obs_id',\n",
       " 's_ra',\n",
       " 's_dec',\n",
       " 'energy_bandpassname',\n",
       " 'em_min',\n",
       " 'em_max',\n",
       " 't_min',\n",
       " 't_max',\n",
       " 't_exptime',\n",
       " 'access_url',\n",
       " 'access_format',\n",
       " 'dataproduct_type',\n",
       " 'calib_level',\n",
       " 'target_name',\n",
       " 'obs_title',\n",
       " 'obs_collection',\n",
       " 'facility_name',\n",
       " 'instrument_name',\n",
       " 'obs_creation_date',\n",
       " 'obs_creator_name',\n",
       " 'obs_release_date',\n",
       " 'obs_publisher_did',\n",
       " 'publisher_id',\n",
       " 'bib_reference',\n",
       " 'data_rights',\n",
       " 's_fov',\n",
       " 's_region',\n",
       " 's_resolution',\n",
       " 's_xel1',\n",
       " 's_xel2',\n",
       " 's_ucd',\n",
       " 's_unit',\n",
       " 's_resolution_min',\n",
       " 's_resolution_max',\n",
       " 's_calib_status',\n",
       " 's_pixel_scale',\n",
       " 't_xel',\n",
       " 't_resolution',\n",
       " 'em_xel',\n",
       " 'em_calib_status',\n",
       " 'em_res_power',\n",
       " 'pol_xel',\n",
       " 'proposal_id',\n",
       " 'energy_emband',\n",
       " 'position_timedependent',\n",
       " 'obs_intent',\n",
       " 'algorithm_name',\n",
       " 'facility_keywords',\n",
       " 'instrument_keywords',\n",
       " 'environment_photometric',\n",
       " 'proposal_project',\n",
       " 'target_type',\n",
       " 'target_standard',\n",
       " 'target_moving',\n",
       " 'target_keywords',\n",
       " 'proposal_pi',\n",
       " 'access_estsize',\n",
       " 'o_ucd',\n",
       " 'ipac_gid',\n",
       " 'ipac_pub_date',\n",
       " 'pt',\n",
       " 'poly']"
      ]
     },
     "execution_count": 6,
     "metadata": {},
     "output_type": "execute_result"
    }
   ],
   "source": [
    "list(results.fieldnames)"
   ]
  },
  {
   "cell_type": "markdown",
   "id": "f61cd407",
   "metadata": {},
   "source": [
    "The 'access_url' column is particularly important because it tells you how to access the data. Let's look at the 'access_url' value for the first row:"
   ]
  },
  {
   "cell_type": "code",
   "execution_count": 7,
   "id": "34889ed9",
   "metadata": {},
   "outputs": [
    {
     "data": {
      "text/plain": [
       "'https://irsa.ipac.caltech.edu/datalink/links/spherex?ID=ivo://irsa.ipac/spherex_qr?2025W25_1B_0325_1/D3'"
      ]
     },
     "execution_count": 7,
     "metadata": {},
     "output_type": "execute_result"
    }
   ],
   "source": [
    "results['access_url'][0]"
   ]
  },
  {
   "cell_type": "markdown",
   "id": "73dc5b28",
   "metadata": {},
   "source": [
    "Examining this URL, it does not provide direct access to the SPHEREx spectral image. Rather, it returns a file that lists all the data products and services associated with this spectral image. For the SPHEREx Quick Release products, this includes:\n",
    "\n",
    "(1) the primary product, a Spectral Image MEF ('semantics' column is #this); and\n",
    "\n",
    "(2) a cutout service ('semantics' is #cutout).\n",
    "\n",
    "Most users will be interested in the primary (#this) product. Here's how you get the URL to download it for the first row:"
   ]
  },
  {
   "cell_type": "code",
   "execution_count": 8,
   "id": "bbd949f8",
   "metadata": {},
   "outputs": [
    {
     "data": {
      "text/plain": [
       "'https://irsa.ipac.caltech.edu/ibe/data/spherex/qr/level2/2025W25_1B/l2b-v12-2025-178/3/level2_2025W25_1B_0325_1D3_spx_l2b-v12-2025-178.fits'"
      ]
     },
     "execution_count": 8,
     "metadata": {},
     "output_type": "execute_result"
    }
   ],
   "source": [
    "datalink_url = results['access_url'][0]\n",
    "datalink_content = DatalinkResults.from_result_url(datalink_url)\n",
    "spectral_image_url = next(datalink_content.bysemantics(\"#this\")).access_url\n",
    "spectral_image_url"
   ]
  },
  {
   "cell_type": "markdown",
   "id": "08edc8b0",
   "metadata": {},
   "source": [
    "You can put this URL into a browser to download the file. Or you can work with it in Python, as shown below."
   ]
  },
  {
   "cell_type": "markdown",
   "id": "27be5128",
   "metadata": {},
   "source": [
    "## 6. Examine the header of one of the SPHEREx Spectral Image MEFs"
   ]
  },
  {
   "cell_type": "markdown",
   "id": "318fbe94",
   "metadata": {},
   "source": [
    "Use Astropy to examine the header of the URL from the previous step."
   ]
  },
  {
   "cell_type": "code",
   "execution_count": 9,
   "id": "5f4e43f7",
   "metadata": {},
   "outputs": [
    {
     "name": "stdout",
     "output_type": "stream",
     "text": [
      "Filename: /home/runner/.astropy/cache/download/url/14c4768d52e326d3ca8c9de74156118c/contents\n",
      "No.    Name      Ver    Type      Cards   Dimensions   Format\n",
      "  0  PRIMARY       1 PrimaryHDU       5   ()      \n",
      "  1  IMAGE         1 ImageHDU       217   (2040, 2040)   float32   \n",
      "  2  FLAGS         1 ImageHDU       146   (2040, 2040)   int32   \n",
      "  3  VARIANCE      1 ImageHDU       119   (2040, 2040)   float32   \n",
      "  4  ZODI          1 ImageHDU       119   (2040, 2040)   float32   \n",
      "  5  PSF           1 ImageHDU       509   (101, 101, 121)   float32   \n",
      "  6  WCS-WAVE      1 BinTableHDU     18   1R x 3C   [9J, 9J, 162E]\n"
     ]
    }
   ],
   "source": [
    "hdulist = fits.open(spectral_image_url)\n",
    "hdulist.info()"
   ]
  },
  {
   "cell_type": "markdown",
   "id": "0eaddfb4",
   "metadata": {},
   "source": [
    "You can see that the Level 2 Spectral Image files are multi-extension FITS files (MEFs) with the following extensions:\n",
    "\n",
    "* **IMAGE:** Calibrated fluxes for a detector array in scientific units of MJy/sr.\n",
    "* **FLAGS:** A bitmap with per-pixel status and processing flags.\n",
    "* **VARIANCE:** A per-pixel estimate of the variance.\n",
    "* **ZODI:** An model of the zodiacal dust background signal. Note that this is not subtracted from the IMAGE extension.\n",
    "* **PSF:** An image cube (3D array) where each plane represents a Point Spread Function (PSF) for a cutout in over-sampled pixel space.\n",
    "* **WCS-WAVE:** Spectral WCS lookup table that maps pixel coordinates to the central wavelength and bandwidth of each pixel.\n",
    "\n",
    "We will tour each extension in the sections below."
   ]
  },
  {
   "cell_type": "markdown",
   "id": "9dc303d4",
   "metadata": {},
   "source": [
    "## 7. Visualize a SPHEREx Spectral Image MEF using the Firefly Python Client."
   ]
  },
  {
   "cell_type": "markdown",
   "id": "0b6cae7c",
   "metadata": {},
   "source": [
    "We will use the open-source astronomy data visualization software Firefly visualize SPHEREx data. Firefly has a Python client and it understands the alternative WCS coordinates of SPHEREx, allowing users to see how the wavelength and bandwidth vary with spectral image pixels.\n",
    "\n",
    "Open a Firefly viewer in a separate browser tab and initialize it."
   ]
  },
  {
   "cell_type": "code",
   "execution_count": 10,
   "id": "2a0b8afe",
   "metadata": {},
   "outputs": [
    {
     "data": {
      "text/plain": [
       "{'success': True}"
      ]
     },
     "execution_count": 10,
     "metadata": {},
     "output_type": "execute_result"
    }
   ],
   "source": [
    "fc = FireflyClient.make_client(url=\"https://irsa.ipac.caltech.edu/irsaviewer\")\n",
    "\n",
    "fc.reinit_viewer()"
   ]
  },
  {
   "cell_type": "markdown",
   "id": "10728a28",
   "metadata": {},
   "source": [
    "Visualize a spectral image MEF by sending its URL to the viewer."
   ]
  },
  {
   "cell_type": "code",
   "execution_count": 11,
   "id": "4fe09718",
   "metadata": {},
   "outputs": [
    {
     "data": {
      "text/plain": [
       "{'success': True}"
      ]
     },
     "execution_count": 11,
     "metadata": {},
     "output_type": "execute_result"
    }
   ],
   "source": [
    "fc.show_fits(url=spectral_image_url,\n",
    "             plot_id=\"spectral_image\",\n",
    "             Title=\"Spectral Image\"\n",
    "             )"
   ]
  },
  {
   "cell_type": "markdown",
   "id": "94fb2d61",
   "metadata": {},
   "source": [
    "Try use the interactive tools in the viewer to explore the data."
   ]
  },
  {
   "cell_type": "markdown",
   "id": "84949dcb",
   "metadata": {},
   "source": [
    "## 8. Explore the first extension: IMAGE\n",
    "\n",
    "The first extension of the MEF is the the calibrated surface brightness flux density in units of MJy/sr, stored as a 2040 x 2040 image. No zodiacal light subtraction is applied.\n",
    "\n",
    "The SPHEREx focal plane is split with a dichroic to three short-wavelength and three long-wavelength detector arrays. Two focal plane assemblies (FPAs) simultaneously image the sky through a dichroic beam splitter. Each FPA contains three 2K x 2K detector arrays placed behind a set of linear variable filters (LVFs), providing narrow-band response with a band center that varies along one axis of the array. SPHEREx obtains spectra through multiple exposures, placing a given source at multiple positions in the field of view, where it is measured at multiple wavelengths by repointing the spacecraft.\n",
    "\n",
    "* Band 1: λ= 0.75 - 1.09 µm; R=39\n",
    "* Band 2: λ= 1.10 - 1.62 µm; R=41\n",
    "* Band 3: λ= 1.63 - 2.41 µm; R=41\n",
    "* Band 4: λ= 2.42 - 3.82 µm; R=35\n",
    "* Band 5: λ= 3.83 - 4.41 µm; R=112\n",
    "* Band 6: λ= 4.42 - 5.00 µm; R=128"
   ]
  },
  {
   "cell_type": "markdown",
   "id": "30b1ac04",
   "metadata": {},
   "source": [
    "Examine the header of the first extension, printing out select keywords."
   ]
  },
  {
   "cell_type": "code",
   "execution_count": 12,
   "id": "31f5cecd",
   "metadata": {},
   "outputs": [
    {
     "name": "stdout",
     "output_type": "stream",
     "text": [
      "EXTNAME: IMAGE\n",
      "NAXIS1: 2040\n",
      "NAXIS2: 2040\n",
      "BUNIT: MJy / sr\n",
      "DETECTOR: 3\n",
      "OBSID: 2025W25_1B_0325_1\n",
      "DATE: 2025-06-28T08:12:18.745\n",
      "PSF_FWHM: 4.915321742051196\n"
     ]
    }
   ],
   "source": [
    "spectral_image_header = hdulist[1].header\n",
    "\n",
    "keywords_to_print = ['EXTNAME', 'NAXIS1', 'NAXIS2', 'BUNIT', 'DETECTOR', 'OBSID', 'DATE', 'PSF_FWHM']\n",
    "\n",
    "for keyword in keywords_to_print:\n",
    "    value = spectral_image_header.get(keyword, 'Keyword not found')\n",
    "    print(f\"{keyword}: {value}\")"
   ]
  },
  {
   "cell_type": "markdown",
   "id": "e4ee748e",
   "metadata": {},
   "source": [
    "We can see that this image was taken with Detector 2, so we can expect the wavelength to vary from 1.10 - 1.62 µm. Try examining the Firefly visualization to confirm this."
   ]
  },
  {
   "cell_type": "markdown",
   "id": "460c03fc",
   "metadata": {},
   "source": [
    "Notice that there is more than one WCS!"
   ]
  },
  {
   "cell_type": "code",
   "execution_count": 13,
   "id": "7c0bbd40",
   "metadata": {},
   "outputs": [
    {
     "data": {
      "text/plain": [
       "WCSNAMEA= '0-based active pixel coordinates' / Coordinate system title          \n",
       "WCSNAMEW= 'Approximated per-pixel wavelength and bandpass' / WCS label          "
      ]
     },
     "execution_count": 13,
     "metadata": {},
     "output_type": "execute_result"
    }
   ],
   "source": [
    "spectral_image_header['WCSNAME*']"
   ]
  },
  {
   "cell_type": "markdown",
   "id": "0387338d",
   "metadata": {},
   "source": [
    "The main WCS describes the astrometric registration of the image, including optical distortion parameters, based on the FITS pixel convention starting with 1.\n",
    "\n",
    "There are two alternative WCS systems:\n",
    "- WCSNAMEA describes zero-based pixel coordinates.\n",
    "- WCSNAMEW describes spectral coordinates 'Wavelength' and 'Bandpass'. This WCS contains a reference to the lookup table in the 'WCS-WAVE' extension."
   ]
  },
  {
   "cell_type": "markdown",
   "id": "ad09ef46",
   "metadata": {},
   "source": [
    "### 8a. Spatial WCS"
   ]
  },
  {
   "cell_type": "markdown",
   "id": "9c801d50",
   "metadata": {},
   "source": [
    "Load the Spatial WCS"
   ]
  },
  {
   "cell_type": "code",
   "execution_count": 14,
   "id": "0826a2d9",
   "metadata": {},
   "outputs": [
    {
     "data": {
      "text/plain": [
       "WCS Keywords\n",
       "\n",
       "Number of WCS axes: 2\n",
       "CTYPE : 'RA---TAN-SIP' 'DEC--TAN-SIP' \n",
       "CRVAL : 302.763401674 41.6454621831 \n",
       "CRPIX : 1020.5 1020.5 \n",
       "PC1_1 PC1_2  : -0.00149633616747 -0.000886820177885 \n",
       "PC2_1 PC2_2  : -0.000828988094588 0.00146081430027 \n",
       "CDELT : 1.0 1.0 \n",
       "NAXIS : 2040  2040"
      ]
     },
     "execution_count": 14,
     "metadata": {},
     "output_type": "execute_result"
    }
   ],
   "source": [
    "wcs = WCS(spectral_image_header)\n",
    "wcs"
   ]
  },
  {
   "cell_type": "markdown",
   "id": "7f7eff86",
   "metadata": {},
   "source": [
    "Use standard Astropy methods to resolve the central ra and dec (given by crval1 and crval2 in the header) into image pixel coordinates."
   ]
  },
  {
   "cell_type": "code",
   "execution_count": 15,
   "id": "9b16242c",
   "metadata": {},
   "outputs": [
    {
     "name": "stdout",
     "output_type": "stream",
     "text": [
      "302.763401674 41.6454621831 1019.9902188468741 1021.0039008462516\n"
     ]
    }
   ],
   "source": [
    "ra, dec = wcs.wcs.crval\n",
    "x, y = wcs.world_to_pixel(SkyCoord(ra=ra, dec=dec, unit=\"deg\"))\n",
    "print(ra, dec, x, y)"
   ]
  },
  {
   "cell_type": "markdown",
   "id": "8019fe5b",
   "metadata": {},
   "source": [
    "### 8b. Spectral WCS\n",
    "\n",
    "The use of Linear Variable Filters (LVFs) is a key component of SPHEREx imaging. Each pixel of the detector corresponds to a slightly different wavelength and bandwidth due to the LVF’s gradual variation in spectral transmission across its surface. Contours of constant wavelength are curved due to the method of filter fabrication, so the wavelength-vs-pixel function is inherently two-dimensional.\n",
    "\n",
    "A compact, approximate representation of the wavelength and bandwidth per pixel is included in each image using the WAVE-TAB lookup-table mechanism defined in the FITS standard.\n",
    "\n",
    "Below we illustrate how to use Spectral WCS to find an approximate wavelength at each pixel."
   ]
  },
  {
   "cell_type": "code",
   "execution_count": 16,
   "id": "a9b50580",
   "metadata": {},
   "outputs": [
    {
     "name": "stdout",
     "output_type": "stream",
     "text": [
      "INFO: \n",
      "                Inconsistent SIP distortion information is present in the FITS header and the WCS object:\n",
      "                SIP coefficients were detected, but CTYPE is missing a \"-SIP\" suffix.\n",
      "                astropy.wcs is using the SIP distortion coefficients,\n",
      "                therefore the coordinates calculated here might be incorrect.\n",
      "\n",
      "                If you do not want to apply the SIP distortion coefficients,\n",
      "                please remove the SIP coefficients from the FITS header or the\n",
      "                WCS object.  As an example, if the image is already distortion-corrected\n",
      "                (e.g., drizzled) then distortion components should not apply and the SIP\n",
      "                coefficients should be removed.\n",
      "\n",
      "                While the SIP distortion coefficients are being applied here, if that was indeed the intent,\n",
      "                for consistency please append \"-SIP\" to the CTYPE in the FITS header or the WCS object.\n",
      "\n",
      "                 [astropy.wcs.wcs]\n"
     ]
    }
   ],
   "source": [
    "# Load the Spectral WCS from the header.\n",
    "# Note that we need to provide a reference to HDU List, which contains a lookup table.\n",
    "spectral_wcs = WCS(header=hdulist[\"IMAGE\"].header, fobj=hdulist, key=\"W\")"
   ]
  },
  {
   "cell_type": "markdown",
   "id": "90262301",
   "metadata": {},
   "source": [
    "Note: The previous line triggers an Astropy INFO printout,\n",
    "which implies that the SIP distortion coefficients from the main WCS are preserved in the alternative WCS.\n",
    "This is because the SIP convention, not formally part of the FITS standard,\n",
    "is ambiguous as to whether it is meant to apply to 'alternative' (lettered) WCSes in addition to the primary WCS.\n",
    "See [astropy/astropy#13105](https://github.com/astropy/astropy/issues/13105).)\n",
    "\n",
    "The wavelength per pixel is a property of the detector-filter combination and is independent of optical distortion in the telescope,\n",
    "and is modeled accordingly in WCS 'W', so we turn the SIP distortion off for this WCS."
   ]
  },
  {
   "cell_type": "code",
   "execution_count": 17,
   "id": "ac5d6476",
   "metadata": {},
   "outputs": [],
   "source": [
    "# SIP distortions must be turned off for the spectral WCS.\n",
    "spectral_wcs.sip = None"
   ]
  },
  {
   "cell_type": "code",
   "execution_count": 18,
   "id": "f30f86ce",
   "metadata": {},
   "outputs": [
    {
     "data": {
      "text/plain": [
       "(<SpectralCoord 1.98064971 um>, <Quantity 0.04878448 um>)"
      ]
     },
     "execution_count": 18,
     "metadata": {},
     "output_type": "execute_result"
    }
   ],
   "source": [
    "# The standard Astropy methods for converting pixel coordinates to world coordinates can also be used to obtain spectral coordinates.\n",
    "# Take the pixel coordinates that we determined for the image center and resolve them to the wavelength and bandpass for that pixel\n",
    "wl, bp = spectral_wcs.pixel_to_world(x, y)\n",
    "wl, bp"
   ]
  },
  {
   "cell_type": "markdown",
   "id": "8fde0211",
   "metadata": {},
   "source": [
    "### 8c. How does wavelength vary across the detector?"
   ]
  },
  {
   "cell_type": "code",
   "execution_count": 19,
   "id": "c08e755a",
   "metadata": {},
   "outputs": [
    {
     "name": "stdout",
     "output_type": "stream",
     "text": [
      "Wavelength: \n",
      " [[2.44707251 2.44703434 2.44699617 ... 2.44834412 2.44838363 2.44842315]\n",
      " [2.44661217 2.446574   2.44653582 ... 2.44788307 2.44792259 2.44796211]\n",
      " [2.44615184 2.44611366 2.44607548 ... 2.44742201 2.44746154 2.44750107]\n",
      " ...\n",
      " [1.63625448 1.63621912 1.63618377 ... 1.63706294 1.63709918 1.63713542]\n",
      " [1.63591888 1.63588353 1.63584819 ... 1.63672761 1.63676384 1.63680007]\n",
      " [1.63558328 1.63554794 1.63551261 ... 1.63639227 1.63642849 1.63646472]] um\n",
      "Bandpass: \n",
      " [[0.06027272 0.06027178 0.06027084 ... 0.06030404 0.06030502 0.06030599]\n",
      " [0.06026139 0.06026044 0.0602595  ... 0.06029269 0.06029366 0.06029463]\n",
      " [0.06025005 0.06024911 0.06024817 ... 0.06028133 0.06028231 0.06028328]\n",
      " ...\n",
      " [0.04030184 0.04030097 0.04030009 ... 0.04032175 0.04032264 0.04032353]\n",
      " [0.04029357 0.0402927  0.04029183 ... 0.04031349 0.04031438 0.04031528]\n",
      " [0.0402853  0.04028443 0.04028356 ... 0.04030523 0.04030612 0.04030702]] um\n"
     ]
    }
   ],
   "source": [
    "# Read in the spectral image data.\n",
    "spectral_image = hdulist[\"IMAGE\"]\n",
    "spectral_image_data = spectral_image.data\n",
    "\n",
    "# Get arrays of pixel coordinates for the image.\n",
    "(y, x) = np.indices(spectral_image.shape)\n",
    "\n",
    "# Use the spectral WCS to convert these pixel coordinates to spectral coordinates.\n",
    "spectral_coords = spectral_wcs.pixel_to_world(x, y)\n",
    "\n",
    "# Break out the two spectral coordinates (wavelength and bandpass) from the spectral coordinates, and print the results.\n",
    "wavelength, bandpass = spectral_coords\n",
    "print(\"Wavelength: \\n\", wavelength)\n",
    "print(\"Bandpass: \\n\", bandpass)"
   ]
  },
  {
   "cell_type": "code",
   "execution_count": 20,
   "id": "f6ed8fd3",
   "metadata": {},
   "outputs": [
    {
     "data": {
      "image/png": "[encoded data removed]",
      "text/plain": [
       "<Figure size 640x480 with 2 Axes>"
      ]
     },
     "metadata": {},
     "output_type": "display_data"
    }
   ],
   "source": [
    "# Plot the wavelength as a greyscale color map across the image pixels.\n",
    "plt.imshow(wavelength.value, origin='lower', cmap='gray')\n",
    "plt.colorbar(label=f\"Wavelength [{wavelength.unit}]\")\n",
    "\n",
    "detector = hdulist[\"IMAGE\"].header[\"DETECTOR\"]\n",
    "plt.title(f\"Wavelength - Detector {detector}\")\n",
    "plt.show()"
   ]
  },
  {
   "cell_type": "markdown",
   "id": "a13473cd",
   "metadata": {},
   "source": [
    "As expected, the wavelengths range from approximately 1.1=16 micron for Detector 2. You can see that the longest wavelengths are at the bottom and the shortest wavelengths are at the top. You can verify this is the case in the Firefly visualization, as well."
   ]
  },
  {
   "cell_type": "markdown",
   "id": "ecb88e1c",
   "metadata": {},
   "source": [
    "### 8d. Number of flagged pixels in this image\n",
    "\n",
    "Now let's take a look at some header keywords that provide information about how many pixels have been flagged during processing."
   ]
  },
  {
   "cell_type": "code",
   "execution_count": 21,
   "id": "5dfb42fe",
   "metadata": {},
   "outputs": [
    {
     "data": {
      "text/plain": [
       "HIERARCH L2 N_NONLINEAR = 0 / number of pixels flagged nonlinear                \n",
       "HIERARCH L2 N_PERSIST = 4885 / number of pixels flagged persist                 \n",
       "HIERARCH L2 N_HOT =                    3 / number of pixels flagged hot         \n",
       "HIERARCH L2 N_COLD = 1214 / number of pixels flagged cold                       \n",
       "HIERARCH L2 N_SOURCE = 4139947 / number of source flagged pixels                \n",
       "HIERARCH L2 N_OUTLIER = 5360 / number of flagged outlier pixels                 \n",
       "HIERARCH L2 N_TRANSIENT = 41200 / number of flagged transient pixels            \n",
       "HIERARCH L2 N_OVERFLOW = 3146 / number of flagged overflow pixels               \n",
       "HIERARCH L2 N_SUR_ERROR = 28923 / number of flagged sur error pixels            \n",
       "HIERARCH L2 N_NONFUNC = 2968 / number of flagged nonfunctional pixels           \n",
       "HIERARCH L2 N_DICHROIC = 109713 / number of flagged pixels due to low efficiency\n",
       "HIERARCH L2 N_MISSING = 0 / number of flagged pixels with missing data          \n",
       "HIERARCH L2 N_FULLSAMPLE = 240 / number of flagged full-sample pixels           \n",
       "HIERARCH L2 N_PHANMISS = 0 / number of flagged phanmiss pixels                  "
      ]
     },
     "execution_count": 21,
     "metadata": {},
     "output_type": "execute_result"
    }
   ],
   "source": [
    "spectral_image_header['L2 N_*']"
   ]
  },
  {
   "cell_type": "markdown",
   "id": "5b39c6f1",
   "metadata": {},
   "source": [
    "There are 14 flags in total. Typically, most of the pixels are identified as SOURCE pixels, which are pixels mapped to a known source. The remaining flags are described in Table 8 of the [SPHEREx Explanatory Supplement](https://irsa.ipac.caltech.edu/data/SPHEREx/docs/spherex_explanatory_supplement.pdf)."
   ]
  },
  {
   "cell_type": "markdown",
   "id": "33e2cfd4",
   "metadata": {},
   "source": [
    "## 9. Explore the second extension: FLAGS\n",
    "\n",
    "The second extension (FLAGS) provides a bitmap of per-pixel status and processing flags, stored as a 2040 x 2040 image.\n",
    "\n",
    "Let's take a look at the header of the FLAGS extension, and print out some header keywords of interest."
   ]
  },
  {
   "cell_type": "code",
   "execution_count": 22,
   "id": "c146c0e0",
   "metadata": {},
   "outputs": [
    {
     "name": "stdout",
     "output_type": "stream",
     "text": [
      "EXTNAME: FLAGS\n",
      "NAXIS1: 2040\n",
      "NAXIS2: 2040\n",
      "BUNIT:\n"
     ]
    }
   ],
   "source": [
    "flags_header = hdulist[2].header\n",
    "\n",
    "keywords_to_print = ['EXTNAME', 'NAXIS1', 'NAXIS2', 'BUNIT']\n",
    "\n",
    "for keyword in keywords_to_print:\n",
    "    value = flags_header.get(keyword, 'Keyword not found')\n",
    "    print(f\"{keyword}: {value}\")"
   ]
  },
  {
   "cell_type": "markdown",
   "id": "a3f2d21c",
   "metadata": {},
   "source": [
    "Conveniently, the definitions of the flags are also provided in the FLAGS header."
   ]
  },
  {
   "cell_type": "code",
   "execution_count": 23,
   "id": "0798ff58",
   "metadata": {},
   "outputs": [
    {
     "data": {
      "text/plain": [
       "HIERARCH MP_TRANSIENT = 0 / Transient detected during SUR                       \n",
       "HIERARCH MP_OVERFLOW = 1 / Overflow detected during SUR                         \n",
       "HIERARCH MP_SUR_ERROR = 2 / Error in onboard processing                         \n",
       "HIERARCH MP_PHANTOM = 4 / Phantom pixel                                         \n",
       "HIERARCH MP_REFERENCE = 5 / Reference pixel                                     \n",
       "HIERARCH MP_NONFUNC = 6 / Permanently unusable                                  \n",
       "HIERARCH MP_DICHROIC = 7 / Low efficiency due to dichroic                       \n",
       "HIERARCH MP_MISSING_DATA = 9 / Onboard data lost                                \n",
       "MP_HOT  =                   10 / Hot pixel                                      \n",
       "MP_COLD =                   11 / Anomalously low signal                         \n",
       "HIERARCH MP_FULLSAMPLE = 12 / Pixel full sample history is available            \n",
       "HIERARCH MP_PHANMISS = 14 / Phantom correction was not applied                  \n",
       "HIERARCH MP_NONLINEAR = 15 / Pixel for which a reliable nonlinearity correction \n",
       "HIERARCH MP_PERSIST = 17 / Persistent charge above threshold                    \n",
       "HIERARCH MP_OUTLIER = 19 / Pixel flagged by Detect Outliers                     \n",
       "HIERARCH MP_SOURCE = 21 / Pixel mapped to a known source                        "
      ]
     },
     "execution_count": 23,
     "metadata": {},
     "output_type": "execute_result"
    }
   ],
   "source": [
    "flags_header['MP*']"
   ]
  },
  {
   "cell_type": "markdown",
   "id": "7d9b3905",
   "metadata": {},
   "source": [
    "Tip: In the Firefly visualization, if you are looking at the first extension (IMAGE), you can open up the layers icon (top right) to enable overlaying a visualization of the flags."
   ]
  },
  {
   "cell_type": "markdown",
   "id": "b6880934",
   "metadata": {},
   "source": [
    "## 10. Explore the third extension: VARIANCE\n",
    "\n",
    "The third extension of the MEF is the variance of the calibrated surface brightness flux in units of (MJy/sr)^2, stored as a 2,040 x 2,040 image. Let's look at some specific header keywords:"
   ]
  },
  {
   "cell_type": "code",
   "execution_count": 24,
   "id": "4c048573",
   "metadata": {},
   "outputs": [
    {
     "name": "stdout",
     "output_type": "stream",
     "text": [
      "EXTNAME: VARIANCE\n",
      "NAXIS1: 2040\n",
      "NAXIS2: 2040\n",
      "BUNIT: MJy2 / sr2\n"
     ]
    }
   ],
   "source": [
    "variance_header = hdulist[3].header\n",
    "\n",
    "keywords_to_print = ['EXTNAME', 'NAXIS1', 'NAXIS2', 'BUNIT']\n",
    "\n",
    "for keyword in keywords_to_print:\n",
    "    value = variance_header.get(keyword, 'Keyword not found')\n",
    "    print(f\"{keyword}: {value}\")"
   ]
  },
  {
   "cell_type": "markdown",
   "id": "63233a34",
   "metadata": {},
   "source": [
    "## 11. Explore the fourth extension: ZODI\n",
    "\n",
    "The fourth extension of the MEF is the modeled zodiacal light background flux in units of MJy/sr, stored as a 2040 x 2040 image. This has not been subtracted from the IMAGE extension. Let's examine some header keywords:"
   ]
  },
  {
   "cell_type": "code",
   "execution_count": 25,
   "id": "cca85c75",
   "metadata": {},
   "outputs": [
    {
     "name": "stdout",
     "output_type": "stream",
     "text": [
      "EXTNAME: ZODI\n",
      "NAXIS1: 2040\n",
      "NAXIS2: 2040\n",
      "BUNIT: MJy / sr\n"
     ]
    }
   ],
   "source": [
    "zodi_header = hdulist[4].header\n",
    "\n",
    "keywords_to_print = ['EXTNAME', 'NAXIS1', 'NAXIS2', 'BUNIT']\n",
    "\n",
    "for keyword in keywords_to_print:\n",
    "    value = zodi_header.get(keyword, 'Keyword not found')\n",
    "    print(f\"{keyword}: {value}\")"
   ]
  },
  {
   "cell_type": "markdown",
   "id": "c20f06fa",
   "metadata": {},
   "source": [
    "## 12. Explore the fifth extension: PSF\n",
    "\n",
    "The fifth extension of the MEF contains 121 Point-spread functions (PSFs); each PSF is represented as a 101 x 101 image and all 121 are assembled together into a cube. Each of the 121 layers represents a \"super-resolution\" PSF estimate in a different region (defined by an 11x11 grid) of the detector. Each PSF is a two-dimensional array with size of 101 × 101 pixels. The PSFs are oversampled such that 10 PSF pixels cover the same spatial extent as one spectral image pixel (0.615 arcsec). Let's look at some specific header keywords for the PSF:"
   ]
  },
  {
   "cell_type": "code",
   "execution_count": 26,
   "id": "6f1e68f7",
   "metadata": {},
   "outputs": [
    {
     "name": "stdout",
     "output_type": "stream",
     "text": [
      "EXTNAME: PSF\n",
      "NAXIS1: 101\n",
      "NAXIS2: 101\n",
      "NAXIS3: 121\n",
      "BUNIT:\n"
     ]
    }
   ],
   "source": [
    "psf_header = hdulist[5].header\n",
    "\n",
    "keywords_to_print = ['EXTNAME', 'NAXIS1', 'NAXIS2', 'NAXIS3', 'BUNIT']\n",
    "\n",
    "for keyword in keywords_to_print:\n",
    "    value = psf_header.get(keyword, 'Keyword not found')\n",
    "    print(f\"{keyword}: {value}\")"
   ]
  },
  {
   "cell_type": "markdown",
   "id": "ce53420c",
   "metadata": {},
   "source": [
    "## 13. Explore the sixth extension: WCS-WAVE\n",
    "\n",
    "The sixth extension is a FITS-compliant spectral World Coordinate System (WCS) lookup table that maps spectral image pixel coordinates to central wavelengths and bandwidths. The lookup table consists of 1 row with 3 columns (X, Y, VALUES). X and Y are each arrays defining a grid of control points in spectral image pixel space. For each (X, Y) control point, VALUES defines a two-element array containing the central wavelength and the corresponding bandwidth. Originally adopted to support the unique nature of the SPHEREx LVF filters, this rarely-used part of the FITS standard has yet to be implemented by all readers. The Firefly client we use in this notebook does correctly interpret this lookup table.\n",
    "\n",
    "Let's look at the header of the WCS-WAVE extension:"
   ]
  },
  {
   "cell_type": "code",
   "execution_count": 27,
   "id": "2df82391",
   "metadata": {},
   "outputs": [
    {
     "data": {
      "text/plain": [
       "XTENSION= 'BINTABLE'           / binary table extension                         \n",
       "BITPIX  =                    8 / array data type                                \n",
       "NAXIS   =                    2 / number of array dimensions                     \n",
       "NAXIS1  =                  720 / length of dimension 1                          \n",
       "NAXIS2  =                    1 / length of dimension 2                          \n",
       "PCOUNT  =                    0 / number of group parameters                     \n",
       "GCOUNT  =                    1 / number of groups                               \n",
       "TFIELDS =                    3 / number of table fields                         \n",
       "EXTNAME = 'WCS-WAVE'                                                            \n",
       "TTYPE1  = 'X       '                                                            \n",
       "TFORM1  = '9J      '                                                            \n",
       "TDIM1   = '(9)     '                                                            \n",
       "TTYPE2  = 'Y       '                                                            \n",
       "TFORM2  = '9J      '                                                            \n",
       "TDIM2   = '(9)     '                                                            \n",
       "TTYPE3  = 'VALUES  '                                                            \n",
       "TFORM3  = '162E    '                                                            \n",
       "TDIM3   = '(2,9,9) '                                                            "
      ]
     },
     "execution_count": 27,
     "metadata": {},
     "output_type": "execute_result"
    }
   ],
   "source": [
    "wcs_wave_header = hdulist[6].header\n",
    "wcs_wave_header"
   ]
  },
  {
   "cell_type": "markdown",
   "id": "6aa6e374",
   "metadata": {},
   "source": [
    "Unlike the other extensions, this is a binary table. Let's read it iinto an Astropy table."
   ]
  },
  {
   "cell_type": "code",
   "execution_count": 28,
   "id": "b14e8a6e",
   "metadata": {},
   "outputs": [
    {
     "name": "stdout",
     "output_type": "stream",
     "text": [
      "Number of rows: 1\n",
      "Column names: ['X', 'Y', 'VALUES']\n"
     ]
    }
   ],
   "source": [
    "wcs_wave_table = Table(hdulist[6].data)\n",
    "\n",
    "print(\"Number of rows:\", len(wcs_wave_table))\n",
    "print(\"Column names:\", wcs_wave_table.colnames)"
   ]
  },
  {
   "cell_type": "markdown",
   "id": "87a2601d",
   "metadata": {},
   "source": [
    "This table consists of just 1 row with three columns. Let's inspect the columns:"
   ]
  },
  {
   "cell_type": "code",
   "execution_count": 29,
   "id": "220310a2",
   "metadata": {},
   "outputs": [
    {
     "name": "stdout",
     "output_type": "stream",
     "text": [
      "X: [   1  256  511  766 1021 1276 1531 1786 2040]\n",
      "Y: [   1  256  511  766 1021 1276 1531 1786 2040]\n",
      "Dimensions of VALUES array: (9, 9, 2)\n"
     ]
    }
   ],
   "source": [
    "x_array      = wcs_wave_table[\"X\"][0]\n",
    "y_array      = wcs_wave_table[\"Y\"][0]\n",
    "wavelengths  = wcs_wave_table[\"VALUES\"][0]\n",
    "\n",
    "print(\"X:\",  x_array)\n",
    "print(\"Y:\",y_array)\n",
    "print(\"Dimensions of VALUES array:\",  wavelengths.shape)"
   ]
  },
  {
   "cell_type": "markdown",
   "id": "50c7379a",
   "metadata": {},
   "source": [
    "## Acknowledgements\n",
    "\n",
    "- [IPAC-IRSA](https://irsa.ipac.caltech.edu/)"
   ]
  },
  {
   "cell_type": "markdown",
   "id": "5ef5ba56",
   "metadata": {},
   "source": [
    "## About this notebook\n",
    "\n",
    "**Authors:** IPAC Science Platform Team, including Jessica Krick, Troy Raen, Brigitta Sipőcz, Jaladh Singhal,\n",
    "Andreas Faisst, Shoubaneh Hemmati, Vandana Desai\n",
    "\n",
    "**Contact:** [IRSA Helpdesk](https://irsa.ipac.caltech.edu/docs/help_desk.html) with questions\n",
    "or problems.\n",
    "\n",
    "**Updated:** June 2025\n",
    "\n",
    "**Runtime:** approximately 30 seconds"
   ]
  }
 ],
 "metadata": {
  "jupytext": {
   "formats": "md:myst",
   "text_representation": {
    "extension": ".md",
    "format_name": "myst",
    "format_version": 0.13,
    "jupytext_version": "1.17.2"
   }
  },
  "kernelspec": {
   "display_name": "Python 3 (ipykernel)",
   "language": "python",
   "name": "python3"
  },
  "language_info": {
   "codemirror_mode": {
    "name": "ipython",
    "version": 3
   },
   "file_extension": ".py",
   "mimetype": "text/x-python",
   "name": "python",
   "nbconvert_exporter": "python",
   "pygments_lexer": "ipython3",
   "version": "3.11.13"
  },
  "source_map": [
   13,
   17,
   26,
   40,
   45,
   47,
   51,
   65,
   69,
   73,
   76,
   80,
   101,
   108,
   110,
   114,
   116,
   120,
   122,
   132,
   137,
   141,
   145,
   149,
   152,
   165,
   169,
   175,
   179,
   183,
   188,
   192,
   207,
   211,
   219,
   223,
   227,
   229,
   237,
   241,
   245,
   248,
   252,
   256,
   266,
   270,
   281,
   286,
   291,
   295,
   312,
   320,
   324,
   330,
   332,
   336,
   344,
   352,
   356,
   358,
   362,
   368,
   376,
   382,
   390,
   396,
   404,
   412,
   415,
   419,
   424,
   428,
   436,
   442
  ]
 },
 "nbformat": 4,
 "nbformat_minor": 5
}