{
 "cells": [
  {
   "cell_type": "markdown",
   "id": "bffc7e22",
   "metadata": {},
   "source": [
    "# Introduction to Euclid Q1 PHZ catalog"
   ]
  },
  {
   "cell_type": "markdown",
   "id": "a3800024",
   "metadata": {},
   "source": [
    "## Learning Goals"
   ]
  },
  {
   "cell_type": "markdown",
   "id": "54664953",
   "metadata": {},
   "source": [
    "By the end of this tutorial, you will:\n",
    "- Understand the basic characteristics of Euclid Q1 photo-z catalog and how to match it with MER mosaics.\n",
    "- Understand what PHZ catalogs are available and how to view the columns in those catalogs.\n",
    "- How to query with ADQL in the PHZ catalog to find galaxies between a redshift of 1.4 and 1.6.\n",
    "- Pull and plot a spectrum of one of the galaxies in that catalog.\n",
    "- Cutout an image of the galaxy to view it close up.\n",
    "- Learn how to upload images and catalogs to Firefly to inspect individual sources in greater detail."
   ]
  },
  {
   "cell_type": "markdown",
   "id": "8fcc5b4e",
   "metadata": {},
   "source": [
    "## Introduction"
   ]
  },
  {
   "cell_type": "markdown",
   "id": "eff1d2b1",
   "metadata": {},
   "source": [
    "Euclid is a European Space Agency (ESA) space mission with NASA participation, to study the geometry and nature of the dark Universe. The Quick Data Release 1 (Q1) are the first data release from the Euclid mission after the Early Release Observations (ERO). On March 19, 2025 the data will be available on the ESA archive (https://easidr.esac.esa.int/sas/) and on the IRSA archive (https://irsa.ipac.caltech.edu).\n",
    "\n",
    "These notebooks focus on how to access, download, and process Euclid Q1 data from the IRSA archive. At the end of the notebook, we also include some information for how to access the Q1 data from the ESA archive. If you have any issues accessing data from the archives, please contact the helpdesk directly: IRSA (irsasupport@ipac.caltech.edu) and ESA (https://support.cosmos.esa.int/euclid).\n",
    "\n",
    "The photometry of every source is processed through a photometric redshift fitting pipeline, producing several different catalogs. This notebook provides an introduction to photo-z catalog released as part of Euclid Q1. Other Euclid notebooks show how to use other data products released as part of Euclid Q1."
   ]
  },
  {
   "cell_type": "markdown",
   "id": "6f1eaf8b",
   "metadata": {},
   "source": [
    "## Imports"
   ]
  },
  {
   "cell_type": "code",
   "execution_count": 1,
   "id": "a2d51ae5",
   "metadata": {},
   "outputs": [],
   "source": [
    "# Uncomment the next line to install dependencies if needed.\n",
    "# !pip install requests matplotlib pandas astropy pyvo fsspec firefly_client"
   ]
  },
  {
   "cell_type": "code",
   "execution_count": 2,
   "id": "37203a7d",
   "metadata": {},
   "outputs": [],
   "source": [
    "from io import BytesIO\n",
    "import os\n",
    "import re\n",
    "\n",
    "import requests\n",
    "import matplotlib.pyplot as plt\n",
    "\n",
    "from astropy.coordinates import SkyCoord\n",
    "from astropy.io import fits\n",
    "from astropy.nddata import Cutout2D\n",
    "from astropy.table import Table\n",
    "from astropy import units as u\n",
    "from astropy.utils.data import download_file\n",
    "from astropy.visualization import ImageNormalize, PercentileInterval, AsinhStretch, LogStretch\n",
    "from astropy.wcs import WCS\n",
    "\n",
    "from firefly_client import FireflyClient\n",
    "import pyvo as vo"
   ]
  },
  {
   "cell_type": "markdown",
   "id": "71c9f46b",
   "metadata": {},
   "source": [
    "## 1. Find the MER Tile ID that corresponds to a given RA and Dec\n",
    "\n",
    "In this case, choose random coordinates to show a different MER mosaic image. Search a radius around these coordinates."
   ]
  },
  {
   "cell_type": "code",
   "execution_count": 3,
   "id": "fb7d128c",
   "metadata": {},
   "outputs": [],
   "source": [
    "ra = 268\n",
    "dec = 66\n",
    "search_radius= 10 * u.arcsec\n",
    "\n",
    "coord = SkyCoord(ra, dec, unit='deg', frame='icrs')"
   ]
  },
  {
   "cell_type": "markdown",
   "id": "42f24cdc",
   "metadata": {},
   "source": [
    "### Use IRSA to search for all Euclid data on this target\n",
    "\n",
    "This searches specifically in the euclid_DpdMerBksMosaic \"collection\" which is the MER images and catalogs."
   ]
  },
  {
   "cell_type": "code",
   "execution_count": 4,
   "id": "6dee4953",
   "metadata": {},
   "outputs": [],
   "source": [
    "irsa_service= vo.dal.sia2.SIA2Service('https://irsa.ipac.caltech.edu/SIA')\n",
    "\n",
    "image_table = irsa_service.search(pos=(coord, search_radius), collection='euclid_DpdMerBksMosaic').to_table()"
   ]
  },
  {
   "cell_type": "markdown",
   "id": "cec8dadf",
   "metadata": {},
   "source": [
    "```{note}\n",
    "This table lists all MER mosaic images available in this position. These mosaics include the Euclid VIS, Y, J, H images, as well as ground-based telescopes which have been put on the same pixel scale. For more information, see the [Euclid documentation at IPAC](https://euclid.caltech.edu/page/euclid-faq-tech/).\n",
    "```"
   ]
  },
  {
   "cell_type": "code",
   "execution_count": 5,
   "id": "934acd82",
   "metadata": {},
   "outputs": [],
   "source": [
    "# Convert the table to pandas dataframe\n",
    "df_im_irsa=image_table.to_pandas()"
   ]
  },
  {
   "cell_type": "code",
   "execution_count": 6,
   "id": "8722c59d",
   "metadata": {},
   "outputs": [
    {
     "data": {
      "text/html": [
       "<div>\n",
       "<style scoped>\n",
       "    .dataframe tbody tr th:only-of-type {\n",
       "        vertical-align: middle;\n",
       "    }\n",
       "\n",
       "    .dataframe tbody tr th {\n",
       "        vertical-align: top;\n",
       "    }\n",
       "\n",
       "    .dataframe thead th {\n",
       "        text-align: right;\n",
       "    }\n",
       "</style>\n",
       "<table border=\"1\" class=\"dataframe\">\n",
       "  <thead>\n",
       "    <tr style=\"text-align: right;\">\n",
       "      <th></th>\n",
       "      <th>s_ra</th>\n",
       "      <th>s_dec</th>\n",
       "      <th>facility_name</th>\n",
       "      <th>instrument_name</th>\n",
       "      <th>dataproduct_subtype</th>\n",
       "      <th>calib_level</th>\n",
       "      <th>dataproduct_type</th>\n",
       "      <th>energy_bandpassname</th>\n",
       "      <th>energy_emband</th>\n",
       "      <th>obs_id</th>\n",
       "      <th>...</th>\n",
       "      <th>t_resolution</th>\n",
       "      <th>t_xel</th>\n",
       "      <th>obs_publisher_did</th>\n",
       "      <th>s_fov</th>\n",
       "      <th>em_xel</th>\n",
       "      <th>pol_states</th>\n",
       "      <th>pol_xel</th>\n",
       "      <th>cloud_access</th>\n",
       "      <th>o_ucd</th>\n",
       "      <th>upload_row_id</th>\n",
       "    </tr>\n",
       "  </thead>\n",
       "  <tbody>\n",
       "    <tr>\n",
       "      <th>1</th>\n",
       "      <td>267.667698</td>\n",
       "      <td>66.000014</td>\n",
       "      <td>Euclid</td>\n",
       "      <td>NISP</td>\n",
       "      <td>science</td>\n",
       "      <td>3</td>\n",
       "      <td>image</td>\n",
       "      <td>H</td>\n",
       "      <td>Infrared</td>\n",
       "      <td>102159190_NISP</td>\n",
       "      <td>...</td>\n",
       "      <td>NaN</td>\n",
       "      <td>&lt;NA&gt;</td>\n",
       "      <td>ivo://irsa.ipac/euclid_DpdMerBksMosaic?1021591...</td>\n",
       "      <td>0.533333</td>\n",
       "      <td>&lt;NA&gt;</td>\n",
       "      <td></td>\n",
       "      <td>&lt;NA&gt;</td>\n",
       "      <td>{\"aws\": {\"bucket_name\": \"nasa-irsa-euclid-q1\",...</td>\n",
       "      <td></td>\n",
       "      <td>1</td>\n",
       "    </tr>\n",
       "    <tr>\n",
       "      <th>17</th>\n",
       "      <td>267.667698</td>\n",
       "      <td>66.000014</td>\n",
       "      <td>Euclid</td>\n",
       "      <td>NISP</td>\n",
       "      <td>science</td>\n",
       "      <td>3</td>\n",
       "      <td>image</td>\n",
       "      <td>Y</td>\n",
       "      <td>Infrared</td>\n",
       "      <td>102159190_NISP</td>\n",
       "      <td>...</td>\n",
       "      <td>NaN</td>\n",
       "      <td>&lt;NA&gt;</td>\n",
       "      <td>ivo://irsa.ipac/euclid_DpdMerBksMosaic?1021591...</td>\n",
       "      <td>0.533333</td>\n",
       "      <td>&lt;NA&gt;</td>\n",
       "      <td></td>\n",
       "      <td>&lt;NA&gt;</td>\n",
       "      <td>{\"aws\": {\"bucket_name\": \"nasa-irsa-euclid-q1\",...</td>\n",
       "      <td></td>\n",
       "      <td>1</td>\n",
       "    </tr>\n",
       "    <tr>\n",
       "      <th>34</th>\n",
       "      <td>267.667698</td>\n",
       "      <td>66.000014</td>\n",
       "      <td>Euclid</td>\n",
       "      <td>NISP</td>\n",
       "      <td>science</td>\n",
       "      <td>3</td>\n",
       "      <td>image</td>\n",
       "      <td>J</td>\n",
       "      <td>Infrared</td>\n",
       "      <td>102159190_NISP</td>\n",
       "      <td>...</td>\n",
       "      <td>NaN</td>\n",
       "      <td>&lt;NA&gt;</td>\n",
       "      <td>ivo://irsa.ipac/euclid_DpdMerBksMosaic?1021591...</td>\n",
       "      <td>0.533333</td>\n",
       "      <td>&lt;NA&gt;</td>\n",
       "      <td></td>\n",
       "      <td>&lt;NA&gt;</td>\n",
       "      <td>{\"aws\": {\"bucket_name\": \"nasa-irsa-euclid-q1\",...</td>\n",
       "      <td></td>\n",
       "      <td>1</td>\n",
       "    </tr>\n",
       "    <tr>\n",
       "      <th>43</th>\n",
       "      <td>267.667698</td>\n",
       "      <td>66.000014</td>\n",
       "      <td>Euclid</td>\n",
       "      <td>VIS</td>\n",
       "      <td>science</td>\n",
       "      <td>3</td>\n",
       "      <td>image</td>\n",
       "      <td>VIS</td>\n",
       "      <td>Optical</td>\n",
       "      <td>102159190_VIS</td>\n",
       "      <td>...</td>\n",
       "      <td>NaN</td>\n",
       "      <td>&lt;NA&gt;</td>\n",
       "      <td>ivo://irsa.ipac/euclid_DpdMerBksMosaic?1021591...</td>\n",
       "      <td>0.533333</td>\n",
       "      <td>&lt;NA&gt;</td>\n",
       "      <td></td>\n",
       "      <td>&lt;NA&gt;</td>\n",
       "      <td>{\"aws\": {\"bucket_name\": \"nasa-irsa-euclid-q1\",...</td>\n",
       "      <td></td>\n",
       "      <td>1</td>\n",
       "    </tr>\n",
       "  </tbody>\n",
       "</table>\n",
       "<p>4 rows × 51 columns</p>\n",
       "</div>"
      ],
      "text/plain": [
       "          s_ra      s_dec facility_name instrument_name dataproduct_subtype  \\\n",
       "1   267.667698  66.000014        Euclid            NISP             science   \n",
       "17  267.667698  66.000014        Euclid            NISP             science   \n",
       "34  267.667698  66.000014        Euclid            NISP             science   \n",
       "43  267.667698  66.000014        Euclid             VIS             science   \n",
       "\n",
       "    calib_level dataproduct_type energy_bandpassname energy_emband  \\\n",
       "1             3            image                   H      Infrared   \n",
       "17            3            image                   Y      Infrared   \n",
       "34            3            image                   J      Infrared   \n",
       "43            3            image                 VIS       Optical   \n",
       "\n",
       "            obs_id  ...  t_resolution  t_xel  \\\n",
       "1   102159190_NISP  ...           NaN   <NA>   \n",
       "17  102159190_NISP  ...           NaN   <NA>   \n",
       "34  102159190_NISP  ...           NaN   <NA>   \n",
       "43   102159190_VIS  ...           NaN   <NA>   \n",
       "\n",
       "                                    obs_publisher_did     s_fov em_xel  \\\n",
       "1   ivo://irsa.ipac/euclid_DpdMerBksMosaic?1021591...  0.533333   <NA>   \n",
       "17  ivo://irsa.ipac/euclid_DpdMerBksMosaic?1021591...  0.533333   <NA>   \n",
       "34  ivo://irsa.ipac/euclid_DpdMerBksMosaic?1021591...  0.533333   <NA>   \n",
       "43  ivo://irsa.ipac/euclid_DpdMerBksMosaic?1021591...  0.533333   <NA>   \n",
       "\n",
       "   pol_states pol_xel                                       cloud_access  \\\n",
       "1                <NA>  {\"aws\": {\"bucket_name\": \"nasa-irsa-euclid-q1\",...   \n",
       "17               <NA>  {\"aws\": {\"bucket_name\": \"nasa-irsa-euclid-q1\",...   \n",
       "34               <NA>  {\"aws\": {\"bucket_name\": \"nasa-irsa-euclid-q1\",...   \n",
       "43               <NA>  {\"aws\": {\"bucket_name\": \"nasa-irsa-euclid-q1\",...   \n",
       "\n",
       "    o_ucd upload_row_id  \n",
       "1                     1  \n",
       "17                    1  \n",
       "34                    1  \n",
       "43                    1  \n",
       "\n",
       "[4 rows x 51 columns]"
      ]
     },
     "execution_count": 6,
     "metadata": {},
     "output_type": "execute_result"
    }
   ],
   "source": [
    "df_im_euclid=df_im_irsa[ (df_im_irsa['dataproduct_subtype']=='science') &  (df_im_irsa['facility_name']=='Euclid')]\n",
    "\n",
    "df_im_euclid.head()"
   ]
  },
  {
   "cell_type": "markdown",
   "id": "382de443",
   "metadata": {},
   "source": [
    "Choose the VIS image and pull the filename and tileID"
   ]
  },
  {
   "cell_type": "code",
   "execution_count": 7,
   "id": "d5899459",
   "metadata": {},
   "outputs": [
    {
     "name": "stdout",
     "output_type": "stream",
     "text": [
      "The MER tile ID for this object is : 102159190\n"
     ]
    }
   ],
   "source": [
    "filename=df_im_euclid[df_im_euclid['energy_bandpassname']=='VIS']['access_url'].to_list()[0]\n",
    "\n",
    "tileID=re.search(r'TILE\\s*(\\d{9})', filename).group(1)\n",
    "print('The MER tile ID for this object is :',tileID)"
   ]
  },
  {
   "cell_type": "markdown",
   "id": "f90eb623",
   "metadata": {},
   "source": [
    "## 2. Download PHZ catalog from IRSA"
   ]
  },
  {
   "cell_type": "code",
   "execution_count": 8,
   "id": "3fb183e7",
   "metadata": {},
   "outputs": [
    {
     "name": "stdout",
     "output_type": "stream",
     "text": [
      "euclid.artifact_euclid_q1\n",
      "    Euclid Q1 CAOM Artifact Table\n",
      "\n",
      "euclid.observation_euclid_q1\n",
      "    Euclid Q1 CAOM Observation Table\n",
      "euclid.plane_euclid_q1\n",
      "    Euclid Q1 CAOM Plane Table\n",
      "euclid_q1_mer_catalogue\n",
      "    Euclid Q1 MER Catalog\n",
      "\n",
      "euclid_q1_mer_morphology\n",
      "    Euclid Q1 MER Morphology\n",
      "euclid_q1_phz_photo_z\n",
      "    Euclid Q1 PHZ Photo-z Catalog\n",
      "\n",
      "euclid_q1_spe_lines_atomic_indices\n",
      "    Euclid Q1 SPE Lines Catalog - Atomic Indices\n",
      "euclid_q1_spe_lines_continuum_features\n",
      "    Euclid Q1 SPE Lines Catalog - Continuum Features\n",
      "\n",
      "euclid_q1_spe_lines_line_features\n",
      "    Euclid Q1 SPE Lines Catalog - Spectral Lines\n",
      "euclid_q1_spe_lines_molecular_indices\n",
      "    Euclid Q1 SPE Lines Catalog - Molecular Indices\n",
      "\n",
      "euclid_q1_spectro_zcatalog_spe_classification\n",
      "    Euclid Q1 SPE Redshift Catalog - Classification\n",
      "euclid_q1_spectro_zcatalog_spe_galaxy_candidates\n",
      "    Euclid Q1 SPE Redshift Catalog - Galaxy Candidates\n",
      "\n",
      "euclid_q1_spectro_zcatalog_spe_qso_candidates\n",
      "    Euclid Q1 SPE Redshift Catalog - QSO Candidates\n",
      "euclid_q1_spectro_zcatalog_spe_quality\n",
      "    Euclid Q1 SPE Redshift Catalog - Quality\n",
      "\n",
      "euclid_q1_spectro_zcatalog_spe_star_candidates\n",
      "    Euclid Q1 SPE Redshift Catalog - Star Candidates\n"
     ]
    },
    {
     "name": "stdout",
     "output_type": "stream",
     "text": [
      "euclid.plane_euclid_q1\n",
      "    Euclid Q1 CAOM Plane Table\n",
      "\n"
     ]
    },
    {
     "name": "stdout",
     "output_type": "stream",
     "text": [
      "euclid_q1_mer_catalogue\n",
      "    Euclid Q1 MER Catalog\n",
      "\n",
      "euclid_q1_mer_morphology\n",
      "    Euclid Q1 MER Morphology\n",
      "\n"
     ]
    },
    {
     "name": "stdout",
     "output_type": "stream",
     "text": [
      "euclid_q1_phz_photo_z\n",
      "    Euclid Q1 PHZ Photo-z Catalog\n",
      "\n",
      "euclid_q1_spe_lines_atomic_indices\n",
      "    Euclid Q1 SPE Lines Catalog - Atomic Indices\n",
      "\n"
     ]
    },
    {
     "name": "stdout",
     "output_type": "stream",
     "text": [
      "euclid_q1_spe_lines_continuum_features\n",
      "    Euclid Q1 SPE Lines Catalog - Continuum Features\n",
      "\n",
      "euclid_q1_spe_lines_line_features\n",
      "    Euclid Q1 SPE Lines Catalog - Spectral Lines\n",
      "\n"
     ]
    },
    {
     "name": "stdout",
     "output_type": "stream",
     "text": [
      "euclid_q1_spe_lines_molecular_indices\n",
      "    Euclid Q1 SPE Lines Catalog - Molecular Indices\n",
      "\n",
      "euclid_q1_spectro_zcatalog_spe_classification\n",
      "    Euclid Q1 SPE Redshift Catalog - Classification\n",
      "\n"
     ]
    },
    {
     "name": "stdout",
     "output_type": "stream",
     "text": [
      "euclid_q1_spectro_zcatalog_spe_galaxy_candidates\n",
      "    Euclid Q1 SPE Redshift Catalog - Galaxy Candidates\n",
      "\n",
      "euclid_q1_spectro_zcatalog_spe_qso_candidates\n",
      "    Euclid Q1 SPE Redshift Catalog - QSO Candidates\n",
      "\n"
     ]
    },
    {
     "name": "stdout",
     "output_type": "stream",
     "text": [
      "euclid_q1_spectro_zcatalog_spe_quality\n",
      "    Euclid Q1 SPE Redshift Catalog - Quality\n",
      "\n",
      "euclid_q1_spectro_zcatalog_spe_star_candidates\n",
      "    Euclid Q1 SPE Redshift Catalog - Star Candidates\n",
      "\n"
     ]
    }
   ],
   "source": [
    "## Use IRSA to search for catalogs\n",
    "\n",
    "service = vo.dal.TAPService(\"https://irsa.ipac.caltech.edu/TAP\")\n",
    "\n",
    "\n",
    "## Search for all tables in IRSA labled as euclid_q1\n",
    "tables = service.tables\n",
    "for tablename in tables.keys():\n",
    "    if \"tap_schema\" not in tablename and \"euclid_q1\" in tablename:\n",
    "            tables[tablename].describe()"
   ]
  },
  {
   "cell_type": "code",
   "execution_count": 9,
   "id": "d3035057",
   "metadata": {},
   "outputs": [],
   "source": [
    "table_mer= 'euclid_q1_mer_catalogue'\n",
    "table_phz= 'euclid_q1_phz_photo_z'\n",
    "table_1dspectra= 'euclid.objectid_spectrafile_association_q1'"
   ]
  },
  {
   "cell_type": "markdown",
   "id": "bdf916b6",
   "metadata": {},
   "source": [
    "### Learn some information about the table:\n",
    "\n",
    "- How many columns are there?\n",
    "- List the column names"
   ]
  },
  {
   "cell_type": "code",
   "execution_count": 10,
   "id": "90aa9d6a",
   "metadata": {},
   "outputs": [
    {
     "name": "stdout",
     "output_type": "stream",
     "text": [
      "67\n"
     ]
    }
   ],
   "source": [
    "columns = tables[table_phz].columns\n",
    "print(len(columns))"
   ]
  },
  {
   "cell_type": "code",
   "execution_count": 11,
   "id": "bfbf4d28",
   "metadata": {},
   "outputs": [
    {
     "name": "stdout",
     "output_type": "stream",
     "text": [
      "object_id                       None  Unique ID of the object in the survey, as set by MER\n",
      "phz_median                      None  The median of the PHZ PDF\n",
      "phz_mode_1                      None  The first mode of the PHZ PDF\n",
      "phz_mode_1_area                 None  The total area of the first mode\n",
      "phz_mode_2                      None  The second mode of the PHZ PDF\n",
      "phz_mode_2_area                 None  The total area of the second mode\n",
      "bias_id                         None  The identifier to be used for retrieving the bias correction shift from the bias correction map\n",
      "tom_bin_id                      None  The identifier of the tomographic bin the source belongs to (Equipopulated-bins)\n",
      "alt_tom_bin_id                  None  The identifier of the alternate tomographic bin the source belongs to (Equidistant-bins)\n",
      "pos_tom_bin_id                  None  The identifier of the photometric clustering tomographic bin the source belongs to (Equipopulated-bins)\n",
      "flag_som_tomobin                None  Flag telling if the source belong to a combination of SOM cell and Tom. bin which can be calibrated (=1) or not (=0).\n",
      "flag_som_alt_tomobin            None  Flag telling if the source belong to a combination of SOM cell and Alt Tom. bin which can be calibrated (=1) or not (=0).\n",
      "flag_som_pos_tomobin            None  Flag telling if the source belong to a combination of SOM cell and POS Tom. bin which can be calibrated (=1) or not (=0).\n",
      "flux_u_ext_decam_unif           uJy  Unified flux recomputed after correction from galactic extinction and filter shifts\n",
      "flux_g_ext_decam_unif           uJy  None\n",
      "flux_r_ext_decam_unif           uJy  None\n",
      "flux_i_ext_decam_unif           uJy  None\n",
      "flux_z_ext_decam_unif           uJy  None\n",
      "flux_u_ext_lsst_unif            uJy  None\n",
      "flux_g_ext_lsst_unif            uJy  None\n",
      "flux_r_ext_lsst_unif            uJy  None\n",
      "flux_i_ext_lsst_unif            uJy  None\n",
      "flux_z_ext_lsst_unif            uJy  None\n",
      "flux_u_ext_megacam_unif         uJy  None\n",
      "flux_g_ext_hsc_unif             uJy  None\n",
      "flux_r_ext_megacam_unif         uJy  None\n",
      "flux_i_ext_panstarrs_unif       uJy  None\n",
      "flux_z_ext_hsc_unif             uJy  None\n",
      "flux_vis_unif                   uJy  None\n",
      "flux_y_unif                     uJy  None\n",
      "flux_j_unif                     uJy  None\n",
      "flux_h_unif                     uJy  None\n",
      "fluxerr_u_ext_decam_unif        uJy  None\n",
      "fluxerr_g_ext_decam_unif        uJy  None\n",
      "fluxerr_r_ext_decam_unif        uJy  None\n",
      "fluxerr_i_ext_decam_unif        uJy  None\n",
      "fluxerr_z_ext_decam_unif        uJy  None\n",
      "fluxerr_u_ext_lsst_unif         uJy  None\n",
      "fluxerr_g_ext_lsst_unif         uJy  None\n",
      "fluxerr_r_ext_lsst_unif         uJy  None\n",
      "fluxerr_i_ext_lsst_unif         uJy  None\n",
      "fluxerr_z_ext_lsst_unif         uJy  None\n",
      "fluxerr_u_ext_megacam_unif      uJy  None\n",
      "fluxerr_g_ext_hsc_unif          uJy  None\n",
      "fluxerr_r_ext_megacam_unif      uJy  None\n",
      "fluxerr_i_ext_panstarrs_unif    uJy  None\n",
      "fluxerr_z_ext_hsc_unif          uJy  None\n",
      "fluxerr_vis_unif                uJy  None\n",
      "fluxerr_y_unif                  uJy  None\n",
      "fluxerr_j_unif                  uJy  None\n",
      "fluxerr_h_unif                  uJy  None\n",
      "photometric_system              None  Encode the Photometric band configuration (indicating also the number of missing columns)\n",
      "phz_classification              None  Classification flag: 1 if the source is accepted as star, 2 if it is accepted as a galaxy, 4 if it is accepted as a QSO, 8 if the source is acce...\"\n",
      "phz_flags                       None  An integer containing the flags of the PHZ processing. Meaning: 0 => OK, 1 => NNPZ flag: no close neighbor, 10 not VIS detected, 11 missing band, 12 t...\n",
      "phz_weight                      NA  Probability to be a usable source at VIS MAG=23.5\n",
      "best_chi2                       None  Chi2 of the best fit model or the closest neighbor\n",
      "phz_70_int1                     None  The smallest PHZ PDF interval containing 70% of the probability - lower value\n",
      "phz_70_int2                     None  The smallest PHZ PDF interval containing 70% of the probability - upper value\n",
      "phz_90_int1                     None  The smallest PHZ PDF interval containing 90% of the probability - lower value\n",
      "phz_90_int2                     None  The smallest PHZ PDF interval containing 90% of the probability - upper value\n",
      "phz_95_int1                     None  The smallest PHZ PDF interval containing 95% of the probability - upper value\n",
      "phz_95_int2                     None  None\n",
      "ie_cuts_weights1                None  Vector of probability to be a usable source for VIS MAG cut 20.25\n",
      "ie_cuts_weights2                None  Vector of probability to be a usable source for VIS MAG cut 21.25\n",
      "ie_cuts_weights3                None  Vector of probability to be a usable source for VIS MAG cut 22.25\n",
      "ie_cuts_weights4                None  Vector of probability to be a usable source for VIS MAG cut 24.5\n",
      "cntr                            None  entry counter (key) number (unique within table)\n"
     ]
    }
   ],
   "source": [
    "for col in columns:\n",
    "    print(f'{f\"{col.name}\":30s}  {col.unit}  {col.description}') ## Currently no descriptions"
   ]
  },
  {
   "cell_type": "markdown",
   "id": "cd528bb8",
   "metadata": {},
   "source": [
    "The PHZ catalog contains 67 columns, below are a few highlights:\n",
    "\n",
    "- object_id\n",
    "- flux_vis_unif, flux_y_unif, flux_j_unif, flux_h_unif\n",
    "- median redshift (phz_median)\n",
    "- phz_classification\n",
    "- phz_90_int1,  phz_90_int2 (The phz PDF interval containing 90% of the probability, upper and lower values)\n",
    "\n",
    "```{note}\n",
    "The phz_catalog on IRSA has more columns than it does on the ESA archive.\n",
    "This is because the ESA catalog stores some information in one column (for example, phz_90_int is stored as [lower, upper], rather than in two separate columns).\n",
    "\n",
    "The fluxes are different from the fluxes derived in the MER catalog.\n",
    "The _unif fluxes are: \"Unified flux recomputed after correction from galactic extinction and filter shifts\".\n",
    "```"
   ]
  },
  {
   "cell_type": "markdown",
   "id": "a1648b42",
   "metadata": {},
   "source": [
    "### Find some galaxies between 1.4 and 1.6 at a selected RA and Dec\n",
    "\n",
    "We specify the following conditions on our search:\n",
    "- We select just the galaxies where the flux is greater than zero, to ensure the appear in all four of the Euclid MER images.\n",
    "- Select only objects in a circle (search radius selected below) around our selected RA and Dec\n",
    "- phz_classification =2 means we select only galaxies\n",
    "- Using the phz_90_int1 and phz_90_int2, we select just the galaxies where the error on the photometric redshift is less than 20%\n",
    "- Select just the galaxies between a median redshift of 1.4 and 1.6"
   ]
  },
  {
   "cell_type": "markdown",
   "id": "49b6e7fe",
   "metadata": {},
   "source": [
    "Search based on ``tileID``:"
   ]
  },
  {
   "cell_type": "code",
   "execution_count": 12,
   "id": "317bb41e",
   "metadata": {},
   "outputs": [
    {
     "data": {
      "text/html": [
       "<div>\n",
       "<style scoped>\n",
       "    .dataframe tbody tr th:only-of-type {\n",
       "        vertical-align: middle;\n",
       "    }\n",
       "\n",
       "    .dataframe tbody tr th {\n",
       "        vertical-align: top;\n",
       "    }\n",
       "\n",
       "    .dataframe thead th {\n",
       "        text-align: right;\n",
       "    }\n",
       "</style>\n",
       "<table border=\"1\" class=\"dataframe\">\n",
       "  <thead>\n",
       "    <tr style=\"text-align: right;\">\n",
       "      <th></th>\n",
       "      <th>object_id</th>\n",
       "      <th>ra</th>\n",
       "      <th>dec</th>\n",
       "      <th>flux_vis_unif</th>\n",
       "      <th>flux_y_unif</th>\n",
       "      <th>flux_j_unif</th>\n",
       "      <th>flux_h_unif</th>\n",
       "      <th>phz_classification</th>\n",
       "      <th>phz_median</th>\n",
       "      <th>phz_90_int1</th>\n",
       "      <th>phz_90_int2</th>\n",
       "    </tr>\n",
       "  </thead>\n",
       "  <tbody>\n",
       "    <tr>\n",
       "      <th>0</th>\n",
       "      <td>2673280431657627046</td>\n",
       "      <td>267.328043</td>\n",
       "      <td>65.762705</td>\n",
       "      <td>0.720124</td>\n",
       "      <td>1.799514</td>\n",
       "      <td>1.940637</td>\n",
       "      <td>2.235945</td>\n",
       "      <td>2</td>\n",
       "      <td>1.60</td>\n",
       "      <td>1.40</td>\n",
       "      <td>1.88</td>\n",
       "    </tr>\n",
       "    <tr>\n",
       "      <th>1</th>\n",
       "      <td>2679336843657639155</td>\n",
       "      <td>267.933684</td>\n",
       "      <td>65.763916</td>\n",
       "      <td>0.722766</td>\n",
       "      <td>2.488486</td>\n",
       "      <td>3.256962</td>\n",
       "      <td>2.976399</td>\n",
       "      <td>2</td>\n",
       "      <td>1.45</td>\n",
       "      <td>1.27</td>\n",
       "      <td>1.68</td>\n",
       "    </tr>\n",
       "    <tr>\n",
       "      <th>2</th>\n",
       "      <td>2676882513657739200</td>\n",
       "      <td>267.688251</td>\n",
       "      <td>65.773920</td>\n",
       "      <td>0.825096</td>\n",
       "      <td>2.388377</td>\n",
       "      <td>3.044882</td>\n",
       "      <td>3.187040</td>\n",
       "      <td>2</td>\n",
       "      <td>1.58</td>\n",
       "      <td>1.43</td>\n",
       "      <td>1.79</td>\n",
       "    </tr>\n",
       "    <tr>\n",
       "      <th>3</th>\n",
       "      <td>2670811296657533436</td>\n",
       "      <td>267.081130</td>\n",
       "      <td>65.753344</td>\n",
       "      <td>0.358990</td>\n",
       "      <td>1.459581</td>\n",
       "      <td>2.318835</td>\n",
       "      <td>2.682667</td>\n",
       "      <td>2</td>\n",
       "      <td>1.57</td>\n",
       "      <td>1.34</td>\n",
       "      <td>1.85</td>\n",
       "    </tr>\n",
       "    <tr>\n",
       "      <th>4</th>\n",
       "      <td>2677216612657726127</td>\n",
       "      <td>267.721661</td>\n",
       "      <td>65.772613</td>\n",
       "      <td>1.411104</td>\n",
       "      <td>4.948132</td>\n",
       "      <td>7.667105</td>\n",
       "      <td>11.122022</td>\n",
       "      <td>2</td>\n",
       "      <td>1.47</td>\n",
       "      <td>1.33</td>\n",
       "      <td>1.79</td>\n",
       "    </tr>\n",
       "  </tbody>\n",
       "</table>\n",
       "</div>"
      ],
      "text/plain": [
       "             object_id          ra        dec  flux_vis_unif  flux_y_unif  \\\n",
       "0  2673280431657627046  267.328043  65.762705       0.720124     1.799514   \n",
       "1  2679336843657639155  267.933684  65.763916       0.722766     2.488486   \n",
       "2  2676882513657739200  267.688251  65.773920       0.825096     2.388377   \n",
       "3  2670811296657533436  267.081130  65.753344       0.358990     1.459581   \n",
       "4  2677216612657726127  267.721661  65.772613       1.411104     4.948132   \n",
       "\n",
       "   flux_j_unif  flux_h_unif  phz_classification  phz_median  phz_90_int1  \\\n",
       "0     1.940637     2.235945                   2        1.60         1.40   \n",
       "1     3.256962     2.976399                   2        1.45         1.27   \n",
       "2     3.044882     3.187040                   2        1.58         1.43   \n",
       "3     2.318835     2.682667                   2        1.57         1.34   \n",
       "4     7.667105    11.122022                   2        1.47         1.33   \n",
       "\n",
       "   phz_90_int2  \n",
       "0         1.88  \n",
       "1         1.68  \n",
       "2         1.79  \n",
       "3         1.85  \n",
       "4         1.79  "
      ]
     },
     "execution_count": 12,
     "metadata": {},
     "output_type": "execute_result"
    }
   ],
   "source": [
    "adql = f\"SELECT DISTINCT mer.object_id,mer.ra, mer.dec, phz.flux_vis_unif, phz.flux_y_unif, \\\n",
    "phz.flux_j_unif, phz.flux_h_unif, phz.phz_classification, phz.phz_median, phz.phz_90_int1, phz.phz_90_int2 \\\n",
    "FROM {table_mer} AS mer \\\n",
    "JOIN {table_phz} as phz \\\n",
    "ON mer.object_id = phz.object_id \\\n",
    "WHERE phz.flux_vis_unif> 0 \\\n",
    "AND  phz.flux_y_unif > 0 \\\n",
    "AND phz.flux_j_unif > 0 \\\n",
    "AND phz.flux_h_unif > 0 \\\n",
    "AND phz.phz_classification = 2 \\\n",
    "AND mer.tileid = {tileID} \\\n",
    "AND ((phz.phz_90_int2 - phz.phz_90_int1) / (1 + phz.phz_median)) < 0.20 \\\n",
    "AND phz.phz_median BETWEEN 1.4 AND 1.6 \\\n",
    "\"\n",
    "adql\n",
    "\n",
    "\n",
    "## Use TAP with this ADQL string using pyvo\n",
    "result = service.search(adql)\n",
    "\n",
    "\n",
    "## Convert table to pandas dataframe\n",
    "df_g_irsa = result.to_table().to_pandas()\n",
    "\n",
    "# Display first few rows\n",
    "df_g_irsa.head()"
   ]
  },
  {
   "cell_type": "markdown",
   "id": "3acda43f",
   "metadata": {},
   "source": [
    "## 3. Read in the MER image from IRSA directly"
   ]
  },
  {
   "cell_type": "code",
   "execution_count": 13,
   "id": "01ab34d1",
   "metadata": {},
   "outputs": [
    {
     "name": "stdout",
     "output_type": "stream",
     "text": [
      "https://irsa.ipac.caltech.edu/ibe/data/euclid/q1/MER/102159190/VIS/EUC_MER_BGSUB-MOSAIC-VIS_TILE102159190-6E6EF8_20241025T010045.358775Z_00.00.fits\n"
     ]
    }
   ],
   "source": [
    "print(filename)"
   ]
  },
  {
   "cell_type": "markdown",
   "id": "a6a49a31",
   "metadata": {},
   "source": [
    "Download the MER image -- note this file is about 1.46 GB"
   ]
  },
  {
   "cell_type": "code",
   "execution_count": 14,
   "id": "ca86ca59",
   "metadata": {},
   "outputs": [
    {
     "name": "stdout",
     "output_type": "stream",
     "text": [
      "Filename: /home/runner/.astropy/cache/download/url/80f0c2770fde7676368babbee90552ed/contents\n",
      "No.    Name      Ver    Type      Cards   Dimensions   Format\n",
      "  0  PRIMARY       1 PrimaryHDU      48   (19200, 19200)   float32\n",
      "None\n"
     ]
    },
    {
     "name": "stdout",
     "output_type": "stream",
     "text": [
      "None\n"
     ]
    }
   ],
   "source": [
    "fname = download_file(filename, cache=True)\n",
    "hdu_mer_irsa = fits.open(fname)\n",
    "head_mer_irsa = hdu_mer_irsa[0].header\n",
    "\n",
    "print(hdu_mer_irsa.info())"
   ]
  },
  {
   "cell_type": "markdown",
   "id": "ba67d17f",
   "metadata": {},
   "source": [
    "```{tip}\n",
    "Now you've downloaded this large file, if you would like to save it to disk, uncomment the following cell\n",
    "```"
   ]
  },
  {
   "cell_type": "code",
   "execution_count": 15,
   "id": "f2cf6c25",
   "metadata": {},
   "outputs": [],
   "source": [
    "# download_path='/yourlocalpath/'\n",
    "# hdu_mer_irsa.writeto(download_path+'./MER_image_VIS.fits', overwrite=True)"
   ]
  },
  {
   "cell_type": "markdown",
   "id": "3c339aa3",
   "metadata": {},
   "source": [
    "## 4. Overplot the catalog on the MER mosaic image"
   ]
  },
  {
   "cell_type": "code",
   "execution_count": 16,
   "id": "b704f6e1",
   "metadata": {},
   "outputs": [
    {
     "data": {
      "text/html": [
       "<div>\n",
       "<style scoped>\n",
       "    .dataframe tbody tr th:only-of-type {\n",
       "        vertical-align: middle;\n",
       "    }\n",
       "\n",
       "    .dataframe tbody tr th {\n",
       "        vertical-align: top;\n",
       "    }\n",
       "\n",
       "    .dataframe thead th {\n",
       "        text-align: right;\n",
       "    }\n",
       "</style>\n",
       "<table border=\"1\" class=\"dataframe\">\n",
       "  <thead>\n",
       "    <tr style=\"text-align: right;\">\n",
       "      <th></th>\n",
       "      <th>object_id</th>\n",
       "      <th>ra</th>\n",
       "      <th>dec</th>\n",
       "      <th>flux_vis_unif</th>\n",
       "      <th>flux_y_unif</th>\n",
       "      <th>flux_j_unif</th>\n",
       "      <th>flux_h_unif</th>\n",
       "      <th>phz_classification</th>\n",
       "      <th>phz_median</th>\n",
       "      <th>phz_90_int1</th>\n",
       "      <th>phz_90_int2</th>\n",
       "    </tr>\n",
       "  </thead>\n",
       "  <tbody>\n",
       "    <tr>\n",
       "      <th>0</th>\n",
       "      <td>2673280431657627046</td>\n",
       "      <td>267.328043</td>\n",
       "      <td>65.762705</td>\n",
       "      <td>0.720124</td>\n",
       "      <td>1.799514</td>\n",
       "      <td>1.940637</td>\n",
       "      <td>2.235945</td>\n",
       "      <td>2</td>\n",
       "      <td>1.60</td>\n",
       "      <td>1.40</td>\n",
       "      <td>1.88</td>\n",
       "    </tr>\n",
       "    <tr>\n",
       "      <th>1</th>\n",
       "      <td>2679336843657639155</td>\n",
       "      <td>267.933684</td>\n",
       "      <td>65.763916</td>\n",
       "      <td>0.722766</td>\n",
       "      <td>2.488486</td>\n",
       "      <td>3.256962</td>\n",
       "      <td>2.976399</td>\n",
       "      <td>2</td>\n",
       "      <td>1.45</td>\n",
       "      <td>1.27</td>\n",
       "      <td>1.68</td>\n",
       "    </tr>\n",
       "    <tr>\n",
       "      <th>2</th>\n",
       "      <td>2676882513657739200</td>\n",
       "      <td>267.688251</td>\n",
       "      <td>65.773920</td>\n",
       "      <td>0.825096</td>\n",
       "      <td>2.388377</td>\n",
       "      <td>3.044882</td>\n",
       "      <td>3.187040</td>\n",
       "      <td>2</td>\n",
       "      <td>1.58</td>\n",
       "      <td>1.43</td>\n",
       "      <td>1.79</td>\n",
       "    </tr>\n",
       "    <tr>\n",
       "      <th>3</th>\n",
       "      <td>2670811296657533436</td>\n",
       "      <td>267.081130</td>\n",
       "      <td>65.753344</td>\n",
       "      <td>0.358990</td>\n",
       "      <td>1.459581</td>\n",
       "      <td>2.318835</td>\n",
       "      <td>2.682667</td>\n",
       "      <td>2</td>\n",
       "      <td>1.57</td>\n",
       "      <td>1.34</td>\n",
       "      <td>1.85</td>\n",
       "    </tr>\n",
       "    <tr>\n",
       "      <th>4</th>\n",
       "      <td>2677216612657726127</td>\n",
       "      <td>267.721661</td>\n",
       "      <td>65.772613</td>\n",
       "      <td>1.411104</td>\n",
       "      <td>4.948132</td>\n",
       "      <td>7.667105</td>\n",
       "      <td>11.122022</td>\n",
       "      <td>2</td>\n",
       "      <td>1.47</td>\n",
       "      <td>1.33</td>\n",
       "      <td>1.79</td>\n",
       "    </tr>\n",
       "  </tbody>\n",
       "</table>\n",
       "</div>"
      ],
      "text/plain": [
       "             object_id          ra        dec  flux_vis_unif  flux_y_unif  \\\n",
       "0  2673280431657627046  267.328043  65.762705       0.720124     1.799514   \n",
       "1  2679336843657639155  267.933684  65.763916       0.722766     2.488486   \n",
       "2  2676882513657739200  267.688251  65.773920       0.825096     2.388377   \n",
       "3  2670811296657533436  267.081130  65.753344       0.358990     1.459581   \n",
       "4  2677216612657726127  267.721661  65.772613       1.411104     4.948132   \n",
       "\n",
       "   flux_j_unif  flux_h_unif  phz_classification  phz_median  phz_90_int1  \\\n",
       "0     1.940637     2.235945                   2        1.60         1.40   \n",
       "1     3.256962     2.976399                   2        1.45         1.27   \n",
       "2     3.044882     3.187040                   2        1.58         1.43   \n",
       "3     2.318835     2.682667                   2        1.57         1.34   \n",
       "4     7.667105    11.122022                   2        1.47         1.33   \n",
       "\n",
       "   phz_90_int2  \n",
       "0         1.88  \n",
       "1         1.68  \n",
       "2         1.79  \n",
       "3         1.85  \n",
       "4         1.79  "
      ]
     },
     "execution_count": 16,
     "metadata": {},
     "output_type": "execute_result"
    }
   ],
   "source": [
    "df_g_irsa.head()"
   ]
  },
  {
   "cell_type": "code",
   "execution_count": 17,
   "id": "239aa541",
   "metadata": {},
   "outputs": [],
   "source": [
    "## Use the WCS package to extract the coordinates from the header of the image\n",
    "wcs_irsa=WCS(head_mer_irsa) # VIS"
   ]
  },
  {
   "cell_type": "code",
   "execution_count": 18,
   "id": "2690e223",
   "metadata": {},
   "outputs": [],
   "source": [
    "## Convert the catalog to match the pixels in the image\n",
    "xy_irsa = wcs_irsa.all_world2pix(df_g_irsa[\"ra\"],df_g_irsa[\"dec\"],0)"
   ]
  },
  {
   "cell_type": "code",
   "execution_count": 19,
   "id": "64a16ba5",
   "metadata": {},
   "outputs": [],
   "source": [
    "df_g_irsa['x_pix']=xy_irsa[0]\n",
    "df_g_irsa['y_pix']=xy_irsa[1]"
   ]
  },
  {
   "cell_type": "code",
   "execution_count": 20,
   "id": "fead7281",
   "metadata": {},
   "outputs": [
    {
     "data": {
      "text/html": [
       "<div>\n",
       "<style scoped>\n",
       "    .dataframe tbody tr th:only-of-type {\n",
       "        vertical-align: middle;\n",
       "    }\n",
       "\n",
       "    .dataframe tbody tr th {\n",
       "        vertical-align: top;\n",
       "    }\n",
       "\n",
       "    .dataframe thead th {\n",
       "        text-align: right;\n",
       "    }\n",
       "</style>\n",
       "<table border=\"1\" class=\"dataframe\">\n",
       "  <thead>\n",
       "    <tr style=\"text-align: right;\">\n",
       "      <th></th>\n",
       "      <th>object_id</th>\n",
       "      <th>ra</th>\n",
       "      <th>dec</th>\n",
       "      <th>flux_vis_unif</th>\n",
       "      <th>flux_y_unif</th>\n",
       "      <th>flux_j_unif</th>\n",
       "      <th>flux_h_unif</th>\n",
       "      <th>phz_classification</th>\n",
       "      <th>phz_median</th>\n",
       "      <th>phz_90_int1</th>\n",
       "      <th>phz_90_int2</th>\n",
       "      <th>x_pix</th>\n",
       "      <th>y_pix</th>\n",
       "    </tr>\n",
       "  </thead>\n",
       "  <tbody>\n",
       "    <tr>\n",
       "      <th>0</th>\n",
       "      <td>2673280431657627046</td>\n",
       "      <td>267.328043</td>\n",
       "      <td>65.762705</td>\n",
       "      <td>0.720124</td>\n",
       "      <td>1.799514</td>\n",
       "      <td>1.940637</td>\n",
       "      <td>2.235945</td>\n",
       "      <td>2</td>\n",
       "      <td>1.60</td>\n",
       "      <td>1.40</td>\n",
       "      <td>1.88</td>\n",
       "      <td>14619.163517</td>\n",
       "      <td>1069.886708</td>\n",
       "    </tr>\n",
       "    <tr>\n",
       "      <th>1</th>\n",
       "      <td>2679336843657639155</td>\n",
       "      <td>267.933684</td>\n",
       "      <td>65.763916</td>\n",
       "      <td>0.722766</td>\n",
       "      <td>2.488486</td>\n",
       "      <td>3.256962</td>\n",
       "      <td>2.976399</td>\n",
       "      <td>2</td>\n",
       "      <td>1.45</td>\n",
       "      <td>1.27</td>\n",
       "      <td>1.68</td>\n",
       "      <td>5668.763659</td>\n",
       "      <td>1108.228521</td>\n",
       "    </tr>\n",
       "    <tr>\n",
       "      <th>2</th>\n",
       "      <td>2676882513657739200</td>\n",
       "      <td>267.688251</td>\n",
       "      <td>65.773920</td>\n",
       "      <td>0.825096</td>\n",
       "      <td>2.388377</td>\n",
       "      <td>3.044882</td>\n",
       "      <td>3.187040</td>\n",
       "      <td>2</td>\n",
       "      <td>1.58</td>\n",
       "      <td>1.43</td>\n",
       "      <td>1.79</td>\n",
       "      <td>9295.890760</td>\n",
       "      <td>1460.130383</td>\n",
       "    </tr>\n",
       "    <tr>\n",
       "      <th>3</th>\n",
       "      <td>2670811296657533436</td>\n",
       "      <td>267.081130</td>\n",
       "      <td>65.753344</td>\n",
       "      <td>0.358990</td>\n",
       "      <td>1.459581</td>\n",
       "      <td>2.318835</td>\n",
       "      <td>2.682667</td>\n",
       "      <td>2</td>\n",
       "      <td>1.57</td>\n",
       "      <td>1.34</td>\n",
       "      <td>1.85</td>\n",
       "      <td>18271.321853</td>\n",
       "      <td>759.795144</td>\n",
       "    </tr>\n",
       "    <tr>\n",
       "      <th>4</th>\n",
       "      <td>2677216612657726127</td>\n",
       "      <td>267.721661</td>\n",
       "      <td>65.772613</td>\n",
       "      <td>1.411104</td>\n",
       "      <td>4.948132</td>\n",
       "      <td>7.667105</td>\n",
       "      <td>11.122022</td>\n",
       "      <td>2</td>\n",
       "      <td>1.47</td>\n",
       "      <td>1.33</td>\n",
       "      <td>1.79</td>\n",
       "      <td>8802.310105</td>\n",
       "      <td>1413.356173</td>\n",
       "    </tr>\n",
       "    <tr>\n",
       "      <th>...</th>\n",
       "      <td>...</td>\n",
       "      <td>...</td>\n",
       "      <td>...</td>\n",
       "      <td>...</td>\n",
       "      <td>...</td>\n",
       "      <td>...</td>\n",
       "      <td>...</td>\n",
       "      <td>...</td>\n",
       "      <td>...</td>\n",
       "      <td>...</td>\n",
       "      <td>...</td>\n",
       "      <td>...</td>\n",
       "      <td>...</td>\n",
       "    </tr>\n",
       "    <tr>\n",
       "      <th>1058</th>\n",
       "      <td>2675930466661025639</td>\n",
       "      <td>267.593047</td>\n",
       "      <td>66.102564</td>\n",
       "      <td>1.016183</td>\n",
       "      <td>2.997036</td>\n",
       "      <td>2.813130</td>\n",
       "      <td>3.143612</td>\n",
       "      <td>2</td>\n",
       "      <td>1.40</td>\n",
       "      <td>1.23</td>\n",
       "      <td>1.52</td>\n",
       "      <td>10688.193297</td>\n",
       "      <td>13291.955780</td>\n",
       "    </tr>\n",
       "    <tr>\n",
       "      <th>1059</th>\n",
       "      <td>2674621723661132945</td>\n",
       "      <td>267.462172</td>\n",
       "      <td>66.113295</td>\n",
       "      <td>1.068499</td>\n",
       "      <td>4.550787</td>\n",
       "      <td>6.249454</td>\n",
       "      <td>9.407725</td>\n",
       "      <td>2</td>\n",
       "      <td>1.41</td>\n",
       "      <td>1.26</td>\n",
       "      <td>1.49</td>\n",
       "      <td>12595.549086</td>\n",
       "      <td>13682.523420</td>\n",
       "    </tr>\n",
       "    <tr>\n",
       "      <th>1060</th>\n",
       "      <td>2677653637660969756</td>\n",
       "      <td>267.765364</td>\n",
       "      <td>66.096976</td>\n",
       "      <td>0.735132</td>\n",
       "      <td>2.869823</td>\n",
       "      <td>3.954275</td>\n",
       "      <td>6.066887</td>\n",
       "      <td>2</td>\n",
       "      <td>1.44</td>\n",
       "      <td>1.27</td>\n",
       "      <td>1.65</td>\n",
       "      <td>8174.868957</td>\n",
       "      <td>13091.234368</td>\n",
       "    </tr>\n",
       "    <tr>\n",
       "      <th>1061</th>\n",
       "      <td>2680471357662336316</td>\n",
       "      <td>268.047136</td>\n",
       "      <td>66.233632</td>\n",
       "      <td>0.301620</td>\n",
       "      <td>9.871189</td>\n",
       "      <td>0.980113</td>\n",
       "      <td>0.709466</td>\n",
       "      <td>2</td>\n",
       "      <td>1.40</td>\n",
       "      <td>1.35</td>\n",
       "      <td>1.46</td>\n",
       "      <td>4094.482406</td>\n",
       "      <td>18026.464045</td>\n",
       "    </tr>\n",
       "    <tr>\n",
       "      <th>1062</th>\n",
       "      <td>2680136216662261821</td>\n",
       "      <td>268.013622</td>\n",
       "      <td>66.226182</td>\n",
       "      <td>0.246667</td>\n",
       "      <td>0.316894</td>\n",
       "      <td>26.278128</td>\n",
       "      <td>0.231523</td>\n",
       "      <td>2</td>\n",
       "      <td>1.46</td>\n",
       "      <td>1.41</td>\n",
       "      <td>1.51</td>\n",
       "      <td>4579.234613</td>\n",
       "      <td>17755.464918</td>\n",
       "    </tr>\n",
       "  </tbody>\n",
       "</table>\n",
       "<p>1063 rows × 13 columns</p>\n",
       "</div>"
      ],
      "text/plain": [
       "                object_id          ra        dec  flux_vis_unif  flux_y_unif  \\\n",
       "0     2673280431657627046  267.328043  65.762705       0.720124     1.799514   \n",
       "1     2679336843657639155  267.933684  65.763916       0.722766     2.488486   \n",
       "2     2676882513657739200  267.688251  65.773920       0.825096     2.388377   \n",
       "3     2670811296657533436  267.081130  65.753344       0.358990     1.459581   \n",
       "4     2677216612657726127  267.721661  65.772613       1.411104     4.948132   \n",
       "...                   ...         ...        ...            ...          ...   \n",
       "1058  2675930466661025639  267.593047  66.102564       1.016183     2.997036   \n",
       "1059  2674621723661132945  267.462172  66.113295       1.068499     4.550787   \n",
       "1060  2677653637660969756  267.765364  66.096976       0.735132     2.869823   \n",
       "1061  2680471357662336316  268.047136  66.233632       0.301620     9.871189   \n",
       "1062  2680136216662261821  268.013622  66.226182       0.246667     0.316894   \n",
       "\n",
       "      flux_j_unif  flux_h_unif  phz_classification  phz_median  phz_90_int1  \\\n",
       "0        1.940637     2.235945                   2        1.60         1.40   \n",
       "1        3.256962     2.976399                   2        1.45         1.27   \n",
       "2        3.044882     3.187040                   2        1.58         1.43   \n",
       "3        2.318835     2.682667                   2        1.57         1.34   \n",
       "4        7.667105    11.122022                   2        1.47         1.33   \n",
       "...           ...          ...                 ...         ...          ...   \n",
       "1058     2.813130     3.143612                   2        1.40         1.23   \n",
       "1059     6.249454     9.407725                   2        1.41         1.26   \n",
       "1060     3.954275     6.066887                   2        1.44         1.27   \n",
       "1061     0.980113     0.709466                   2        1.40         1.35   \n",
       "1062    26.278128     0.231523                   2        1.46         1.41   \n",
       "\n",
       "      phz_90_int2         x_pix         y_pix  \n",
       "0            1.88  14619.163517   1069.886708  \n",
       "1            1.68   5668.763659   1108.228521  \n",
       "2            1.79   9295.890760   1460.130383  \n",
       "3            1.85  18271.321853    759.795144  \n",
       "4            1.79   8802.310105   1413.356173  \n",
       "...           ...           ...           ...  \n",
       "1058         1.52  10688.193297  13291.955780  \n",
       "1059         1.49  12595.549086  13682.523420  \n",
       "1060         1.65   8174.868957  13091.234368  \n",
       "1061         1.46   4094.482406  18026.464045  \n",
       "1062         1.51   4579.234613  17755.464918  \n",
       "\n",
       "[1063 rows x 13 columns]"
      ]
     },
     "execution_count": 20,
     "metadata": {},
     "output_type": "execute_result"
    }
   ],
   "source": [
    "df_g_irsa"
   ]
  },
  {
   "cell_type": "markdown",
   "id": "77e8b4db",
   "metadata": {},
   "source": [
    "Pull the spectra on the top brightest source based on object ID"
   ]
  },
  {
   "cell_type": "code",
   "execution_count": 21,
   "id": "2ac7b3ca",
   "metadata": {},
   "outputs": [],
   "source": [
    "df_g_irsa_sort=df_g_irsa.sort_values(by='flux_vis_unif',ascending=False)"
   ]
  },
  {
   "cell_type": "code",
   "execution_count": 22,
   "id": "9b24a73d",
   "metadata": {},
   "outputs": [
    {
     "data": {
      "text/html": [
       "<div>\n",
       "<style scoped>\n",
       "    .dataframe tbody tr th:only-of-type {\n",
       "        vertical-align: middle;\n",
       "    }\n",
       "\n",
       "    .dataframe tbody tr th {\n",
       "        vertical-align: top;\n",
       "    }\n",
       "\n",
       "    .dataframe thead th {\n",
       "        text-align: right;\n",
       "    }\n",
       "</style>\n",
       "<table border=\"1\" class=\"dataframe\">\n",
       "  <thead>\n",
       "    <tr style=\"text-align: right;\">\n",
       "      <th></th>\n",
       "      <th>object_id</th>\n",
       "      <th>ra</th>\n",
       "      <th>dec</th>\n",
       "      <th>flux_vis_unif</th>\n",
       "      <th>flux_y_unif</th>\n",
       "      <th>flux_j_unif</th>\n",
       "      <th>flux_h_unif</th>\n",
       "      <th>phz_classification</th>\n",
       "      <th>phz_median</th>\n",
       "      <th>phz_90_int1</th>\n",
       "      <th>phz_90_int2</th>\n",
       "      <th>x_pix</th>\n",
       "      <th>y_pix</th>\n",
       "    </tr>\n",
       "  </thead>\n",
       "  <tbody>\n",
       "    <tr>\n",
       "      <th>1033</th>\n",
       "      <td>2680858111662070857</td>\n",
       "      <td>268.085811</td>\n",
       "      <td>66.207086</td>\n",
       "      <td>12.238280</td>\n",
       "      <td>17.500370</td>\n",
       "      <td>19.604701</td>\n",
       "      <td>24.011402</td>\n",
       "      <td>2</td>\n",
       "      <td>1.50</td>\n",
       "      <td>1.49</td>\n",
       "      <td>1.50</td>\n",
       "      <td>3527.000647</td>\n",
       "      <td>17074.390142</td>\n",
       "    </tr>\n",
       "    <tr>\n",
       "      <th>1044</th>\n",
       "      <td>2674866190661231946</td>\n",
       "      <td>267.486619</td>\n",
       "      <td>66.123195</td>\n",
       "      <td>11.316831</td>\n",
       "      <td>17.058222</td>\n",
       "      <td>23.351348</td>\n",
       "      <td>28.275347</td>\n",
       "      <td>2</td>\n",
       "      <td>1.49</td>\n",
       "      <td>1.48</td>\n",
       "      <td>1.50</td>\n",
       "      <td>12238.148681</td>\n",
       "      <td>14037.826856</td>\n",
       "    </tr>\n",
       "    <tr>\n",
       "      <th>164</th>\n",
       "      <td>2677723345659208915</td>\n",
       "      <td>267.772335</td>\n",
       "      <td>65.920892</td>\n",
       "      <td>9.386899</td>\n",
       "      <td>19.839620</td>\n",
       "      <td>28.795505</td>\n",
       "      <td>41.933002</td>\n",
       "      <td>2</td>\n",
       "      <td>1.44</td>\n",
       "      <td>1.43</td>\n",
       "      <td>1.44</td>\n",
       "      <td>8062.614014</td>\n",
       "      <td>6752.374608</td>\n",
       "    </tr>\n",
       "  </tbody>\n",
       "</table>\n",
       "</div>"
      ],
      "text/plain": [
       "                object_id          ra        dec  flux_vis_unif  flux_y_unif  \\\n",
       "1033  2680858111662070857  268.085811  66.207086      12.238280    17.500370   \n",
       "1044  2674866190661231946  267.486619  66.123195      11.316831    17.058222   \n",
       "164   2677723345659208915  267.772335  65.920892       9.386899    19.839620   \n",
       "\n",
       "      flux_j_unif  flux_h_unif  phz_classification  phz_median  phz_90_int1  \\\n",
       "1033    19.604701    24.011402                   2        1.50         1.49   \n",
       "1044    23.351348    28.275347                   2        1.49         1.48   \n",
       "164     28.795505    41.933002                   2        1.44         1.43   \n",
       "\n",
       "      phz_90_int2         x_pix         y_pix  \n",
       "1033         1.50   3527.000647  17074.390142  \n",
       "1044         1.50  12238.148681  14037.826856  \n",
       "164          1.44   8062.614014   6752.374608  "
      ]
     },
     "execution_count": 22,
     "metadata": {},
     "output_type": "execute_result"
    }
   ],
   "source": [
    "df_g_irsa_sort[0:3]"
   ]
  },
  {
   "cell_type": "code",
   "execution_count": 23,
   "id": "7075a501",
   "metadata": {},
   "outputs": [
    {
     "data": {
      "text/html": [
       "<div>\n",
       "<style scoped>\n",
       "    .dataframe tbody tr th:only-of-type {\n",
       "        vertical-align: middle;\n",
       "    }\n",
       "\n",
       "    .dataframe tbody tr th {\n",
       "        vertical-align: top;\n",
       "    }\n",
       "\n",
       "    .dataframe thead th {\n",
       "        text-align: right;\n",
       "    }\n",
       "</style>\n",
       "<table border=\"1\" class=\"dataframe\">\n",
       "  <thead>\n",
       "    <tr style=\"text-align: right;\">\n",
       "      <th></th>\n",
       "      <th>objectid</th>\n",
       "      <th>tileid</th>\n",
       "      <th>uri</th>\n",
       "      <th>hdu</th>\n",
       "      <th>cntr</th>\n",
       "    </tr>\n",
       "  </thead>\n",
       "  <tbody>\n",
       "    <tr>\n",
       "      <th>0</th>\n",
       "      <td>2674866190661231946</td>\n",
       "      <td>102159190</td>\n",
       "      <td>ibe/data/euclid/q1/SIR/102159190/EUC_SIR_W-COM...</td>\n",
       "      <td>951</td>\n",
       "      <td>58096</td>\n",
       "    </tr>\n",
       "  </tbody>\n",
       "</table>\n",
       "</div>"
      ],
      "text/plain": [
       "              objectid     tileid  \\\n",
       "0  2674866190661231946  102159190   \n",
       "\n",
       "                                                 uri  hdu   cntr  \n",
       "0  ibe/data/euclid/q1/SIR/102159190/EUC_SIR_W-COM...  951  58096  "
      ]
     },
     "execution_count": 23,
     "metadata": {},
     "output_type": "execute_result"
    }
   ],
   "source": [
    "obj_id=df_g_irsa_sort['object_id'].iloc[1]\n",
    "\n",
    "## Pull the data on these objects\n",
    "adql_object = f\"SELECT * \\\n",
    "FROM {table_1dspectra} \\\n",
    "WHERE objectid = {obj_id} \\\n",
    "AND uri IS NOT NULL \"\n",
    "\n",
    "## Pull the data on this particular galaxy\n",
    "result2 = service.search(adql_object)\n",
    "df2=result2.to_table().to_pandas()\n",
    "df2"
   ]
  },
  {
   "cell_type": "code",
   "execution_count": 24,
   "id": "5856bd69",
   "metadata": {},
   "outputs": [
    {
     "data": {
      "text/plain": [
       "'https://irsa.ipac.caltech.edu/ibe/data/euclid/q1/SIR/102159190/EUC_SIR_W-COMBSPEC_102159190_2024-11-05T16:23:16.962976Z.fits'"
      ]
     },
     "execution_count": 24,
     "metadata": {},
     "output_type": "execute_result"
    }
   ],
   "source": [
    "## Create the full filename/url\n",
    "irsa_url='https://irsa.ipac.caltech.edu/'\n",
    "\n",
    "file_url=irsa_url+df2['uri'].iloc[0]\n",
    "file_url"
   ]
  },
  {
   "cell_type": "code",
   "execution_count": 25,
   "id": "ba30927f",
   "metadata": {},
   "outputs": [
    {
     "name": "stderr",
     "output_type": "stream",
     "text": [
      "WARNING: UnitsWarning: 'erg/s/cm2/Angstrom' contains multiple slashes, which is discouraged by the FITS standard [astropy.units.format.generic]\n",
      "WARNING: UnitsWarning: 'Number' did not parse as fits unit: At col 0, Unit 'Number' not supported by the FITS standard.  If this is meant to be a custom unit, define it with 'u.def_unit'. To have it recognized inside a file reader or other code, enable it with 'u.add_enabled_units'. For details, see https://docs.astropy.org/en/latest/units/combining_and_defining.html [astropy.units.core]\n",
      "WARNING: UnitsWarning: 'Number' did not parse as fits unit: At col 0, Unit 'Number' not supported by the FITS standard.  If this is meant to be a custom unit, define it with 'u.def_unit'. To have it recognized inside a file reader or other code, enable it with 'u.add_enabled_units'. For details, see https://docs.astropy.org/en/latest/units/combining_and_defining.html [astropy.units.core]\n",
      "WARNING: UnitsWarning: 'erg2/s2/cm4/Angstrom2' contains multiple slashes, which is discouraged by the FITS standard [astropy.units.format.generic]\n",
      "WARNING: UnitsWarning: 'Number' did not parse as fits unit: At col 0, Unit 'Number' not supported by the FITS standard.  If this is meant to be a custom unit, define it with 'u.def_unit'. To have it recognized inside a file reader or other code, enable it with 'u.add_enabled_units'. For details, see https://docs.astropy.org/en/latest/units/combining_and_defining.html [astropy.units.core]\n"
     ]
    }
   ],
   "source": [
    "## Open the large FITS file without loading it entirely into memory\n",
    "## pulling out just the extension we want for the 1D spectra of our object\n",
    "response = requests.get(file_url)\n",
    "\n",
    "with fits.open(BytesIO(response.content), memmap=True) as hdul:\n",
    "    hdu = hdul[df2['hdu'].iloc[0]]\n",
    "    dat = Table.read(hdu, format='fits', hdu=1)\n",
    "    df_obj_irsa = dat.to_pandas()"
   ]
  },
  {
   "cell_type": "code",
   "execution_count": 26,
   "id": "8633448a",
   "metadata": {},
   "outputs": [
    {
     "data": {
      "text/plain": [
       "Text(0.5, 1.0, 'Object ID is 2674866190661231946')"
      ]
     },
     "execution_count": 26,
     "metadata": {},
     "output_type": "execute_result"
    },
    {
     "data": {
      "image/png": "[encoded data removed]",
      "text/plain": [
       "<Figure size 640x480 with 1 Axes>"
      ]
     },
     "metadata": {},
     "output_type": "display_data"
    }
   ],
   "source": [
    "## Now the data are read in, show an image\n",
    "\n",
    "plt.plot(df_obj_irsa['WAVELENGTH'], df_obj_irsa['SIGNAL'])\n",
    "\n",
    "plt.xlabel('Wavelength ($\\AA$)')\n",
    "plt.ylabel('Flux (erg / (Angstrom s cm2))')\n",
    "# plt.ylim(10,50)\n",
    "plt.title('Object ID is '+str(obj_id))"
   ]
  },
  {
   "cell_type": "markdown",
   "id": "e25ddac3",
   "metadata": {},
   "source": [
    "Let's cut out a very small patch of the MER image to see what this galaxy looks like"
   ]
  },
  {
   "cell_type": "code",
   "execution_count": 27,
   "id": "2e8ca6a9",
   "metadata": {},
   "outputs": [],
   "source": [
    "## How large do you want the image cutout to be?\n",
    "im_cutout= 2.0 * u.arcsec\n",
    "\n",
    "## Use the ra and dec of the galaxy\n",
    "ra = df_g_irsa[df_g_irsa['object_id']==obj_id]['ra'].iloc[0]\n",
    "dec =  df_g_irsa[df_g_irsa['object_id']==obj_id]['dec'].iloc[0]\n",
    "\n",
    "coords_cutout = SkyCoord(ra, dec, unit=(u.deg,u.deg), frame='icrs')"
   ]
  },
  {
   "cell_type": "markdown",
   "id": "507d80d4",
   "metadata": {},
   "source": [
    "Use ``fsspec`` to obtain a cutout of the fits file"
   ]
  },
  {
   "cell_type": "code",
   "execution_count": 28,
   "id": "f6a44c74",
   "metadata": {},
   "outputs": [],
   "source": [
    "hdu = fits.open(filename, use_fsspec=True)\n",
    "\n",
    "header = hdu[0].header"
   ]
  },
  {
   "cell_type": "code",
   "execution_count": 29,
   "id": "7bce3ef4",
   "metadata": {},
   "outputs": [],
   "source": [
    "## Read in the cutout of the image that you want\n",
    "cutout_data = Cutout2D(hdu[0].section, position=coords_cutout, size=im_cutout, wcs=WCS(hdu[0].header))"
   ]
  },
  {
   "cell_type": "code",
   "execution_count": 30,
   "id": "cbb06c0f",
   "metadata": {},
   "outputs": [],
   "source": [
    "new_hdu = fits.PrimaryHDU(data=cutout_data.data, header=header)\n",
    "new_hdu.header.update(cutout_data.wcs.to_header())"
   ]
  },
  {
   "cell_type": "code",
   "execution_count": 31,
   "id": "18064a6f",
   "metadata": {},
   "outputs": [
    {
     "data": {
      "image/png": "[encoded data removed]",
      "text/plain": [
       "<Figure size 640x480 with 2 Axes>"
      ]
     },
     "metadata": {},
     "output_type": "display_data"
    }
   ],
   "source": [
    "## Plot a quick simple plot to show the cutout on the galaxy\n",
    "\n",
    "plt.imshow(new_hdu.data, cmap='gray', origin='lower',\n",
    "           norm=ImageNormalize(new_hdu.data, interval=PercentileInterval(99.9), stretch=AsinhStretch()))\n",
    "colorbar = plt.colorbar()"
   ]
  },
  {
   "cell_type": "markdown",
   "id": "866476d7",
   "metadata": {},
   "source": [
    "## 5. Load the image on Firefly to be able to interact with the data directly"
   ]
  },
  {
   "cell_type": "markdown",
   "id": "17c1d1e9",
   "metadata": {},
   "source": [
    "Save the data locally if you have not already done so, in order to upload to IRSA viewer."
   ]
  },
  {
   "cell_type": "code",
   "execution_count": 32,
   "id": "517a3a4b",
   "metadata": {},
   "outputs": [
    {
     "name": "stdout",
     "output_type": "stream",
     "text": [
      "Creating data directory.\n"
     ]
    }
   ],
   "source": [
    "download_path = \"data\"\n",
    "if os.path.exists(download_path):\n",
    "    print(\"Output directory already created.\")\n",
    "else:\n",
    "    print(\"Creating data directory.\")\n",
    "    os.mkdir(download_path)"
   ]
  },
  {
   "cell_type": "markdown",
   "id": "1f427bae",
   "metadata": {},
   "source": [
    "### Vizualize the image with Firefly\n",
    "\n",
    "First initialize the client, then set the path to the image, upload it to firefly, load it and align with WCS.\n",
    "\n",
    "Note this can take a while to upload the full MER image."
   ]
  },
  {
   "cell_type": "code",
   "execution_count": 33,
   "id": "4609fe46",
   "metadata": {},
   "outputs": [
    {
     "data": {
      "text/html": [
       "Open your web browser to <a href=\"https://irsa.ipac.caltech.edu/irsaviewer/?__wsch=MjAyNS0wMy0yNg\"\" target=\"_blank\">this link</a>"
      ],
      "text/plain": [
       "<IPython.core.display.HTML object>"
      ]
     },
     "metadata": {},
     "output_type": "display_data"
    },
    {
     "data": {
      "text/plain": [
       "{'success': True}"
      ]
     },
     "execution_count": 33,
     "metadata": {},
     "output_type": "execute_result"
    }
   ],
   "source": [
    "fc = FireflyClient.make_client('https://irsa.ipac.caltech.edu/irsaviewer')\n",
    "\n",
    "fc.show_fits(url=filename)\n",
    "\n",
    "fc.align_images(lock_match=True)"
   ]
  },
  {
   "cell_type": "markdown",
   "id": "7faf1877",
   "metadata": {},
   "source": [
    "### Save the table as a CSV for Firefly upload"
   ]
  },
  {
   "cell_type": "code",
   "execution_count": 34,
   "id": "a7bace9d",
   "metadata": {},
   "outputs": [],
   "source": [
    "csv_path = os.path.join(download_path, \"mer_df.csv\")\n",
    "df_g_irsa.to_csv(csv_path, index=False)"
   ]
  },
  {
   "cell_type": "markdown",
   "id": "8121ada2",
   "metadata": {},
   "source": [
    "### Upload the CSV table to Firefly and display as an overlay on the FITS image"
   ]
  },
  {
   "cell_type": "code",
   "execution_count": 35,
   "id": "0978292b",
   "metadata": {},
   "outputs": [
    {
     "name": "stdout",
     "output_type": "stream",
     "text": [
      "Uploaded Table URL: ${upload-dir}/upload_9887740898610742451_mer_df.csv\n"
     ]
    },
    {
     "data": {
      "text/plain": [
       "{'success': True}"
      ]
     },
     "execution_count": 35,
     "metadata": {},
     "output_type": "execute_result"
    }
   ],
   "source": [
    "uploaded_table = fc.upload_file(csv_path)\n",
    "print(f\"Uploaded Table URL: {uploaded_table}\")\n",
    "\n",
    "fc.show_table(uploaded_table)"
   ]
  },
  {
   "cell_type": "markdown",
   "id": "0457151d",
   "metadata": {},
   "source": [
    "## About this Notebook\n",
    "\n",
    "**Author**: Tiffany Meshkat (IPAC Scientist)\n",
    "\n",
    "**Updated**: 2025-03-19\n",
    "\n",
    "**Contact:** [the IRSA Helpdesk](https://irsa.ipac.caltech.edu/docs/help_desk.html) with questions or reporting problems."
   ]
  }
 ],
 "metadata": {
  "jupytext": {
   "text_representation": {
    "extension": ".md",
    "format_name": "myst",
    "format_version": 0.13,
    "jupytext_version": "1.16.7"
   }
  },
  "kernelspec": {
   "display_name": "Python 3 (ipykernel)",
   "language": "python",
   "name": "python3"
  },
  "language_info": {
   "codemirror_mode": {
    "name": "ipython",
    "version": 3
   },
   "file_extension": ".py",
   "mimetype": "text/x-python",
   "name": "python",
   "nbconvert_exporter": "python",
   "pygments_lexer": "ipython3",
   "version": "3.11.11"
  },
  "source_map": [
   12,
   16,
   20,
   30,
   34,
   42,
   46,
   51,
   72,
   78,
   84,
   90,
   94,
   100,
   105,
   109,
   113,
   118,
   122,
   135,
   139,
   146,
   151,
   154,
   172,
   183,
   187,
   214,
   219,
   221,
   225,
   231,
   237,
   240,
   244,
   248,
   253,
   258,
   263,
   265,
   269,
   273,
   277,
   292,
   300,
   311,
   321,
   325,
   334,
   338,
   344,
   349,
   354,
   360,
   364,
   368,
   375,
   383,
   389,
   393,
   396,
   400,
   405
  ]
 },
 "nbformat": 4,
 "nbformat_minor": 5
}