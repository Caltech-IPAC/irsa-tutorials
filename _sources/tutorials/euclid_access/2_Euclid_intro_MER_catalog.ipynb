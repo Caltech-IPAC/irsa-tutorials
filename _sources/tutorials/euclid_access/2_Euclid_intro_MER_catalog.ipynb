{
 "cells": [
  {
   "cell_type": "markdown",
   "id": "6d8ac8a2",
   "metadata": {},
   "source": [
    "# Introduction to Euclid Q1 MER catalog"
   ]
  },
  {
   "cell_type": "markdown",
   "id": "6743956b",
   "metadata": {},
   "source": [
    "```{warning}\n",
    "This notebook requires public access to the Euclid Q1 data, therefore is expected to not work before the 19th of March 2025.\n",
    "\n",
    "We will update the rendered HTML pages with the expected outputs of the code cells once the data is public.\n",
    "```\n",
    "\n",
    "## Learning Goals"
   ]
  },
  {
   "cell_type": "markdown",
   "id": "5ea99a02",
   "metadata": {},
   "source": [
    "By the end of this tutorial, you will:\n",
    "- Understand the basic characteristics of Euclid Q1 MER catalogs.\n",
    "- What columns are available in the MER catalog.\n",
    "- How to query with ADQL in the MER catalog.\n",
    "- How to make a simple color-magnitude diagram with the data."
   ]
  },
  {
   "cell_type": "markdown",
   "id": "c7190752",
   "metadata": {},
   "source": [
    "## Introduction"
   ]
  },
  {
   "cell_type": "markdown",
   "id": "275738fe",
   "metadata": {},
   "source": [
    "Euclid is a European Space Agency (ESA) space mission with NASA participation, to study the geometry and nature of the dark Universe.\n",
    "The Quick Data Release 1 (Q1) are the first data release from the Euclid mission after the Early Release Observations (ERO).\n",
    "On March 19, 2025 the data will be available on the [ESA archive](https://easidr.esac.esa.int/sas/) and on the [IRSA archive](https://irsa.ipac.caltech.edu).\n",
    "\n",
    "These Q1 notebooks focus on how to access, download, and process Euclid Q1 data from the IRSA archive.\n",
    "If you have any issues accessing data from the archives, please contact the helpdesk directly: [IRSA helpdesk](https://irsa.ipac.caltech.edu/docs/help_desk.html) and [ESA Euclid Helpdesk](https://support.cosmos.esa.int/euclid).\n",
    "\n",
    "Each entry in the MER catalog is a single source containing all its photometry from the MER Mosaics (VIS, Y, J, H and any accompanying external ground observations) along with other basic measurements, like size and shape.\n",
    "\n",
    "This notebook provides an introduction to the MER catalog released as part of Euclid Q1.\n",
    "Other Euclid notebooks show how to use other data products released as part of Euclid Q1."
   ]
  },
  {
   "cell_type": "markdown",
   "id": "fff25546",
   "metadata": {},
   "source": [
    "## Imports"
   ]
  },
  {
   "cell_type": "code",
   "execution_count": null,
   "id": "d94f0060",
   "metadata": {},
   "outputs": [],
   "source": [
    "# Uncomment the next line to install dependencies if needed\n",
    "# !pip install numpy matplotlib pyvo"
   ]
  },
  {
   "cell_type": "code",
   "execution_count": null,
   "id": "05ad9f47",
   "metadata": {},
   "outputs": [],
   "source": [
    "import numpy as np\n",
    "import matplotlib.pyplot as plt\n",
    "\n",
    "import pyvo as vo"
   ]
  },
  {
   "cell_type": "markdown",
   "id": "a53fd9a5",
   "metadata": {},
   "source": [
    "## 1. Download MER catalog from IRSA directly to this notebook"
   ]
  },
  {
   "cell_type": "code",
   "execution_count": null,
   "id": "07e6bdb6",
   "metadata": {},
   "outputs": [],
   "source": [
    "service = vo.dal.TAPService(\"https://irsa.ipac.caltech.edu/TAP\")"
   ]
  },
  {
   "cell_type": "code",
   "execution_count": null,
   "id": "0a643270",
   "metadata": {},
   "outputs": [],
   "source": [
    "tables = service.tables\n",
    "for tablename in tables.keys():\n",
    "    if \"tap_schema\" not in tablename and \"euclid_q1\" in tablename:\n",
    "            tables[tablename].describe()"
   ]
  },
  {
   "cell_type": "markdown",
   "id": "4de26072",
   "metadata": {},
   "source": [
    "### Choose the Euclid MER table"
   ]
  },
  {
   "cell_type": "code",
   "execution_count": null,
   "id": "da2beaf0",
   "metadata": {},
   "outputs": [],
   "source": [
    "table_mer = 'euclid_q1_mer_catalogue'"
   ]
  },
  {
   "cell_type": "markdown",
   "id": "4d089c2d",
   "metadata": {},
   "source": [
    "### Learn some information about the table:\n",
    "- How many columns are there?\n",
    "- List the column names"
   ]
  },
  {
   "cell_type": "code",
   "execution_count": null,
   "id": "09f3d24a",
   "metadata": {},
   "outputs": [],
   "source": [
    "columns = tables[table_mer].columns\n",
    "print(len(columns))"
   ]
  },
  {
   "cell_type": "code",
   "execution_count": null,
   "id": "a7d91b14",
   "metadata": {},
   "outputs": [],
   "source": [
    "for col in columns:\n",
    "    print(f'{f\"{col.name}\":30s}  {col.unit}  {col.description}')"
   ]
  },
  {
   "cell_type": "markdown",
   "id": "87e64f1a",
   "metadata": {},
   "source": [
    "### Define the following ADQL query to find the first 10k stars in the MER catalog\n",
    "\n",
    "Since we are just using the MER catalog alone, it does not have a column for classification. We can use the point_like_flag = 1 or point_like_prob>0.99 for stars.\n",
    "\n",
    "Set all the fluxes to be greater than 0 so the object is detected in all four Euclid MER mosaic images"
   ]
  },
  {
   "cell_type": "code",
   "execution_count": null,
   "id": "a9db619a",
   "metadata": {},
   "outputs": [],
   "source": [
    "adql_stars = (\"SELECT TOP 10000 mer.ra, mer.dec, mer.flux_vis_psf, mer.fluxerr_vis_psf, mer.flux_y_templfit,mer.fluxerr_y_templfit, \"\n",
    "    \"mer.flux_j_templfit, mer.fluxerr_j_templfit, mer.flux_h_templfit, mer.fluxerr_h_templfit, mer.point_like_prob, mer.extended_prob \"\n",
    "    f\"FROM {table_mer} AS mer \"\n",
    "    \"WHERE  mer.flux_vis_psf > 0 \"\n",
    "    \"AND mer.flux_y_templfit > 0 \"\n",
    "    \"AND mer.flux_j_templfit > 0 \"\n",
    "    \"AND mer.flux_h_templfit > 0 \"\n",
    "    \"AND mer.point_like_flag = 1 \")\n",
    "\n",
    "# Run the query\n",
    "\n",
    "result_stars = service.search(adql_stars)"
   ]
  },
  {
   "cell_type": "code",
   "execution_count": null,
   "id": "db9148f3",
   "metadata": {},
   "outputs": [],
   "source": [
    "df_s_irsa = result_stars.to_table().to_pandas()   # Convert to Pandas DataFrame\n",
    "\n",
    "# Display first few rows\n",
    "df_s_irsa.head()"
   ]
  },
  {
   "cell_type": "markdown",
   "id": "a4785d22",
   "metadata": {},
   "source": [
    "## 2. Make a color-magnitude diagram using the catalogs pulled from IRSA\n",
    "\n",
    "- Convert from flux in uJy to magnitudes using the zero point correction\n",
    "- Convert the error bars to magnitudes as well\n",
    "- Plot the color-magnitude diagram"
   ]
  },
  {
   "cell_type": "code",
   "execution_count": null,
   "id": "e532d9d8",
   "metadata": {},
   "outputs": [],
   "source": [
    "mag_y_s_irsa=-2.5*np.log10(df_s_irsa[\"flux_y_templfit\"]) + 23.9 # Y\n",
    "mag_h_s_irsa=-2.5*np.log10(df_s_irsa[\"flux_h_templfit\"]) + 23.9 # H\n",
    "\n",
    "x_s_irsa = mag_y_s_irsa - mag_h_s_irsa # Y - H\n",
    "y_s_irsa = mag_y_s_irsa\n",
    "\n",
    "xerr_s_irsa= 2.5 / np.log(10) * np.sqrt((df_s_irsa[\"fluxerr_y_templfit\"] / df_s_irsa[\"flux_y_templfit\"])**2\n",
    "                                 + (df_s_irsa[\"fluxerr_h_templfit\"] / df_s_irsa[\"flux_h_templfit\"])**2)\n",
    "yerr_s_irsa= 2.5 / np.log(10) * (df_s_irsa[\"fluxerr_y_templfit\"] / df_s_irsa[\"flux_y_templfit\"])\n",
    "\n",
    "plt.errorbar(x_s_irsa, y_s_irsa, xerr=xerr_s_irsa, yerr=yerr_s_irsa, fmt='o', markersize=1.5, ecolor='lightgrey', elinewidth=0.5, capsize=2)\n",
    "\n",
    "plt.xlabel('Y-H')\n",
    "plt.ylabel('Y')\n",
    "plt.xlim(-10,10)\n",
    "plt.ylim(10,35)\n",
    "plt.title('10k Stars in MER catalog -- IRSA')"
   ]
  },
  {
   "cell_type": "markdown",
   "id": "659a16e8",
   "metadata": {},
   "source": [
    "## About this Notebook\n",
    "\n",
    "**Author**: Tiffany Meshkat (IPAC Scientist)\n",
    "\n",
    "**Updated**: 2025-03-19\n",
    "\n",
    "**Contact:** [the IRSA Helpdesk](https://irsa.ipac.caltech.edu/docs/help_desk.html) with questions or reporting problems."
   ]
  }
 ],
 "metadata": {
  "jupytext": {
   "text_representation": {
    "extension": ".md",
    "format_name": "myst",
    "format_version": 0.13,
    "jupytext_version": "1.16.7"
   }
  },
  "kernelspec": {
   "display_name": "Python 3 (ipykernel)",
   "language": "python",
   "name": "python3"
  },
  "source_map": [
   12,
   16,
   27,
   35,
   39,
   53,
   57,
   62,
   67,
   71,
   75,
   80,
   84,
   86,
   92,
   97,
   100,
   108,
   123,
   128,
   136,
   154
  ]
 },
 "nbformat": 4,
 "nbformat_minor": 5
}