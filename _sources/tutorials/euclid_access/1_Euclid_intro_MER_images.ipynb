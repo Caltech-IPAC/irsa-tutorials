{
 "cells": [
  {
   "cell_type": "markdown",
   "id": "505491f1",
   "metadata": {},
   "source": [
    "# Introduction to Euclid Q1 MER mosaics"
   ]
  },
  {
   "cell_type": "markdown",
   "id": "70cb6ac0",
   "metadata": {},
   "source": [
    "```{warning}\n",
    "This notebook requires public access to the Euclid Q1 data, therefore is expected to not work before the 19th of March 2025.\n",
    "\n",
    "We will update the rendered HTML pages with the expected outputs of the code cells once the data is public.\n",
    "```\n",
    "\n",
    "## Learning Goals"
   ]
  },
  {
   "cell_type": "markdown",
   "id": "28a4a9f3",
   "metadata": {},
   "source": [
    "By the end of this tutorial, you will:\n",
    "- Understand the basic characteristics of Euclid Q1 MER mosaics.\n",
    "- How do download full MER mosaics.\n",
    "- How to make smaller cutouts of MER mosaics.\n",
    "- Use matplotlib to plot a grid of cutouts.\n",
    "- Identify sources in the cutouts and make basic measurements."
   ]
  },
  {
   "cell_type": "markdown",
   "id": "b3c9fc97",
   "metadata": {},
   "source": [
    "## Introduction"
   ]
  },
  {
   "cell_type": "markdown",
   "id": "5b64959f",
   "metadata": {},
   "source": [
    "Euclid is a European Space Agency (ESA) space mission with NASA participation, to study the geometry and nature of the dark Universe.\n",
    "The Quick Data Release 1 (Q1) are the first data release from the Euclid mission after the Early Release Observations (ERO).\n",
    "On March 19, 2025 the data will be available on the [ESA archive](https://easidr.esac.esa.int/sas/) and on the [IRSA archive](https://irsa.ipac.caltech.edu).\n",
    "\n",
    "These Q1 notebooks focus on how to access, download, and process Euclid Q1 data from the IRSA archive.\n",
    "If you have any issues accessing data from the archives, please contact the helpdesk directly: [IRSA helpdesk](https://irsa.ipac.caltech.edu/docs/help_desk.html) and [ESA Euclid Helpdesk](https://support.cosmos.esa.int/euclid).\n",
    "\n",
    "MER mosaic images are all the images from Level 2 images in different filters mapped to a common pixel scale.\n",
    "\n",
    "This notebook provides an introduction to MER mosaics released as part of Euclid Q1.\n",
    "Other Euclid notebooks show how to use other data products released as part of Euclid Q1."
   ]
  },
  {
   "cell_type": "markdown",
   "id": "9e6e1425",
   "metadata": {},
   "source": [
    "## Data volume\n",
    "\n",
    "Each MER image is approximately 1.47 GB. Downloading can take some time."
   ]
  },
  {
   "cell_type": "markdown",
   "id": "d6c5edba",
   "metadata": {},
   "source": [
    "## Imports"
   ]
  },
  {
   "cell_type": "code",
   "execution_count": null,
   "id": "382e5396",
   "metadata": {},
   "outputs": [],
   "source": [
    "# Uncomment the next line to install dependencies if needed.\n",
    "# !pip install numpy astropy matplotlib pyvo sep>=1.4 fsspec pandas"
   ]
  },
  {
   "cell_type": "code",
   "execution_count": null,
   "id": "afefb825",
   "metadata": {},
   "outputs": [],
   "source": [
    "import re\n",
    "\n",
    "import numpy as np\n",
    "import pandas as pd\n",
    "\n",
    "import matplotlib.pyplot as plt\n",
    "from matplotlib.patches import Ellipse\n",
    "\n",
    "from astropy.coordinates import SkyCoord\n",
    "from astropy.io import fits\n",
    "from astropy.nddata import Cutout2D\n",
    "from astropy.utils.data import download_file\n",
    "from astropy.visualization import ImageNormalize, PercentileInterval, AsinhStretch,  ZScaleInterval, SquaredStretch\n",
    "from astropy.wcs import WCS\n",
    "from astropy import units as u\n",
    "\n",
    "import pyvo as vo\n",
    "import sep"
   ]
  },
  {
   "cell_type": "markdown",
   "id": "571f6e93",
   "metadata": {},
   "source": [
    "## 1. Search for multiwavelength Euclid Q1 MER mosaics that cover the star HD 168151\n",
    "Below are the object name and coordinates and our search radius"
   ]
  },
  {
   "cell_type": "code",
   "execution_count": null,
   "id": "4b418ebd",
   "metadata": {},
   "outputs": [],
   "source": [
    "search_radius = 10 * u.arcsec\n",
    "coord = SkyCoord.from_name('HD 168151')"
   ]
  },
  {
   "cell_type": "markdown",
   "id": "438f99c1",
   "metadata": {},
   "source": [
    "Use IRSA to search for all Euclid data on this target.\n",
    "This searches specifically in the euclid_DpdMerBksMosaic \"collection\" which is the MER images and catalogs.\n",
    "This query will return any image with pixels that overlap the search region."
   ]
  },
  {
   "cell_type": "code",
   "execution_count": null,
   "id": "dd14ee7d",
   "metadata": {},
   "outputs": [],
   "source": [
    "irsa_service= vo.dal.sia2.SIA2Service('https://irsa.ipac.caltech.edu/SIA')\n",
    "\n",
    "image_table = irsa_service.search(pos=(coord, search_radius), collection='euclid_DpdMerBksMosaic')"
   ]
  },
  {
   "cell_type": "markdown",
   "id": "0ff50237",
   "metadata": {},
   "source": [
    "Convert the table to pandas dataframe"
   ]
  },
  {
   "cell_type": "code",
   "execution_count": null,
   "id": "ba907f51",
   "metadata": {},
   "outputs": [],
   "source": [
    "df_im_irsa=image_table.to_table().to_pandas()"
   ]
  },
  {
   "cell_type": "markdown",
   "id": "b828c3f2",
   "metadata": {},
   "source": [
    "Change the settings so we can see all the columns in the dataframe and the full column width (to see the full long URL)"
   ]
  },
  {
   "cell_type": "code",
   "execution_count": null,
   "id": "2f3aabe7",
   "metadata": {},
   "outputs": [],
   "source": [
    "pd.set_option('display.max_columns', None)\n",
    "pd.set_option('display.max_colwidth', None)\n",
    "\n",
    "\n",
    "## Can use the following lines to reset the max columns and column width of pandas\n",
    "# pd.reset_option('display.max_columns')\n",
    "# pd.reset_option('display.max_colwidth')"
   ]
  },
  {
   "cell_type": "markdown",
   "id": "b588b490",
   "metadata": {},
   "source": [
    "This dataframe contains lots of other datasets that have been \"Euclidized\", so put on the same pixel scale as the Euclid data. For this example choose science as the data product subtype to see all images of this tile"
   ]
  },
  {
   "cell_type": "code",
   "execution_count": null,
   "id": "90b85c0c",
   "metadata": {},
   "outputs": [],
   "source": [
    "df_im_euclid=df_im_irsa[ (df_im_irsa['dataproduct_subtype']=='science')]\n",
    "\n",
    "df_im_euclid.head()"
   ]
  },
  {
   "cell_type": "code",
   "execution_count": null,
   "id": "a0e949c3",
   "metadata": {},
   "outputs": [],
   "source": [
    "print('There are',len(df_im_euclid),'MER images of this object/MER tile.')"
   ]
  },
  {
   "cell_type": "markdown",
   "id": "f4fff23f",
   "metadata": {},
   "source": [
    "## 2. Retrieve a Euclid Q1 MER mosaic image in the VIS bandpass"
   ]
  },
  {
   "cell_type": "markdown",
   "id": "a20da04e",
   "metadata": {},
   "source": [
    "### Lets first look at one example full image, the VIS image\n",
    "\n",
    "Note that 'access_estsize' is in units of kb"
   ]
  },
  {
   "cell_type": "code",
   "execution_count": null,
   "id": "b87eeff2",
   "metadata": {},
   "outputs": [],
   "source": [
    "filename = df_im_euclid[df_im_euclid['energy_bandpassname']=='VIS']['access_url'].to_list()[0]\n",
    "filesize = df_im_euclid[df_im_euclid['energy_bandpassname']=='VIS']['access_estsize'].to_list()[0]/1000000\n",
    "\n",
    "print(filename)\n",
    "\n",
    "print(f'Please note this image is {filesize} GB. With 230 Mbps internet download speed, it takes about 1 minute to download.')"
   ]
  },
  {
   "cell_type": "markdown",
   "id": "6d5e54c3",
   "metadata": {},
   "source": [
    "### For future notebooks, extract the tileID of this image from the filename and extract the tileID"
   ]
  },
  {
   "cell_type": "code",
   "execution_count": null,
   "id": "4facbcd1",
   "metadata": {},
   "outputs": [],
   "source": [
    "tileID=re.search(r'TILE\\s*(\\d{9})', filename).group(1)\n",
    "\n",
    "print('The MER tile ID for this object is :',tileID)"
   ]
  },
  {
   "cell_type": "markdown",
   "id": "86d7b496",
   "metadata": {},
   "source": [
    "Download the MER image -- note this file is about 1.46 GB"
   ]
  },
  {
   "cell_type": "code",
   "execution_count": null,
   "id": "f0a75e30",
   "metadata": {},
   "outputs": [],
   "source": [
    "fname = download_file(filename, cache=True)\n",
    "hdu_mer_irsa = fits.open(fname)\n",
    "print(hdu_mer_irsa.info())\n",
    "\n",
    "head_mer_irsa = hdu_mer_irsa[0].header"
   ]
  },
  {
   "cell_type": "markdown",
   "id": "46de202f",
   "metadata": {},
   "source": [
    "Now you've downloaded this large file, if you would like to save it to disk, uncomment the following cell.\n",
    "Please also define a suitable download directory; by default it will be `data` at the same location as your notebook."
   ]
  },
  {
   "cell_type": "code",
   "execution_count": null,
   "id": "31bbfaa4",
   "metadata": {},
   "outputs": [],
   "source": [
    "# download_path = 'data'\n",
    "# hdu_mer_irsa.writeto(os.path.join(download_path, 'MER_image_VIS.fits'), overwrite=True)"
   ]
  },
  {
   "cell_type": "markdown",
   "id": "c83d471f",
   "metadata": {},
   "source": [
    "Have a look at the header information for this image"
   ]
  },
  {
   "cell_type": "code",
   "execution_count": null,
   "id": "b5aa22c5",
   "metadata": {},
   "outputs": [],
   "source": [
    "head_mer_irsa"
   ]
  },
  {
   "cell_type": "markdown",
   "id": "17ccc069",
   "metadata": {},
   "source": [
    "Lets extract just the primary image"
   ]
  },
  {
   "cell_type": "code",
   "execution_count": null,
   "id": "65fa13c8",
   "metadata": {},
   "outputs": [],
   "source": [
    "im_mer_irsa=hdu_mer_irsa[0].data\n",
    "\n",
    "print(im_mer_irsa.shape)"
   ]
  },
  {
   "cell_type": "markdown",
   "id": "07bc9cf6",
   "metadata": {},
   "source": [
    "Make a simple plot to show the full MER image, large FOV!"
   ]
  },
  {
   "cell_type": "code",
   "execution_count": null,
   "id": "2be6636b",
   "metadata": {},
   "outputs": [],
   "source": [
    "plt.imshow(im_mer_irsa, cmap='gray', origin='lower', norm=ImageNormalize(im_mer_irsa, interval=PercentileInterval(99.9), stretch=AsinhStretch()))\n",
    "colorbar = plt.colorbar()"
   ]
  },
  {
   "cell_type": "markdown",
   "id": "49fd7b98",
   "metadata": {},
   "source": [
    "## 3. Create multiwavelength Euclid Q1 MER cutouts of a region of interest"
   ]
  },
  {
   "cell_type": "markdown",
   "id": "45e63cb3",
   "metadata": {},
   "source": [
    "```{note}\n",
    "We'd like to take a look at the other MER images but only in a specific cutout of interest so we don't have to download 9 full MER images.\n",
    "```"
   ]
  },
  {
   "cell_type": "code",
   "execution_count": null,
   "id": "ddfe96ae",
   "metadata": {},
   "outputs": [],
   "source": [
    "urls = df_im_euclid['access_url'].to_list()\n",
    "\n",
    "urls"
   ]
  },
  {
   "cell_type": "markdown",
   "id": "3b4ee80f",
   "metadata": {},
   "source": [
    "Create an array with the instrument and filter name so we can add this to the plots."
   ]
  },
  {
   "cell_type": "code",
   "execution_count": null,
   "id": "9b98d991",
   "metadata": {},
   "outputs": [],
   "source": [
    "df_im_euclid.loc[:, \"filters\"] = df_im_euclid[\"instrument_name\"] + \"_\" + df_im_euclid[\"energy_bandpassname\"]\n",
    "\n",
    "## Note that VIS_VIS appears in the filters, so update that filter to just say VIS\n",
    "df_im_euclid.loc[df_im_euclid[\"filters\"] == \"VIS_VIS\", \"filters\"] = \"VIS\"\n",
    "\n",
    "filters = df_im_euclid['filters'].to_numpy()\n",
    "filters"
   ]
  },
  {
   "cell_type": "markdown",
   "id": "0f0f3d96",
   "metadata": {},
   "source": [
    "## The image above is very large, so lets cut out a smaller image to inspect these data."
   ]
  },
  {
   "cell_type": "code",
   "execution_count": null,
   "id": "4414cbad",
   "metadata": {},
   "outputs": [],
   "source": [
    "######################## User defined section ############################\n",
    "## How large do you want the image cutout to be?\n",
    "im_cutout= 1.0 * u.arcmin\n",
    "\n",
    "## What is the center of the cutout?\n",
    "## For now choosing a random location on the image\n",
    "## because the star itself is saturated\n",
    "ra = 273.8667\n",
    "dec =  64.525\n",
    "\n",
    "## Bright star position\n",
    "# ra = 273.474451\n",
    "# dec = 64.397273\n",
    "\n",
    "coords_cutout = SkyCoord(ra, dec, unit=(u.deg, u.deg), frame='icrs')\n",
    "\n",
    "##########################################################################\n",
    "\n",
    "## Iterate through each filter\n",
    "\n",
    "cutout_list = []\n",
    "\n",
    "for url in urls:\n",
    "    ## Use fsspec to interact with the fits file without downloading the full file\n",
    "    hdu = fits.open(url, use_fsspec=True)\n",
    "    print(f\"Opened {url}\")\n",
    "\n",
    "    ## Store the header\n",
    "    header = hdu[0].header\n",
    "\n",
    "    ## Read in the cutout of the image that you want\n",
    "    cutout_data = Cutout2D(hdu[0].section, position=coords_cutout, size=im_cutout, wcs=WCS(hdu[0].header))\n",
    "\n",
    "    ## Close the file\n",
    "    # hdu.close()\n",
    "\n",
    "    ## Define a new fits file based on this smaller cutout, with accurate WCS based on the cutout size\n",
    "    new_hdu = fits.PrimaryHDU(data=cutout_data.data, header=header)\n",
    "    new_hdu.header.update(cutout_data.wcs.to_header())\n",
    "\n",
    "    ## Append the cutout to the list\n",
    "    cutout_list.append(new_hdu)\n",
    "\n",
    "## Combine all cutouts into a single HDUList and display information\n",
    "final_hdulist = fits.HDUList(cutout_list)\n",
    "final_hdulist.info()"
   ]
  },
  {
   "cell_type": "markdown",
   "id": "64cc0a3a",
   "metadata": {},
   "source": [
    "## 3. Visualize multiwavelength Euclid Q1 MER cutouts\n",
    "\n",
    "Need to determine the number of images for the grid layout, then we iterate through the images and plot each one."
   ]
  },
  {
   "cell_type": "code",
   "execution_count": null,
   "id": "50235326",
   "metadata": {},
   "outputs": [],
   "source": [
    "num_images = len(final_hdulist)\n",
    "columns = 4\n",
    "rows = -(-num_images // columns)\n",
    "\n",
    "fig, axes = plt.subplots(rows, columns, figsize=(4 * columns, 4 * rows), subplot_kw={'projection': WCS(final_hdulist[0].header)})\n",
    "axes = axes.flatten()\n",
    "\n",
    "for idx, (ax, filt) in enumerate(zip(axes, filters)):\n",
    "    image_data = final_hdulist[idx].data\n",
    "    norm = ImageNormalize(image_data, interval=PercentileInterval(99.9), stretch=AsinhStretch())\n",
    "    ax.imshow(image_data, cmap='gray', origin='lower', norm=norm)\n",
    "    ax.set_xlabel('RA')\n",
    "    ax.set_ylabel('Dec')\n",
    "    ax.text(0.05, 0.05, filt, color='white', fontsize=14, transform=ax.transAxes, va='bottom', ha='left')\n",
    "\n",
    "## Remove empty subplots if any\n",
    "for ax in axes[num_images:]:\n",
    "    fig.delaxes(ax)\n",
    "\n",
    "plt.tight_layout()\n",
    "plt.show()"
   ]
  },
  {
   "cell_type": "markdown",
   "id": "c1bf1e09",
   "metadata": {},
   "source": [
    "## 4. Use the Python package sep to identify and measure sources in the Euclid Q1 MER cutouts\n",
    "\n",
    "First we list all the filters so you can choose which cutout you want to extract sources on. We will choose VIS."
   ]
  },
  {
   "cell_type": "code",
   "execution_count": null,
   "id": "eea9ed76",
   "metadata": {},
   "outputs": [],
   "source": [
    "filters"
   ]
  },
  {
   "cell_type": "code",
   "execution_count": null,
   "id": "2aec0431",
   "metadata": {},
   "outputs": [],
   "source": [
    "filt_index = np.where(filters == 'VIS')[0][0]\n",
    "\n",
    "img1=final_hdulist[filt_index].data"
   ]
  },
  {
   "cell_type": "markdown",
   "id": "83a1db04",
   "metadata": {},
   "source": [
    "### Extract some sources from the cutout using sep (python package based on source extractor)\n",
    "\n",
    "Following the sep tutorial, first create a background for the cutout\n",
    "https://sep.readthedocs.io/en/stable/tutorial.html\n",
    "\n",
    "Need to do some initial steps (swap byte order) with the cutout to prevent sep from crashing. Then create a background model with sep."
   ]
  },
  {
   "cell_type": "code",
   "execution_count": null,
   "id": "8ec69b40",
   "metadata": {},
   "outputs": [],
   "source": [
    "img2 = img1.byteswap().view(img1.dtype.newbyteorder())\n",
    "c_contiguous_data = np.array(img2, dtype=np.float32)\n",
    "\n",
    "bkg = sep.Background(c_contiguous_data)\n",
    "\n",
    "bkg_image = bkg.back()\n",
    "\n",
    "plt.imshow(bkg_image, interpolation='nearest', cmap='gray', origin='lower')\n",
    "plt.colorbar()"
   ]
  },
  {
   "cell_type": "markdown",
   "id": "4e6f245d",
   "metadata": {},
   "source": [
    "### Inspect the background rms as well"
   ]
  },
  {
   "cell_type": "code",
   "execution_count": null,
   "id": "9a3942f1",
   "metadata": {},
   "outputs": [],
   "source": [
    "bkg_rms = bkg.rms()\n",
    "\n",
    "plt.imshow(bkg_rms, interpolation='nearest', cmap='gray', origin='lower')\n",
    "plt.colorbar();"
   ]
  },
  {
   "cell_type": "markdown",
   "id": "3723796d",
   "metadata": {},
   "source": [
    "### Subtract the background"
   ]
  },
  {
   "cell_type": "code",
   "execution_count": null,
   "id": "3872cd30",
   "metadata": {},
   "outputs": [],
   "source": [
    "data_sub = img2 - bkg"
   ]
  },
  {
   "cell_type": "markdown",
   "id": "c2946825",
   "metadata": {},
   "source": [
    "### Source extraction via sep"
   ]
  },
  {
   "cell_type": "code",
   "execution_count": null,
   "id": "c6a1b6ad",
   "metadata": {},
   "outputs": [],
   "source": [
    "######################## User defined section ############################\n",
    "\n",
    "## Sigma threshold to consider this a detection above the global RMS\n",
    "threshold= 3\n",
    "\n",
    "## Minimum number of pixels required for an object. Default is 5.\n",
    "minarea_0=2\n",
    "\n",
    "## Minimum contrast ratio used for object deblending. Default is 0.005. To entirely disable deblending, set to 1.0.\n",
    "deblend_cont_0= 0.005\n",
    "\n",
    "flux_threshold= 0.01\n",
    "##########################################################################\n",
    "\n",
    "\n",
    "sources = sep.extract(data_sub, threshold, err=bkg.globalrms, minarea=minarea_0, deblend_cont=deblend_cont_0)\n",
    "sources_thr = sources[sources['flux'] > flux_threshold]\n",
    "print(\"Found\", len(sources_thr), \"objects above flux threshold\")"
   ]
  },
  {
   "cell_type": "markdown",
   "id": "2a6f5373",
   "metadata": {},
   "source": [
    "## Lets have a look at the objects that were detected with sep in the cutout\n",
    "\n",
    "\n",
    "We plot the VIS cutout with the sources detected overplotted with a red ellipse"
   ]
  },
  {
   "cell_type": "code",
   "execution_count": null,
   "id": "bb79fb23",
   "metadata": {},
   "outputs": [],
   "source": [
    "fig, ax = plt.subplots()\n",
    "m, s = np.mean(data_sub), np.std(data_sub)\n",
    "im = ax.imshow(data_sub, cmap='gray', origin='lower', norm=ImageNormalize(img2, interval=ZScaleInterval(), stretch=SquaredStretch()))\n",
    "\n",
    "## Plot an ellipse for each object detected with sep\n",
    "\n",
    "for i in range(len(sources_thr)):\n",
    "    e = Ellipse(xy=(sources_thr['x'][i], sources_thr['y'][i]),\n",
    "                width=6*sources_thr['a'][i],\n",
    "                height=6*sources_thr['b'][i],\n",
    "                angle=sources_thr['theta'][i] * 180. / np.pi)\n",
    "    e.set_facecolor('none')\n",
    "    e.set_edgecolor('red')\n",
    "    ax.add_artist(e)"
   ]
  },
  {
   "cell_type": "markdown",
   "id": "11255bf2",
   "metadata": {},
   "source": [
    "## About this Notebook\n",
    "\n",
    "**Author**: Tiffany Meshkat (IPAC Scientist)\n",
    "\n",
    "**Updated**: 2025-03-19\n",
    "\n",
    "**Contact:** [the IRSA Helpdesk](https://irsa.ipac.caltech.edu/docs/help_desk.html) with questions or reporting problems."
   ]
  }
 ],
 "metadata": {
  "jupytext": {
   "text_representation": {
    "extension": ".md",
    "format_name": "myst",
    "format_version": 0.13,
    "jupytext_version": "1.16.7"
   }
  },
  "kernelspec": {
   "display_name": "Python 3 (ipykernel)",
   "language": "python",
   "name": "python3"
  },
  "source_map": [
   12,
   16,
   26,
   35,
   39,
   53,
   59,
   63,
   68,
   87,
   92,
   95,
   101,
   105,
   109,
   111,
   115,
   123,
   127,
   133,
   135,
   139,
   145,
   152,
   156,
   160,
   164,
   170,
   175,
   178,
   182,
   184,
   188,
   192,
   196,
   199,
   203,
   209,
   213,
   217,
   225,
   229,
   276,
   282,
   304,
   310,
   314,
   318,
   327,
   337,
   341,
   346,
   350,
   352,
   356,
   375,
   382,
   397
  ]
 },
 "nbformat": 4,
 "nbformat_minor": 5
}