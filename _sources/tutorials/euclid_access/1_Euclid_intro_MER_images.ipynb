{
 "cells": [
  {
   "cell_type": "markdown",
   "id": "1db6c0a0",
   "metadata": {},
   "source": [
    "# Introduction to Euclid Q1 MER mosaics"
   ]
  },
  {
   "cell_type": "markdown",
   "id": "b6468ee2",
   "metadata": {},
   "source": [
    "## Learning Goals"
   ]
  },
  {
   "cell_type": "markdown",
   "id": "56faeb76",
   "metadata": {},
   "source": [
    "By the end of this tutorial, you will:\n",
    "- understand the basic characteristics of Euclid Q1 MER mosaics;\n",
    "- know how to download full MER mosaics;\n",
    "- know how to make smaller cutouts of MER mosaics;\n",
    "- know how to use matplotlib to plot a grid of cutouts;\n",
    "- know how to identify sources in the cutouts and make basic measurements."
   ]
  },
  {
   "cell_type": "markdown",
   "id": "e2eb55b7",
   "metadata": {},
   "source": [
    "## Introduction"
   ]
  },
  {
   "cell_type": "markdown",
   "id": "e2c30c0b",
   "metadata": {},
   "source": [
    "Euclid launched in July 2023 as a European Space Agency (ESA) mission with involvement by NASA. The primary science goals of Euclid are to better understand the composition and evolution of the dark Universe. The Euclid mission is providing space-based imaging and spectroscopy as well as supporting ground-based imaging to achieve these primary goals. These data will be archived by multiple global repositories, including IRSA, where they will support transformational work in many areas of astrophysics.\n",
    "\n",
    "Euclid Quick Release 1 (Q1) consists of consists of ~30 TB of imaging, spectroscopy, and catalogs covering four non-contiguous fields: Euclid Deep Field North (22.9 sq deg), Euclid Deep Field Fornax (12.1 sq deg), Euclid Deep Field South (28.1 sq deg), and LDN1641.\n",
    "\n",
    "Among the data products included in the Q1 release are the Level 2 MER mosaics. These are multiwavelength mosaics created from images taken with the Euclid instruments (VIS and NISP), as well as a variety of ground-based telescopes. All of the mosaics have been created according to a uniform tiling on the sky, and mapped to a common pixel scale. This notebook provides a quick introduction to accessing MER mosaics from IRSA. If you have questions about it, please contact the [IRSA helpdesk]."
   ]
  },
  {
   "cell_type": "markdown",
   "id": "876c0f70",
   "metadata": {},
   "source": [
    "## Data volume\n",
    "\n",
    "Each MER image is approximately 1.47 GB. Downloading can take some time."
   ]
  },
  {
   "cell_type": "markdown",
   "id": "25975c5a",
   "metadata": {},
   "source": [
    "## Imports"
   ]
  },
  {
   "cell_type": "code",
   "execution_count": null,
   "id": "a2453552",
   "metadata": {},
   "outputs": [],
   "source": [
    "# Uncomment the next line to install dependencies if needed.\n",
    "# !pip install numpy astropy>=5.3 matplotlib pyvo sep>=1.4 fsspec pandas"
   ]
  },
  {
   "cell_type": "code",
   "execution_count": null,
   "id": "51fb14b3",
   "metadata": {},
   "outputs": [],
   "source": [
    "import re\n",
    "\n",
    "import numpy as np\n",
    "import pandas as pd\n",
    "\n",
    "import matplotlib.pyplot as plt\n",
    "from matplotlib.patches import Ellipse\n",
    "\n",
    "from astropy.coordinates import SkyCoord\n",
    "from astropy.io import fits\n",
    "from astropy.nddata import Cutout2D\n",
    "from astropy.utils.data import download_file\n",
    "from astropy.visualization import ImageNormalize, PercentileInterval, AsinhStretch,  ZScaleInterval, SquaredStretch\n",
    "from astropy.wcs import WCS\n",
    "from astropy import units as u\n",
    "\n",
    "import pyvo as vo\n",
    "import sep\n",
    "\n",
    "# Copy-on-write is more performant and avoids unexpected modifications of the original DataFrame.\n",
    "pd.options.mode.copy_on_write = True"
   ]
  },
  {
   "cell_type": "markdown",
   "id": "84a46f91",
   "metadata": {},
   "source": [
    "## 1. Search for multiwavelength Euclid Q1 MER mosaics that cover the star HD 168151\n",
    "Below we set a search radius of 10 arcsec and convert the name \"HD 168151\" into coordinates."
   ]
  },
  {
   "cell_type": "code",
   "execution_count": null,
   "id": "6c8b5c30",
   "metadata": {},
   "outputs": [],
   "source": [
    "search_radius = 10 * u.arcsec\n",
    "coord = SkyCoord.from_name('HD 168151')"
   ]
  },
  {
   "cell_type": "markdown",
   "id": "f677eb54",
   "metadata": {},
   "source": [
    "Use IRSA's Simple Image Access (SIA) API to search for all Euclid MER mosaics that overlap with the search region you have specified. We specify the euclid_DpdMerBksMosaic \"collection\" because it lists all of the multiwavelength MER mosaics, along with their associated catalogs."
   ]
  },
  {
   "cell_type": "code",
   "execution_count": null,
   "id": "eb07590d",
   "metadata": {},
   "outputs": [],
   "source": [
    "irsa_service= vo.dal.sia2.SIA2Service('https://irsa.ipac.caltech.edu/SIA')\n",
    "\n",
    "image_table = irsa_service.search(pos=(coord, search_radius), collection='euclid_DpdMerBksMosaic')"
   ]
  },
  {
   "cell_type": "markdown",
   "id": "316612f4",
   "metadata": {},
   "source": [
    "Convert the table to pandas dataframe"
   ]
  },
  {
   "cell_type": "code",
   "execution_count": null,
   "id": "c6a79075",
   "metadata": {},
   "outputs": [],
   "source": [
    "df_im_irsa=image_table.to_table().to_pandas().reset_index()"
   ]
  },
  {
   "cell_type": "markdown",
   "id": "f8110d5a",
   "metadata": {},
   "source": [
    "Change the settings so we can see all the columns in the dataframe and the full column width (to see the full long URL)"
   ]
  },
  {
   "cell_type": "code",
   "execution_count": null,
   "id": "f33f16e2",
   "metadata": {},
   "outputs": [],
   "source": [
    "pd.set_option('display.max_columns', None)\n",
    "pd.set_option('display.max_colwidth', None)\n",
    "\n",
    "\n",
    "## Can use the following lines to reset the max columns and column width of pandas\n",
    "# pd.reset_option('display.max_columns')\n",
    "# pd.reset_option('display.max_colwidth')"
   ]
  },
  {
   "cell_type": "code",
   "execution_count": null,
   "id": "3329ad6c",
   "metadata": {},
   "outputs": [],
   "source": [
    "df_im_irsa"
   ]
  },
  {
   "cell_type": "markdown",
   "id": "1fa93acf",
   "metadata": {},
   "source": [
    "This dataframe contains lots of datasets that have been \"Euclidized\", which means that they have been put on a common pixel scale chosen for the Euclid mission. Choose \"science\" as the data product subtype to see all science images of this tile."
   ]
  },
  {
   "cell_type": "code",
   "execution_count": null,
   "id": "437d83bd",
   "metadata": {},
   "outputs": [],
   "source": [
    "df_im_euclid=df_im_irsa[ (df_im_irsa['dataproduct_subtype']=='science')].reset_index()\n",
    "\n",
    "df_im_euclid"
   ]
  },
  {
   "cell_type": "code",
   "execution_count": null,
   "id": "057af485",
   "metadata": {},
   "outputs": [],
   "source": [
    "print('There are',len(df_im_euclid),'MER images of this object/MER tile.')"
   ]
  },
  {
   "cell_type": "markdown",
   "id": "31bd01b0",
   "metadata": {},
   "source": [
    "## 2. Retrieve a Euclid Q1 MER mosaic image in the VIS bandpass"
   ]
  },
  {
   "cell_type": "markdown",
   "id": "28558983",
   "metadata": {},
   "source": [
    "### Let's first look at one example full image, the VIS image\n",
    "\n",
    "Note that 'access_estsize' is in units of kb"
   ]
  },
  {
   "cell_type": "code",
   "execution_count": null,
   "id": "6313f437",
   "metadata": {},
   "outputs": [],
   "source": [
    "filename = df_im_euclid[df_im_euclid['energy_bandpassname']=='VIS']['access_url'].to_list()[0]\n",
    "filesize = df_im_euclid[df_im_euclid['energy_bandpassname']=='VIS']['access_estsize'].to_list()[0]/1000000\n",
    "\n",
    "print(filename)\n",
    "\n",
    "print(f'Please note this image is {filesize} GB. With 230 Mbps internet download speed, it takes about 1 minute to download.')"
   ]
  },
  {
   "cell_type": "markdown",
   "id": "bd3e613f",
   "metadata": {},
   "source": [
    "### Extract the tileID of this image from the filename"
   ]
  },
  {
   "cell_type": "code",
   "execution_count": null,
   "id": "b175a90d",
   "metadata": {},
   "outputs": [],
   "source": [
    "tileID=re.search(r'TILE\\s*(\\d{9})', filename).group(1)\n",
    "\n",
    "print('The MER tile ID for this object is :',tileID)"
   ]
  },
  {
   "cell_type": "markdown",
   "id": "9a130bb2",
   "metadata": {},
   "source": [
    "Retrieve the MER image -- note this file is about 1.46 GB"
   ]
  },
  {
   "cell_type": "code",
   "execution_count": null,
   "id": "542a6463",
   "metadata": {},
   "outputs": [],
   "source": [
    "fname = download_file(filename, cache=True)\n",
    "hdu_mer_irsa = fits.open(fname)\n",
    "print(hdu_mer_irsa.info())\n",
    "\n",
    "head_mer_irsa = hdu_mer_irsa[0].header"
   ]
  },
  {
   "cell_type": "markdown",
   "id": "ee1929b3",
   "metadata": {},
   "source": [
    "If you would like to save the MER mosaic to disk, uncomment the following cell.\n",
    "Please also define a suitable download directory; by default it will be `data` at the same location as your notebook."
   ]
  },
  {
   "cell_type": "code",
   "execution_count": null,
   "id": "fd31bb31",
   "metadata": {},
   "outputs": [],
   "source": [
    "# download_path = 'data'\n",
    "# hdu_mer_irsa.writeto(os.path.join(download_path, 'MER_image_VIS.fits'), overwrite=True)"
   ]
  },
  {
   "cell_type": "markdown",
   "id": "4c8c5f6b",
   "metadata": {},
   "source": [
    "Have a look at the header information for this image."
   ]
  },
  {
   "cell_type": "code",
   "execution_count": null,
   "id": "1a1e8e6e",
   "metadata": {},
   "outputs": [],
   "source": [
    "head_mer_irsa"
   ]
  },
  {
   "cell_type": "markdown",
   "id": "d935f662",
   "metadata": {},
   "source": [
    "Lets extract just the primary image."
   ]
  },
  {
   "cell_type": "code",
   "execution_count": null,
   "id": "69a38bf8",
   "metadata": {},
   "outputs": [],
   "source": [
    "im_mer_irsa=hdu_mer_irsa[0].data\n",
    "\n",
    "print(im_mer_irsa.shape)"
   ]
  },
  {
   "cell_type": "markdown",
   "id": "ce042a6b",
   "metadata": {},
   "source": [
    "Due to the large field of view of the MER mosaic, let's cut out a smaller section (2\"x2\")of the MER mosaic to inspect the image"
   ]
  },
  {
   "cell_type": "code",
   "execution_count": null,
   "id": "2f84f6b1",
   "metadata": {},
   "outputs": [],
   "source": [
    "plt.imshow(im_mer_irsa[0:1200,0:1200], cmap='gray', origin='lower', norm=ImageNormalize(im_mer_irsa[0:1200,0:1200], interval=PercentileInterval(99.9), stretch=AsinhStretch()))\n",
    "colorbar = plt.colorbar()"
   ]
  },
  {
   "cell_type": "markdown",
   "id": "edaa8b3c",
   "metadata": {},
   "source": [
    "Uncomment the code below to plot an image of the entire field of view of the MER mosaic."
   ]
  },
  {
   "cell_type": "code",
   "execution_count": null,
   "id": "874a18a6",
   "metadata": {},
   "outputs": [],
   "source": [
    "# # Full MER mosaic, may take a minute for python to create this image\n",
    "# plt.imshow(im_mer_irsa, cmap='gray', origin='lower', norm=ImageNormalize(im_mer_irsa, interval=PercentileInterval(99.9), stretch=AsinhStretch()))\n",
    "# colorbar = plt.colorbar()"
   ]
  },
  {
   "cell_type": "markdown",
   "id": "948dfa20",
   "metadata": {},
   "source": [
    "## 3. Create multiwavelength Euclid Q1 MER cutouts of a region of interest"
   ]
  },
  {
   "cell_type": "markdown",
   "id": "5e391975",
   "metadata": {},
   "source": [
    "```{note}\n",
    "We'd like to take a look at the multiwavelength images of our object, but the full MER mosaics are very large, so we will inspect the multiwavelength cutouts.\n",
    "```"
   ]
  },
  {
   "cell_type": "code",
   "execution_count": null,
   "id": "2db0f1d5",
   "metadata": {},
   "outputs": [],
   "source": [
    "urls = df_im_euclid['access_url'].to_list()\n",
    "\n",
    "urls"
   ]
  },
  {
   "cell_type": "markdown",
   "id": "c197da4f",
   "metadata": {},
   "source": [
    "Create an array with the instrument and filter name so we can add this to the plots."
   ]
  },
  {
   "cell_type": "code",
   "execution_count": null,
   "id": "e995c1c2",
   "metadata": {},
   "outputs": [],
   "source": [
    "df_im_euclid.loc[:, \"filters\"] = df_im_euclid[\"instrument_name\"] + \"_\" + df_im_euclid[\"energy_bandpassname\"]\n",
    "\n",
    "## Note that VIS_VIS appears in the filters, so update that filter to just say VIS\n",
    "df_im_euclid.loc[df_im_euclid[\"filters\"] == \"VIS_VIS\", \"filters\"] = \"VIS\"\n",
    "\n",
    "filters = df_im_euclid['filters'].to_numpy()\n",
    "filters"
   ]
  },
  {
   "cell_type": "markdown",
   "id": "551dc2f6",
   "metadata": {},
   "source": [
    "## The image above is very large, so let's cut out a smaller image to inspect these data."
   ]
  },
  {
   "cell_type": "code",
   "execution_count": null,
   "id": "d5da1d2b",
   "metadata": {},
   "outputs": [],
   "source": [
    "######################## User defined section ############################\n",
    "## How large do you want the image cutout to be?\n",
    "im_cutout= 1.0 * u.arcmin\n",
    "\n",
    "## What is the center of the cutout?\n",
    "## For now choosing a random location on the image\n",
    "## because the star itself is saturated\n",
    "ra = 273.8667\n",
    "dec =  64.525\n",
    "\n",
    "## Bright star position\n",
    "# ra = 273.474451\n",
    "# dec = 64.397273\n",
    "\n",
    "coords_cutout = SkyCoord(ra, dec, unit=(u.deg, u.deg), frame='icrs')\n",
    "\n",
    "##########################################################################\n",
    "\n",
    "## Iterate through each filter\n",
    "\n",
    "cutout_list = []\n",
    "\n",
    "for url in urls:\n",
    "    ## Use fsspec to interact with the fits file without downloading the full file\n",
    "    hdu = fits.open(url, use_fsspec=True)\n",
    "    print(f\"Opened {url}\")\n",
    "\n",
    "    ## Store the header\n",
    "    header = hdu[0].header\n",
    "\n",
    "    ## Read in the cutout of the image that you want\n",
    "    cutout_data = Cutout2D(hdu[0].section, position=coords_cutout, size=im_cutout, wcs=WCS(hdu[0].header))\n",
    "\n",
    "    ## Close the file\n",
    "    # hdu.close()\n",
    "\n",
    "    ## Define a new fits file based on this smaller cutout, with accurate WCS based on the cutout size\n",
    "    new_hdu = fits.PrimaryHDU(data=cutout_data.data, header=header)\n",
    "    new_hdu.header.update(cutout_data.wcs.to_header())\n",
    "\n",
    "    ## Append the cutout to the list\n",
    "    cutout_list.append(new_hdu)\n",
    "\n",
    "## Combine all cutouts into a single HDUList and display information\n",
    "final_hdulist = fits.HDUList(cutout_list)\n",
    "final_hdulist.info()"
   ]
  },
  {
   "cell_type": "markdown",
   "id": "1c5d26cd",
   "metadata": {},
   "source": [
    "## 3. Visualize multiwavelength Euclid Q1 MER cutouts\n",
    "\n",
    "We need to determine the number of images for the grid layout, and then plot each cutout."
   ]
  },
  {
   "cell_type": "code",
   "execution_count": null,
   "id": "a1a4502e",
   "metadata": {},
   "outputs": [],
   "source": [
    "num_images = len(final_hdulist)\n",
    "columns = 4\n",
    "rows = -(-num_images // columns)\n",
    "\n",
    "fig, axes = plt.subplots(rows, columns, figsize=(4 * columns, 4 * rows), subplot_kw={'projection': WCS(final_hdulist[0].header)})\n",
    "axes = axes.flatten()\n",
    "\n",
    "for idx, (ax, filt) in enumerate(zip(axes, filters)):\n",
    "    image_data = final_hdulist[idx].data\n",
    "    norm = ImageNormalize(image_data, interval=PercentileInterval(99.9), stretch=AsinhStretch())\n",
    "    ax.imshow(image_data, cmap='gray', origin='lower', norm=norm)\n",
    "    ax.set_xlabel('RA')\n",
    "    ax.set_ylabel('Dec')\n",
    "    ax.text(0.05, 0.05, filt, color='white', fontsize=14, transform=ax.transAxes, va='bottom', ha='left')\n",
    "\n",
    "## Remove empty subplots if any\n",
    "for ax in axes[num_images:]:\n",
    "    fig.delaxes(ax)\n",
    "\n",
    "plt.tight_layout()\n",
    "plt.show()"
   ]
  },
  {
   "cell_type": "markdown",
   "id": "15c18bd2",
   "metadata": {},
   "source": [
    "## 4. Use the Python package sep to identify and measure sources in the Euclid Q1 MER cutouts\n",
    "\n",
    "First we list all the filters so you can choose which cutout you want to extract sources on. We will choose VIS."
   ]
  },
  {
   "cell_type": "code",
   "execution_count": null,
   "id": "479fb359",
   "metadata": {},
   "outputs": [],
   "source": [
    "filters"
   ]
  },
  {
   "cell_type": "code",
   "execution_count": null,
   "id": "32654c49",
   "metadata": {},
   "outputs": [],
   "source": [
    "filt_index = np.where(filters == 'VIS')[0][0]\n",
    "\n",
    "img1=final_hdulist[filt_index].data"
   ]
  },
  {
   "cell_type": "markdown",
   "id": "1360f39c",
   "metadata": {},
   "source": [
    "### Extract some sources from the cutout using sep (python package based on source extractor)\n",
    "\n",
    "Following the sep tutorial, first create a background for the cutout\n",
    "https://sep.readthedocs.io/en/stable/tutorial.html\n",
    "\n",
    "Need to do some initial steps (swap byte order) with the cutout to prevent sep from crashing. Then create a background model with sep."
   ]
  },
  {
   "cell_type": "code",
   "execution_count": null,
   "id": "d0fea5f9",
   "metadata": {},
   "outputs": [],
   "source": [
    "img2 = img1.byteswap().view(img1.dtype.newbyteorder())\n",
    "c_contiguous_data = np.array(img2, dtype=np.float32)\n",
    "\n",
    "bkg = sep.Background(c_contiguous_data)\n",
    "\n",
    "bkg_image = bkg.back()\n",
    "\n",
    "plt.imshow(bkg_image, interpolation='nearest', cmap='gray', origin='lower')\n",
    "plt.colorbar()"
   ]
  },
  {
   "cell_type": "markdown",
   "id": "9a1ffde9",
   "metadata": {},
   "source": [
    "### Inspect the background rms as well"
   ]
  },
  {
   "cell_type": "code",
   "execution_count": null,
   "id": "0cacb848",
   "metadata": {},
   "outputs": [],
   "source": [
    "bkg_rms = bkg.rms()\n",
    "\n",
    "plt.imshow(bkg_rms, interpolation='nearest', cmap='gray', origin='lower')\n",
    "plt.colorbar();"
   ]
  },
  {
   "cell_type": "markdown",
   "id": "fcf1c923",
   "metadata": {},
   "source": [
    "### Subtract the background"
   ]
  },
  {
   "cell_type": "code",
   "execution_count": null,
   "id": "fcb646a1",
   "metadata": {},
   "outputs": [],
   "source": [
    "data_sub = img2 - bkg"
   ]
  },
  {
   "cell_type": "markdown",
   "id": "f851d3e8",
   "metadata": {},
   "source": [
    "### Source extraction via sep"
   ]
  },
  {
   "cell_type": "code",
   "execution_count": null,
   "id": "f1089f10",
   "metadata": {},
   "outputs": [],
   "source": [
    "######################## User defined section ############################\n",
    "\n",
    "## Sigma threshold to consider this a detection above the global RMS\n",
    "threshold= 3\n",
    "\n",
    "## Minimum number of pixels required for an object. Default is 5.\n",
    "minarea_0=2\n",
    "\n",
    "## Minimum contrast ratio used for object deblending. Default is 0.005. To entirely disable deblending, set to 1.0.\n",
    "deblend_cont_0= 0.005\n",
    "\n",
    "flux_threshold= 0.01\n",
    "##########################################################################\n",
    "\n",
    "\n",
    "sources = sep.extract(data_sub, threshold, err=bkg.globalrms, minarea=minarea_0, deblend_cont=deblend_cont_0)\n",
    "sources_thr = sources[sources['flux'] > flux_threshold]\n",
    "print(\"Found\", len(sources_thr), \"objects above flux threshold\")"
   ]
  },
  {
   "cell_type": "markdown",
   "id": "9590a354",
   "metadata": {},
   "source": [
    "## Lets have a look at the objects that were detected with sep in the cutout\n",
    "\n",
    "\n",
    "We plot the VIS cutout with the sources detected overplotted with a red ellipse"
   ]
  },
  {
   "cell_type": "code",
   "execution_count": null,
   "id": "b73aa266",
   "metadata": {},
   "outputs": [],
   "source": [
    "fig, ax = plt.subplots()\n",
    "m, s = np.mean(data_sub), np.std(data_sub)\n",
    "im = ax.imshow(data_sub, cmap='gray', origin='lower', norm=ImageNormalize(img2, interval=ZScaleInterval(), stretch=SquaredStretch()))\n",
    "\n",
    "## Plot an ellipse for each object detected with sep\n",
    "\n",
    "for i in range(len(sources_thr)):\n",
    "    e = Ellipse(xy=(sources_thr['x'][i], sources_thr['y'][i]),\n",
    "                width=6*sources_thr['a'][i],\n",
    "                height=6*sources_thr['b'][i],\n",
    "                angle=sources_thr['theta'][i] * 180. / np.pi)\n",
    "    e.set_facecolor('none')\n",
    "    e.set_edgecolor('red')\n",
    "    ax.add_artist(e)"
   ]
  },
  {
   "cell_type": "markdown",
   "id": "edc700f2",
   "metadata": {},
   "source": [
    "## About this Notebook\n",
    "\n",
    "**Author**: Tiffany Meshkat (IPAC Scientist)\n",
    "\n",
    "**Updated**: 2025-03-19\n",
    "\n",
    "**Contact:** [the IRSA Helpdesk](https://irsa.ipac.caltech.edu/docs/help_desk.html) with questions or reporting problems."
   ]
  }
 ],
 "metadata": {
  "jupytext": {
   "text_representation": {
    "extension": ".md",
    "format_name": "myst",
    "format_version": 0.13,
    "jupytext_version": "1.16.7"
   }
  },
  "kernelspec": {
   "display_name": "Python 3 (ipykernel)",
   "language": "python",
   "name": "python3"
  },
  "source_map": [
   12,
   16,
   20,
   29,
   33,
   41,
   47,
   51,
   56,
   78,
   83,
   86,
   90,
   94,
   98,
   100,
   104,
   114,
   116,
   120,
   126,
   128,
   132,
   138,
   145,
   149,
   153,
   157,
   163,
   168,
   171,
   175,
   177,
   181,
   185,
   189,
   192,
   196,
   200,
   204,
   210,
   214,
   218,
   226,
   230,
   277,
   283,
   305,
   311,
   315,
   319,
   328,
   338,
   342,
   347,
   351,
   353,
   357,
   376,
   383,
   398
  ]
 },
 "nbformat": 4,
 "nbformat_minor": 5
}