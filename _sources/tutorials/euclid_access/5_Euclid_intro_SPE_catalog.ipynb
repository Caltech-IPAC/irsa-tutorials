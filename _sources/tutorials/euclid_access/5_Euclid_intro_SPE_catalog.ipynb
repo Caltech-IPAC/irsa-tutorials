{
 "cells": [
  {
   "cell_type": "markdown",
   "id": "91e3fe42",
   "metadata": {},
   "source": [
    "# Euclid Q1: SPE catalogs"
   ]
  },
  {
   "cell_type": "markdown",
   "id": "e17ba67a",
   "metadata": {},
   "source": [
    "## Learning Goals"
   ]
  },
  {
   "cell_type": "markdown",
   "id": "3c3c3436",
   "metadata": {},
   "source": [
    "By the end of this tutorial, you will:\n",
    "- Understand the basic characteristics of Euclid Q1 SPE catalogs.\n",
    "- Understand what SPE catalogs are available and how to view the columns in those catalogs.\n",
    "- How to query with ADQL in the SPE lines catalog to find strong H-alpha detections.\n",
    "- How to make a plot the detected line features over the 1D spectra."
   ]
  },
  {
   "cell_type": "markdown",
   "id": "78a73fc4",
   "metadata": {},
   "source": [
    "## Introduction"
   ]
  },
  {
   "cell_type": "markdown",
   "id": "31b0fc86",
   "metadata": {},
   "source": [
    "Euclid launched in July 2023 as a European Space Agency (ESA) mission with involvement by NASA.\n",
    "The primary science goals of Euclid are to better understand the composition and evolution of the dark Universe.\n",
    "The Euclid mission is providing space-based imaging and spectroscopy as well as supporting ground-based imaging to achieve these primary goals.\n",
    "These data will be archived by multiple global repositories, including IRSA, where they will support transformational work in many areas of astrophysics.\n",
    "\n",
    "Euclid Quick Release 1 (Q1) consists of consists of ~30 TB of imaging, spectroscopy, and catalogs covering four non-contiguous fields:\n",
    "Euclid Deep Field North (22.9 sq deg), Euclid Deep Field Fornax (12.1 sq deg), Euclid Deep Field South (28.1 sq deg), and LDN1641.\n",
    "\n",
    "\n",
    "Among the data products included in the Q1 release are multiple catalogs created by the SPE Processing Function.\n",
    "This notebook provides an introduction to these SPE catalogs.\n",
    "If you have questions about this notebook, please contact the [IRSA helpdesk](https://irsa.ipac.caltech.edu/docs/help_desk.html)."
   ]
  },
  {
   "cell_type": "markdown",
   "id": "a2e21a0d",
   "metadata": {},
   "source": [
    "## Imports"
   ]
  },
  {
   "cell_type": "code",
   "execution_count": 1,
   "id": "74516296",
   "metadata": {},
   "outputs": [],
   "source": [
    "# Uncomment the next line to install dependencies if needed\n",
    "# !pip install matplotlib astropy 'astroquery>=0.4.10'"
   ]
  },
  {
   "cell_type": "code",
   "execution_count": 2,
   "id": "ad682baa",
   "metadata": {},
   "outputs": [],
   "source": [
    "import re\n",
    "import urllib\n",
    "\n",
    "import matplotlib.pyplot as plt\n",
    "import numpy as np\n",
    "\n",
    "from astropy.coordinates import SkyCoord\n",
    "from astropy.io import fits\n",
    "from astropy.table import QTable\n",
    "from astropy import units as u\n",
    "from astropy.utils.data import download_file\n",
    "from astropy.visualization import ImageNormalize, PercentileInterval, AsinhStretch, quantity_support\n",
    "\n",
    "from astroquery.ipac.irsa import Irsa"
   ]
  },
  {
   "cell_type": "markdown",
   "id": "b4d2d019",
   "metadata": {},
   "source": [
    "## 1. Find the MER Tile ID that corresponds to a given RA and Dec\n",
    "\n",
    "In this case, choose the coordinates from the first notebook to save time downloading the MER mosaic. Search a radius of 1.5 arcminutes around these coordinates."
   ]
  },
  {
   "cell_type": "code",
   "execution_count": 3,
   "id": "e0da600e",
   "metadata": {},
   "outputs": [],
   "source": [
    "search_radius = 10 * u.arcsec\n",
    "coord = SkyCoord.from_name('HD 168151')"
   ]
  },
  {
   "cell_type": "markdown",
   "id": "9d90ea8f",
   "metadata": {},
   "source": [
    "```{tip}\n",
    "The IRSA SIA collections can be listed using using the ``list_collections`` method, we can filter on the ones containing \"euclid\" in the collection name:\n",
    "\n",
    "    Irsa.list_collections(filter='euclid')\n",
    "```"
   ]
  },
  {
   "cell_type": "markdown",
   "id": "f3c52e29",
   "metadata": {},
   "source": [
    "### Use IRSA to search for all Euclid data on this target\n",
    "\n",
    "This searches specifically in the ``euclid_DpdMerBksMosaic`` collection which is the MER images and catalogs."
   ]
  },
  {
   "cell_type": "code",
   "execution_count": 4,
   "id": "29236471",
   "metadata": {},
   "outputs": [],
   "source": [
    "image_table = Irsa.query_sia(pos=(coord, search_radius), collection='euclid_DpdMerBksMosaic')"
   ]
  },
  {
   "cell_type": "markdown",
   "id": "dc2af1d9",
   "metadata": {},
   "source": [
    "This table lists all MER mosaic images available in this search position. These mosaics include the Euclid VIS, Y, J, H images, as well as ground-based telescopes which have been put on the same pixel scale. For more information, see the [Euclid documentation at IPAC](https://euclid.caltech.edu/page/euclid-faq-tech/).\n",
    "\n",
    "Note that there are various image types are returned as well, we filter out the `science` images from these:"
   ]
  },
  {
   "cell_type": "code",
   "execution_count": 5,
   "id": "d6d756dd",
   "metadata": {},
   "outputs": [
    {
     "data": {
      "text/html": [
       "<div><i>Table length=9</i>\n",
       "<table id=\"table139955071289616\" class=\"table-striped table-bordered table-condensed\">\n",
       "<thead><tr><th>s_ra</th><th>s_dec</th><th>facility_name</th><th>instrument_name</th><th>dataproduct_subtype</th><th>calib_level</th><th>dataproduct_type</th><th>energy_bandpassname</th><th>energy_emband</th><th>obs_id</th><th>s_resolution</th><th>em_min</th><th>em_max</th><th>em_res_power</th><th>proposal_title</th><th>access_url</th><th>access_format</th><th>access_estsize</th><th>t_exptime</th><th>s_region</th><th>obs_collection</th><th>obs_intent</th><th>algorithm_name</th><th>facility_keywords</th><th>instrument_keywords</th><th>environment_photometric</th><th>proposal_id</th><th>proposal_pi</th><th>proposal_project</th><th>target_name</th><th>target_type</th><th>target_standard</th><th>target_moving</th><th>target_keywords</th><th>obs_release_date</th><th>s_xel1</th><th>s_xel2</th><th>s_pixel_scale</th><th>position_timedependent</th><th>t_min</th><th>t_max</th><th>t_resolution</th><th>t_xel</th><th>obs_publisher_did</th><th>s_fov</th><th>em_xel</th><th>pol_states</th><th>pol_xel</th><th>cloud_access</th><th>o_ucd</th><th>upload_row_id</th></tr></thead>\n",
       "<thead><tr><th>deg</th><th>deg</th><th></th><th></th><th></th><th></th><th></th><th></th><th></th><th></th><th>arcsec</th><th>m</th><th>m</th><th></th><th></th><th></th><th></th><th>kbyte</th><th>s</th><th>deg</th><th></th><th></th><th></th><th></th><th></th><th></th><th></th><th></th><th></th><th></th><th></th><th></th><th></th><th></th><th></th><th></th><th></th><th>arcsec</th><th></th><th>d</th><th>d</th><th>s</th><th></th><th></th><th>deg</th><th></th><th></th><th></th><th></th><th></th><th></th></tr></thead>\n",
       "<thead><tr><th>float64</th><th>float64</th><th>object</th><th>object</th><th>object</th><th>int16</th><th>object</th><th>object</th><th>object</th><th>object</th><th>float64</th><th>float64</th><th>float64</th><th>float64</th><th>object</th><th>object</th><th>object</th><th>int64</th><th>float64</th><th>object</th><th>object</th><th>object</th><th>object</th><th>object</th><th>object</th><th>bool</th><th>object</th><th>object</th><th>object</th><th>object</th><th>object</th><th>bool</th><th>bool</th><th>object</th><th>object</th><th>int64</th><th>int64</th><th>float64</th><th>bool</th><th>float64</th><th>float64</th><th>float64</th><th>int64</th><th>object</th><th>float64</th><th>int64</th><th>object</th><th>int64</th><th>object</th><th>object</th><th>int64</th></tr></thead>\n",
       "<tr><td>273.74061163858784</td><td>64.50001388888538</td><td>CFHT</td><td>MegaCam</td><td>science</td><td>3</td><td>image</td><td>R</td><td>Optical</td><td>102158277_MegaCam</td><td>--</td><td>5.61762e-07</td><td>7.22025e-07</td><td>4.0</td><td>Euclid on-the-fly</td><td>https://irsa.ipac.caltech.edu/ibe/data/euclid/q1/MER/102158277/MEGACAM/EUC_MER_BGSUB-MOSAIC-CFIS-R_TILE102158277-CA7AB3_20241025T120300.417407Z_00.00.fits</td><td>image/fits</td><td>1474566</td><td>--</td><td>POLYGON ICRS 274.366109291086 64.76536207691132 273.11511335805267 64.76536180261205 273.1272020139886 64.23206348982802 274.3540218940251 64.23206375763488 274.366109291086 64.76536207691132</td><td>euclid_DpdMerBksMosaic</td><td>SCIENCE</td><td>mosaic</td><td></td><td></td><td>--</td><td></td><td></td><td></td><td></td><td>field</td><td>--</td><td>False</td><td></td><td>2025-05-01 00:00:00</td><td>19200</td><td>19200</td><td>0.100000000000008</td><td>False</td><td>--</td><td>--</td><td>--</td><td>--</td><td>ivo://irsa.ipac/euclid_DpdMerBksMosaic?102158277_MegaCam/R</td><td>0.533333333333376</td><td>--</td><td></td><td>--</td><td>{&quot;aws&quot;: {&quot;bucket_name&quot;: &quot;nasa-irsa-euclid-q1&quot;, &quot;key&quot;:&quot;q1/MER/102158277/MEGACAM/EUC_MER_BGSUB-MOSAIC-CFIS-R_TILE102158277-CA7AB3_20241025T120300.417407Z_00.00.fits&quot;, &quot;region&quot;: &quot;us-east-1&quot;}}</td><td></td><td>1</td></tr>\n",
       "<tr><td>273.74061163858784</td><td>64.50001388888538</td><td>Euclid</td><td>VIS</td><td>science</td><td>3</td><td>image</td><td>VIS</td><td>Optical</td><td>102158277_VIS</td><td>0.16</td><td>5.5e-07</td><td>9e-07</td><td>2.1</td><td>Euclid on-the-fly</td><td>https://irsa.ipac.caltech.edu/ibe/data/euclid/q1/MER/102158277/VIS/EUC_MER_BGSUB-MOSAIC-VIS_TILE102158277-27C4DD_20241025T124812.358980Z_00.00.fits</td><td>image/fits</td><td>1474566</td><td>--</td><td>POLYGON ICRS 274.366109291086 64.76536207691132 273.11511335805267 64.76536180261205 273.1272020139886 64.23206348982802 274.3540218940251 64.23206375763488 274.366109291086 64.76536207691132</td><td>euclid_DpdMerBksMosaic</td><td>SCIENCE</td><td>mosaic</td><td></td><td></td><td>--</td><td></td><td></td><td></td><td></td><td>field</td><td>--</td><td>False</td><td></td><td>2025-05-01 00:00:00</td><td>19200</td><td>19200</td><td>0.100000000000008</td><td>False</td><td>--</td><td>--</td><td>--</td><td>--</td><td>ivo://irsa.ipac/euclid_DpdMerBksMosaic?102158277_VIS/VIS</td><td>0.533333333333376</td><td>--</td><td></td><td>--</td><td>{&quot;aws&quot;: {&quot;bucket_name&quot;: &quot;nasa-irsa-euclid-q1&quot;, &quot;key&quot;:&quot;q1/MER/102158277/VIS/EUC_MER_BGSUB-MOSAIC-VIS_TILE102158277-27C4DD_20241025T124812.358980Z_00.00.fits&quot;, &quot;region&quot;: &quot;us-east-1&quot;}}</td><td></td><td>1</td></tr>\n",
       "<tr><td>273.74061163858784</td><td>64.50001388888538</td><td>CFHT</td><td>MegaCam</td><td>science</td><td>3</td><td>image</td><td>U</td><td>Optical</td><td>102158277_MegaCam</td><td>--</td><td>3.14751e-07</td><td>4.01839e-07</td><td>4.1</td><td>Euclid on-the-fly</td><td>https://irsa.ipac.caltech.edu/ibe/data/euclid/q1/MER/102158277/MEGACAM/EUC_MER_BGSUB-MOSAIC-CFIS-U_TILE102158277-DB8920_20241025T120138.608462Z_00.00.fits</td><td>image/fits</td><td>1474566</td><td>--</td><td>POLYGON ICRS 274.366109291086 64.76536207691132 273.11511335805267 64.76536180261205 273.1272020139886 64.23206348982802 274.3540218940251 64.23206375763488 274.366109291086 64.76536207691132</td><td>euclid_DpdMerBksMosaic</td><td>SCIENCE</td><td>mosaic</td><td></td><td></td><td>--</td><td></td><td></td><td></td><td></td><td>field</td><td>--</td><td>False</td><td></td><td>2025-05-01 00:00:00</td><td>19200</td><td>19200</td><td>0.100000000000008</td><td>False</td><td>--</td><td>--</td><td>--</td><td>--</td><td>ivo://irsa.ipac/euclid_DpdMerBksMosaic?102158277_MegaCam/U</td><td>0.533333333333376</td><td>--</td><td></td><td>--</td><td>{&quot;aws&quot;: {&quot;bucket_name&quot;: &quot;nasa-irsa-euclid-q1&quot;, &quot;key&quot;:&quot;q1/MER/102158277/MEGACAM/EUC_MER_BGSUB-MOSAIC-CFIS-U_TILE102158277-DB8920_20241025T120138.608462Z_00.00.fits&quot;, &quot;region&quot;: &quot;us-east-1&quot;}}</td><td></td><td>1</td></tr>\n",
       "<tr><td>273.74061163858784</td><td>64.50001388888538</td><td>Subaru Telescope</td><td>Hyper Suprime-Cam</td><td>science</td><td>3</td><td>image</td><td>G</td><td>Optical</td><td>102158277_WISHES</td><td>1.58</td><td>3.95422e-07</td><td>5.54729e-07</td><td>3.0</td><td>Euclid on-the-fly</td><td>https://irsa.ipac.caltech.edu/ibe/data/euclid/q1/MER/102158277/HSC/EUC_MER_BGSUB-MOSAIC-WISHES-G_TILE102158277-76C6DB_20241025T120401.488065Z_00.00.fits</td><td>image/fits</td><td>1474566</td><td>--</td><td>POLYGON ICRS 274.366109291086 64.76536207691132 273.11511335805267 64.76536180261205 273.1272020139886 64.23206348982802 274.3540218940251 64.23206375763488 274.366109291086 64.76536207691132</td><td>euclid_DpdMerBksMosaic</td><td>SCIENCE</td><td>mosaic</td><td></td><td></td><td>--</td><td></td><td></td><td></td><td></td><td>field</td><td>--</td><td>False</td><td></td><td>2025-05-01 00:00:00</td><td>19200</td><td>19200</td><td>0.100000000000008</td><td>False</td><td>--</td><td>--</td><td>--</td><td>--</td><td>ivo://irsa.ipac/euclid_DpdMerBksMosaic?102158277_WISHES/G</td><td>0.533333333333376</td><td>--</td><td></td><td>--</td><td>{&quot;aws&quot;: {&quot;bucket_name&quot;: &quot;nasa-irsa-euclid-q1&quot;, &quot;key&quot;:&quot;q1/MER/102158277/HSC/EUC_MER_BGSUB-MOSAIC-WISHES-G_TILE102158277-76C6DB_20241025T120401.488065Z_00.00.fits&quot;, &quot;region&quot;: &quot;us-east-1&quot;}}</td><td></td><td>1</td></tr>\n",
       "<tr><td>273.74061163858784</td><td>64.50001388888538</td><td>Euclid</td><td>NISP</td><td>science</td><td>3</td><td>image</td><td>Y</td><td>Infrared</td><td>102158277_NISP</td><td>0.0878</td><td>9.2e-07</td><td>1.146e-06</td><td>4.6</td><td>Euclid on-the-fly</td><td>https://irsa.ipac.caltech.edu/ibe/data/euclid/q1/MER/102158277/NISP/EUC_MER_BGSUB-MOSAIC-NIR-Y_TILE102158277-1FE0D9_20241025T122512.777703Z_00.00.fits</td><td>image/fits</td><td>1474566</td><td>--</td><td>POLYGON ICRS 274.366109291086 64.76536207691132 273.11511335805267 64.76536180261205 273.1272020139886 64.23206348982802 274.3540218940251 64.23206375763488 274.366109291086 64.76536207691132</td><td>euclid_DpdMerBksMosaic</td><td>SCIENCE</td><td>mosaic</td><td></td><td></td><td>--</td><td></td><td></td><td></td><td></td><td>field</td><td>--</td><td>False</td><td></td><td>2025-05-01 00:00:00</td><td>19200</td><td>19200</td><td>0.100000000000008</td><td>False</td><td>--</td><td>--</td><td>--</td><td>--</td><td>ivo://irsa.ipac/euclid_DpdMerBksMosaic?102158277_NISP/Y</td><td>0.533333333333376</td><td>--</td><td></td><td>--</td><td>{&quot;aws&quot;: {&quot;bucket_name&quot;: &quot;nasa-irsa-euclid-q1&quot;, &quot;key&quot;:&quot;q1/MER/102158277/NISP/EUC_MER_BGSUB-MOSAIC-NIR-Y_TILE102158277-1FE0D9_20241025T122512.777703Z_00.00.fits&quot;, &quot;region&quot;: &quot;us-east-1&quot;}}</td><td></td><td>1</td></tr>\n",
       "<tr><td>273.74061163858784</td><td>64.50001388888538</td><td>Subaru Telescope</td><td>Hyper Suprime-Cam</td><td>science</td><td>3</td><td>image</td><td>Z</td><td>Optical</td><td>102158277_WISHES</td><td>1.15</td><td>8.36385e-07</td><td>9.49057e-07</td><td>7.9</td><td>Euclid on-the-fly</td><td>https://irsa.ipac.caltech.edu/ibe/data/euclid/q1/MER/102158277/HSC/EUC_MER_BGSUB-MOSAIC-WISHES-Z_TILE102158277-E3133D_20241025T120342.580582Z_00.00.fits</td><td>image/fits</td><td>1474566</td><td>--</td><td>POLYGON ICRS 274.366109291086 64.76536207691132 273.11511335805267 64.76536180261205 273.1272020139886 64.23206348982802 274.3540218940251 64.23206375763488 274.366109291086 64.76536207691132</td><td>euclid_DpdMerBksMosaic</td><td>SCIENCE</td><td>mosaic</td><td></td><td></td><td>--</td><td></td><td></td><td></td><td></td><td>field</td><td>--</td><td>False</td><td></td><td>2025-05-01 00:00:00</td><td>19200</td><td>19200</td><td>0.100000000000008</td><td>False</td><td>--</td><td>--</td><td>--</td><td>--</td><td>ivo://irsa.ipac/euclid_DpdMerBksMosaic?102158277_WISHES/Z</td><td>0.533333333333376</td><td>--</td><td></td><td>--</td><td>{&quot;aws&quot;: {&quot;bucket_name&quot;: &quot;nasa-irsa-euclid-q1&quot;, &quot;key&quot;:&quot;q1/MER/102158277/HSC/EUC_MER_BGSUB-MOSAIC-WISHES-Z_TILE102158277-E3133D_20241025T120342.580582Z_00.00.fits&quot;, &quot;region&quot;: &quot;us-east-1&quot;}}</td><td></td><td>1</td></tr>\n",
       "<tr><td>273.74061163858784</td><td>64.50001388888538</td><td>Euclid</td><td>NISP</td><td>science</td><td>3</td><td>image</td><td>H</td><td>Infrared</td><td>102158277_NISP</td><td>0.1026</td><td>1.372e-06</td><td>2e-06</td><td>2.7</td><td>Euclid on-the-fly</td><td>https://irsa.ipac.caltech.edu/ibe/data/euclid/q1/MER/102158277/NISP/EUC_MER_BGSUB-MOSAIC-NIR-H_TILE102158277-797A7D_20241025T122514.635323Z_00.00.fits</td><td>image/fits</td><td>1474566</td><td>--</td><td>POLYGON ICRS 274.366109291086 64.76536207691132 273.11511335805267 64.76536180261205 273.1272020139886 64.23206348982802 274.3540218940251 64.23206375763488 274.366109291086 64.76536207691132</td><td>euclid_DpdMerBksMosaic</td><td>SCIENCE</td><td>mosaic</td><td></td><td></td><td>--</td><td></td><td></td><td></td><td></td><td>field</td><td>--</td><td>False</td><td></td><td>2025-05-01 00:00:00</td><td>19200</td><td>19200</td><td>0.100000000000008</td><td>False</td><td>--</td><td>--</td><td>--</td><td>--</td><td>ivo://irsa.ipac/euclid_DpdMerBksMosaic?102158277_NISP/H</td><td>0.533333333333376</td><td>--</td><td></td><td>--</td><td>{&quot;aws&quot;: {&quot;bucket_name&quot;: &quot;nasa-irsa-euclid-q1&quot;, &quot;key&quot;:&quot;q1/MER/102158277/NISP/EUC_MER_BGSUB-MOSAIC-NIR-H_TILE102158277-797A7D_20241025T122514.635323Z_00.00.fits&quot;, &quot;region&quot;: &quot;us-east-1&quot;}}</td><td></td><td>1</td></tr>\n",
       "<tr><td>273.74061163858784</td><td>64.50001388888538</td><td>Pan-STARRS</td><td>Pan-STARRS</td><td>science</td><td>3</td><td>image</td><td>I</td><td>Optical</td><td>102158277_PANSTARRS</td><td>1.11</td><td>6.78317e-07</td><td>8.30624e-07</td><td>5.0</td><td>Euclid on-the-fly</td><td>https://irsa.ipac.caltech.edu/ibe/data/euclid/q1/MER/102158277/GPC/EUC_MER_BGSUB-MOSAIC-PANSTARRS-I_TILE102158277-C2B970_20241025T120200.727193Z_00.00.fits</td><td>image/fits</td><td>1474566</td><td>--</td><td>POLYGON ICRS 274.366109291086 64.76536207691132 273.11511335805267 64.76536180261205 273.1272020139886 64.23206348982802 274.3540218940251 64.23206375763488 274.366109291086 64.76536207691132</td><td>euclid_DpdMerBksMosaic</td><td>SCIENCE</td><td>mosaic</td><td></td><td></td><td>--</td><td></td><td></td><td></td><td></td><td>field</td><td>--</td><td>False</td><td></td><td>2025-05-01 00:00:00</td><td>19200</td><td>19200</td><td>0.100000000000008</td><td>False</td><td>--</td><td>--</td><td>--</td><td>--</td><td>ivo://irsa.ipac/euclid_DpdMerBksMosaic?102158277_PANSTARRS/I</td><td>0.533333333333376</td><td>--</td><td></td><td>--</td><td>{&quot;aws&quot;: {&quot;bucket_name&quot;: &quot;nasa-irsa-euclid-q1&quot;, &quot;key&quot;:&quot;q1/MER/102158277/GPC/EUC_MER_BGSUB-MOSAIC-PANSTARRS-I_TILE102158277-C2B970_20241025T120200.727193Z_00.00.fits&quot;, &quot;region&quot;: &quot;us-east-1&quot;}}</td><td></td><td>1</td></tr>\n",
       "<tr><td>273.74061163858784</td><td>64.50001388888538</td><td>Euclid</td><td>NISP</td><td>science</td><td>3</td><td>image</td><td>J</td><td>Infrared</td><td>102158277_NISP</td><td>0.094</td><td>1.146e-06</td><td>1.372e-06</td><td>5.6</td><td>Euclid on-the-fly</td><td>https://irsa.ipac.caltech.edu/ibe/data/euclid/q1/MER/102158277/NISP/EUC_MER_BGSUB-MOSAIC-NIR-J_TILE102158277-DA51EA_20241025T122533.612365Z_00.00.fits</td><td>image/fits</td><td>1474566</td><td>--</td><td>POLYGON ICRS 274.366109291086 64.76536207691132 273.11511335805267 64.76536180261205 273.1272020139886 64.23206348982802 274.3540218940251 64.23206375763488 274.366109291086 64.76536207691132</td><td>euclid_DpdMerBksMosaic</td><td>SCIENCE</td><td>mosaic</td><td></td><td></td><td>--</td><td></td><td></td><td></td><td></td><td>field</td><td>--</td><td>False</td><td></td><td>2025-05-01 00:00:00</td><td>19200</td><td>19200</td><td>0.100000000000008</td><td>False</td><td>--</td><td>--</td><td>--</td><td>--</td><td>ivo://irsa.ipac/euclid_DpdMerBksMosaic?102158277_NISP/J</td><td>0.533333333333376</td><td>--</td><td></td><td>--</td><td>{&quot;aws&quot;: {&quot;bucket_name&quot;: &quot;nasa-irsa-euclid-q1&quot;, &quot;key&quot;:&quot;q1/MER/102158277/NISP/EUC_MER_BGSUB-MOSAIC-NIR-J_TILE102158277-DA51EA_20241025T122533.612365Z_00.00.fits&quot;, &quot;region&quot;: &quot;us-east-1&quot;}}</td><td></td><td>1</td></tr>\n",
       "</table></div>"
      ],
      "text/plain": [
       "<Table length=9>\n",
       "       s_ra              s_dec        facility_name   ... o_ucd  upload_row_id\n",
       "       deg                deg                         ...                     \n",
       "     float64            float64           object      ... object     int64    \n",
       "------------------ ----------------- ---------------- ... ------ -------------\n",
       "273.74061163858784 64.50001388888538             CFHT ...                    1\n",
       "273.74061163858784 64.50001388888538           Euclid ...                    1\n",
       "273.74061163858784 64.50001388888538             CFHT ...                    1\n",
       "273.74061163858784 64.50001388888538 Subaru Telescope ...                    1\n",
       "273.74061163858784 64.50001388888538           Euclid ...                    1\n",
       "273.74061163858784 64.50001388888538 Subaru Telescope ...                    1\n",
       "273.74061163858784 64.50001388888538           Euclid ...                    1\n",
       "273.74061163858784 64.50001388888538       Pan-STARRS ...                    1\n",
       "273.74061163858784 64.50001388888538           Euclid ...                    1"
      ]
     },
     "execution_count": 5,
     "metadata": {},
     "output_type": "execute_result"
    }
   ],
   "source": [
    "science_images = image_table[image_table['dataproduct_subtype'] == 'science']\n",
    "science_images"
   ]
  },
  {
   "cell_type": "markdown",
   "id": "25974025",
   "metadata": {},
   "source": [
    "### Choose the VIS image and pull the Tile ID"
   ]
  },
  {
   "cell_type": "markdown",
   "id": "fe474682",
   "metadata": {},
   "source": [
    "Extract the tile ID from the ``obs_id`` column. The values in this column are made a combination of the 9 digit tile ID and the abbreviation of the instrument."
   ]
  },
  {
   "cell_type": "code",
   "execution_count": 6,
   "id": "b10b0a52",
   "metadata": {},
   "outputs": [
    {
     "name": "stdout",
     "output_type": "stream",
     "text": [
      "The MER tile ID for this object is : 102158277\n"
     ]
    }
   ],
   "source": [
    "tileID = science_images[science_images['energy_bandpassname'] == 'VIS']['obs_id'][0][:9]\n",
    "\n",
    "print(f'The MER tile ID for this object is : {tileID}')"
   ]
  },
  {
   "cell_type": "markdown",
   "id": "c15bc994",
   "metadata": {},
   "source": [
    "## 2. Download SPE catalog from IRSA directly to this notebook\n",
    "\n",
    "Search for all tables in IRSA labeled as euclid"
   ]
  },
  {
   "cell_type": "code",
   "execution_count": 7,
   "id": "d2de8614",
   "metadata": {},
   "outputs": [
    {
     "data": {
      "text/plain": [
       "{'euclid_q1_mer_catalogue': 'Euclid Q1 MER Catalog',\n",
       " 'euclid_q1_mer_morphology': 'Euclid Q1 MER Morphology',\n",
       " 'euclid_q1_phz_photo_z': 'Euclid Q1 PHZ Photo-z Catalog',\n",
       " 'euclid_q1_spectro_zcatalog_spe_quality': 'Euclid Q1 SPE Redshift Catalog - Quality',\n",
       " 'euclid_q1_spectro_zcatalog_spe_classification': 'Euclid Q1 SPE Redshift Catalog - Classification',\n",
       " 'euclid_q1_spectro_zcatalog_spe_galaxy_candidates': 'Euclid Q1 SPE Redshift Catalog - Galaxy Candidates',\n",
       " 'euclid_q1_spectro_zcatalog_spe_star_candidates': 'Euclid Q1 SPE Redshift Catalog - Star Candidates',\n",
       " 'euclid_q1_spectro_zcatalog_spe_qso_candidates': 'Euclid Q1 SPE Redshift Catalog - QSO Candidates',\n",
       " 'euclid_q1_spe_lines_line_features': 'Euclid Q1 SPE Lines Catalog - Spectral Lines',\n",
       " 'euclid_q1_spe_lines_continuum_features': 'Euclid Q1 SPE Lines Catalog - Continuum Features',\n",
       " 'euclid_q1_spe_lines_atomic_indices': 'Euclid Q1 SPE Lines Catalog - Atomic Indices',\n",
       " 'euclid_q1_spe_lines_molecular_indices': 'Euclid Q1 SPE Lines Catalog - Molecular Indices',\n",
       " 'euclid.tileid_association_q1': 'Euclid Q1 TILEID to Observation ID Association Table',\n",
       " 'euclid.objectid_spectrafile_association_q1': 'Euclid Q1 Object ID to Spectral File Association Table',\n",
       " 'euclid.observation_euclid_q1': 'Euclid Q1 CAOM Observation Table',\n",
       " 'euclid.plane_euclid_q1': 'Euclid Q1 CAOM Plane Table',\n",
       " 'euclid.artifact_euclid_q1': 'Euclid Q1 CAOM Artifact Table'}"
      ]
     },
     "execution_count": 7,
     "metadata": {},
     "output_type": "execute_result"
    }
   ],
   "source": [
    "Irsa.list_catalogs(filter='euclid')"
   ]
  },
  {
   "cell_type": "code",
   "execution_count": 8,
   "id": "5963a364",
   "metadata": {},
   "outputs": [],
   "source": [
    "table_mer = 'euclid_q1_mer_catalogue'\n",
    "table_galaxy_candidates = 'euclid_q1_spectro_zcatalog_spe_galaxy_candidates'\n",
    "table_1dspectra = 'euclid.objectid_spectrafile_association_q1'\n",
    "table_lines = 'euclid_q1_spe_lines_line_features'"
   ]
  },
  {
   "cell_type": "markdown",
   "id": "c59f159f",
   "metadata": {},
   "source": [
    "### Learn some information about the table:\n",
    "- How many columns are there?\n",
    "- List the column names"
   ]
  },
  {
   "cell_type": "code",
   "execution_count": 9,
   "id": "d0fb65d8",
   "metadata": {},
   "outputs": [
    {
     "name": "stdout",
     "output_type": "stream",
     "text": [
      "476\n"
     ]
    }
   ],
   "source": [
    "columns_info = Irsa.list_columns(catalog=table_mer)\n",
    "print(len(columns_info))"
   ]
  },
  {
   "cell_type": "code",
   "execution_count": 10,
   "id": "9993ff78",
   "metadata": {},
   "outputs": [
    {
     "data": {
      "text/html": [
       "<div><i>Table length=5</i>\n",
       "<table id=\"table139954898235472\" class=\"table-striped table-bordered table-condensed\">\n",
       "<thead><tr><th>column_index</th><th>schema_name</th><th>table_name</th><th>column_name</th><th>description</th><th>unit</th><th>ucd</th><th>utype</th><th>datatype</th><th>arraysize</th><th>size</th><th>principal</th><th>indexed</th><th>std</th><th>irsa_label</th><th>xtype</th><th>irsa_format</th><th>irsa_ref</th></tr></thead>\n",
       "<thead><tr><th>int32</th><th>object</th><th>object</th><th>object</th><th>object</th><th>object</th><th>object</th><th>object</th><th>object</th><th>int32</th><th>int32</th><th>int32</th><th>int32</th><th>int32</th><th>object</th><th>object</th><th>object</th><th>object</th></tr></thead>\n",
       "<tr><td>1</td><td>euclid</td><td>euclid.objectid_spectrafile_association_q1</td><td>objectid</td><td>Euclid Object ID</td><td></td><td></td><td></td><td>long</td><td>1</td><td>1</td><td>1</td><td>0</td><td>0</td><td>objectid</td><td></td><td>20d</td><td></td></tr>\n",
       "<tr><td>2</td><td>euclid</td><td>euclid.objectid_spectrafile_association_q1</td><td>tileid</td><td>Euclid Tile ID</td><td></td><td></td><td></td><td>long</td><td>1</td><td>1</td><td>1</td><td>0</td><td>0</td><td>tileid</td><td></td><td>20d</td><td></td></tr>\n",
       "<tr><td>3</td><td>euclid</td><td>euclid.objectid_spectrafile_association_q1</td><td>uri</td><td>Relative path to combined spectrum file containing spectrum for objectid</td><td></td><td></td><td></td><td>char</td><td>1</td><td>1</td><td>1</td><td>0</td><td>0</td><td>uri</td><td></td><td>151.151s</td><td></td></tr>\n",
       "<tr><td>4</td><td>euclid</td><td>euclid.objectid_spectrafile_association_q1</td><td>hdu</td><td>HDU of combined spectrum file containing spectrum for objectid</td><td></td><td></td><td></td><td>long</td><td>1</td><td>1</td><td>1</td><td>0</td><td>0</td><td>hdu</td><td></td><td>20d</td><td></td></tr>\n",
       "<tr><td>5</td><td>euclid</td><td>euclid.objectid_spectrafile_association_q1</td><td>cntr</td><td>entry counter (key) number (unique within table)</td><td></td><td>meta.record;meta.main</td><td></td><td>long</td><td>1</td><td>1</td><td>0</td><td>1</td><td>0</td><td>cntr</td><td></td><td>12d</td><td></td></tr>\n",
       "</table></div>"
      ],
      "text/plain": [
       "<Table length=5>\n",
       "column_index schema_name ... irsa_format irsa_ref\n",
       "   int32        object   ...    object    object \n",
       "------------ ----------- ... ----------- --------\n",
       "           1      euclid ...         20d         \n",
       "           2      euclid ...         20d         \n",
       "           3      euclid ...    151.151s         \n",
       "           4      euclid ...         20d         \n",
       "           5      euclid ...         12d         "
      ]
     },
     "execution_count": 10,
     "metadata": {},
     "output_type": "execute_result"
    }
   ],
   "source": [
    "Irsa.list_columns(catalog=table_1dspectra, full=True)"
   ]
  },
  {
   "cell_type": "code",
   "execution_count": 11,
   "id": "869b24a2",
   "metadata": {},
   "outputs": [
    {
     "data": {
      "text/plain": [
       "{'object_id': 'Euclid unique source identifier',\n",
       " 'ra': 'Source barycenter RA coordinate (SExtractor ALPHA_J2000) decimal degrees',\n",
       " 'dec': 'Source barycenter DEC coordinate (SExtractor DELTA_J2000) decimal degrees',\n",
       " 'right_ascension_psf_fitting': 'Source RA coordinate derived by the PSF-fitting photometry method',\n",
       " 'declination_psf_fitting': 'Source DEC coordinate derived by the PSF-fitting photometry method',\n",
       " 'segmentation_map_id': 'Source ID in the associated segmentation map',\n",
       " 'vis_det': 'Flag to indicate if the source is detected in the VIS mosaic (1) or is only detected in the NIR mosaic (0)',\n",
       " 'flux_vis_1fwhm_aper': 'VIS band source aperture photometry flux (1 FWHM diameter) on PSF-matched images',\n",
       " 'flux_vis_2fwhm_aper': 'VIS band source aperture photometry flux (2 FWHM diameter) on PSF-matched images',\n",
       " 'flux_vis_3fwhm_aper': 'VIS band source aperture photometry flux (3 FWHM diameter) on PSF-matched images',\n",
       " 'flux_vis_4fwhm_aper': 'VIS band source aperture photometry flux (4 FWHM diameter) on PSF-matched images',\n",
       " 'flux_g_ext_jpcam_1fwhm_aper': 'Gext JPCAM band source aperture photometry flux (1 FWHM diameter) on PSF-matched images',\n",
       " 'flux_g_ext_jpcam_2fwhm_aper': 'Gext JPCAM band source aperture photometry flux (2 FWHM diameter) on PSF-matched images',\n",
       " 'flux_g_ext_jpcam_3fwhm_aper': 'Gext JPCAM band source aperture photometry flux (3 FWHM diameter) on PSF-matched images',\n",
       " 'flux_g_ext_jpcam_4fwhm_aper': 'Gext JPCAM band source aperture photometry flux (4 FWHM diameter) on PSF-matched images',\n",
       " 'flux_i_ext_panstarrs_1fwhm_aper': 'Iext PS band source aperture photometry flux (1 FWHM diameter) on PSF-matched images',\n",
       " 'flux_i_ext_panstarrs_2fwhm_aper': 'Iext PS band source aperture photometry flux (2 FWHM diameter) on PSF-matched images',\n",
       " 'flux_i_ext_panstarrs_3fwhm_aper': 'Iext PS band source aperture photometry flux (3 FWHM diameter) on PSF-matched images',\n",
       " 'flux_i_ext_panstarrs_4fwhm_aper': 'Iext PS band source aperture photometry flux (4 FWHM diameter) on PSF-matched images',\n",
       " 'flux_z_ext_panstarrs_1fwhm_aper': 'Zext PS band source aperture photometry flux (1 FWHM diameter) on PSF-matched images',\n",
       " 'flux_z_ext_panstarrs_2fwhm_aper': 'Zext PS band source aperture photometry flux (2 FWHM diameter) on PSF-matched images',\n",
       " 'flux_z_ext_panstarrs_3fwhm_aper': 'Zext PS band source aperture photometry flux (3 FWHM diameter) on PSF-matched images',\n",
       " 'flux_z_ext_panstarrs_4fwhm_aper': 'Zext PS band source aperture photometry flux (4 FWHM diameter) on PSF-matched images',\n",
       " 'flux_g_ext_hsc_1fwhm_aper': 'Gext HSC band source aperture photometry flux (1 FWHM diameter) on PSF-matched images',\n",
       " 'flux_g_ext_hsc_2fwhm_aper': 'Gext HSC band source aperture photometry flux (2 FWHM diameter) on PSF-matched images',\n",
       " 'flux_g_ext_hsc_3fwhm_aper': 'Gext HSC band source aperture photometry flux (3 FWHM diameter) on PSF-matched images',\n",
       " 'flux_g_ext_hsc_4fwhm_aper': 'Gext HSC band source aperture photometry flux (4 FWHM diameter) on PSF-matched images',\n",
       " 'flux_z_ext_hsc_1fwhm_aper': 'Zext HSC band source aperture photometry flux (1 FWHM diameter) on PSF-matched images',\n",
       " 'flux_z_ext_hsc_2fwhm_aper': 'Zext HSC band source aperture photometry flux (2 FWHM diameter) on PSF-matched images',\n",
       " 'flux_z_ext_hsc_3fwhm_aper': 'Zext HSC band source aperture photometry flux (3 FWHM diameter) on PSF-matched images',\n",
       " 'flux_z_ext_hsc_4fwhm_aper': 'Zext HSC band source aperture photometry flux (4 FWHM diameter) on PSF-matched images',\n",
       " 'fluxerr_vis_1fwhm_aper': 'VIS band source aperture photometry flux (1 FWHM diameter) on PSF-matched images error',\n",
       " 'fluxerr_vis_2fwhm_aper': 'VIS band source aperture photometry flux (2 FWHM diameter) on PSF-matched images error',\n",
       " 'fluxerr_vis_3fwhm_aper': 'VIS band source aperture photometry flux (3 FWHM diameter) on PSF-matched images error',\n",
       " 'fluxerr_vis_4fwhm_aper': 'VIS band source aperture photometry flux (4 FWHM diameter) on PSF-matched images error',\n",
       " 'fluxerr_y_1fwhm_aper': 'NIR Y band source aperture photometry flux (1 FWHM diameter) on PSF-matched images error',\n",
       " 'fluxerr_y_2fwhm_aper': 'NIR Y band source aperture photometry flux (2 FWHM diameter) on PSF-matched images error',\n",
       " 'fluxerr_y_3fwhm_aper': 'NIR Y band source aperture photometry flux (3 FWHM diameter) on PSF-matched images error',\n",
       " 'fluxerr_y_4fwhm_aper': 'NIR Y band source aperture photometry flux (4 FWHM diameter) on PSF-matched images error',\n",
       " 'fluxerr_j_1fwhm_aper': 'NIR J band source aperture photometry flux (1 FWHM diameter) on PSF-matched images error',\n",
       " 'fluxerr_j_2fwhm_aper': 'NIR J band source aperture photometry flux (2 FWHM diameter) on PSF-matched images error',\n",
       " 'fluxerr_j_3fwhm_aper': 'NIR J band source aperture photometry flux (3 FWHM diameter) on PSF-matched images error',\n",
       " 'fluxerr_j_4fwhm_aper': 'NIR J band source aperture photometry flux (4 FWHM diameter) on PSF-matched images error',\n",
       " 'fluxerr_h_1fwhm_aper': 'NIR H band source aperture photometry flux (1 FWHM diameter) on PSF-matched images error',\n",
       " 'fluxerr_h_2fwhm_aper': 'NIR H band source aperture photometry flux (2 FWHM diameter) on PSF-matched images error',\n",
       " 'fluxerr_h_3fwhm_aper': 'NIR H band source aperture photometry flux (3 FWHM diameter) on PSF-matched images error',\n",
       " 'fluxerr_h_4fwhm_aper': 'NIR H band source aperture photometry flux (4 FWHM diameter) on PSF-matched images error',\n",
       " 'fluxerr_nir_stack_1fwhm_aper': 'NIR stack band source aperture photometry flux (1 FWHM diameter) on PSF-matched images error',\n",
       " 'fluxerr_nir_stack_2fwhm_aper': 'NIR stack band source aperture photometry flux (2 FWHM diameter) on PSF-matched images error',\n",
       " 'fluxerr_nir_stack_3fwhm_aper': 'NIR stack band source aperture photometry flux (3 FWHM diameter) on PSF-matched images error',\n",
       " 'fluxerr_nir_stack_4fwhm_aper': 'NIR stack band source aperture photometry flux (4 FWHM diameter) on PSF-matched images error',\n",
       " 'fluxerr_u_ext_decam_1fwhm_aper': 'Uext DECam band source aperture photometry flux (1 FWHM diameter) on PSF-matched images error',\n",
       " 'fluxerr_u_ext_decam_2fwhm_aper': 'Uext DECam band source aperture photometry flux (2 FWHM diameter) on PSF-matched images error',\n",
       " 'fluxerr_u_ext_decam_3fwhm_aper': 'Uext DECam band source aperture photometry flux (3 FWHM diameter) on PSF-matched images error',\n",
       " 'fluxerr_u_ext_decam_4fwhm_aper': 'Uext DECam band source aperture photometry flux (4 FWHM diameter) on PSF-matched images error',\n",
       " 'fluxerr_g_ext_decam_1fwhm_aper': 'Gext DECam band source aperture photometry flux (1 FWHM diameter) on PSF-matched images error',\n",
       " 'fluxerr_g_ext_decam_2fwhm_aper': 'Gext DECam band source aperture photometry flux (2 FWHM diameter) on PSF-matched images error',\n",
       " 'fluxerr_g_ext_decam_3fwhm_aper': 'Gext DECam band source aperture photometry flux (3 FWHM diameter) on PSF-matched images error',\n",
       " 'fluxerr_g_ext_decam_4fwhm_aper': 'Gext DECam band source aperture photometry flux (4 FWHM diameter) on PSF-matched images error',\n",
       " 'fluxerr_r_ext_decam_1fwhm_aper': 'Rext DECam band source aperture photometry flux (1 FWHM diameter) on PSF-matched images error',\n",
       " 'fluxerr_r_ext_decam_2fwhm_aper': 'Rext DECam band source aperture photometry flux (2 FWHM diameter) on PSF-matched images error',\n",
       " 'fluxerr_r_ext_decam_3fwhm_aper': 'Rext DECam band source aperture photometry flux (3 FWHM diameter) on PSF-matched images error',\n",
       " 'fluxerr_r_ext_decam_4fwhm_aper': 'Rext DECam band source aperture photometry flux (4 FWHM diameter) on PSF-matched images error',\n",
       " 'fluxerr_i_ext_decam_1fwhm_aper': 'Iext DECam band source aperture photometry flux (1 FWHM diameter) on PSF-matched images error',\n",
       " 'fluxerr_i_ext_decam_2fwhm_aper': 'Iext DECam band source aperture photometry flux (2 FWHM diameter) on PSF-matched images error',\n",
       " 'fluxerr_i_ext_decam_3fwhm_aper': 'Iext DECam band source aperture photometry flux (3 FWHM diameter) on PSF-matched images error',\n",
       " 'flux_u_ext_lsst_templfit': 'Uext LSST band source template fitting flux (TPHOT measurement)',\n",
       " 'flux_g_ext_lsst_templfit': 'Gext LSST band source template fitting flux (TPHOT measurement)',\n",
       " 'flux_r_ext_lsst_templfit': 'Rext LSST band source template fitting flux (TPHOT measurement)',\n",
       " 'flux_i_ext_lsst_templfit': 'Iext LSST band source template fitting flux (TPHOT measurement)',\n",
       " 'flux_z_ext_lsst_templfit': 'Zext LSST band source template fitting flux (TPHOT measurement)',\n",
       " 'flux_u_ext_megacam_templfit': 'Uext Megacam band source template fitting flux (TPHOT measurement)',\n",
       " 'flux_r_ext_megacam_templfit': 'Rext Megacam band source template fitting flux (TPHOT measurement)',\n",
       " 'flux_g_ext_jpcam_templfit': 'Gext JPCAM band source template fitting flux (TPHOT measurement)',\n",
       " 'flux_i_ext_panstarrs_templfit': 'Iext PS band source template fitting flux (TPHOT measurement)',\n",
       " 'flux_z_ext_panstarrs_templfit': 'Zext PS band source template fitting flux (TPHOT measurement)',\n",
       " 'flux_g_ext_hsc_templfit': 'Gext HSC band source template fitting flux (TPHOT measurement)',\n",
       " 'flux_z_ext_hsc_templfit': 'Zext HSC band source template fitting flux (TPHOT measurement)',\n",
       " 'fluxerr_y_templfit': 'NIR Y band source template fitting flux error (TPHOT measurement)',\n",
       " 'fluxerr_j_templfit': 'NIR J band source template fitting flux error (TPHOT measurement)',\n",
       " 'fluxerr_h_templfit': 'NIR H band source template fitting flux error (TPHOT measurement)',\n",
       " 'fluxerr_u_ext_decam_templfit': 'Uext DECam band source template fitting flux error (TPHOT measurement)',\n",
       " 'fluxerr_g_ext_decam_templfit': 'Gext DECam band source template fitting flux error (TPHOT measurement)',\n",
       " 'fluxerr_r_ext_decam_templfit': 'Rext DECam band source template fitting flux error (TPHOT measurement)',\n",
       " 'fluxerr_i_ext_decam_templfit': 'Iext DECam band source template fitting flux error (TPHOT measurement)',\n",
       " 'fluxerr_z_ext_decam_templfit': 'Zext DECam band source template fitting flux error (TPHOT measurement)',\n",
       " 'fluxerr_u_ext_lsst_templfit': 'Uext LSST band source template fitting flux error (TPHOT measurement)',\n",
       " 'fluxerr_g_ext_lsst_templfit': 'Gext LSST band source template fitting flux error (TPHOT measurement)',\n",
       " 'fluxerr_r_ext_lsst_templfit': 'Rext LSST band source template fitting flux error (TPHOT measurement)',\n",
       " 'fluxerr_i_ext_lsst_templfit': 'Iext LSST band source template fitting flux error (TPHOT measurement)',\n",
       " 'fluxerr_z_ext_lsst_templfit': 'Zext LSST band source template fitting flux error (TPHOT measurement)',\n",
       " 'fluxerr_u_ext_megacam_templfit': 'Uext Megacam band source template fitting flux error (TPHOT measurement)',\n",
       " 'fluxerr_r_ext_megacam_templfit': 'Rext Megacam band source template fitting flux error (TPHOT measurement)',\n",
       " 'fluxerr_g_ext_jpcam_templfit': 'Gext JPCAM band source template fitting flux error (TPHOT measurement)',\n",
       " 'fluxerr_i_ext_panstarrs_templfit': 'Iext PS band source template fitting flux error (TPHOT measurement)',\n",
       " 'fluxerr_z_ext_panstarrs_templfit': 'Zext PS band source template fitting flux error (TPHOT measurement)',\n",
       " 'fluxerr_g_ext_hsc_templfit': 'Gext HSC band source template fitting flux error (TPHOT measurement)',\n",
       " 'fluxerr_z_ext_hsc_templfit': 'Zext HSC band source template fitting flux error (TPHOT measurement)',\n",
       " 'flux_vis_to_y_templfit': 'VIS band source flux on a VIS image PSF-matched to NIR Y band (TPHOT measurement)',\n",
       " 'flux_vis_to_j_templfit': 'VIS band source flux on a VIS image PSF-matched to NIR J band (TPHOT measurement)',\n",
       " 'flux_vis_to_h_templfit': 'VIS band source flux on a VIS image PSF-matched to NIR H band (TPHOT measurement)',\n",
       " 'flux_vis_to_u_ext_decam_templfit': 'VIS band source flux on a VIS image PSF-matched to Uext DECam band (TPHOT measurement)',\n",
       " 'flux_vis_to_g_ext_decam_templfit': 'VIS band source flux on a VIS image PSF-matched to Gext DECam band (TPHOT measurement)',\n",
       " 'flux_vis_to_r_ext_decam_templfit': 'VIS band source flux on a VIS image PSF-matched to Rext DECam band (TPHOT measurement)',\n",
       " 'flux_vis_to_i_ext_decam_templfit': 'VIS band source flux on a VIS image PSF-matched to Iext DECam band (TPHOT measurement)',\n",
       " 'flux_vis_to_z_ext_decam_templfit': 'VIS band source flux on a VIS image PSF-matched to Zext DECam band (TPHOT measurement)',\n",
       " 'flux_vis_to_u_ext_lsst_templfit': 'VIS band source flux on a VIS image PSF-matched to Uext LSST band (TPHOT measurement)',\n",
       " 'flux_vis_to_g_ext_lsst_templfit': 'VIS band source flux on a VIS image PSF-matched to Gext LSST band (TPHOT measurement)',\n",
       " 'flux_vis_to_r_ext_lsst_templfit': 'VIS band source flux on a VIS image PSF-matched to Rext LSST band (TPHOT measurement)',\n",
       " 'flux_vis_to_i_ext_lsst_templfit': 'VIS band source flux on a VIS image PSF-matched to Iext LSST band (TPHOT measurement)',\n",
       " 'flux_vis_to_z_ext_lsst_templfit': 'VIS band source flux on a VIS image PSF-matched to Zext LSST band (TPHOT measurement)',\n",
       " 'flux_vis_to_u_ext_megacam_templfit': 'VIS band source flux on a VIS image PSF-matched to Uext Megacam band (TPHOT measurement)',\n",
       " 'flux_vis_to_r_ext_megacam_templfit': 'VIS band source flux on a VIS image PSF-matched to Rext Megacam band (TPHOT measurement)',\n",
       " 'fluxerr_g_ext_lsst_sersic': 'Gext LSST band source flux error from the Sersic fit',\n",
       " 'fluxerr_r_ext_lsst_sersic': 'Rext LSST band source flux error from the Sersic fit',\n",
       " 'fluxerr_i_ext_lsst_sersic': 'Iext LSST band source flux error from the Sersic fit',\n",
       " 'fluxerr_z_ext_lsst_sersic': 'Zext LSST band source flux error from the Sersic fit',\n",
       " 'fluxerr_u_ext_megacam_sersic': 'Uext Megacam band source flux error from the Sersic fit',\n",
       " 'fluxerr_r_ext_megacam_sersic': 'Rext Megacam band source flux error from the Sersic fit',\n",
       " 'fluxerr_g_ext_jpcam_sersic': 'Gext JPCAM band source flux error from the Sersic fit',\n",
       " 'fluxerr_i_ext_panstarrs_sersic': 'Iext PS band source flux error from the Sersic fit',\n",
       " 'fluxerr_z_ext_panstarrs_sersic': 'Zext PS band source flux error from the Sersic fit',\n",
       " 'fluxerr_g_ext_hsc_sersic': 'Gext HSC band source flux error from the Sersic fit',\n",
       " 'fluxerr_z_ext_hsc_sersic': 'Zext HSC band source flux error from the Sersic fit',\n",
       " 'flux_vis_disk_sersic': 'VIS band source flux from the Disk+Sersic fit',\n",
       " 'flux_y_disk_sersic': 'NIR Y band source flux from the Disk+Sersic fit',\n",
       " 'flux_j_disk_sersic': 'NIR J band source flux from the Disk+Sersic fit',\n",
       " 'flux_h_disk_sersic': 'NIR H band source flux from the Disk+Sersic fit',\n",
       " 'flux_u_ext_decam_disk_sersic': 'Uext DECam band source flux from the Disk+Sersic fit',\n",
       " 'flux_g_ext_decam_disk_sersic': 'Gext DECam band source flux from the Disk+Sersic fit',\n",
       " 'flux_r_ext_decam_disk_sersic': 'Rext DECam band source flux from the Disk+Sersic fit',\n",
       " 'flux_i_ext_decam_disk_sersic': 'Iext DECam band source flux from the Disk+Sersic fit',\n",
       " 'flux_z_ext_decam_disk_sersic': 'Zext DECam band source flux from the Disk+Sersic fit',\n",
       " 'flux_u_ext_lsst_disk_sersic': 'Uext LSST band source flux from the Disk+Sersic fit',\n",
       " 'flux_g_ext_lsst_disk_sersic': 'Gext LSST band source flux from the Disk+Sersic fit',\n",
       " 'flux_r_ext_lsst_disk_sersic': 'Rext LSST band source flux from the Disk+Sersic fit',\n",
       " 'flux_i_ext_lsst_disk_sersic': 'Iext LSST band source flux from the Disk+Sersic fit',\n",
       " 'flux_z_ext_lsst_disk_sersic': 'Zext LSST band source flux from the Disk+Sersic fit',\n",
       " 'flux_u_ext_megacam_disk_sersic': 'Uext Megacam band source flux from the Disk+Sersic fit',\n",
       " 'flux_r_ext_megacam_disk_sersic': 'Rext Megacam band source flux from the Disk+Sersic fit',\n",
       " 'flux_g_ext_jpcam_disk_sersic': 'Gext JPCAM band source flux from the Disk+Sersic fit',\n",
       " 'flux_i_ext_panstarrs_disk_sersic': 'Iext PS band source flux from the Disk+Sersic fit',\n",
       " 'flux_z_ext_panstarrs_disk_sersic': 'Zext PS band source flux from the Disk+Sersic fit',\n",
       " 'flux_g_ext_hsc_disk_sersic': 'Gext HSC band source flux from the Disk+Sersic fit',\n",
       " 'flux_z_ext_hsc_disk_sersic': 'Zext HSC band source flux from the Disk+Sersic fit',\n",
       " 'fluxerr_vis_disk_sersic': 'VIS band source flux error from the Disk+Sersic fit',\n",
       " 'fluxerr_y_disk_sersic': 'NIR Y band source flux error from the Disk+Sersic fit',\n",
       " 'fluxerr_j_disk_sersic': 'NIR J band source flux error from the Disk+Sersic fit',\n",
       " 'fluxerr_h_disk_sersic': 'NIR H band source flux error from the Disk+Sersic fit',\n",
       " 'fluxerr_u_ext_decam_disk_sersic': 'Uext DECam band source flux error from the Disk+Sersic fit',\n",
       " 'fluxerr_g_ext_decam_disk_sersic': 'Gext DECam band source flux error from the Disk+Sersic fit',\n",
       " 'flux_y_1fwhm_aper': 'NIR Y band source aperture photometry flux (1 FWHM diameter) on PSF-matched images',\n",
       " 'flux_y_2fwhm_aper': 'NIR Y band source aperture photometry flux (2 FWHM diameter) on PSF-matched images',\n",
       " 'flux_y_3fwhm_aper': 'NIR Y band source aperture photometry flux (3 FWHM diameter) on PSF-matched images',\n",
       " 'flux_y_4fwhm_aper': 'NIR Y band source aperture photometry flux (4 FWHM diameter) on PSF-matched images',\n",
       " 'flux_j_1fwhm_aper': 'NIR J band source aperture photometry flux (1 FWHM diameter) on PSF-matched images',\n",
       " 'flux_j_2fwhm_aper': 'NIR J band source aperture photometry flux (2 FWHM diameter) on PSF-matched images',\n",
       " 'flux_j_3fwhm_aper': 'NIR J band source aperture photometry flux (3 FWHM diameter) on PSF-matched images',\n",
       " 'flux_j_4fwhm_aper': 'NIR J band source aperture photometry flux (4 FWHM diameter) on PSF-matched images',\n",
       " 'flux_h_1fwhm_aper': 'NIR H band source aperture photometry flux (1 FWHM diameter) on PSF-matched images',\n",
       " 'flux_h_2fwhm_aper': 'NIR H band source aperture photometry flux (2 FWHM diameter) on PSF-matched images',\n",
       " 'flux_h_3fwhm_aper': 'NIR H band source aperture photometry flux (3 FWHM diameter) on PSF-matched images',\n",
       " 'flux_h_4fwhm_aper': 'NIR H band source aperture photometry flux (4 FWHM diameter) on PSF-matched images',\n",
       " 'flux_nir_stack_1fwhm_aper': 'NIR stack band source aperture photometry flux (1 FWHM diameter) on PSF-matched images',\n",
       " 'flux_nir_stack_2fwhm_aper': 'NIR stack band source aperture photometry flux (2 FWHM diameter) on PSF-matched images',\n",
       " 'flux_nir_stack_3fwhm_aper': 'NIR stack band source aperture photometry flux (3 FWHM diameter) on PSF-matched images',\n",
       " 'flux_nir_stack_4fwhm_aper': 'NIR stack band source aperture photometry flux (4 FWHM diameter) on PSF-matched images',\n",
       " 'flux_u_ext_decam_1fwhm_aper': 'Uext DECam band source aperture photometry flux (1 FWHM diameter) on PSF-matched images',\n",
       " 'flux_u_ext_decam_2fwhm_aper': 'Uext DECam band source aperture photometry flux (2 FWHM diameter) on PSF-matched images',\n",
       " 'flux_u_ext_decam_3fwhm_aper': 'Uext DECam band source aperture photometry flux (3 FWHM diameter) on PSF-matched images',\n",
       " 'flux_u_ext_decam_4fwhm_aper': 'Uext DECam band source aperture photometry flux (4 FWHM diameter) on PSF-matched images',\n",
       " 'flux_g_ext_decam_1fwhm_aper': 'Gext DECam band source aperture photometry flux (1 FWHM diameter) on PSF-matched images',\n",
       " 'flux_g_ext_decam_2fwhm_aper': 'Gext DECam band source aperture photometry flux (2 FWHM diameter) on PSF-matched images',\n",
       " 'flux_g_ext_decam_3fwhm_aper': 'Gext DECam band source aperture photometry flux (3 FWHM diameter) on PSF-matched images',\n",
       " 'flux_g_ext_decam_4fwhm_aper': 'Gext DECam band source aperture photometry flux (4 FWHM diameter) on PSF-matched images',\n",
       " 'flux_r_ext_decam_1fwhm_aper': 'Rext DECam band source aperture photometry flux (1 FWHM diameter) on PSF-matched images',\n",
       " 'flux_r_ext_decam_2fwhm_aper': 'Rext DECam band source aperture photometry flux (2 FWHM diameter) on PSF-matched images',\n",
       " 'flux_r_ext_decam_3fwhm_aper': 'Rext DECam band source aperture photometry flux (3 FWHM diameter) on PSF-matched images',\n",
       " 'flux_r_ext_decam_4fwhm_aper': 'Rext DECam band source aperture photometry flux (4 FWHM diameter) on PSF-matched images',\n",
       " 'flux_i_ext_decam_1fwhm_aper': 'Iext DECam band source aperture photometry flux (1 FWHM diameter) on PSF-matched images',\n",
       " 'flux_i_ext_decam_2fwhm_aper': 'Iext DECam band source aperture photometry flux (2 FWHM diameter) on PSF-matched images',\n",
       " 'flux_i_ext_decam_3fwhm_aper': 'Iext DECam band source aperture photometry flux (3 FWHM diameter) on PSF-matched images',\n",
       " 'flux_i_ext_decam_4fwhm_aper': 'Iext DECam band source aperture photometry flux (4 FWHM diameter) on PSF-matched images',\n",
       " 'flux_z_ext_decam_1fwhm_aper': 'Zext DECam band source aperture photometry flux (1 FWHM diameter) on PSF-matched images',\n",
       " 'flux_z_ext_decam_2fwhm_aper': 'Zext DECam band source aperture photometry flux (2 FWHM diameter) on PSF-matched images',\n",
       " 'flux_z_ext_decam_3fwhm_aper': 'Zext DECam band source aperture photometry flux (3 FWHM diameter) on PSF-matched images',\n",
       " 'flux_z_ext_decam_4fwhm_aper': 'Zext DECam band source aperture photometry flux (4 FWHM diameter) on PSF-matched images',\n",
       " 'flux_u_ext_lsst_1fwhm_aper': 'Uext LSST band source aperture photometry flux (1 FWHM diameter) on PSF-matched images',\n",
       " 'flux_u_ext_lsst_2fwhm_aper': 'Uext LSST band source aperture photometry flux (2 FWHM diameter) on PSF-matched images',\n",
       " 'flux_u_ext_lsst_3fwhm_aper': 'Uext LSST band source aperture photometry flux (3 FWHM diameter) on PSF-matched images',\n",
       " 'flux_u_ext_lsst_4fwhm_aper': 'Uext LSST band source aperture photometry flux (4 FWHM diameter) on PSF-matched images',\n",
       " 'flux_g_ext_lsst_1fwhm_aper': 'Gext LSST band source aperture photometry flux (1 FWHM diameter) on PSF-matched images',\n",
       " 'flux_g_ext_lsst_2fwhm_aper': 'Gext LSST band source aperture photometry flux (2 FWHM diameter) on PSF-matched images',\n",
       " 'flux_g_ext_lsst_3fwhm_aper': 'Gext LSST band source aperture photometry flux (3 FWHM diameter) on PSF-matched images',\n",
       " 'flux_g_ext_lsst_4fwhm_aper': 'Gext LSST band source aperture photometry flux (4 FWHM diameter) on PSF-matched images',\n",
       " 'flux_r_ext_lsst_1fwhm_aper': 'Rext LSST band source aperture photometry flux (1 FWHM diameter) on PSF-matched images',\n",
       " 'flux_r_ext_lsst_2fwhm_aper': 'Rext LSST band source aperture photometry flux (2 FWHM diameter) on PSF-matched images',\n",
       " 'flux_r_ext_lsst_3fwhm_aper': 'Rext LSST band source aperture photometry flux (3 FWHM diameter) on PSF-matched images',\n",
       " 'flux_r_ext_lsst_4fwhm_aper': 'Rext LSST band source aperture photometry flux (4 FWHM diameter) on PSF-matched images',\n",
       " 'flux_i_ext_lsst_1fwhm_aper': 'Iext LSST band source aperture photometry flux (1 FWHM diameter) on PSF-matched images',\n",
       " 'flux_i_ext_lsst_2fwhm_aper': 'Iext LSST band source aperture photometry flux (2 FWHM diameter) on PSF-matched images',\n",
       " 'flux_i_ext_lsst_3fwhm_aper': 'Iext LSST band source aperture photometry flux (3 FWHM diameter) on PSF-matched images',\n",
       " 'flux_i_ext_lsst_4fwhm_aper': 'Iext LSST band source aperture photometry flux (4 FWHM diameter) on PSF-matched images',\n",
       " 'flux_z_ext_lsst_1fwhm_aper': 'Zext LSST band source aperture photometry flux (1 FWHM diameter) on PSF-matched images',\n",
       " 'flux_z_ext_lsst_2fwhm_aper': 'Zext LSST band source aperture photometry flux (2 FWHM diameter) on PSF-matched images',\n",
       " 'flux_z_ext_lsst_3fwhm_aper': 'Zext LSST band source aperture photometry flux (3 FWHM diameter) on PSF-matched images',\n",
       " 'flux_z_ext_lsst_4fwhm_aper': 'Zext LSST band source aperture photometry flux (4 FWHM diameter) on PSF-matched images',\n",
       " 'flux_u_ext_megacam_1fwhm_aper': 'Uext Megacam band source aperture photometry flux (1 FWHM diameter) on PSF-matched images',\n",
       " 'flux_u_ext_megacam_2fwhm_aper': 'Uext Megacam band source aperture photometry flux (2 FWHM diameter) on PSF-matched images',\n",
       " 'flux_u_ext_megacam_3fwhm_aper': 'Uext Megacam band source aperture photometry flux (3 FWHM diameter) on PSF-matched images',\n",
       " 'flux_u_ext_megacam_4fwhm_aper': 'Uext Megacam band source aperture photometry flux (4 FWHM diameter) on PSF-matched images',\n",
       " 'flux_r_ext_megacam_1fwhm_aper': 'Rext Megacam band source aperture photometry flux (1 FWHM diameter) on PSF-matched images',\n",
       " 'flux_r_ext_megacam_2fwhm_aper': 'Rext Megacam band source aperture photometry flux (2 FWHM diameter) on PSF-matched images',\n",
       " 'flux_r_ext_megacam_3fwhm_aper': 'Rext Megacam band source aperture photometry flux (3 FWHM diameter) on PSF-matched images',\n",
       " 'flux_r_ext_megacam_4fwhm_aper': 'Rext Megacam band source aperture photometry flux (4 FWHM diameter) on PSF-matched images',\n",
       " 'fluxerr_i_ext_decam_4fwhm_aper': 'Iext DECam band source aperture photometry flux (4 FWHM diameter) on PSF-matched images error',\n",
       " 'fluxerr_z_ext_decam_1fwhm_aper': 'Zext DECam band source aperture photometry flux (1 FWHM diameter) on PSF-matched images error',\n",
       " 'fluxerr_z_ext_decam_2fwhm_aper': 'Zext DECam band source aperture photometry flux (2 FWHM diameter) on PSF-matched images error',\n",
       " 'fluxerr_z_ext_decam_3fwhm_aper': 'Zext DECam band source aperture photometry flux (3 FWHM diameter) on PSF-matched images error',\n",
       " 'fluxerr_z_ext_decam_4fwhm_aper': 'Zext DECam band source aperture photometry flux (4 FWHM diameter) on PSF-matched images error',\n",
       " 'fluxerr_u_ext_lsst_1fwhm_aper': 'Uext LSST band source aperture photometry flux (1 FWHM diameter) on PSF-matched images error',\n",
       " 'fluxerr_u_ext_lsst_2fwhm_aper': 'Uext LSST band source aperture photometry flux (2 FWHM diameter) on PSF-matched images error',\n",
       " 'fluxerr_u_ext_lsst_3fwhm_aper': 'Uext LSST band source aperture photometry flux (3 FWHM diameter) on PSF-matched images error',\n",
       " 'fluxerr_u_ext_lsst_4fwhm_aper': 'Uext LSST band source aperture photometry flux (4 FWHM diameter) on PSF-matched images error',\n",
       " 'fluxerr_g_ext_lsst_1fwhm_aper': 'Gext LSST band source aperture photometry flux (1 FWHM diameter) on PSF-matched images error',\n",
       " 'fluxerr_g_ext_lsst_2fwhm_aper': 'Gext LSST band source aperture photometry flux (2 FWHM diameter) on PSF-matched images error',\n",
       " 'fluxerr_g_ext_lsst_3fwhm_aper': 'Gext LSST band source aperture photometry flux (3 FWHM diameter) on PSF-matched images error',\n",
       " 'fluxerr_g_ext_lsst_4fwhm_aper': 'Gext LSST band source aperture photometry flux (4 FWHM diameter) on PSF-matched images error',\n",
       " 'fluxerr_r_ext_lsst_1fwhm_aper': 'Rext LSST band source aperture photometry flux (1 FWHM diameter) on PSF-matched images error',\n",
       " 'fluxerr_r_ext_lsst_2fwhm_aper': 'Rext LSST band source aperture photometry flux (2 FWHM diameter) on PSF-matched images error',\n",
       " 'fluxerr_r_ext_lsst_3fwhm_aper': 'Rext LSST band source aperture photometry flux (3 FWHM diameter) on PSF-matched images error',\n",
       " 'fluxerr_r_ext_lsst_4fwhm_aper': 'Rext LSST band source aperture photometry flux (4 FWHM diameter) on PSF-matched images error',\n",
       " 'fluxerr_i_ext_lsst_1fwhm_aper': 'Iext LSST band source aperture photometry flux (1 FWHM diameter) on PSF-matched images error',\n",
       " 'fluxerr_i_ext_lsst_2fwhm_aper': 'Iext LSST band source aperture photometry flux (2 FWHM diameter) on PSF-matched images error',\n",
       " 'fluxerr_i_ext_lsst_3fwhm_aper': 'Iext LSST band source aperture photometry flux (3 FWHM diameter) on PSF-matched images error',\n",
       " 'fluxerr_i_ext_lsst_4fwhm_aper': 'Iext LSST band source aperture photometry flux (4 FWHM diameter) on PSF-matched images error',\n",
       " 'fluxerr_z_ext_lsst_1fwhm_aper': 'Zext LSST band source aperture photometry flux (1 FWHM diameter) on PSF-matched images error',\n",
       " 'fluxerr_z_ext_lsst_2fwhm_aper': 'Zext LSST band source aperture photometry flux (2 FWHM diameter) on PSF-matched images error',\n",
       " 'fluxerr_z_ext_lsst_3fwhm_aper': 'Zext LSST band source aperture photometry flux (3 FWHM diameter) on PSF-matched images error',\n",
       " 'fluxerr_z_ext_lsst_4fwhm_aper': 'Zext LSST band source aperture photometry flux (4 FWHM diameter) on PSF-matched images error',\n",
       " 'fluxerr_u_ext_megacam_1fwhm_aper': 'Uext Megacam band source aperture photometry flux (1 FWHM diameter) on PSF-matched images error',\n",
       " 'fluxerr_u_ext_megacam_2fwhm_aper': 'Uext Megacam band source aperture photometry flux (2 FWHM diameter) on PSF-matched images error',\n",
       " 'fluxerr_u_ext_megacam_3fwhm_aper': 'Uext Megacam band source aperture photometry flux (3 FWHM diameter) on PSF-matched images error',\n",
       " 'fluxerr_u_ext_megacam_4fwhm_aper': 'Uext Megacam band source aperture photometry flux (4 FWHM diameter) on PSF-matched images error',\n",
       " 'fluxerr_r_ext_megacam_1fwhm_aper': 'Rext Megacam band source aperture photometry flux (1 FWHM diameter) on PSF-matched images error',\n",
       " 'fluxerr_r_ext_megacam_2fwhm_aper': 'Rext Megacam band source aperture photometry flux (2 FWHM diameter) on PSF-matched images error',\n",
       " 'fluxerr_r_ext_megacam_3fwhm_aper': 'Rext Megacam band source aperture photometry flux (3 FWHM diameter) on PSF-matched images error',\n",
       " 'fluxerr_r_ext_megacam_4fwhm_aper': 'Rext Megacam band source aperture photometry flux (4 FWHM diameter) on PSF-matched images error',\n",
       " 'fluxerr_g_ext_jpcam_1fwhm_aper': 'Gext JPCAM band source aperture photometry flux (1 FWHM diameter) on PSF-matched images error',\n",
       " 'fluxerr_g_ext_jpcam_2fwhm_aper': 'Gext JPCAM band source aperture photometry flux (2 FWHM diameter) on PSF-matched images error',\n",
       " 'fluxerr_g_ext_jpcam_3fwhm_aper': 'Gext JPCAM band source aperture photometry flux (3 FWHM diameter) on PSF-matched images error',\n",
       " 'fluxerr_g_ext_jpcam_4fwhm_aper': 'Gext JPCAM band source aperture photometry flux (4 FWHM diameter) on PSF-matched images error',\n",
       " 'fluxerr_i_ext_panstarrs_1fwhm_aper': 'Iext PS band source aperture photometry flux (1 FWHM diameter) on PSF-matched images error',\n",
       " 'fluxerr_i_ext_panstarrs_2fwhm_aper': 'Iext PS band source aperture photometry flux (2 FWHM diameter) on PSF-matched images error',\n",
       " 'fluxerr_i_ext_panstarrs_3fwhm_aper': 'Iext PS band source aperture photometry flux (3 FWHM diameter) on PSF-matched images error',\n",
       " 'fluxerr_i_ext_panstarrs_4fwhm_aper': 'Iext PS band source aperture photometry flux (4 FWHM diameter) on PSF-matched images error',\n",
       " 'fluxerr_z_ext_panstarrs_1fwhm_aper': 'Zext PS band source aperture photometry flux (1 FWHM diameter) on PSF-matched images error',\n",
       " 'fluxerr_z_ext_panstarrs_2fwhm_aper': 'Zext PS band source aperture photometry flux (2 FWHM diameter) on PSF-matched images error',\n",
       " 'fluxerr_z_ext_panstarrs_3fwhm_aper': 'Zext PS band source aperture photometry flux (3 FWHM diameter) on PSF-matched images error',\n",
       " 'fluxerr_z_ext_panstarrs_4fwhm_aper': 'Zext PS band source aperture photometry flux (4 FWHM diameter) on PSF-matched images error',\n",
       " 'fluxerr_g_ext_hsc_1fwhm_aper': 'Gext HSC band source aperture photometry flux (1 FWHM diameter) on PSF-matched images error',\n",
       " 'fluxerr_g_ext_hsc_2fwhm_aper': 'Gext HSC band source aperture photometry flux (2 FWHM diameter) on PSF-matched images error',\n",
       " 'fluxerr_g_ext_hsc_3fwhm_aper': 'Gext HSC band source aperture photometry flux (3 FWHM diameter) on PSF-matched images error',\n",
       " 'fluxerr_g_ext_hsc_4fwhm_aper': 'Gext HSC band source aperture photometry flux (4 FWHM diameter) on PSF-matched images error',\n",
       " 'fluxerr_z_ext_hsc_1fwhm_aper': 'Zext HSC band source aperture photometry flux (1 FWHM diameter) on PSF-matched images error',\n",
       " 'fluxerr_z_ext_hsc_2fwhm_aper': 'Zext HSC band source aperture photometry flux (2 FWHM diameter) on PSF-matched images error',\n",
       " 'fluxerr_z_ext_hsc_3fwhm_aper': 'Zext HSC band source aperture photometry flux (3 FWHM diameter) on PSF-matched images error',\n",
       " 'fluxerr_z_ext_hsc_4fwhm_aper': 'Zext HSC band source aperture photometry flux (4 FWHM diameter) on PSF-matched images error',\n",
       " 'flux_y_templfit': 'NIR Y band source template fitting flux (TPHOT measurement)',\n",
       " 'flux_j_templfit': 'NIR J band source template fitting flux (TPHOT measurement)',\n",
       " 'flux_h_templfit': 'NIR H band source template fitting flux (TPHOT measurement)',\n",
       " 'flux_u_ext_decam_templfit': 'Uext DECam band source template fitting flux (TPHOT measurement)',\n",
       " 'flux_g_ext_decam_templfit': 'Gext DECam band source template fitting flux (TPHOT measurement)',\n",
       " 'flux_r_ext_decam_templfit': 'Rext DECam band source template fitting flux (TPHOT measurement)',\n",
       " 'flux_i_ext_decam_templfit': 'Iext DECam band source template fitting flux (TPHOT measurement)',\n",
       " 'flux_z_ext_decam_templfit': 'Zext DECam band source template fitting flux (TPHOT measurement)',\n",
       " 'flux_vis_to_g_ext_jpcam_templfit': 'VIS band source flux on a VIS image PSF-matched to Gext JPCAM band (TPHOT measurement)',\n",
       " 'flux_vis_to_i_ext_panstarrs_templfit': 'VIS band source flux on a VIS image PSF-matched to Iext PS band (TPHOT measurement)',\n",
       " 'flux_vis_to_z_ext_panstarrs_templfit': 'VIS band source flux on a VIS image PSF-matched to Zext PS band (TPHOT measurement)',\n",
       " 'flux_vis_to_g_ext_hsc_templfit': 'VIS band source flux on a VIS image PSF-matched to Gext HSC band (TPHOT measurement)',\n",
       " 'flux_vis_to_z_ext_hsc_templfit': 'VIS band source flux on a VIS image PSF-matched to Zext HSC band (TPHOT measurement)',\n",
       " 'fluxerr_vis_to_y_templfit': 'VIS band source flux error on a VIS image PSF-matched to NIR Y band (TPHOT measurement)',\n",
       " 'fluxerr_vis_to_j_templfit': 'VIS band source flux error on a VIS image PSF-matched to NIR J bandr (TPHOT measurement)',\n",
       " 'fluxerr_vis_to_h_templfit': 'VIS band source flux error on a VIS image PSF-matched to NIR H band (TPHOT measurement)',\n",
       " 'fluxerr_vis_to_u_ext_decam_templfit': 'VIS band source flux error on a VIS image PSF-matched to Uext DECam band (TPHOT measurement)',\n",
       " 'fluxerr_vis_to_g_ext_decam_templfit': 'VIS band source flux error on a VIS image PSF-matched to Gext DECam band (TPHOT measurement)',\n",
       " 'fluxerr_vis_to_r_ext_decam_templfit': 'VIS band source flux error on a VIS image PSF-matched to Rext DECam band (TPHOT measurement)',\n",
       " 'fluxerr_vis_to_i_ext_decam_templfit': 'VIS band source flux error on a VIS image PSF-matched to Iext DECam band (TPHOT measurement)',\n",
       " 'fluxerr_vis_to_z_ext_decam_templfit': 'VIS band source flux error on a VIS image PSF-matched to Zext DECam band (TPHOT measurement)',\n",
       " 'fluxerr_vis_to_u_ext_lsst_templfit': 'VIS band source flux error on a VIS image PSF-matched to Uext LSST band (TPHOT measurement)',\n",
       " 'fluxerr_vis_to_g_ext_lsst_templfit': 'VIS band source flux error on a VIS image PSF-matched to Gext LSST band (TPHOT measurement)',\n",
       " 'fluxerr_vis_to_r_ext_lsst_templfit': 'VIS band source flux error on a VIS image PSF-matched to Rext LSST band (TPHOT measurement)',\n",
       " 'fluxerr_vis_to_i_ext_lsst_templfit': 'VIS band source flux error on a VIS image PSF-matched to Iext LSST band (TPHOT measurement)',\n",
       " 'fluxerr_vis_to_z_ext_lsst_templfit': 'VIS band source flux error on a VIS image PSF-matched to Zext LSST band (TPHOT measurement)',\n",
       " 'fluxerr_vis_to_u_ext_megacam_templfit': 'VIS band source flux error on a VIS image PSF-matched to Uext Megacam band (TPHOT measurement)',\n",
       " 'fluxerr_vis_to_r_ext_megacam_templfit': 'VIS band source flux error on a VIS image PSF-matched to Rext Megacam band (TPHOT measurement)',\n",
       " 'fluxerr_vis_to_g_ext_jpcam_templfit': 'VIS band source flux error on a VIS image PSF-matched to Gext JPCAM band (TPHOT measurement)',\n",
       " 'fluxerr_vis_to_i_ext_panstarrs_templfit': 'VIS band source flux error on a VIS image PSF-matched to Iext PS band (TPHOT measurement)',\n",
       " 'fluxerr_vis_to_z_ext_panstarrs_templfit': 'VIS band source flux error on a VIS image PSF-matched to Zext PS band (TPHOT measurement)',\n",
       " 'fluxerr_vis_to_g_ext_hsc_templfit': 'VIS band source flux error on a VIS image PSF-matched to Gext HSC band (TPHOT measurement)',\n",
       " 'fluxerr_vis_to_z_ext_hsc_templfit': 'VIS band source flux error on a VIS image PSF-matched to Zext HSC band (TPHOT measurement)',\n",
       " 'flux_vis_psf': 'VIS band source PSF-fitting photometry flux (TPHOT measurement)',\n",
       " 'fluxerr_vis_psf': 'VIS band source PSF-fitting photometry flux error (TPHOT measurement)',\n",
       " 'flux_segmentation': 'VIS or NIR stack band source segmented area flux',\n",
       " 'fluxerr_segmentation': 'VIS or NIR stack band source total flux (Kron aperture)',\n",
       " 'flux_detection_total': 'VIS or NIR stack band source total flux error (Kron aperture)',\n",
       " 'fluxerr_detection_total': 'VIS or NIR stack band source segmented area flux',\n",
       " 'flux_vis_sersic': 'VIS band source flux from the Sersic fit',\n",
       " 'flux_y_sersic': 'NIR Y band source flux from the Sersic fit',\n",
       " 'flux_j_sersic': 'NIR J band source flux from the Sersic fit',\n",
       " 'flux_h_sersic': 'NIR H band source flux from the Sersic fit',\n",
       " 'flux_u_ext_decam_sersic': 'Uext DECam band source flux from the Sersic fit',\n",
       " 'flux_g_ext_decam_sersic': 'Gext DECam band source flux from the Sersic fit',\n",
       " 'flux_r_ext_decam_sersic': 'Rext DECam band source flux from the Sersic fit',\n",
       " 'flux_i_ext_decam_sersic': 'Iext DECam band source flux from the Sersic fit',\n",
       " 'flux_z_ext_decam_sersic': 'Zext DECam band source flux from the Sersic fit',\n",
       " 'flux_u_ext_lsst_sersic': 'Uext LSST band source flux from the Sersic fit',\n",
       " 'flux_g_ext_lsst_sersic': 'Gext LSST band source flux from the Sersic fit',\n",
       " 'flux_r_ext_lsst_sersic': 'Rext LSST band source flux from the Sersic fit',\n",
       " 'flux_i_ext_lsst_sersic': 'Iext LSST band source flux from the Sersic fit',\n",
       " 'flux_z_ext_lsst_sersic': 'Zext LSST band source flux from the Sersic fit',\n",
       " 'flux_u_ext_megacam_sersic': 'Uext Megacam band source flux from the Sersic fit',\n",
       " 'flux_r_ext_megacam_sersic': 'Rext Megacam band source flux from the Sersic fit',\n",
       " 'flux_g_ext_jpcam_sersic': 'Gext JPCAM band source flux from the Sersic fit',\n",
       " 'flux_i_ext_panstarrs_sersic': 'Iext PS band source flux from the Sersic fit',\n",
       " 'flux_z_ext_panstarrs_sersic': 'Zext PS band source flux from the Sersic fit',\n",
       " 'flux_g_ext_hsc_sersic': 'Gext HSC band source flux from the Sersic fit',\n",
       " 'flux_z_ext_hsc_sersic': 'Zext HSC band source flux from the Sersic fit',\n",
       " 'fluxerr_vis_sersic': 'VIS band source flux error from the Sersic fit',\n",
       " 'fluxerr_y_sersic': 'NIR Y band source flux error from the Sersic fit',\n",
       " 'fluxerr_j_sersic': 'NIR J band source flux error from the Sersic fit',\n",
       " 'fluxerr_h_sersic': 'NIR H band source flux error from the Sersic fit',\n",
       " 'fluxerr_u_ext_decam_sersic': 'Uext DECam band source flux error from the Sersic fit',\n",
       " 'fluxerr_g_ext_decam_sersic': 'Gext DECam band source flux error from the Sersic fit',\n",
       " 'fluxerr_r_ext_decam_sersic': 'Rext DECam band source flux error from the Sersic fit',\n",
       " 'fluxerr_i_ext_decam_sersic': 'Iext DECam band source flux error from the Sersic fit',\n",
       " 'fluxerr_z_ext_decam_sersic': 'Zext DECam band source flux error from the Sersic fit',\n",
       " 'fluxerr_u_ext_lsst_sersic': 'Uext LSST band source flux error from the Sersic fit',\n",
       " 'flag_u_ext_decam': 'Objects flag keeping track of the flagged pixels in the UextDECam flag image',\n",
       " 'flag_g_ext_decam': 'Objects flag keeping track of the flagged pixels in the GextDECam flag image',\n",
       " 'flag_r_ext_decam': 'Objects flag keeping track of the flagged pixels in the RextDECam flag image',\n",
       " 'flag_i_ext_decam': 'Objects flag keeping track of the flagged pixels in the IextDECam flag image',\n",
       " 'flag_z_ext_decam': 'Objects flag keeping track of the flagged pixels in the ZextDECam flag image',\n",
       " 'flag_u_ext_lsst': 'Objects flag keeping track of the flagged pixels in the Uext LSST flag image',\n",
       " 'flag_g_ext_lsst': 'Objects flag keeping track of the flagged pixels in the Gext LSST flag image',\n",
       " 'flag_r_ext_lsst': 'Objects flag keeping track of the flagged pixels in the Rext LSST flag image',\n",
       " 'flag_i_ext_lsst': 'Objects flag keeping track of the flagged pixels in the Iext LSST flag image',\n",
       " 'fluxerr_r_ext_decam_disk_sersic': 'Rext DECam band source flux error from the Disk+Sersic fit',\n",
       " 'fluxerr_i_ext_decam_disk_sersic': 'Iext DECam band source flux error from the Disk+Sersic fit',\n",
       " 'fluxerr_z_ext_decam_disk_sersic': 'Zext DECam band source flux error from the Disk+Sersic fit',\n",
       " 'fluxerr_u_ext_lsst_disk_sersic': 'Uext LSST band source flux error from the Disk+Sersic fit',\n",
       " 'fluxerr_g_ext_lsst_disk_sersic': 'Gext LSST band source flux error from the Disk+Sersic fit',\n",
       " 'fluxerr_r_ext_lsst_disk_sersic': 'Rext LSST band source flux error from the Disk+Sersic fit',\n",
       " 'fluxerr_i_ext_lsst_disk_sersic': 'Iext LSST band source flux error from the Disk+Sersic fit',\n",
       " 'fluxerr_z_ext_lsst_disk_sersic': 'Zext LSST band source flux error from the Disk+Sersic fit',\n",
       " 'fluxerr_u_ext_megacam_disk_sersic': 'Uext Megacam band source flux error from the Disk+Sersic fit',\n",
       " 'fluxerr_r_ext_megacam_disk_sersic': 'Rext Megacam band source flux error from the Disk+Sersic fit',\n",
       " 'fluxerr_g_ext_jpcam_disk_sersic': 'Gext JPCAM band source flux error from the Disk+Sersic fit',\n",
       " 'fluxerr_i_ext_panstarrs_disk_sersic': 'Iext PS band source flux error from the Disk+Sersic fit',\n",
       " 'fluxerr_z_ext_panstarrs_disk_sersic': 'Zext PS band source flux error from the Disk+Sersic fit',\n",
       " 'fluxerr_g_ext_hsc_disk_sersic': 'Gext HSC band source flux error from the Disk+Sersic fit',\n",
       " 'fluxerr_z_ext_hsc_disk_sersic': 'Zext HSC band source flux error from the Disk+Sersic fit',\n",
       " 'sersic_fract_vis_disk_sersic': 'VIS band Sersic fraction',\n",
       " 'sersic_fract_y_disk_sersic': 'NIR Y band Sersic fraction',\n",
       " 'sersic_fract_j_disk_sersic': 'NIR J band Sersic fraction',\n",
       " 'sersic_fract_h_disk_sersic': 'NIR H band Sersic fraction',\n",
       " 'sersic_fract_u_ext_decam_disk_sersic': 'Uext DECam band Sersic fraction',\n",
       " 'sersic_fract_g_ext_decam_disk_sersic': 'Gext DECam band Sersic fraction',\n",
       " 'sersic_fract_r_ext_decam_disk_sersic': 'Rext DECam band Sersic fraction',\n",
       " 'sersic_fract_i_ext_decam_disk_sersic': 'Iext DECam band Sersic fraction',\n",
       " 'sersic_fract_z_ext_decam_disk_sersic': 'Zext DECam band Sersic fraction',\n",
       " 'sersic_fract_u_ext_lsst_disk_sersic': 'Uext LSST band Sersic fraction',\n",
       " 'sersic_fract_g_ext_lsst_disk_sersic': 'Gext LSST band Sersic fraction',\n",
       " 'sersic_fract_r_ext_lsst_disk_sersic': 'Rext LSST band Sersic fraction',\n",
       " 'sersic_fract_i_ext_lsst_disk_sersic': 'Iext LSST band Sersic fraction',\n",
       " 'sersic_fract_z_ext_lsst_disk_sersic': 'Zext LSST band Sersic fraction',\n",
       " 'sersic_fract_u_ext_megacam_disk_sersic': 'Uext Megacam band Sersic fraction',\n",
       " 'sersic_fract_r_ext_megacam_disk_sersic': 'Rext Megacam band Sersic fraction',\n",
       " 'sersic_fract_g_ext_jpcam_disk_sersic': 'Gext JPCAM band Sersic fraction',\n",
       " 'sersic_fract_i_ext_panstarrs_disk_sersic': 'Iext PS band Sersic fraction',\n",
       " 'sersic_fract_z_ext_panstarrs_disk_sersic': 'Zext PS band Sersic fraction',\n",
       " 'sersic_fract_g_ext_hsc_disk_sersic': 'Gext HSC band Sersic fraction',\n",
       " 'sersic_fract_z_ext_hsc_disk_sersic': 'Zext HSC band Sersic fraction',\n",
       " 'sersic_fract_vis_disk_sersic_err': 'VIS band Sersic fraction error',\n",
       " 'sersic_fract_y_disk_sersic_err': 'NIR Y band Sersic fraction error',\n",
       " 'sersic_fract_j_disk_sersic_err': 'NIR J band Sersic fraction error',\n",
       " 'sersic_fract_h_disk_sersic_err': 'NIR H band Sersic fraction error',\n",
       " 'sersic_fract_u_ext_decam_disk_sersic_err': 'Uext DECam band Sersic fraction error',\n",
       " 'sersic_fract_g_ext_decam_disk_sersic_err': 'Gext DECam band Sersic fraction error',\n",
       " 'sersic_fract_r_ext_decam_disk_sersic_err': 'Rext DECam band Sersic fraction error',\n",
       " 'sersic_fract_i_ext_decam_disk_sersic_err': 'Iext DECam band Sersic fraction error',\n",
       " 'sersic_fract_z_ext_decam_disk_sersic_err': 'Zext DECam band Sersic fraction error',\n",
       " 'sersic_fract_u_ext_lsst_disk_sersic_err': 'Uext LSST band Sersic fraction error',\n",
       " 'sersic_fract_g_ext_lsst_disk_sersic_err': 'Gext LSST band Sersic fraction error',\n",
       " 'sersic_fract_r_ext_lsst_disk_sersic_err': 'Rext LSST band Sersic fraction error',\n",
       " 'sersic_fract_i_ext_lsst_disk_sersic_err': 'Iext LSST band Sersic fraction error',\n",
       " 'sersic_fract_z_ext_lsst_disk_sersic_err': 'Zext LSST band Sersic fraction error',\n",
       " 'sersic_fract_u_ext_megacam_disk_sersic_err': 'Uext Megacam band Sersic fraction error',\n",
       " 'sersic_fract_r_ext_megacam_disk_sersic_err': 'Rext Megacam band Sersic fraction error',\n",
       " 'sersic_fract_g_ext_jpcam_disk_sersic_err': 'Gext JPCAM band Sersic fraction error',\n",
       " 'sersic_fract_i_ext_panstarrs_disk_sersic_err': 'Iext PS band Sersic fraction error',\n",
       " 'sersic_fract_z_ext_panstarrs_disk_sersic_err': 'Zext PS band Sersic fraction error',\n",
       " 'sersic_fract_g_ext_hsc_disk_sersic_err': 'Gext HSC band Sersic fraction error',\n",
       " 'sersic_fract_z_ext_hsc_disk_sersic_err': 'Zext HSC band Sersic fraction error',\n",
       " 'flag_vis': 'Objects flag keeping track of the flagged pixels in the VIS flag image',\n",
       " 'flag_y': 'Objects flag keeping track of the flagged pixels in the NIR Y flag image',\n",
       " 'flag_j': 'Objects flag keeping track of the flagged pixels in the NIR J flag image',\n",
       " 'flag_h': 'Objects flag keeping track of the flagged pixels in the NIR H flag image',\n",
       " 'flag_nir_stack': 'Objects flag keeping track of the flagged pixels in the NIR stack flag image',\n",
       " 'flag_z_ext_lsst': 'Objects flag keeping track of the flagged pixels in the Zext LSST flag image',\n",
       " 'flag_u_ext_megacam': 'Objects flag keeping track of the flagged pixels in the Uext Megacam flag image',\n",
       " 'flag_r_ext_megacam': 'Objects flag keeping track of the flagged pixels in the Rext Megacam flag image',\n",
       " 'flag_g_ext_jpcam': 'Objects flag keeping track of the flagged pixels in the Gext JPCAM flag image',\n",
       " 'flag_i_ext_panstarrs': 'Objects flag keeping track of the flagged pixels in the Iext PS flag image',\n",
       " 'flag_z_ext_panstarrs': 'Objects flag keeping track of the flagged pixels in the Zext PS flag image',\n",
       " 'flag_g_ext_hsc': 'Objects flag keeping track of the flagged pixels in the Gext HSC flag image',\n",
       " 'flag_z_ext_hsc': 'Objects flag keeping track of the flagged pixels in the Zext HSC flag image',\n",
       " 'avg_trans_wave_vis': 'Average filter transmission curve wavelength for the VIS band',\n",
       " 'avg_trans_wave_y': 'Average filter transmission curve wavelength for the NIR Y band',\n",
       " 'avg_trans_wave_j': 'Average filter transmission curve wavelength for the NIR J band',\n",
       " 'avg_trans_wave_h': 'Average filter transmission curve wavelength for the NIR H band',\n",
       " 'avg_trans_wave_u_ext_decam': 'Average filter transmission curve wavelength for the DECam U band',\n",
       " 'avg_trans_wave_g_ext_decam': 'Average filter transmission curve wavelength for the DECam G band',\n",
       " 'avg_trans_wave_r_ext_decam': 'Average filter transmission curve wavelength for the DECam R band',\n",
       " 'avg_trans_wave_i_ext_decam': 'Average filter transmission curve wavelength for the DECam I band',\n",
       " 'avg_trans_wave_z_ext_decam': 'Average filter transmission curve wavelength for the DECam Z band',\n",
       " 'avg_trans_wave_u_ext_lsst': 'Average filter transmission curve wavelength for the LSST U band',\n",
       " 'avg_trans_wave_g_ext_lsst': 'Average filter transmission curve wavelength for the LSST G band',\n",
       " 'avg_trans_wave_r_ext_lsst': 'Average filter transmission curve wavelength for the LSST R band',\n",
       " 'avg_trans_wave_i_ext_lsst': 'Average filter transmission curve wavelength for the LSST I band',\n",
       " 'avg_trans_wave_z_ext_lsst': 'Average filter transmission curve wavelength for the LSST Z band',\n",
       " 'avg_trans_wave_u_ext_megacam': 'Average filter transmission curve wavelength for the Megacam U band',\n",
       " 'avg_trans_wave_r_ext_megacam': 'Average filter transmission curve wavelength for the Megacam R band',\n",
       " 'avg_trans_wave_g_ext_jpcam': 'Average filter transmission curve wavelength for the JPCAM G band',\n",
       " 'avg_trans_wave_i_ext_panstarrs': 'Average filter transmission curve wavelength for the PS I band',\n",
       " 'avg_trans_wave_z_ext_panstarrs': 'Average filter transmission curve wavelength for the PS Z band',\n",
       " 'avg_trans_wave_g_ext_hsc': 'Average filter transmission curve wavelength for the HSC G band',\n",
       " 'avg_trans_wave_z_ext_hsc': 'Average filter transmission curve wavelength for the HSC Z band',\n",
       " 'deblended_flag': 'Flag marking if the object was originally blended with another one',\n",
       " 'parent_id': 'ID of the parent sources of a deblended object',\n",
       " 'parent_visnir': 'ID of the parent sources of a deblended object',\n",
       " 'blended_prob': 'Probability that the source is blended with another source',\n",
       " 'she_flag': 'Flags for objects SHE might want to remove (eg. bright stars)',\n",
       " 'variable_flag': 'Object variability flag',\n",
       " 'binary_flag': 'Flag for potentially binary stars',\n",
       " 'point_like_flag': '\"Point-like flag : flag set to 1 for VIS detections with (DET_QUALITY_FLAG==0) AND (POINT_LIKE_PROBA>threshold), otherwise set to NaN\"',\n",
       " 'point_like_prob': \"Probability between 0 and 1 that the source is point-like (the estimation uses a 'star probability cub' defined in the MDB). Value is set to NaN for ...\",\n",
       " 'extended_flag': 'Extended source flag',\n",
       " 'extended_prob': 'Probability between 0 and 1 that the source is extended',\n",
       " 'spurious_flag': 'Spurious source flag',\n",
       " 'spurious_prob': 'Probability between 0 and 1 that the source is spurious',\n",
       " 'mag_stargal_sep': 'Magnitude used to compute POINT_LIKE_PROB',\n",
       " 'det_quality_flag': 'Detection step flags that could indicate the possible corruption of the MAG_STARGAL_SEP values',\n",
       " 'mu_max': 'Peak surface brightness above the background in the detection band (directly from SExtractor)',\n",
       " 'mumax_minus_mag': '\"The difference between MU_MAX and MAG_STARGAL_SEP, valid even for NIR-only sources\"',\n",
       " 'segmentation_area': 'Isophotal area of the source above the analysis threshold (SExtractor ISOAREA_IMAGE)',\n",
       " 'semimajor_axis': 'Semi-major axis of the source (from Asterism)',\n",
       " 'semimajor_axis_err': 'Semi-major axis error',\n",
       " 'position_angle': 'Position angle (CCW/x) of the source (SExtractor THETA_IMAGE) range: -90 up to +90 decimal degrees',\n",
       " 'position_angle_err': 'Position angle error',\n",
       " 'ellipticity': '\"A parametrization of how stretched an object is in the detection band, computed from the minor and major axes of the object itself (directly from SExt...\"',\n",
       " 'ellipticity_err': 'Ellipticity error',\n",
       " 'kron_radius': 'Major semi-axis (in pixels) of the elliptical aperture used for total (Kron) aperture photometry on the detection image',\n",
       " 'kron_radius_err': 'Error on the major semi-axis (in pixels) of the elliptical aperture used for total (Kron) aperture photometry on the detection image',\n",
       " 'fwhm': '\"FWHM (in arcsec) used in a-phot to compute colors. A-phot fluxes are computed within apertures that are multiples (1, 2, 3, 4 times) of this FWHM\"',\n",
       " 'gal_ebv': 'Estimated galactic E(B-V) at the source centroid according to the reference Planck map',\n",
       " 'gal_ebv_err': 'Error on galactic E(B-V) according to the reference Planck map',\n",
       " 'gaia_id': 'The associated GAIA source id',\n",
       " 'gaia_match_quality': 'The quality of the GAIA match',\n",
       " 'tileid': 'Euclid Tile ID',\n",
       " 'x': '',\n",
       " 'y': '',\n",
       " 'z': '',\n",
       " 'spt_ind': '',\n",
       " 'htm20': '',\n",
       " 'cntr': ''}"
      ]
     },
     "execution_count": 11,
     "metadata": {},
     "output_type": "execute_result"
    }
   ],
   "source": [
    "# Full list of columns and their description\n",
    "columns_info"
   ]
  },
  {
   "cell_type": "markdown",
   "id": "fb9d6371",
   "metadata": {},
   "source": [
    "## Find some objects with spectra in our tileID\n",
    "\n",
    "We specify the following conditions on our search:\n",
    "- Signal to noise ratio column (_gf = gaussian fit) should be greater than 5\n",
    "- We want to detect H-alpha.\n",
    "- We choose in which tileID to search, usign the tileID from the first notebook.\n",
    "- Choose spectroscopic redshift (spe_z) beween 1.4 and 1.6 and spe_z_prob greater than 0.999\n",
    "- H-alpha line flux should be more than 2x10^16 erg s^-1 cm^-2\n",
    "- Join the lines and galaxy candidates tables on object_id and spe_rank\n",
    "\n",
    "Finally we sort the data by descending spe_line_snr_gf to have the largest SNR H-alpha lines detected at the top."
   ]
  },
  {
   "cell_type": "code",
   "execution_count": 12,
   "id": "15cee70b",
   "metadata": {},
   "outputs": [],
   "source": [
    "adql_query = (\"SELECT DISTINCT mer.object_id,mer.ra, mer.dec, mer.tileid, mer.flux_y_templfit, \"\n",
    "    \"lines.spe_line_snr_gf,lines.spe_line_snr_di, lines.spe_line_name, lines.spe_line_central_wl_gf, \"\n",
    "    \"lines.spe_line_ew_gf, galaxy.spe_z_err, galaxy.spe_z,galaxy.spe_z_prob, \"\n",
    "    \"lines.spe_line_flux_gf, lines.spe_line_flux_err_gf \"\n",
    "    f\"FROM {table_mer} AS mer \"\n",
    "    f\"JOIN {table_lines} AS lines \"\n",
    "    \"ON mer.object_id = lines.object_id \"\n",
    "    f\"JOIN {table_galaxy_candidates} AS galaxy \"\n",
    "    \"ON lines.object_id = galaxy.object_id AND lines.spe_rank = galaxy.spe_rank \"\n",
    "    \"WHERE lines.spe_line_snr_gf >5 \"\n",
    "    \"AND lines.spe_line_name = 'Halpha' \"\n",
    "    f\"AND mer.tileid = {tileID} \"\n",
    "    \"AND galaxy.spe_z_prob > 0.99 \"\n",
    "    \"AND galaxy.spe_z BETWEEN 1.4 AND 1.6 \"\n",
    "    \"AND lines.spe_line_flux_gf > 2E-16 \"\n",
    "    \"ORDER BY lines.spe_line_snr_gf DESC \")\n",
    "\n",
    "# Use TAP with this ADQL string\n",
    "result_table = Irsa.query_tap(adql_query).to_qtable()\n",
    "\n",
    "result_table['spe_line_flux_gf'].info.format = \".8e\"  # Scientific notation with 8 decimal places\n",
    "result_table['spe_line_flux_err_gf'].info.format = \".8e\"\n",
    "result_table['object_id'] = result_table['object_id'].astype('int64')"
   ]
  },
  {
   "cell_type": "markdown",
   "id": "6f09f193",
   "metadata": {},
   "source": [
    "### Choose an object of interest, lets look at an object with a strong Halpha line detected with high SNR."
   ]
  },
  {
   "cell_type": "code",
   "execution_count": 13,
   "id": "263cfb06",
   "metadata": {},
   "outputs": [
    {
     "data": {
      "text/html": [
       "<i>Row index=0</i>\n",
       "<table id=\"table139954879005200\">\n",
       "<thead><tr><th>object_id</th><th>ra</th><th>dec</th><th>tileid</th><th>flux_y_templfit</th><th>spe_line_snr_gf</th><th>spe_line_snr_di</th><th>spe_line_name</th><th>spe_line_central_wl_gf</th><th>spe_line_ew_gf</th><th>spe_z_err</th><th>spe_z</th><th>spe_z_prob</th><th>spe_line_flux_gf</th><th>spe_line_flux_err_gf</th></tr></thead>\n",
       "<thead><tr><th>NA</th><th>deg</th><th>deg</th><th>NA</th><th>uJy</th><th></th><th></th><th></th><th></th><th></th><th></th><th></th><th></th><th></th><th></th></tr></thead>\n",
       "<thead><tr><th>int64</th><th>float64</th><th>float64</th><th>float64</th><th>float32</th><th>float32</th><th>float32</th><th>object</th><th>float32</th><th>float32</th><th>float32</th><th>float32</th><th>float32</th><th>float32</th><th>float32</th></tr></thead>\n",
       "<tr><td>2741100559643251712</td><td>274.1100559949</td><td>64.3251862021</td><td>102158277.0</td><td>14.7443256378</td><td>22.4954986572</td><td>4.9000000954</td><td>Halpha</td><td>16342.7890625000</td><td>-36.5144042969</td><td>0.0004373892</td><td>1.4891724586</td><td>0.9999538064</td><td>3.14385755e-16</td><td>7.48821661e-17</td></tr>\n",
       "</table>"
      ],
      "text/plain": [
       "<Row index=0>\n",
       "     object_id            ra            dec         tileid   flux_y_templfit spe_line_snr_gf spe_line_snr_di spe_line_name spe_line_central_wl_gf spe_line_ew_gf  spe_z_err      spe_z      spe_z_prob  spe_line_flux_gf spe_line_flux_err_gf\n",
       "         NA              deg            deg           NA           uJy                                                                                                                                                                       \n",
       "       int64           float64        float64      float64       float32         float32         float32         object           float32            float32       float32      float32      float32        float32            float32       \n",
       "------------------- -------------- ------------- ----------- --------------- --------------- --------------- ------------- ---------------------- -------------- ------------ ------------ ------------ ---------------- --------------------\n",
       "2741100559643251712 274.1100559949 64.3251862021 102158277.0   14.7443256378   22.4954986572    4.9000000954        Halpha       16342.7890625000 -36.5144042969 0.0004373892 1.4891724586 0.9999538064   3.14385755e-16       7.48821661e-17"
      ]
     },
     "execution_count": 13,
     "metadata": {},
     "output_type": "execute_result"
    }
   ],
   "source": [
    "obj_id = 2737659721646729968\n",
    "\n",
    "obj_row = result_table[(result_table['object_id'] == obj_id)]\n",
    "\n",
    "obj_row"
   ]
  },
  {
   "cell_type": "markdown",
   "id": "b88454c2",
   "metadata": {},
   "source": [
    "### Pull the spectrum of this object"
   ]
  },
  {
   "cell_type": "code",
   "execution_count": 14,
   "id": "89fb63da",
   "metadata": {},
   "outputs": [],
   "source": [
    "adql_object = f\"SELECT *  FROM {table_1dspectra}  WHERE objectid = {obj_id}\"\n",
    "\n",
    "result_table2 = Irsa.query_tap(adql_object).to_qtable()"
   ]
  },
  {
   "cell_type": "markdown",
   "id": "0d36d76b",
   "metadata": {},
   "source": [
    "### The following steps to read in the spectrum follows the 3_Euclid_intro_1D_spectra notebook.\n",
    "\n",
    "This involves reading in the spectrum without readin in the full FITS file, just pulling the extension we want."
   ]
  },
  {
   "cell_type": "code",
   "execution_count": 15,
   "id": "4d65197f",
   "metadata": {},
   "outputs": [
    {
     "data": {
      "text/plain": [
       "'https://irsa.ipac.caltech.edu/ibe/data/euclid/q1/SIR/102158277/EUC_SIR_W-COMBSPEC_102158277_2024-11-05T15:54:09.376202Z.fits'"
      ]
     },
     "execution_count": 15,
     "metadata": {},
     "output_type": "execute_result"
    }
   ],
   "source": [
    "file_uri = urllib.parse.urljoin(Irsa.tap_url, result_table2['uri'][0])\n",
    "file_uri"
   ]
  },
  {
   "cell_type": "code",
   "execution_count": 16,
   "id": "e067b28e",
   "metadata": {},
   "outputs": [
    {
     "name": "stderr",
     "output_type": "stream",
     "text": [
      "WARNING: UnitsWarning: 'erg/s/cm2/Angstrom' contains multiple slashes, which is discouraged by the FITS standard [astropy.units.format.generic]\n",
      "WARNING: UnitsWarning: 'Number' did not parse as fits unit: At col 0, Unit 'Number' not supported by the FITS standard.  If this is meant to be a custom unit, define it with 'u.def_unit'. To have it recognized inside a file reader or other code, enable it with 'u.add_enabled_units'. For details, see https://docs.astropy.org/en/latest/units/combining_and_defining.html [astropy.units.core]\n",
      "WARNING: UnitsWarning: 'Number' did not parse as fits unit: At col 0, Unit 'Number' not supported by the FITS standard.  If this is meant to be a custom unit, define it with 'u.def_unit'. To have it recognized inside a file reader or other code, enable it with 'u.add_enabled_units'. For details, see https://docs.astropy.org/en/latest/units/combining_and_defining.html [astropy.units.core]\n",
      "WARNING: UnitsWarning: 'erg2/s2/cm4/Angstrom2' contains multiple slashes, which is discouraged by the FITS standard [astropy.units.format.generic]\n",
      "WARNING: UnitsWarning: 'Number' did not parse as fits unit: At col 0, Unit 'Number' not supported by the FITS standard.  If this is meant to be a custom unit, define it with 'u.def_unit'. To have it recognized inside a file reader or other code, enable it with 'u.add_enabled_units'. For details, see https://docs.astropy.org/en/latest/units/combining_and_defining.html [astropy.units.core]\n"
     ]
    }
   ],
   "source": [
    "with fits.open(file_uri) as hdul:\n",
    "    spectrum = QTable.read(hdul[result_table2['hdu'][0]], format='fits')\n",
    "    spec_header = hdul[result_table2['hdu'][0]].header"
   ]
  },
  {
   "cell_type": "markdown",
   "id": "3e2b12b1",
   "metadata": {},
   "source": [
    "### Now the data are read in, plot the spectrum with the H-alpha line labeled\n",
    "\n",
    "```{tip}\n",
    "As we use astropy.visualization's ``quantity_support``, matplotlib automatically picks up the axis units from the quantitites we plot.\n",
    "```"
   ]
  },
  {
   "cell_type": "code",
   "execution_count": 17,
   "id": "bf722036",
   "metadata": {},
   "outputs": [
    {
     "data": {
      "text/plain": [
       "<astropy.visualization.units.quantity_support.<locals>.MplQuantityConverter at 0x7f49d446e8d0>"
      ]
     },
     "execution_count": 17,
     "metadata": {},
     "output_type": "execute_result"
    }
   ],
   "source": [
    "quantity_support()"
   ]
  },
  {
   "cell_type": "code",
   "execution_count": 18,
   "id": "694ccccb",
   "metadata": {},
   "outputs": [
    {
     "data": {
      "text/plain": [
       "Text(0.5, 1.0, 'Object ID 2737659721646729968')"
      ]
     },
     "execution_count": 18,
     "metadata": {},
     "output_type": "execute_result"
    },
    {
     "data": {
      "image/png": "[encoded data removed]",
      "text/plain": [
       "<Figure size 640x480 with 1 Axes>"
      ]
     },
     "metadata": {},
     "output_type": "display_data"
    }
   ],
   "source": [
    "# Note that the units are missing from the lines table, we manually add Angstrom\n",
    "line_wavelengths = obj_row['spe_line_central_wl_gf'] * u.angstrom\n",
    "line_names = obj_row['spe_line_name']\n",
    "snr_gf = obj_row['spe_line_snr_gf']\n",
    "\n",
    "plt.plot(spectrum['WAVELENGTH'].to(u.micron), spectrum['SIGNAL'])\n",
    "\n",
    "for wl, name, snr in zip(np.atleast_1d(line_wavelengths), np.atleast_1d(line_names), np.atleast_1d(snr_gf)):\n",
    "    plt.axvline(wl, color='b', linestyle='--', alpha=0.3)\n",
    "    plt.text(wl, .2, name+' SNR='+str(round(snr)), rotation=90, ha='center', va='bottom', fontsize=10)\n",
    "\n",
    "plt.title(f'Object ID {obj_id}')"
   ]
  },
  {
   "cell_type": "markdown",
   "id": "796054e1",
   "metadata": {},
   "source": [
    "## About this Notebook\n",
    "\n",
    "**Author**: Tiffany Meshkat, Anahita Alavi, Anastasia Laity, Andreas Faisst, Brigitta Sipőcz, Dan Masters, Harry Teplitz, Jaladh Singhal, Shoubaneh Hemmati, Vandana Desai\n",
    "\n",
    "**Updated**: 2025-03-31\n",
    "\n",
    "**Contact:** [the IRSA Helpdesk](https://irsa.ipac.caltech.edu/docs/help_desk.html) with questions or reporting problems."
   ]
  }
 ],
 "metadata": {
  "jupytext": {
   "text_representation": {
    "extension": ".md",
    "format_name": "myst",
    "format_version": 0.13,
    "jupytext_version": "1.16.7"
   }
  },
  "kernelspec": {
   "display_name": "Python 3 (ipykernel)",
   "language": "python",
   "name": "python3"
  },
  "language_info": {
   "codemirror_mode": {
    "name": "ipython",
    "version": 3
   },
   "file_extension": ".py",
   "mimetype": "text/x-python",
   "name": "python",
   "nbconvert_exporter": "python",
   "pygments_lexer": "ipython3",
   "version": "3.11.11"
  },
  "source_map": [
   12,
   16,
   20,
   28,
   32,
   47,
   51,
   56,
   71,
   77,
   80,
   88,
   94,
   96,
   102,
   105,
   109,
   113,
   117,
   123,
   127,
   132,
   138,
   143,
   147,
   150,
   164,
   188,
   192,
   198,
   202,
   206,
   212,
   217,
   221,
   229,
   233,
   246
  ]
 },
 "nbformat": 4,
 "nbformat_minor": 5
}