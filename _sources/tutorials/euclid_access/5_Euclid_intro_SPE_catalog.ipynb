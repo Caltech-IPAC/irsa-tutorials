{
 "cells": [
  {
   "cell_type": "markdown",
   "id": "04ee9c99",
   "metadata": {},
   "source": [
    "# Euclid Quick Release 1: SPE catalog"
   ]
  },
  {
   "cell_type": "markdown",
   "id": "9eb30fe3",
   "metadata": {},
   "source": [
    "## Learning Goals"
   ]
  },
  {
   "cell_type": "markdown",
   "id": "5e948636",
   "metadata": {},
   "source": [
    "By the end of this tutorial, you will:\n",
    "- Understand the basic characteristics of Euclid Q1 SPE catalogs.\n",
    "- Understand what SPE catalogs are available and how to view the columns in those catalogs.\n",
    "- How to query with ADQL in the SPE lines catalog to find strong H-alpha detections.\n",
    "- How to make a plot the detected line features over the 1D spectra."
   ]
  },
  {
   "cell_type": "markdown",
   "id": "d4b94277",
   "metadata": {},
   "source": [
    "## Introduction"
   ]
  },
  {
   "cell_type": "markdown",
   "id": "f27a1b39",
   "metadata": {},
   "source": [
    "Euclid is a European Space Agency (ESA) space mission with NASA participation, to study the geometry and nature of the dark Universe.\n",
    "The Quick Data Release 1 (Q1) are the first data release from the Euclid mission after the Early Release Observations (ERO).\n",
    "On March 19, 2025 the data will be available on the [ESA archive](https://easidr.esac.esa.int/sas/) and on the [IRSA archive](https://irsa.ipac.caltech.edu).\n",
    "\n",
    "These Q1 notebooks focus on how to access, download, and process Euclid Q1 data from the IRSA archive.\n",
    "If you have any issues accessing data from the archives, please contact the helpdesk directly: [IRSA helpdesk](https://irsa.ipac.caltech.edu/docs/help_desk.html) and [ESA Euclid Helpdesk](https://support.cosmos.esa.int/euclid).\n",
    "\n",
    "Every one dimensional spectrum is processed through a template and line fitting pipeline, producing several different 'SPE' catalogs.\n",
    "This notebook provides an introduction to the SPE catalogs released as part of Euclid Q1.\n",
    "Other Euclid notebooks show how to use other data products released as part of Euclid Q1."
   ]
  },
  {
   "cell_type": "markdown",
   "id": "568b8d6d",
   "metadata": {},
   "source": [
    "## Imports"
   ]
  },
  {
   "cell_type": "code",
   "execution_count": null,
   "id": "e01eae8e",
   "metadata": {},
   "outputs": [],
   "source": [
    "# Uncomment the next line to install dependencies if needed\n",
    "# !pip install matplotlib pandas astropy pyvo"
   ]
  },
  {
   "cell_type": "code",
   "execution_count": null,
   "id": "f481fa0d",
   "metadata": {},
   "outputs": [],
   "source": [
    "from io import BytesIO\n",
    "import re\n",
    "\n",
    "import matplotlib.pyplot as plt\n",
    "import numpy as np\n",
    "import pandas as pd\n",
    "import requests\n",
    "\n",
    "from astropy.coordinates import SkyCoord\n",
    "from astropy.io import fits\n",
    "from astropy.table import Table\n",
    "from astropy import units as u\n",
    "from astropy.utils.data import download_file\n",
    "from astropy.visualization import ImageNormalize, PercentileInterval, AsinhStretch\n",
    "\n",
    "import pyvo as vo"
   ]
  },
  {
   "cell_type": "markdown",
   "id": "2b1687a6",
   "metadata": {},
   "source": [
    "## 1. Find the MER Tile ID that corresponds to a given RA and Dec\n",
    "\n",
    "In this case, choose the coordinates from the first notebook to save time downloading the MER mosaic. Search a radius of 1.5 arcminutes around these coordinates."
   ]
  },
  {
   "cell_type": "code",
   "execution_count": null,
   "id": "64201b99",
   "metadata": {},
   "outputs": [],
   "source": [
    "search_radius = 10 * u.arcsec\n",
    "coord = SkyCoord.from_name('HD 168151')"
   ]
  },
  {
   "cell_type": "markdown",
   "id": "e22292d5",
   "metadata": {},
   "source": [
    "### Use IRSA to search for all Euclid data on this target\n",
    "\n",
    "This searches specifically in the euclid_DpdMerBksMosaic \"collection\" which is the MER images and catalogs."
   ]
  },
  {
   "cell_type": "code",
   "execution_count": null,
   "id": "102a6d5c",
   "metadata": {},
   "outputs": [],
   "source": [
    "irsa_service= vo.dal.sia2.SIA2Service('https://irsa.ipac.caltech.edu/SIA')\n",
    "\n",
    "im_table = irsa_service.search(pos=(coord, search_radius), collection='euclid_DpdMerBksMosaic')\n",
    "\n",
    "## Convert the table to pandas dataframe\n",
    "df_im_irsa=im_table.to_table().to_pandas()"
   ]
  },
  {
   "cell_type": "code",
   "execution_count": null,
   "id": "d82082a3",
   "metadata": {},
   "outputs": [],
   "source": [
    "## Change the settings so we can see all the columns in the dataframe and the full column width\n",
    "## (to see the full long URL)\n",
    "pd.set_option('display.max_columns', None)\n",
    "pd.set_option('display.max_colwidth', None)"
   ]
  },
  {
   "cell_type": "markdown",
   "id": "ec5c6a83",
   "metadata": {},
   "source": [
    "#### This dataframe contains other non-Euclid datasets that have been \"Euclidized\", meaning they have been put on the same pixel scale as the Euclid data. For this example we just want to look at the Euclid data, so select Euclid for the facility name, and choose science as the data product subtype."
   ]
  },
  {
   "cell_type": "code",
   "execution_count": null,
   "id": "477a584c",
   "metadata": {},
   "outputs": [],
   "source": [
    "df_im_euclid=df_im_irsa[ (df_im_irsa['dataproduct_subtype']=='science') &  (df_im_irsa['facility_name']=='Euclid')]\n",
    "\n",
    "df_im_euclid.head()"
   ]
  },
  {
   "cell_type": "markdown",
   "id": "8ee196ba",
   "metadata": {},
   "source": [
    "## Choose the VIS image and pull the filename:"
   ]
  },
  {
   "cell_type": "code",
   "execution_count": null,
   "id": "3b5e8da7",
   "metadata": {},
   "outputs": [],
   "source": [
    "filename=df_im_euclid[df_im_euclid['energy_bandpassname']=='VIS']['access_url'].to_list()[0]\n",
    "\n",
    "# ## Extract the tileID from the filename\n",
    "tileID=re.search(r'TILE\\s*(\\d{9})', filename).group(1)\n",
    "\n",
    "print('The MER tile ID for this object is :',tileID)"
   ]
  },
  {
   "cell_type": "markdown",
   "id": "3fec9dbc",
   "metadata": {},
   "source": [
    "## 2. Download SPE catalog from IRSA directly to this notebook\n",
    "\n",
    "Search for all tables in IRSA labeled as euclid"
   ]
  },
  {
   "cell_type": "code",
   "execution_count": null,
   "id": "15dd0691",
   "metadata": {},
   "outputs": [],
   "source": [
    "service = vo.dal.TAPService(\"https://irsa.ipac.caltech.edu/TAP\")\n",
    "\n",
    "tables = service.tables\n",
    "for tablename in tables.keys():\n",
    "    if \"tap_schema\" not in tablename and \"euclid\" in tablename:\n",
    "            tables[tablename].describe()"
   ]
  },
  {
   "cell_type": "code",
   "execution_count": null,
   "id": "4e5a5cb7",
   "metadata": {},
   "outputs": [],
   "source": [
    "table_mer= 'euclid_q1_mer_catalogue'\n",
    "table_galaxy_candidates= 'euclid_q1_spectro_zcatalog_spe_galaxy_candidates'\n",
    "table_1dspectra= 'euclid.objectid_spectrafile_association_q1'\n",
    "table_lines= 'euclid_q1_spe_lines_line_features'"
   ]
  },
  {
   "cell_type": "markdown",
   "id": "1f198294",
   "metadata": {},
   "source": [
    "### Learn some information about the table:\n",
    "- How many columns are there?\n",
    "- List the column names"
   ]
  },
  {
   "cell_type": "code",
   "execution_count": null,
   "id": "15b268f4",
   "metadata": {},
   "outputs": [],
   "source": [
    "columns = tables[table_lines].columns\n",
    "print(len(columns))"
   ]
  },
  {
   "cell_type": "code",
   "execution_count": null,
   "id": "491273f9",
   "metadata": {},
   "outputs": [],
   "source": [
    "for col in columns:\n",
    "    print(f'{f\"{col.name}\":30s}  {col.unit}  {col.description}') ## Currently no descriptions"
   ]
  },
  {
   "cell_type": "code",
   "execution_count": null,
   "id": "3a1985ca",
   "metadata": {},
   "outputs": [],
   "source": [
    "## Change the settings so we can see all the columns in the dataframe and the full column width\n",
    "## (to see the full long URL)\n",
    "pd.set_option('display.max_columns', None)\n",
    "pd.set_option('display.max_colwidth', None)\n",
    "\n",
    "\n",
    "## Can use the following lines to reset the max columns and column width of pandas\n",
    "# pd.reset_option('display.max_columns')\n",
    "# pd.reset_option('display.max_colwidth')"
   ]
  },
  {
   "cell_type": "markdown",
   "id": "2607a0c4",
   "metadata": {},
   "source": [
    "## Find some objects with spectra in our tileID\n",
    "\n",
    "We specify the following conditions on our search:\n",
    "- Signal to noise ratio column (_gf = gaussian fit) should be greater than 5\n",
    "- We want to detect H-alpha.\n",
    "- We choose in which tileID to search, usign the tileID from the first notebook.\n",
    "- Choose spectroscopic redshift (spe_z) beween 1.4 and 1.6 and spe_z_prob greater than 0.999\n",
    "- H-alpha line flux should be more than 2x10^16 erg s^-1 cm^-2\n",
    "- Join the lines and galaxy candidates tables on object_id and spe_rank\n",
    "\n",
    "Finally we sort the data by descending spe_line_snr_gf to have the largest SNR H-alpha lines detected at the top."
   ]
  },
  {
   "cell_type": "code",
   "execution_count": null,
   "id": "d93774d4",
   "metadata": {},
   "outputs": [],
   "source": [
    "adql = f\"SELECT DISTINCT mer.object_id,mer.ra, mer.dec, mer.tileid, mer.flux_y_templfit, \\\n",
    "lines.spe_line_snr_gf,lines.spe_line_snr_di, lines.spe_line_name, lines.spe_line_central_wl_gf,\\\n",
    "lines.spe_line_ew_gf, galaxy.spe_z_err, galaxy.spe_z,galaxy.spe_z_prob, lines.spe_line_flux_gf, lines.spe_line_flux_err_gf \\\n",
    "FROM {table_mer} AS mer \\\n",
    "JOIN {table_lines} AS lines \\\n",
    "ON mer.object_id = lines.object_id \\\n",
    "JOIN {table_galaxy_candidates} AS galaxy \\\n",
    "ON lines.object_id = galaxy.object_id AND lines.spe_rank = galaxy.spe_rank \\\n",
    "WHERE lines.spe_line_snr_gf >5 \\\n",
    "AND lines.spe_line_name = 'Halpha' \\\n",
    "AND mer.tileid = {tileID} \\\n",
    "AND galaxy.spe_z_prob > 0.99 \\\n",
    "AND galaxy.spe_z BETWEEN 1.4 AND 1.6 \\\n",
    "AND lines.spe_line_flux_gf > 2E-16 \\\n",
    "ORDER BY lines.spe_line_snr_gf DESC \\\n",
    "\"\n",
    "\n",
    "# Use TAP with this ADQL string using pyvo\n",
    "result = service.search(adql)\n",
    "\n",
    "# Convert table to pandas dataframe and drop duplicates\n",
    "result_table = result.to_qtable()\n",
    "\n",
    "result_table['spe_line_flux_gf'].info.format = \".8e\"  # Scientific notation with 8 decimal places\n",
    "result_table['spe_line_flux_err_gf'].info.format = \".8e\"\n",
    "result_table['object_id'] = result['object_id'].astype('int64')"
   ]
  },
  {
   "cell_type": "markdown",
   "id": "8e8ed877",
   "metadata": {},
   "source": [
    "### Choose an object of interest, lets look at an object with a strong Halpha line detected with high SNR."
   ]
  },
  {
   "cell_type": "code",
   "execution_count": null,
   "id": "5ce90df2",
   "metadata": {},
   "outputs": [],
   "source": [
    "obj_id = 2737659721646729968\n",
    "\n",
    "obj_tab = result_table[(result_table['object_id'] == obj_id)]\n",
    "\n",
    "obj_tab"
   ]
  },
  {
   "cell_type": "markdown",
   "id": "aad011e7",
   "metadata": {},
   "source": [
    "### Pull the spectrum of this object"
   ]
  },
  {
   "cell_type": "code",
   "execution_count": null,
   "id": "0c2f9f55",
   "metadata": {},
   "outputs": [],
   "source": [
    "adql_object = f\"SELECT *  FROM {table_1dspectra}  WHERE objectid = {obj_id}\"\n",
    "\n",
    "result2 = service.search(adql_object)\n",
    "df2 = result2.to_table().to_pandas()\n",
    "df2"
   ]
  },
  {
   "cell_type": "markdown",
   "id": "87023dce",
   "metadata": {},
   "source": [
    "### The following steps to read in the spectrum follows the 3_Euclid_intro_1D_spectra notebook.\n",
    "\n",
    "This involves reading in the spectrum without readin in the full FITS file, just pulling the extension we want."
   ]
  },
  {
   "cell_type": "code",
   "execution_count": null,
   "id": "dcdc7405",
   "metadata": {},
   "outputs": [],
   "source": [
    "irsa_url = 'https://irsa.ipac.caltech.edu/'\n",
    "\n",
    "file_url = irsa_url + df2['uri'].iloc[0]\n",
    "file_url\n",
    "\n",
    "response = requests.get(file_url)\n",
    "\n",
    "with fits.open(BytesIO(response.content), memmap=True) as hdul:\n",
    "    hdu = hdul[df2['hdu'].iloc[0]]\n",
    "    dat = Table.read(hdu, format='fits', hdu=1)\n",
    "    df_obj_irsa = dat.to_pandas()"
   ]
  },
  {
   "cell_type": "markdown",
   "id": "e8debd6f",
   "metadata": {},
   "source": [
    "### Now the data are read in, plot the spectrum with the H-alpha line labeled\n",
    "\n",
    "Divide by 10000 to convert from Angstrom to micron"
   ]
  },
  {
   "cell_type": "code",
   "execution_count": null,
   "id": "0d739753",
   "metadata": {},
   "outputs": [],
   "source": [
    "wavelengths = obj_tab['spe_line_central_wl_gf']/10000.\n",
    "line_names = obj_tab['spe_line_name']\n",
    "snr_gf = obj_tab['spe_line_snr_gf']\n",
    "\n",
    "plt.plot(df_obj_irsa['WAVELENGTH']/10000., df_obj_irsa['SIGNAL'])\n",
    "\n",
    "for wl, name, snr in zip(np.atleast_1d(wavelengths), np.atleast_1d(line_names), np.atleast_1d(snr_gf)):\n",
    "    plt.axvline(wl, color='b', linestyle='--', alpha=0.3)\n",
    "    plt.text(wl+0.02, .2, name+' SNR='+str(round(snr)), rotation=90, ha='center', va='bottom', fontsize=10)\n",
    "\n",
    "plt.xlabel('Wavelength (microns)')\n",
    "plt.ylabel('Flux (erg / (s cm2))')\n",
    "plt.xlim(1.25, 1.85)\n",
    "plt.title('Object ID is '+str(obj_id))"
   ]
  },
  {
   "cell_type": "markdown",
   "id": "bfee9a3a",
   "metadata": {},
   "source": [
    "## About this Notebook\n",
    "\n",
    "**Author**: Tiffany Meshkat (IPAC Scientist)\n",
    "\n",
    "**Updated**: 2025-03-19\n",
    "\n",
    "**Contact:** [the IRSA Helpdesk](https://irsa.ipac.caltech.edu/docs/help_desk.html) with questions or reporting problems."
   ]
  }
 ],
 "metadata": {
  "jupytext": {
   "text_representation": {
    "extension": ".md",
    "format_name": "myst",
    "format_version": 0.13,
    "jupytext_version": "1.16.7"
   }
  },
  "kernelspec": {
   "display_name": "Python 3 (ipykernel)",
   "language": "python",
   "name": "python3"
  },
  "source_map": [
   12,
   16,
   20,
   28,
   32,
   45,
   49,
   54,
   71,
   77,
   80,
   86,
   95,
   100,
   104,
   108,
   112,
   119,
   125,
   134,
   139,
   145,
   150,
   155,
   165,
   179,
   206,
   210,
   216,
   220,
   226,
   232,
   244,
   250,
   265
  ]
 },
 "nbformat": 4,
 "nbformat_minor": 5
}