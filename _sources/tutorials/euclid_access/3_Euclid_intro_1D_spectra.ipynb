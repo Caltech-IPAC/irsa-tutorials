{
 "cells": [
  {
   "cell_type": "markdown",
   "id": "ad99975c",
   "metadata": {},
   "source": [
    "# Euclid Q1: 1D spectra"
   ]
  },
  {
   "cell_type": "markdown",
   "id": "88f2a8dc",
   "metadata": {},
   "source": [
    "## Learning Goals"
   ]
  },
  {
   "cell_type": "markdown",
   "id": "b513b569",
   "metadata": {},
   "source": [
    "By the end of this tutorial, you will:\n",
    "- Understand the basic characteristics of Euclid Q1 SIR 1D spectra.\n",
    "- What columns are available in the MER catalog.\n",
    "- How to query with ADQL in the MER catalog.\n",
    "- How to make a simple color-magnitude diagram with the data."
   ]
  },
  {
   "cell_type": "markdown",
   "id": "707f733a",
   "metadata": {},
   "source": [
    "## Introduction\n",
    "\n",
    "Euclid launched in July 2023 as a European Space Agency (ESA) mission with involvement by NASA.\n",
    "The primary science goals of Euclid are to better understand the composition and evolution of the dark Universe.\n",
    "The Euclid mission is providing space-based imaging and spectroscopy as well as supporting ground-based imaging to achieve these primary goals.\n",
    "These data will be archived by multiple global repositories, including IRSA, where they will support transformational work in many areas of astrophysics.\n",
    "\n",
    "Euclid Quick Release 1 (Q1) consists of consists of ~30 TB of imaging, spectroscopy, and catalogs covering four non-contiguous fields:\n",
    "Euclid Deep Field North (22.9 sq deg), Euclid Deep Field Fornax (12.1 sq deg), Euclid Deep Field South (28.1 sq deg), and LDN1641.\n",
    "\n",
    "Among the data products included in the Q1 release are the 1D spectra created by the SIR Processing Function.\n",
    "This notebook provides an introduction to these SIR 1D spectra.\n",
    "If you have questions about it, please contact the [IRSA helpdesk](https://irsa.ipac.caltech.edu/docs/help_desk.html)."
   ]
  },
  {
   "cell_type": "markdown",
   "id": "59371246",
   "metadata": {},
   "source": [
    "## Imports\n",
    "\n",
    "```{important}\n",
    "We rely on ``astroquery`` features that have been recently added, so please make sure you have version v0.4.10 or newer installed.\n",
    "```"
   ]
  },
  {
   "cell_type": "code",
   "execution_count": 1,
   "id": "f1ec934f",
   "metadata": {},
   "outputs": [],
   "source": [
    "# Uncomment the next line to install dependencies if needed\n",
    "# !pip install matplotlib astropy 'astroquery>=0.4.10'"
   ]
  },
  {
   "cell_type": "code",
   "execution_count": 2,
   "id": "314541d6",
   "metadata": {},
   "outputs": [],
   "source": [
    "import urllib\n",
    "\n",
    "import numpy as np\n",
    "import matplotlib.pyplot as plt\n",
    "\n",
    "from astropy.io import fits\n",
    "from astropy.table import QTable\n",
    "from astropy import units as u\n",
    "from astropy.visualization import quantity_support\n",
    "\n",
    "from astroquery.ipac.irsa import Irsa"
   ]
  },
  {
   "cell_type": "markdown",
   "id": "2b027892",
   "metadata": {},
   "source": [
    "## 1. Search for the spectrum of a specific galaxy\n",
    "\n",
    "First, explore what Euclid catalogs are available. Note that we need to use the object ID for our targets to be able to download their spectrum.\n",
    "\n",
    "Search for all tables in IRSA labeled as \"euclid\"."
   ]
  },
  {
   "cell_type": "code",
   "execution_count": 3,
   "id": "a4749637",
   "metadata": {},
   "outputs": [
    {
     "data": {
      "text/plain": [
       "{'euclid.tileid_association_q1': 'Euclid Q1 TILEID to Observation ID Association Table',\n",
       " 'euclid.objectid_spectrafile_association_q1': 'Euclid Q1 Object ID to Spectral File Association Table',\n",
       " 'euclid.observation_euclid_q1': 'Euclid Q1 CAOM Observation Table',\n",
       " 'euclid.plane_euclid_q1': 'Euclid Q1 CAOM Plane Table',\n",
       " 'euclid.artifact_euclid_q1': 'Euclid Q1 CAOM Artifact Table',\n",
       " 'euclid_q1_mer_catalogue': 'Euclid Q1 MER Catalog',\n",
       " 'euclid_q1_mer_morphology': 'Euclid Q1 MER Morphology',\n",
       " 'euclid_q1_mer_cutouts': 'Euclid Q1 MER Cutouts',\n",
       " 'euclid_q1_phz_photo_z': 'Euclid Q1 PHZ Photo-z Catalog',\n",
       " 'euclid_q1_phz_star_sed': 'Euclid Q1 PHZ Star SED Catalog',\n",
       " 'euclid_q1_phz_galaxy_sed': 'Euclid Q1 PHZ Galaxy SED Catalog',\n",
       " 'euclid_q1_phz_classification': 'Euclid Q1 PHZ Classification Catalog',\n",
       " 'euclid_q1_phz_qso_physical_parameters': 'Euclid Q1 PHZ QSO Physical Parameters Catalog',\n",
       " 'euclid_q1_phz_nir_physical_parameters': 'Euclid Q1 PHZ NIR Physical Parameters Catalog',\n",
       " 'euclid_q1_phz_star_template': 'Euclid Q1 PHZ Star Template Catalog',\n",
       " 'euclid_q1_spectro_zcatalog_spe_quality': 'Euclid Q1 SPE Redshift Catalog - Quality',\n",
       " 'euclid_q1_spectro_zcatalog_spe_classification': 'Euclid Q1 SPE Redshift Catalog - Classification',\n",
       " 'euclid_q1_spectro_zcatalog_spe_galaxy_candidates': 'Euclid Q1 SPE Redshift Catalog - Galaxy Candidates',\n",
       " 'euclid_q1_spectro_zcatalog_spe_star_candidates': 'Euclid Q1 SPE Redshift Catalog - Star Candidates',\n",
       " 'euclid_q1_spectro_zcatalog_spe_qso_candidates': 'Euclid Q1 SPE Redshift Catalog - QSO Candidates',\n",
       " 'euclid_q1_spe_lines_line_features': 'Euclid Q1 SPE Lines Catalog - Spectral Lines',\n",
       " 'euclid_q1_spe_lines_continuum_features': 'Euclid Q1 SPE Lines Catalog - Continuum Features',\n",
       " 'euclid_q1_spe_lines_atomic_indices': 'Euclid Q1 SPE Lines Catalog - Atomic Indices',\n",
       " 'euclid_q1_spe_lines_molecular_indices': 'Euclid Q1 SPE Lines Catalog - Molecular Indices',\n",
       " 'euclid_q1_spectro_model_catalog_spe_lines_catalog': 'Euclid Q1 SPE Models Catalog - Lines',\n",
       " 'euclid_q1_spectro_model_catalog_spe_star_models': 'Euclid Q1 SPE Star Models Catalog'}"
      ]
     },
     "execution_count": 3,
     "metadata": {},
     "output_type": "execute_result"
    }
   ],
   "source": [
    "Irsa.list_catalogs(filter='euclid')"
   ]
  },
  {
   "cell_type": "code",
   "execution_count": 4,
   "id": "c31af713",
   "metadata": {},
   "outputs": [],
   "source": [
    "table_1dspectra = 'euclid.objectid_spectrafile_association_q1'"
   ]
  },
  {
   "cell_type": "markdown",
   "id": "ac796d3f",
   "metadata": {},
   "source": [
    "## 2. Search for the spectrum of a specific galaxy in the 1D spectra table"
   ]
  },
  {
   "cell_type": "code",
   "execution_count": 5,
   "id": "4e372245",
   "metadata": {},
   "outputs": [],
   "source": [
    "obj_id = 2689918641685825137"
   ]
  },
  {
   "cell_type": "markdown",
   "id": "46ada960",
   "metadata": {},
   "source": [
    "We will use TAP and an ASQL query to find the spectral data for our galaxy. (ADQL is the [IVOA Astronomical Data Query Language](https://www.ivoa.net/documents/latest/ADQL.html) and is based on SQL.)"
   ]
  },
  {
   "cell_type": "code",
   "execution_count": 6,
   "id": "f6659cab",
   "metadata": {},
   "outputs": [],
   "source": [
    "adql_object = f\"SELECT * FROM {table_1dspectra} WHERE objectid = {obj_id}\"\n",
    "\n",
    "# Pull the data on this particular galaxy\n",
    "result = Irsa.query_tap(adql_object).to_table()"
   ]
  },
  {
   "cell_type": "markdown",
   "id": "49bddc09",
   "metadata": {},
   "source": [
    "Pull out the file name from the ``result`` table:"
   ]
  },
  {
   "cell_type": "code",
   "execution_count": 7,
   "id": "e8d50d5b",
   "metadata": {},
   "outputs": [
    {
     "data": {
      "text/plain": [
       "'https://irsa.ipac.caltech.edu/ibe/data/euclid/q1/SIR/102160608/EUC_SIR_W-COMBSPEC_102160608_2024-11-05T16:42:00.741819Z.fits'"
      ]
     },
     "execution_count": 7,
     "metadata": {},
     "output_type": "execute_result"
    }
   ],
   "source": [
    "file_uri = urllib.parse.urljoin(Irsa.tap_url, result['uri'][0])\n",
    "file_uri"
   ]
  },
  {
   "cell_type": "markdown",
   "id": "72993f21",
   "metadata": {},
   "source": [
    "## 3. Read in the spectrum for only our specific object\n",
    "\n",
    "Currently IRSA has the spectra stored in very large files containing multiple (14220) extensions with spectra of many targets within one tile. You can choose to read in the big file below to see what it looks like (takes a few mins to load) or skip this step and just read in the specific extension we want for the 1D spectra (recommended)."
   ]
  },
  {
   "cell_type": "code",
   "execution_count": 8,
   "id": "088aef0e",
   "metadata": {},
   "outputs": [],
   "source": [
    "# hdul = fits.open(file_uri)\n",
    "# hdul.info()"
   ]
  },
  {
   "cell_type": "markdown",
   "id": "832badd6",
   "metadata": {},
   "source": [
    "Open the large FITS file without loading it entirely into memory, pulling out just the extension we want for the 1D spectra of our object"
   ]
  },
  {
   "cell_type": "code",
   "execution_count": 9,
   "id": "3da9c6b0",
   "metadata": {},
   "outputs": [
    {
     "name": "stderr",
     "output_type": "stream",
     "text": [
      "WARNING: UnitsWarning: 'Number' did not parse as fits unit: At col 0, Unit 'Number' not supported by the FITS standard.  If this is meant to be a custom unit, define it with 'u.def_unit'. To have it recognized inside a file reader or other code, enable it with 'u.add_enabled_units'. For details, see https://docs.astropy.org/en/latest/units/combining_and_defining.html [astropy.units.core]\n",
      "WARNING: UnitsWarning: 'Number' did not parse as fits unit: At col 0, Unit 'Number' not supported by the FITS standard.  If this is meant to be a custom unit, define it with 'u.def_unit'. To have it recognized inside a file reader or other code, enable it with 'u.add_enabled_units'. For details, see https://docs.astropy.org/en/latest/units/combining_and_defining.html [astropy.units.core]\n",
      "WARNING: UnitsWarning: 'Number' did not parse as fits unit: At col 0, Unit 'Number' not supported by the FITS standard.  If this is meant to be a custom unit, define it with 'u.def_unit'. To have it recognized inside a file reader or other code, enable it with 'u.add_enabled_units'. For details, see https://docs.astropy.org/en/latest/units/combining_and_defining.html [astropy.units.core]\n"
     ]
    }
   ],
   "source": [
    "with fits.open(file_uri) as hdul:\n",
    "    spectrum = QTable.read(hdul[result['hdu'][0]], format='fits')\n",
    "\n",
    "    spec_header = hdul[result['hdu'][0]].header"
   ]
  },
  {
   "cell_type": "code",
   "execution_count": 10,
   "id": "c6252429",
   "metadata": {},
   "outputs": [
    {
     "data": {
      "text/html": [
       "<div><i>QTable length=531</i>\n",
       "<table id=\"table140047408005520\" class=\"table-striped table-bordered table-condensed\">\n",
       "<thead><tr><th>WAVELENGTH</th><th>SIGNAL</th><th>MASK</th><th>QUALITY</th><th>VAR</th><th>NDITH</th></tr></thead>\n",
       "<thead><tr><th>Angstrom</th><th>erg / (Angstrom s cm2)</th><th>Number</th><th>Number</th><th>erg2 / (Angstrom2 s2 cm4)</th><th>Number</th></tr></thead>\n",
       "<thead><tr><th>float32</th><th>float32</th><th>float64</th><th>float32</th><th>float32</th><th>float64</th></tr></thead>\n",
       "<tr><td>11900.0</td><td>0.0</td><td>1.0</td><td>0.0</td><td>0.0</td><td>0.0</td></tr>\n",
       "<tr><td>11913.400390625</td><td>0.0</td><td>1.0</td><td>0.0</td><td>0.0</td><td>0.0</td></tr>\n",
       "<tr><td>11926.7998046875</td><td>0.0</td><td>1.0</td><td>0.0</td><td>0.0</td><td>0.0</td></tr>\n",
       "<tr><td>11940.2001953125</td><td>-0.42825955152511597</td><td>64.0</td><td>0.924927830696106</td><td>0.05231768637895584</td><td>2.0</td></tr>\n",
       "<tr><td>11953.599609375</td><td>-0.019433781504631042</td><td>66.0</td><td>0.8561765551567078</td><td>0.010498150251805782</td><td>2.0</td></tr>\n",
       "<tr><td>11967.0</td><td>0.02915639616549015</td><td>64.0</td><td>0.8876305818557739</td><td>0.003435363294556737</td><td>4.0</td></tr>\n",
       "<tr><td>11980.400390625</td><td>0.08275385200977325</td><td>80.0</td><td>0.0</td><td>0.0017151220235973597</td><td>4.0</td></tr>\n",
       "<tr><td>11993.7998046875</td><td>0.018765779212117195</td><td>64.0</td><td>0.8546596765518188</td><td>0.0009618347976356745</td><td>4.0</td></tr>\n",
       "<tr><td>12007.2001953125</td><td>0.009108440019190311</td><td>64.0</td><td>0.8887824416160583</td><td>0.0005876092473044991</td><td>4.0</td></tr>\n",
       "<tr><td>...</td><td>...</td><td>...</td><td>...</td><td>...</td><td>...</td></tr>\n",
       "<tr><td>18894.80078125</td><td>0.004414212889969349</td><td>64.0</td><td>0.9155963659286499</td><td>0.0002704685612116009</td><td>4.0</td></tr>\n",
       "<tr><td>18908.19921875</td><td>-0.034835416823625565</td><td>64.0</td><td>0.738968014717102</td><td>0.0005062822601757944</td><td>3.0</td></tr>\n",
       "<tr><td>18921.599609375</td><td>0.002581549109891057</td><td>66.0</td><td>0.8868578672409058</td><td>0.0006160042248666286</td><td>4.0</td></tr>\n",
       "<tr><td>18935.0</td><td>-0.03595489263534546</td><td>66.0</td><td>0.9000127911567688</td><td>0.0009402198484167457</td><td>4.0</td></tr>\n",
       "<tr><td>18948.400390625</td><td>-0.0484054833650589</td><td>64.0</td><td>0.9134283065795898</td><td>0.001895991968922317</td><td>4.0</td></tr>\n",
       "<tr><td>18961.80078125</td><td>-0.12392819672822952</td><td>64.0</td><td>0.922426164150238</td><td>0.0031691163312643766</td><td>3.0</td></tr>\n",
       "<tr><td>18975.19921875</td><td>-0.08269069343805313</td><td>64.0</td><td>0.8407320976257324</td><td>0.005587479565292597</td><td>3.0</td></tr>\n",
       "<tr><td>18988.599609375</td><td>-0.14132308959960938</td><td>66.0</td><td>0.7666888236999512</td><td>0.0100048603489995</td><td>3.0</td></tr>\n",
       "<tr><td>19002.0</td><td>-0.33820343017578125</td><td>66.0</td><td>0.809532642364502</td><td>0.01680051162838936</td><td>4.0</td></tr>\n",
       "</table></div>"
      ],
      "text/plain": [
       "<QTable length=531>\n",
       "   WAVELENGTH            SIGNAL         ...            VAR             NDITH \n",
       "    Angstrom     erg / (Angstrom s cm2) ... erg2 / (Angstrom2 s2 cm4)  Number\n",
       "    float32             float32         ...          float32          float64\n",
       "---------------- ---------------------- ... ------------------------- -------\n",
       "         11900.0                    0.0 ...                       0.0     0.0\n",
       " 11913.400390625                    0.0 ...                       0.0     0.0\n",
       "11926.7998046875                    0.0 ...                       0.0     0.0\n",
       "11940.2001953125   -0.42825955152511597 ...       0.05231768637895584     2.0\n",
       " 11953.599609375  -0.019433781504631042 ...      0.010498150251805782     2.0\n",
       "         11967.0    0.02915639616549015 ...      0.003435363294556737     4.0\n",
       " 11980.400390625    0.08275385200977325 ...     0.0017151220235973597     4.0\n",
       "11993.7998046875   0.018765779212117195 ...     0.0009618347976356745     4.0\n",
       "12007.2001953125   0.009108440019190311 ...     0.0005876092473044991     4.0\n",
       "             ...                    ... ...                       ...     ...\n",
       "  18894.80078125   0.004414212889969349 ...     0.0002704685612116009     4.0\n",
       "  18908.19921875  -0.034835416823625565 ...     0.0005062822601757944     3.0\n",
       " 18921.599609375   0.002581549109891057 ...     0.0006160042248666286     4.0\n",
       "         18935.0   -0.03595489263534546 ...     0.0009402198484167457     4.0\n",
       " 18948.400390625    -0.0484054833650589 ...      0.001895991968922317     4.0\n",
       "  18961.80078125   -0.12392819672822952 ...     0.0031691163312643766     3.0\n",
       "  18975.19921875   -0.08269069343805313 ...      0.005587479565292597     3.0\n",
       " 18988.599609375   -0.14132308959960938 ...        0.0100048603489995     3.0\n",
       "         19002.0   -0.33820343017578125 ...       0.01680051162838936     4.0"
      ]
     },
     "execution_count": 10,
     "metadata": {},
     "output_type": "execute_result"
    }
   ],
   "source": [
    "spectrum"
   ]
  },
  {
   "cell_type": "code",
   "execution_count": 11,
   "id": "42c49903",
   "metadata": {},
   "outputs": [
    {
     "data": {
      "text/plain": [
       "XTENSION= 'BINTABLE'           / binary table extension                         \n",
       "BITPIX  =                    8 / 8-bit bytes                                    \n",
       "NAXIS   =                    2 / 2-dimensional binary table                     \n",
       "NAXIS1  =                   22 / width of table in bytes                        \n",
       "NAXIS2  =                  531 / number of rows in table                        \n",
       "PCOUNT  =                    0 / size of special data area                      \n",
       "GCOUNT  =                    1 / one data group (required keyword)              \n",
       "TFIELDS =                    6 / number of fields in each row                   \n",
       "TTYPE1  = 'WAVELENGTH'         / label for field   1                            \n",
       "TFORM1  = '1E      '           / data format of field: 4-byte REAL              \n",
       "TUNIT1  = 'Angstrom'           / physical unit of field                         \n",
       "TTYPE2  = 'SIGNAL  '           / label for field   2                            \n",
       "TFORM2  = '1E      '           / data format of field: 4-byte REAL              \n",
       "TUNIT2  = 'erg/s/cm2/Angstrom' / physical unit of field                         \n",
       "EXTNAME = '94_COMBINED1D_SIGNAL' / name of this binary table extension          \n",
       "WMIN    =               11900. / [Angstrom] Minimum wavelength of the binning   \n",
       "BINWIDTH=                 13.4 / [Angstrom] Wavelength bin width                \n",
       "BINCOUNT=                  531 / Wavelength bin count                           \n",
       "TTYPE3  = 'MASK    '           / label for field                                \n",
       "TFORM3  = '1J      '           / format of field                                \n",
       "TUNIT3  = 'Number  '           / physical unit of field                         \n",
       "TTYPE4  = 'QUALITY '           / label for field                                \n",
       "TFORM4  = '1E      '           / format of field                                \n",
       "TUNIT4  = 'Number  '           / physical unit of field                         \n",
       "TTYPE5  = 'VAR     '           / label for field                                \n",
       "TFORM5  = '1E      '           / format of field                                \n",
       "TUNIT5  = 'erg2/s2/cm4/Angstrom2' / physical unit of field                      \n",
       "TTYPE6  = 'NDITH   '           / label for field                                \n",
       "TFORM6  = '1I      '           / format of field                                \n",
       "TUNIT6  = 'Number  '           / physical unit of field                         \n",
       "FSCALE  =              1.0E-16 / Scaling factor                                 \n",
       "EXPTIME =             2198.569 / Exposure time                                  \n",
       "LSF_SIG =             20.28061 / [Angstrom] Std dev of the Gaussian LSF model   \n",
       "EXT_PROF= 'NONE    '           / 1D extraction profile used (NONE,OPT_THUMB,OPT_"
      ]
     },
     "execution_count": 11,
     "metadata": {},
     "output_type": "execute_result"
    }
   ],
   "source": [
    "spec_header"
   ]
  },
  {
   "cell_type": "markdown",
   "id": "729358de",
   "metadata": {},
   "source": [
    "## 4. Plot the image of the extracted spectrum\n",
    "\n",
    "```{tip}\n",
    "As we use astropy.visualization's ``quantity_support``, matplotlib automatically picks up the axis units from the quantitites we plot.\n",
    "```"
   ]
  },
  {
   "cell_type": "code",
   "execution_count": 12,
   "id": "0453d931",
   "metadata": {},
   "outputs": [
    {
     "data": {
      "text/plain": [
       "<astropy.visualization.units.quantity_support.<locals>.MplQuantityConverter at 0x7f5f57e599d0>"
      ]
     },
     "execution_count": 12,
     "metadata": {},
     "output_type": "execute_result"
    }
   ],
   "source": [
    "quantity_support()"
   ]
  },
  {
   "cell_type": "markdown",
   "id": "36705bf3",
   "metadata": {},
   "source": [
    "```{note}\n",
    "The 1D combined spectra table contains 6 columns, below are a few highlights:\n",
    "\n",
    "- WAVELENGTH is in Angstroms by default\n",
    "- SIGNAL is the flux and should be multiplied by the FSCALE factor in the header\n",
    "- MASK values can be used to determine which flux bins to discard. MASK = odd and MASK >=64 means the flux bins not be used.\n",
    "```"
   ]
  },
  {
   "cell_type": "code",
   "execution_count": 13,
   "id": "820f9c09",
   "metadata": {},
   "outputs": [],
   "source": [
    "signal_scaled = spectrum['SIGNAL'] * spec_header['FSCALE']"
   ]
  },
  {
   "cell_type": "markdown",
   "id": "09d9f761",
   "metadata": {},
   "source": [
    "We investigate the MASK column to see which flux bins are recommended to keep vs \"Do Not Use\""
   ]
  },
  {
   "cell_type": "code",
   "execution_count": 14,
   "id": "50a07077",
   "metadata": {},
   "outputs": [
    {
     "data": {
      "text/plain": [
       "Text(0.5, 1.0, 'Values of MASK by flux bin')"
      ]
     },
     "execution_count": 14,
     "metadata": {},
     "output_type": "execute_result"
    },
    {
     "data": {
      "image/png": "[encoded data removed]",
      "text/plain": [
       "<Figure size 640x480 with 1 Axes>"
      ]
     },
     "metadata": {},
     "output_type": "display_data"
    }
   ],
   "source": [
    "plt.plot(spectrum['WAVELENGTH'].to(u.micron), spectrum['MASK'])\n",
    "plt.ylabel('Mask value')\n",
    "plt.title('Values of MASK by flux bin')"
   ]
  },
  {
   "cell_type": "markdown",
   "id": "56a185ba",
   "metadata": {},
   "source": [
    "We use the MASK column to create a boolean mask for values to ignore. We use the inverse of this mask to mark the flux bins to use."
   ]
  },
  {
   "cell_type": "code",
   "execution_count": 15,
   "id": "aca431cd",
   "metadata": {},
   "outputs": [
    {
     "data": {
      "text/plain": [
       "Text(0.5, 1.0, 'Object ID 2689918641685825137')"
      ]
     },
     "execution_count": 15,
     "metadata": {},
     "output_type": "execute_result"
    },
    {
     "data": {
      "image/png": "[encoded data removed]",
      "text/plain": [
       "<Figure size 640x480 with 1 Axes>"
      ]
     },
     "metadata": {},
     "output_type": "display_data"
    }
   ],
   "source": [
    "bad_mask = (spectrum['MASK'].value % 2 == 1) | (spectrum['MASK'].value >= 64)\n",
    "\n",
    "plt.plot(spectrum['WAVELENGTH'].to(u.micron), np.ma.masked_where(bad_mask, signal_scaled), color='black', label='Spectrum')\n",
    "plt.plot(spectrum['WAVELENGTH'], np.ma.masked_where(~bad_mask, signal_scaled), color='red', label='Do not use')\n",
    "plt.plot(spectrum['WAVELENGTH'], np.sqrt(spectrum['VAR']) * spec_header['FSCALE'], color='grey', label='Error')\n",
    "\n",
    "plt.legend(loc='upper right')\n",
    "plt.ylim(-0.15E-16, 0.25E-16)\n",
    "plt.title(f'Object ID {obj_id}')"
   ]
  },
  {
   "cell_type": "markdown",
   "id": "75df96c7",
   "metadata": {},
   "source": [
    "## About this Notebook\n",
    "\n",
    "**Author**: Tiffany Meshkat, Anahita Alavi, Anastasia Laity, Andreas Faisst, Brigitta Sipőcz, Dan Masters, Harry Teplitz, Jaladh Singhal, Shoubaneh Hemmati, Vandana Desai\n",
    "\n",
    "**Updated**: 2025-03-31\n",
    "\n",
    "**Contact:** [the IRSA Helpdesk](https://irsa.ipac.caltech.edu/docs/help_desk.html) with questions or reporting problems."
   ]
  }
 ],
 "metadata": {
  "jupytext": {
   "text_representation": {
    "extension": ".md",
    "format_name": "myst",
    "format_version": 0.13,
    "jupytext_version": "1.16.7"
   }
  },
  "kernelspec": {
   "display_name": "Python 3 (ipykernel)",
   "language": "python",
   "name": "python3"
  },
  "language_info": {
   "codemirror_mode": {
    "name": "ipython",
    "version": 3
   },
   "file_extension": ".py",
   "mimetype": "text/x-python",
   "name": "python",
   "nbconvert_exporter": "python",
   "pygments_lexer": "ipython3",
   "version": "3.11.13"
  },
  "source_map": [
   12,
   16,
   20,
   28,
   44,
   52,
   57,
   69,
   77,
   81,
   83,
   87,
   89,
   93,
   98,
   102,
   105,
   111,
   114,
   118,
   125,
   129,
   131,
   139,
   141,
   151,
   153,
   157,
   161,
   165,
   175
  ]
 },
 "nbformat": 4,
 "nbformat_minor": 5
}