{
 "cells": [
  {
   "cell_type": "markdown",
   "id": "68ca7b9c",
   "metadata": {},
   "source": [
    "# Introduction to Euclid Q1 1D spectra"
   ]
  },
  {
   "cell_type": "markdown",
   "id": "c51a2405",
   "metadata": {},
   "source": [
    "## Learning Goals"
   ]
  },
  {
   "cell_type": "markdown",
   "id": "7e8a7e70",
   "metadata": {},
   "source": [
    "By the end of this tutorial, you will:\n",
    "- Understand the basic characteristics of Euclid Q1 SIR 1D spectra.\n",
    "- What columns are available in the MER catalog.\n",
    "- How to query with ADQL in the MER catalog.\n",
    "- How to make a simple color-magnitude diagram with the data."
   ]
  },
  {
   "cell_type": "markdown",
   "id": "2ef7a40b",
   "metadata": {},
   "source": [
    "## Introduction\n",
    "\n",
    "++\n",
    "\n",
    "Euclid is a European Space Agency (ESA) space mission with NASA participation, to study the geometry and nature of the dark Universe.\n",
    "The Quick Data Release 1 (Q1) are the first data release from the Euclid mission after the Early Release Observations (ERO).\n",
    "On March 19, 2025 the data will be available on the [ESA archive](https://easidr.esac.esa.int/sas/) and on the [IRSA archive](https://irsa.ipac.caltech.edu).\n",
    "\n",
    "These Q1 notebooks focus on how to access, download, and process Euclid Q1 data from the IRSA archive.\n",
    "If you have any issues accessing data from the archives, please contact the helpdesk directly: [IRSA helpdesk](https://irsa.ipac.caltech.edu/docs/help_desk.html) and [ESA Euclid Helpdesk](https://support.cosmos.esa.int/euclid).\n",
    "\n",
    "For the Euclid Wide Survey standard operating mode, the telescope undertakes a 4-point dither pattern.\n",
    "At each position VIS and NISP each take a 570s exposure, consisting of a direct visible image and a red grism exposure.\n",
    "This is followed by further NISP exposures in the Y, J, and H band filters (112 seconds each).\n",
    "The telescope is then dithered, and the sequence is repeated starting with a different grism position angle.\n",
    "There are actually two operational grisms oriented 180 degrees from each other. Each grism which will be used twice in this sequence, but with slight angular offsets (+/- 4 degrees), effectively creating the four different grism angles (Scaramella et al. 2022, A&A 662, A112).\n",
    "\n",
    "Data which can be obtained for SIR include: SIR \"images\", which effectively show the full image of objects with the spectral traces overlapping, and SIR 1D spectra for individual objects.\n",
    "In this notebook we describe how to access and process the 1D spectra products.\n",
    "For most users, simply accessing th 1D spectra is probably the preferred option, unless they would like to extract the spectrum again, or inspect the images to see if there is any artifact which might add noise to the spectrum.\n",
    "\n",
    "This notebook provides an introduction to the SIR 1D spectra released as part of Euclid Q1.\n",
    "Other Euclid notebooks show how to use other data products released as part of Euclid Q1."
   ]
  },
  {
   "cell_type": "markdown",
   "id": "b0baf87e",
   "metadata": {},
   "source": [
    "## Imports"
   ]
  },
  {
   "cell_type": "code",
   "execution_count": 1,
   "id": "914c5f0c",
   "metadata": {},
   "outputs": [],
   "source": [
    "# Uncomment the next line to install dependencies if needed\n",
    "# !pip install matplotlib pandas requests astropy pyvo"
   ]
  },
  {
   "cell_type": "code",
   "execution_count": 2,
   "id": "821deab0",
   "metadata": {},
   "outputs": [],
   "source": [
    "from io import BytesIO\n",
    "\n",
    "import matplotlib.pyplot as plt\n",
    "import pandas as pd\n",
    "import requests\n",
    "\n",
    "from astropy.io import fits\n",
    "from astropy.table import Table\n",
    "\n",
    "import pyvo as vo"
   ]
  },
  {
   "cell_type": "markdown",
   "id": "b97b4638",
   "metadata": {},
   "source": [
    "## 1. Download 1D spectra from IRSA directly to this notebook\n",
    "\n",
    "Search for all tables in IRSA labeled as euclid"
   ]
  },
  {
   "cell_type": "code",
   "execution_count": 3,
   "id": "56b704f3",
   "metadata": {},
   "outputs": [
    {
     "name": "stdout",
     "output_type": "stream",
     "text": [
      "euclid.artifact_euclid_q1\n",
      "    Euclid Q1 CAOM Artifact Table\n",
      "\n",
      "euclid.objectid_spectrafile_association_q1\n",
      "    Euclid Q1 Object ID to Spectral File Association Table\n",
      "\n",
      "euclid.observation_euclid_q1\n",
      "    Euclid Q1 CAOM Observation Table\n",
      "euclid.plane_euclid_q1\n",
      "    Euclid Q1 CAOM Plane Table\n",
      "\n",
      "euclid.tileid_association_q1\n",
      "    Euclid Q1 TILEID to Observation ID Association Table\n",
      "euclid_q1_mer_catalogue\n",
      "    Euclid Q1 MER Catalog\n",
      "\n",
      "euclid_q1_mer_morphology\n",
      "    Euclid Q1 MER Morphology\n",
      "\n",
      "euclid_q1_phz_photo_z\n",
      "    Euclid Q1 PHZ Photo-z Catalog\n",
      "euclid_q1_spe_lines_atomic_indices\n",
      "    Euclid Q1 SPE Lines Catalog - Atomic Indices\n",
      "\n",
      "euclid_q1_spe_lines_continuum_features\n",
      "    Euclid Q1 SPE Lines Catalog - Continuum Features\n",
      "\n",
      "euclid_q1_spe_lines_line_features\n",
      "    Euclid Q1 SPE Lines Catalog - Spectral Lines\n",
      "euclid_q1_spe_lines_molecular_indices\n",
      "    Euclid Q1 SPE Lines Catalog - Molecular Indices\n",
      "\n",
      "euclid_q1_spectro_zcatalog_spe_classification\n",
      "    Euclid Q1 SPE Redshift Catalog - Classification\n",
      "\n",
      "euclid_q1_spectro_zcatalog_spe_galaxy_candidates\n",
      "    Euclid Q1 SPE Redshift Catalog - Galaxy Candidates\n",
      "euclid_q1_spectro_zcatalog_spe_qso_candidates\n",
      "    Euclid Q1 SPE Redshift Catalog - QSO Candidates\n",
      "\n",
      "euclid_q1_spectro_zcatalog_spe_quality\n",
      "    Euclid Q1 SPE Redshift Catalog - Quality\n",
      "\n",
      "euclid_q1_spectro_zcatalog_spe_star_candidates\n",
      "    Euclid Q1 SPE Redshift Catalog - Star Candidates\n"
     ]
    },
    {
     "name": "stdout",
     "output_type": "stream",
     "text": [
      "euclid.plane_euclid_q1\n",
      "    Euclid Q1 CAOM Plane Table\n",
      "\n",
      "euclid.tileid_association_q1\n",
      "    Euclid Q1 TILEID to Observation ID Association Table\n",
      "\n"
     ]
    },
    {
     "name": "stdout",
     "output_type": "stream",
     "text": [
      "euclid_q1_mer_catalogue\n",
      "    Euclid Q1 MER Catalog\n",
      "\n",
      "euclid_q1_mer_morphology\n",
      "    Euclid Q1 MER Morphology\n",
      "\n",
      "euclid_q1_phz_photo_z\n",
      "    Euclid Q1 PHZ Photo-z Catalog\n",
      "\n"
     ]
    },
    {
     "name": "stdout",
     "output_type": "stream",
     "text": [
      "euclid_q1_spe_lines_atomic_indices\n",
      "    Euclid Q1 SPE Lines Catalog - Atomic Indices\n",
      "\n",
      "euclid_q1_spe_lines_continuum_features\n",
      "    Euclid Q1 SPE Lines Catalog - Continuum Features\n",
      "\n",
      "euclid_q1_spe_lines_line_features\n",
      "    Euclid Q1 SPE Lines Catalog - Spectral Lines\n",
      "\n"
     ]
    },
    {
     "name": "stdout",
     "output_type": "stream",
     "text": [
      "euclid_q1_spe_lines_molecular_indices\n",
      "    Euclid Q1 SPE Lines Catalog - Molecular Indices\n",
      "\n",
      "euclid_q1_spectro_zcatalog_spe_classification\n",
      "    Euclid Q1 SPE Redshift Catalog - Classification\n",
      "\n",
      "euclid_q1_spectro_zcatalog_spe_galaxy_candidates\n",
      "    Euclid Q1 SPE Redshift Catalog - Galaxy Candidates\n",
      "\n"
     ]
    },
    {
     "name": "stdout",
     "output_type": "stream",
     "text": [
      "euclid_q1_spectro_zcatalog_spe_qso_candidates\n",
      "    Euclid Q1 SPE Redshift Catalog - QSO Candidates\n",
      "\n",
      "euclid_q1_spectro_zcatalog_spe_quality\n",
      "    Euclid Q1 SPE Redshift Catalog - Quality\n",
      "\n",
      "euclid_q1_spectro_zcatalog_spe_star_candidates\n",
      "    Euclid Q1 SPE Redshift Catalog - Star Candidates\n",
      "\n"
     ]
    }
   ],
   "source": [
    "service = vo.dal.TAPService(\"https://irsa.ipac.caltech.edu/TAP\")\n",
    "\n",
    "tables = service.tables\n",
    "for tablename in tables.keys():\n",
    "    if \"tap_schema\" not in tablename and \"euclid\" in tablename:\n",
    "            tables[tablename].describe()"
   ]
  },
  {
   "cell_type": "code",
   "execution_count": 4,
   "id": "c01f3a4f",
   "metadata": {},
   "outputs": [],
   "source": [
    "table_mer= 'euclid_q1_mer_catalogue'\n",
    "table_1dspectra= 'euclid.objectid_spectrafile_association_q1'\n",
    "table_phz= 'euclid_q1_phz_photo_z'\n",
    "table_galaxy_candidates= 'euclid_q1_spectro_zcatalog_spe_galaxy_candidates'"
   ]
  },
  {
   "cell_type": "code",
   "execution_count": 5,
   "id": "4028a8e7",
   "metadata": {},
   "outputs": [],
   "source": [
    "## Change the settings so we can see all the columns in the dataframe and the full column width\n",
    "## (to see the full long URL)\n",
    "pd.set_option('display.max_columns', None)\n",
    "pd.set_option('display.max_colwidth', None)\n",
    "\n",
    "\n",
    "## Can use the following lines to reset the max columns and column width of pandas\n",
    "# pd.reset_option('display.max_columns')\n",
    "# pd.reset_option('display.max_colwidth')"
   ]
  },
  {
   "cell_type": "markdown",
   "id": "4088f1fc",
   "metadata": {},
   "source": [
    "## 2. Search for the spectrum of a specific galaxy in the 1D spectra table"
   ]
  },
  {
   "cell_type": "code",
   "execution_count": 6,
   "id": "00a50f81",
   "metadata": {},
   "outputs": [
    {
     "data": {
      "text/html": [
       "<div>\n",
       "<style scoped>\n",
       "    .dataframe tbody tr th:only-of-type {\n",
       "        vertical-align: middle;\n",
       "    }\n",
       "\n",
       "    .dataframe tbody tr th {\n",
       "        vertical-align: top;\n",
       "    }\n",
       "\n",
       "    .dataframe thead th {\n",
       "        text-align: right;\n",
       "    }\n",
       "</style>\n",
       "<table border=\"1\" class=\"dataframe\">\n",
       "  <thead>\n",
       "    <tr style=\"text-align: right;\">\n",
       "      <th></th>\n",
       "      <th>objectid</th>\n",
       "      <th>tileid</th>\n",
       "      <th>uri</th>\n",
       "      <th>hdu</th>\n",
       "      <th>cntr</th>\n",
       "    </tr>\n",
       "  </thead>\n",
       "  <tbody>\n",
       "    <tr>\n",
       "      <th>0</th>\n",
       "      <td>2739401293646823742</td>\n",
       "      <td>102158277</td>\n",
       "      <td>ibe/data/euclid/q1/SIR/102158277/EUC_SIR_W-COMBSPEC_102158277_2024-11-05T15:54:45.882858Z.fits</td>\n",
       "      <td>1633</td>\n",
       "      <td>138385</td>\n",
       "    </tr>\n",
       "  </tbody>\n",
       "</table>\n",
       "</div>"
      ],
      "text/plain": [
       "              objectid     tileid  \\\n",
       "0  2739401293646823742  102158277   \n",
       "\n",
       "                                                                                              uri  \\\n",
       "0  ibe/data/euclid/q1/SIR/102158277/EUC_SIR_W-COMBSPEC_102158277_2024-11-05T15:54:45.882858Z.fits   \n",
       "\n",
       "    hdu    cntr  \n",
       "0  1633  138385  "
      ]
     },
     "execution_count": 6,
     "metadata": {},
     "output_type": "execute_result"
    }
   ],
   "source": [
    "obj_id=2739401293646823742\n",
    "\n",
    "## Pull the data on these objects\n",
    "adql_object = f\"SELECT * \\\n",
    "FROM {table_1dspectra} \\\n",
    "WHERE objectid = {obj_id} \\\n",
    "AND uri IS NOT NULL \"\n",
    "\n",
    "## Pull the data on this particular galaxy\n",
    "result2 = service.search(adql_object)\n",
    "df2=result2.to_table().to_pandas()\n",
    "df2"
   ]
  },
  {
   "cell_type": "markdown",
   "id": "a58ac66d",
   "metadata": {},
   "source": [
    "### Create the full filename/url"
   ]
  },
  {
   "cell_type": "code",
   "execution_count": 7,
   "id": "35841b0b",
   "metadata": {},
   "outputs": [
    {
     "data": {
      "text/plain": [
       "'https://irsa.ipac.caltech.edu/ibe/data/euclid/q1/SIR/102158277/EUC_SIR_W-COMBSPEC_102158277_2024-11-05T15:54:45.882858Z.fits'"
      ]
     },
     "execution_count": 7,
     "metadata": {},
     "output_type": "execute_result"
    }
   ],
   "source": [
    "irsa_url='https://irsa.ipac.caltech.edu/'\n",
    "\n",
    "file_url=irsa_url+df2['uri'].iloc[0]\n",
    "file_url"
   ]
  },
  {
   "cell_type": "markdown",
   "id": "934f6e06",
   "metadata": {},
   "source": [
    "## 3. Read in the spectrum using the file_url and the extension just for this object\n",
    "\n",
    "Currently IRSA has the spectra stored in very large files containing multiple (14220) extensions with spectra of many targets within one tile. You can choose to read in the big file below to see what it looks like (takes a few mins to load) or skip this step and just read in the specific extension we want for the 1D spectra (recommended)."
   ]
  },
  {
   "cell_type": "code",
   "execution_count": 8,
   "id": "b9e00ed8",
   "metadata": {},
   "outputs": [],
   "source": [
    "#### Code to read in the large file with many extensions and spectra from a tile\n",
    "#### Currently commented out\n",
    "\n",
    "# ## Complete file url with the irsa url at the start\n",
    "# url = file_url\n",
    "# response = requests.get(url)\n",
    "\n",
    "# hdul = fits.open(BytesIO(response.content))  # Open FITS file from memory\n",
    "# hdul.info()  # Show file info"
   ]
  },
  {
   "cell_type": "markdown",
   "id": "804dcda3",
   "metadata": {},
   "source": [
    "### Open the large FITS file without loading it entirely into memory, pulling out just the extension we want for the 1D spectra of our object"
   ]
  },
  {
   "cell_type": "code",
   "execution_count": 9,
   "id": "ff0cbabd",
   "metadata": {},
   "outputs": [
    {
     "name": "stderr",
     "output_type": "stream",
     "text": [
      "WARNING: UnitsWarning: 'erg/s/cm2/Angstrom' contains multiple slashes, which is discouraged by the FITS standard [astropy.units.format.generic]\n",
      "WARNING: UnitsWarning: 'Number' did not parse as fits unit: At col 0, Unit 'Number' not supported by the FITS standard.  If this is meant to be a custom unit, define it with 'u.def_unit'. To have it recognized inside a file reader or other code, enable it with 'u.add_enabled_units'. For details, see https://docs.astropy.org/en/latest/units/combining_and_defining.html [astropy.units.core]\n",
      "WARNING: UnitsWarning: 'Number' did not parse as fits unit: At col 0, Unit 'Number' not supported by the FITS standard.  If this is meant to be a custom unit, define it with 'u.def_unit'. To have it recognized inside a file reader or other code, enable it with 'u.add_enabled_units'. For details, see https://docs.astropy.org/en/latest/units/combining_and_defining.html [astropy.units.core]\n",
      "WARNING: UnitsWarning: 'erg2/s2/cm4/Angstrom2' contains multiple slashes, which is discouraged by the FITS standard [astropy.units.format.generic]\n",
      "WARNING: UnitsWarning: 'Number' did not parse as fits unit: At col 0, Unit 'Number' not supported by the FITS standard.  If this is meant to be a custom unit, define it with 'u.def_unit'. To have it recognized inside a file reader or other code, enable it with 'u.add_enabled_units'. For details, see https://docs.astropy.org/en/latest/units/combining_and_defining.html [astropy.units.core]\n"
     ]
    }
   ],
   "source": [
    "response = requests.get(file_url)\n",
    "\n",
    "with fits.open(BytesIO(response.content), memmap=True) as hdul:\n",
    "    hdu = hdul[df2['hdu'].iloc[0]]\n",
    "    dat = Table.read(hdu, format='fits', hdu=1)\n",
    "    df_obj_irsa = dat.to_pandas()"
   ]
  },
  {
   "cell_type": "markdown",
   "id": "2f837dca",
   "metadata": {},
   "source": [
    "### Plot the image of the extracted spectrum\n",
    "\n",
    "- Convert the wavelength to microns"
   ]
  },
  {
   "cell_type": "code",
   "execution_count": 10,
   "id": "e9ca984f",
   "metadata": {},
   "outputs": [
    {
     "data": {
      "text/plain": [
       "Text(0.5, 1.0, '2739401293646823742')"
      ]
     },
     "execution_count": 10,
     "metadata": {},
     "output_type": "execute_result"
    },
    {
     "data": {
      "image/png": "[encoded data removed]",
      "text/plain": [
       "<Figure size 640x480 with 1 Axes>"
      ]
     },
     "metadata": {},
     "output_type": "display_data"
    }
   ],
   "source": [
    "## Now the data are read in, show an image\n",
    "\n",
    "## Converting from Angstrom to microns\n",
    "plt.plot(df_obj_irsa['WAVELENGTH']/10000., df_obj_irsa['SIGNAL'])\n",
    "\n",
    "plt.xlabel('Wavelength (microns)')\n",
    "plt.ylabel('Flux'+dat['SIGNAL'].unit.to_string('latex_inline'))\n",
    "plt.title(obj_id)"
   ]
  },
  {
   "cell_type": "markdown",
   "id": "ab328e56",
   "metadata": {},
   "source": [
    "## About this Notebook\n",
    "\n",
    "**Author**: Tiffany Meshkat (IPAC Scientist)\n",
    "\n",
    "**Updated**: 2025-03-19\n",
    "\n",
    "**Contact:** [the IRSA Helpdesk](https://irsa.ipac.caltech.edu/docs/help_desk.html) with questions or reporting problems."
   ]
  }
 ],
 "metadata": {
  "jupytext": {
   "text_representation": {
    "extension": ".md",
    "format_name": "myst",
    "format_version": 0.13,
    "jupytext_version": "1.16.7"
   }
  },
  "kernelspec": {
   "display_name": "Python 3 (ipykernel)",
   "language": "python",
   "name": "python3"
  },
  "language_info": {
   "codemirror_mode": {
    "name": "ipython",
    "version": 3
   },
   "file_extension": ".py",
   "mimetype": "text/x-python",
   "name": "python",
   "nbconvert_exporter": "python",
   "pygments_lexer": "ipython3",
   "version": "3.11.11"
  },
  "source_map": [
   12,
   16,
   20,
   28,
   54,
   58,
   63,
   74,
   80,
   89,
   96,
   106,
   110,
   123,
   127,
   132,
   138,
   148,
   152,
   159,
   165,
   174
  ]
 },
 "nbformat": 4,
 "nbformat_minor": 5
}