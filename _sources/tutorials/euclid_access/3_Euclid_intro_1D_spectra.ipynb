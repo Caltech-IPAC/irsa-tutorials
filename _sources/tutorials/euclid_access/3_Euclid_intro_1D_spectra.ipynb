{
 "cells": [
  {
   "cell_type": "markdown",
   "id": "275efd82",
   "metadata": {},
   "source": [
    "# Introduction to Euclid Q1 1D spectra"
   ]
  },
  {
   "cell_type": "markdown",
   "id": "f228a7e4",
   "metadata": {},
   "source": [
    "```{warning}\n",
    "This notebook requires public access to the Euclid Q1 data, therefore is expected to not work before the 19th of March 2025.\n",
    "\n",
    "We will update the rendered HTML pages with the expected outputs of the code cells once the data is public.\n",
    "```\n",
    "\n",
    "## Learning Goals"
   ]
  },
  {
   "cell_type": "markdown",
   "id": "766b0a81",
   "metadata": {},
   "source": [
    "By the end of this tutorial, you will:\n",
    "- Understand the basic characteristics of Euclid Q1 SIR 1D spectra.\n",
    "- What columns are available in the MER catalog.\n",
    "- How to query with ADQL in the MER catalog.\n",
    "- How to make a simple color-magnitude diagram with the data."
   ]
  },
  {
   "cell_type": "markdown",
   "id": "2b02afc0",
   "metadata": {},
   "source": [
    "## Introduction\n",
    "\n",
    "++\n",
    "\n",
    "Euclid is a European Space Agency (ESA) space mission with NASA participation, to study the geometry and nature of the dark Universe.\n",
    "The Quick Data Release 1 (Q1) are the first data release from the Euclid mission after the Early Release Observations (ERO).\n",
    "On March 19, 2025 the data will be available on the [ESA archive](https://easidr.esac.esa.int/sas/) and on the [IRSA archive](https://irsa.ipac.caltech.edu).\n",
    "\n",
    "These Q1 notebooks focus on how to access, download, and process Euclid Q1 data from the IRSA archive.\n",
    "If you have any issues accessing data from the archives, please contact the helpdesk directly: [IRSA helpdesk](https://irsa.ipac.caltech.edu/docs/help_desk.html) and [ESA Euclid Helpdesk](https://support.cosmos.esa.int/euclid).\n",
    "\n",
    "For the Euclid Wide Survey standard operating mode, the telescope undertakes a 4-point dither pattern.\n",
    "At each position VIS and NISP each take a 570s exposure, consisting of a direct visible image and a red grism exposure.\n",
    "This is followed by further NISP exposures in the Y, J, and H band filters (112 seconds each).\n",
    "The telescope is then dithered, and the sequence is repeated starting with a different grism position angle.\n",
    "There are actually two operational grisms oriented 180 degrees from each other. Each grism which will be used twice in this sequence, but with slight angular offsets (+/- 4 degrees), effectively creating the four different grism angles (Scaramella et al. 2022, A&A 662, A112).\n",
    "\n",
    "Data which can be obtained for SIR include: SIR \"images\", which effectively show the full image of objects with the spectral traces overlapping, and SIR 1D spectra for individual objects.\n",
    "In this notebook we describe how to access and process the 1D spectra products.\n",
    "For most users, simply accessing th 1D spectra is probably the preferred option, unless they would like to extract the spectrum again, or inspect the images to see if there is any artifact which might add noise to the spectrum.\n",
    "\n",
    "This notebook provides an introduction to the SIR 1D spectra released as part of Euclid Q1.\n",
    "Other Euclid notebooks show how to use other data products released as part of Euclid Q1."
   ]
  },
  {
   "cell_type": "markdown",
   "id": "cec4e2f5",
   "metadata": {},
   "source": [
    "## Imports"
   ]
  },
  {
   "cell_type": "code",
   "execution_count": null,
   "id": "34133668",
   "metadata": {},
   "outputs": [],
   "source": [
    "# Uncomment the next line to install dependencies if needed\n",
    "# !pip install matplotlib pandas requests astropy pyvo"
   ]
  },
  {
   "cell_type": "code",
   "execution_count": null,
   "id": "e25e60be",
   "metadata": {},
   "outputs": [],
   "source": [
    "from io import BytesIO\n",
    "\n",
    "import matplotlib.pyplot as plt\n",
    "import pandas as pd\n",
    "import requests\n",
    "\n",
    "from astropy.io import fits\n",
    "from astropy.table import Table\n",
    "\n",
    "import pyvo as vo"
   ]
  },
  {
   "cell_type": "markdown",
   "id": "32f47c45",
   "metadata": {},
   "source": [
    "## 1. Download 1D spectra from IRSA directly to this notebook\n",
    "\n",
    "Search for all tables in IRSA labeled as euclid"
   ]
  },
  {
   "cell_type": "code",
   "execution_count": null,
   "id": "09481a56",
   "metadata": {},
   "outputs": [],
   "source": [
    "service = vo.dal.TAPService(\"https://irsa.ipac.caltech.edu/TAP\")\n",
    "\n",
    "tables = service.tables\n",
    "for tablename in tables.keys():\n",
    "    if \"tap_schema\" not in tablename and \"euclid\" in tablename:\n",
    "            tables[tablename].describe()"
   ]
  },
  {
   "cell_type": "code",
   "execution_count": null,
   "id": "1f07648d",
   "metadata": {},
   "outputs": [],
   "source": [
    "table_mer= 'euclid_q1_mer_catalogue'\n",
    "table_1dspectra= 'euclid.objectid_spectrafile_association_q1'\n",
    "table_phz= 'euclid_q1_phz_photo_z'\n",
    "table_galaxy_candidates= 'euclid_q1_spectro_zcatalog_spe_galaxy_candidates'"
   ]
  },
  {
   "cell_type": "code",
   "execution_count": null,
   "id": "4a155637",
   "metadata": {},
   "outputs": [],
   "source": [
    "## Change the settings so we can see all the columns in the dataframe and the full column width\n",
    "## (to see the full long URL)\n",
    "pd.set_option('display.max_columns', None)\n",
    "pd.set_option('display.max_colwidth', None)\n",
    "\n",
    "\n",
    "## Can use the following lines to reset the max columns and column width of pandas\n",
    "# pd.reset_option('display.max_columns')\n",
    "# pd.reset_option('display.max_colwidth')"
   ]
  },
  {
   "cell_type": "markdown",
   "id": "133e35df",
   "metadata": {},
   "source": [
    "## 2. Search for the spectrum of a specific galaxy in the 1D spectra table"
   ]
  },
  {
   "cell_type": "code",
   "execution_count": null,
   "id": "b89bc2ca",
   "metadata": {},
   "outputs": [],
   "source": [
    "obj_id=2739401293646823742\n",
    "\n",
    "## Pull the data on these objects\n",
    "adql_object = f\"SELECT * \\\n",
    "FROM {table_1dspectra} \\\n",
    "WHERE objectid = {obj_id} \\\n",
    "AND uri IS NOT NULL \"\n",
    "\n",
    "## Pull the data on this particular galaxy\n",
    "result2 = service.search(adql_object)\n",
    "df2=result2.to_table().to_pandas()\n",
    "df2"
   ]
  },
  {
   "cell_type": "markdown",
   "id": "668114ba",
   "metadata": {},
   "source": [
    "### Create the full filename/url"
   ]
  },
  {
   "cell_type": "code",
   "execution_count": null,
   "id": "94a65c90",
   "metadata": {},
   "outputs": [],
   "source": [
    "irsa_url='https://irsa.ipac.caltech.edu/'\n",
    "\n",
    "file_url=irsa_url+df2['uri'].iloc[0]\n",
    "file_url"
   ]
  },
  {
   "cell_type": "markdown",
   "id": "8763b4a5",
   "metadata": {},
   "source": [
    "## 3. Read in the spectrum using the file_url and the extension just for this object\n",
    "\n",
    "Currently IRSA has the spectra stored in very large files containing multiple (14220) extensions with spectra of many targets within one tile. You can choose to read in the big file below to see what it looks like (takes a few mins to load) or skip this step and just read in the specific extension we want for the 1D spectra (recommended)."
   ]
  },
  {
   "cell_type": "code",
   "execution_count": null,
   "id": "b64f3065",
   "metadata": {},
   "outputs": [],
   "source": [
    "#### Code to read in the large file with many extensions and spectra from a tile\n",
    "#### Currently commented out\n",
    "\n",
    "# ## Complete file url with the irsa url at the start\n",
    "# url = file_url\n",
    "# response = requests.get(url)\n",
    "\n",
    "# hdul = fits.open(BytesIO(response.content))  # Open FITS file from memory\n",
    "# hdul.info()  # Show file info"
   ]
  },
  {
   "cell_type": "markdown",
   "id": "10307144",
   "metadata": {},
   "source": [
    "### Open the large FITS file without loading it entirely into memory, pulling out just the extension we want for the 1D spectra of our object"
   ]
  },
  {
   "cell_type": "code",
   "execution_count": null,
   "id": "6d7e28af",
   "metadata": {},
   "outputs": [],
   "source": [
    "response = requests.get(file_url)\n",
    "\n",
    "with fits.open(BytesIO(response.content), memmap=True) as hdul:\n",
    "    hdu = hdul[df2['hdu'].iloc[0]]\n",
    "    dat = Table.read(hdu, format='fits', hdu=1)\n",
    "    df_obj_irsa = dat.to_pandas()"
   ]
  },
  {
   "cell_type": "markdown",
   "id": "ccf70e6f",
   "metadata": {},
   "source": [
    "### Plot the image of the extracted spectrum\n",
    "\n",
    "- Convert the wavelength to microns"
   ]
  },
  {
   "cell_type": "code",
   "execution_count": null,
   "id": "ce4475bf",
   "metadata": {},
   "outputs": [],
   "source": [
    "## Now the data are read in, show an image\n",
    "\n",
    "## Converting from Angstrom to microns\n",
    "plt.plot(df_obj_irsa['WAVELENGTH']/10000., df_obj_irsa['SIGNAL'])\n",
    "\n",
    "plt.xlabel('Wavelength (microns)')\n",
    "plt.ylabel('Flux'+dat['SIGNAL'].unit.to_string('latex_inline'))\n",
    "plt.title(obj_id)"
   ]
  },
  {
   "cell_type": "markdown",
   "id": "26e3f2ec",
   "metadata": {},
   "source": [
    "## About this Notebook\n",
    "\n",
    "**Author**: Tiffany Meshkat (IPAC Scientist)\n",
    "\n",
    "**Updated**: 2025-03-19\n",
    "\n",
    "**Contact:** [the IRSA Helpdesk](https://irsa.ipac.caltech.edu/docs/help_desk.html) with questions or reporting problems."
   ]
  }
 ],
 "metadata": {
  "jupytext": {
   "text_representation": {
    "extension": ".md",
    "format_name": "myst",
    "format_version": 0.13,
    "jupytext_version": "1.16.7"
   }
  },
  "kernelspec": {
   "display_name": "Python 3 (ipykernel)",
   "language": "python",
   "name": "python3"
  },
  "source_map": [
   12,
   16,
   27,
   35,
   61,
   65,
   70,
   81,
   87,
   96,
   103,
   113,
   117,
   130,
   134,
   139,
   145,
   155,
   159,
   166,
   172,
   181
  ]
 },
 "nbformat": 4,
 "nbformat_minor": 5
}