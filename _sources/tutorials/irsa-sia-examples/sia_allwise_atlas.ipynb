{
 "cells": [
  {
   "cell_type": "markdown",
   "id": "c148b005",
   "metadata": {},
   "source": [
    "# AllWISE Atlas Images"
   ]
  },
  {
   "cell_type": "markdown",
   "id": "f83c8181",
   "metadata": {},
   "source": [
    "This notebook tutorial demonstrates the process of querying IRSA's Simple Image Access (SIA) service for AllWISE Atlas images, making a cutout image (thumbnail), and displaying the cutout."
   ]
  },
  {
   "cell_type": "markdown",
   "id": "0f5bdac3",
   "metadata": {},
   "source": [
    "***"
   ]
  },
  {
   "cell_type": "markdown",
   "id": "8f99eae6",
   "metadata": {},
   "source": [
    "## Learning Goals\n",
    "\n",
    "By the end of this tutorial, you will:\n",
    "\n",
    "* Learn how to search the NASA Astronomical Virtual Observatory Directory web portal for a service that provides access to IRSA's WISE AllWISE Atlas (L3a) coadded images.\n",
    "* Use the Python pyvo package to identify which of IRSA's AllWISE Atlas images cover a specified coordinate.\n",
    "* Download one of the identified images.\n",
    "* Create and display a cutout of the downloaded image."
   ]
  },
  {
   "cell_type": "markdown",
   "id": "9afd8669",
   "metadata": {},
   "source": [
    "## Introduction\n",
    "\n",
    "The AllWISE program builds upon the work of the successful Wide-field Infrared Survey Explorer mission [(WISE; Wright et al. 2010)](http://adsabs.harvard.edu/abs/2010AJ....140.1868W) by combining data from the WISE cryogenic and NEOWISE [(Mainzer et al. 2011 ApJ, 731, 53)](http://adsabs.harvard.edu/abs/2011ApJ...731...53M) post-cryogenic survey phases to form the a comprehensive view of the full mid-infrared sky. The AllWISE Images Atlas is comprised of 18,240 4-band calibrated 1.56°x1.56° FITS images, depth-of-coverage and noise maps, and image metadata produced by coadding nearly 7.9 million Single-exposure images from all survey phases. For more information about the WISE mission, see:\n",
    "\n",
    "https://irsa.ipac.caltech.edu/Missions/wise.html\n",
    "\n",
    "The [NASA/IPAC Infrared Science Archive (IRSA)](https://irsa.ipac.caltech.edu) at Caltech is the archive for AllWISE images and catalogs. The AllWISE Atlas images that are the subject of this tutorial are made accessible via the [International Virtual Observatory Alliance (IVOA)](https://ivoa.net) [Simple Image Access (SIA)](https://wiki.ivoa.net/internal/IVOA/SiaInterface/SIA-V2-Analysis.pdf) protocol. IRSA's AllWISE SIA service is registered in the NASA Astronomical Virtual Observatory (NAVO) [Directory](https://vao.stsci.edu). Based on the registered information, the Python package [pyvo](https://pyvo.readthedocs.io) can be used to query the SEIP SIA service for a list of images that meet specified criteria, and standard Python libraries can be used to download and manipulate the images.\n",
    "Other datasets at IRSA are available through other SIA services:\n",
    "\n",
    "https://irsa.ipac.caltech.edu/docs/program_interface/api_images.html"
   ]
  },
  {
   "cell_type": "markdown",
   "id": "f302a4a8",
   "metadata": {},
   "source": [
    "## Imports\n",
    "\n",
    "- *pyvo* for querying IRSA's AllWISE Atlas SIA service\n",
    "- *astropy.coordinates* for defining coordinates\n",
    "- *astropy.nddata* for creating an image cutout\n",
    "- *astropy.wcs* for interpreting the World Coordinate System header keywords of a fits file\n",
    "- *astropy.units* for attaching units to numbers passed to the SIA service\n",
    "- *matplotlib.pyplot* for plotting\n",
    "- *astropy.utils.data* for downloading files\n",
    "- *astropy.io* to manipulate FITS files"
   ]
  },
  {
   "cell_type": "code",
   "execution_count": 1,
   "id": "d04f3f65",
   "metadata": {},
   "outputs": [],
   "source": [
    "import pyvo as vo\n",
    "from astropy.coordinates import SkyCoord\n",
    "from astropy.nddata import Cutout2D\n",
    "from astropy.wcs import WCS\n",
    "import astropy.units as u\n",
    "import matplotlib.pyplot as plt\n",
    "from astropy.utils.data import download_file\n",
    "from astropy.io import fits"
   ]
  },
  {
   "cell_type": "markdown",
   "id": "0afeb93d",
   "metadata": {},
   "source": [
    "## Section 1 - Setup"
   ]
  },
  {
   "cell_type": "markdown",
   "id": "5d7027c9",
   "metadata": {},
   "source": [
    "Set images to display in the notebook"
   ]
  },
  {
   "cell_type": "code",
   "execution_count": 2,
   "id": "2c93c229",
   "metadata": {},
   "outputs": [],
   "source": [
    "%matplotlib inline"
   ]
  },
  {
   "cell_type": "markdown",
   "id": "419cc13a",
   "metadata": {},
   "source": [
    "Define coordinates of a bright star"
   ]
  },
  {
   "cell_type": "code",
   "execution_count": 3,
   "id": "bc77a8f9",
   "metadata": {},
   "outputs": [],
   "source": [
    "ra = 314.30417\n",
    "dec = 77.595559\n",
    "pos = SkyCoord(ra=ra, dec=dec, unit='deg')"
   ]
  },
  {
   "cell_type": "markdown",
   "id": "49884a5a",
   "metadata": {},
   "source": [
    "## Section 2 - Lookup and define a service for AllWISE Atlas images"
   ]
  },
  {
   "cell_type": "markdown",
   "id": "d982dbf3",
   "metadata": {},
   "source": [
    "Start at STScI VAO Registry at https://vao.stsci.edu/keyword-search/\n",
    "\n",
    "Limit by Publisher \"NASA/IPAC Infrared Science Archive\" and Capability Type \"Simple Image Access Protocol\" then search on \"AllWISE Atlas\"\n",
    "\n",
    "Locate the SIA2 URL https://irsa.ipac.caltech.edu/ibe/sia/wise/allwise/p3am_cdd?"
   ]
  },
  {
   "cell_type": "code",
   "execution_count": 4,
   "id": "3d5b4bcb",
   "metadata": {},
   "outputs": [],
   "source": [
    "allwise_service = vo.dal.SIAService(\"https://irsa.ipac.caltech.edu/ibe/sia/wise/allwise/p3am_cdd?\")"
   ]
  },
  {
   "cell_type": "markdown",
   "id": "e592f220",
   "metadata": {},
   "source": [
    "## Section 3 - Search the service"
   ]
  },
  {
   "cell_type": "markdown",
   "id": "da32e47a",
   "metadata": {},
   "source": [
    "Search for images covering within 1 arcsecond of the star"
   ]
  },
  {
   "cell_type": "code",
   "execution_count": 5,
   "id": "41fc199a",
   "metadata": {},
   "outputs": [],
   "source": [
    "im_table = allwise_service.search(pos=pos, size=1.0*u.arcsec)"
   ]
  },
  {
   "cell_type": "markdown",
   "id": "a4a305ca",
   "metadata": {},
   "source": [
    "Inspect the table that is returned"
   ]
  },
  {
   "cell_type": "code",
   "execution_count": 6,
   "id": "181fe3ab",
   "metadata": {},
   "outputs": [
    {
     "data": {
      "text/plain": [
       "<DALResultsTable length=4>\n",
       "      sia_title        ...    coadd_id  \n",
       "                       ...              \n",
       "        object         ...     object   \n",
       "---------------------- ... -------------\n",
       "W4 Coadd 3150p772_ac51 ... 3150p772_ac51\n",
       "W2 Coadd 3150p772_ac51 ... 3150p772_ac51\n",
       "W3 Coadd 3150p772_ac51 ... 3150p772_ac51\n",
       "W1 Coadd 3150p772_ac51 ... 3150p772_ac51"
      ]
     },
     "execution_count": 6,
     "metadata": {},
     "output_type": "execute_result"
    }
   ],
   "source": [
    "im_table"
   ]
  },
  {
   "cell_type": "code",
   "execution_count": 7,
   "id": "d114906c",
   "metadata": {},
   "outputs": [
    {
     "data": {
      "text/plain": [
       "['sia_title',\n",
       " 'sia_url',\n",
       " 'cloud_access',\n",
       " 'sia_naxes',\n",
       " 'sia_fmt',\n",
       " 'sia_ra',\n",
       " 'sia_dec',\n",
       " 'sia_naxis',\n",
       " 'sia_crpix',\n",
       " 'sia_crval',\n",
       " 'sia_proj',\n",
       " 'sia_scale',\n",
       " 'sia_cd',\n",
       " 'sia_bp_id',\n",
       " 'sia_bp_ref',\n",
       " 'sia_bp_hi',\n",
       " 'sia_bp_lo',\n",
       " 'sia_bp_unit',\n",
       " 'magzp',\n",
       " 'magzpunc',\n",
       " 'unc_url',\n",
       " 'cov_url',\n",
       " 'coadd_id']"
      ]
     },
     "execution_count": 7,
     "metadata": {},
     "output_type": "execute_result"
    }
   ],
   "source": [
    "im_table.to_table().colnames"
   ]
  },
  {
   "cell_type": "code",
   "execution_count": 8,
   "id": "49e422ef",
   "metadata": {},
   "outputs": [
    {
     "data": {
      "text/html": [
       "&lt;MaskedColumn name=&apos;sia_bp_id&apos; dtype=&apos;object&apos; description=&apos;Bandpass ID&apos; length=4&gt;\n",
       "<table>\n",
       "<tr><td>W4</td></tr>\n",
       "<tr><td>W2</td></tr>\n",
       "<tr><td>W3</td></tr>\n",
       "<tr><td>W1</td></tr>\n",
       "</table>"
      ],
      "text/plain": [
       "<MaskedColumn name='sia_bp_id' dtype='object' description='Bandpass ID' length=4>\n",
       "W4\n",
       "W2\n",
       "W3\n",
       "W1"
      ]
     },
     "execution_count": 8,
     "metadata": {},
     "output_type": "execute_result"
    }
   ],
   "source": [
    "im_table.to_table()['sia_bp_id']"
   ]
  },
  {
   "cell_type": "markdown",
   "id": "e877c224",
   "metadata": {},
   "source": [
    "## Section 4 - Locate and download an image of interest"
   ]
  },
  {
   "cell_type": "markdown",
   "id": "6d7dabe3",
   "metadata": {},
   "source": [
    "Let's search the image results for the W3 band image."
   ]
  },
  {
   "cell_type": "code",
   "execution_count": 9,
   "id": "93cd2946",
   "metadata": {},
   "outputs": [
    {
     "name": "stdout",
     "output_type": "stream",
     "text": [
      "https://irsa.ipac.caltech.edu/ibe/data/wise/allwise/p3am_cdd/31/3150/3150p772_ac51/3150p772_ac51-w3-int-3.fits\n"
     ]
    }
   ],
   "source": [
    "for i in range(len(im_table)):\n",
    "    if im_table[i]['sia_bp_id'] == 'W3':\n",
    "        break\n",
    "print(im_table[i].getdataurl())"
   ]
  },
  {
   "cell_type": "markdown",
   "id": "e798db3c",
   "metadata": {},
   "source": [
    "Download the image and open it in Astropy"
   ]
  },
  {
   "cell_type": "code",
   "execution_count": 10,
   "id": "405c1c05",
   "metadata": {},
   "outputs": [],
   "source": [
    "fname = download_file(im_table[i].getdataurl(), cache=True)\n",
    "image1 = fits.open(fname)"
   ]
  },
  {
   "cell_type": "markdown",
   "id": "181c8bd6",
   "metadata": {},
   "source": [
    "## Section 5 - Extract a cutout and plot it"
   ]
  },
  {
   "cell_type": "code",
   "execution_count": 11,
   "id": "3100a3c2",
   "metadata": {},
   "outputs": [],
   "source": [
    "wcs = WCS(image1[0].header)"
   ]
  },
  {
   "cell_type": "code",
   "execution_count": 12,
   "id": "85128b88",
   "metadata": {},
   "outputs": [],
   "source": [
    "cutout = Cutout2D(image1[0].data, pos, (60, 60), wcs=wcs)\n",
    "wcs = cutout.wcs"
   ]
  },
  {
   "cell_type": "code",
   "execution_count": 13,
   "id": "c2ab27ca",
   "metadata": {},
   "outputs": [
    {
     "data": {
      "text/plain": [
       "<matplotlib.collections.PathCollection at 0x7f32956c6ad0>"
      ]
     },
     "execution_count": 13,
     "metadata": {},
     "output_type": "execute_result"
    },
    {
     "data": {
      "image/png": "[encoded data removed]",
      "text/plain": [
       "<Figure size 640x480 with 1 Axes>"
      ]
     },
     "metadata": {},
     "output_type": "display_data"
    }
   ],
   "source": [
    "fig = plt.figure()\n",
    "\n",
    "ax = fig.add_subplot(1, 1, 1, projection=wcs)\n",
    "ax.imshow(cutout.data, cmap='gray_r', origin='lower',\n",
    "          vmax = 1000)\n",
    "ax.scatter(ra, dec, transform=ax.get_transform('fk5'), s=500, edgecolor='red', facecolor='none')"
   ]
  },
  {
   "cell_type": "code",
   "execution_count": null,
   "id": "1ee8ea20",
   "metadata": {},
   "outputs": [],
   "source": []
  },
  {
   "cell_type": "markdown",
   "id": "b201a872",
   "metadata": {},
   "source": [
    "***"
   ]
  },
  {
   "cell_type": "markdown",
   "id": "0622c9c9",
   "metadata": {},
   "source": [
    "## About this notebook"
   ]
  },
  {
   "cell_type": "markdown",
   "id": "19305a9d",
   "metadata": {},
   "source": [
    "**Author:** David Shupe, IRSA Scientist, and the IRSA Science Team\n",
    "\n",
    "**Updated On:** 2022-02-14\n",
    "\n",
    "**Contact:** irsasupport@ipac.caltech.edu or https://jira.ipac.caltech.edu/irsasupport"
   ]
  },
  {
   "cell_type": "markdown",
   "id": "dd1880c4",
   "metadata": {},
   "source": [
    "## Citations"
   ]
  },
  {
   "cell_type": "markdown",
   "id": "a6981a8a",
   "metadata": {},
   "source": [
    "If you use `astropy` for published research, please cite the authors. Follow these links for more information about citing `astropy`:\n",
    "\n",
    "* [Citing `astropy`](https://www.astropy.org/acknowledging.html)"
   ]
  },
  {
   "cell_type": "markdown",
   "id": "8fde9c0a",
   "metadata": {},
   "source": [
    "Please include the following in any published material that makes use of the WISE data products:\n",
    "\n",
    "\"This publication makes use of data products from the Wide-field Infrared Survey Explorer, which is a joint project of the University of California, Los Angeles, and the Jet Propulsion Laboratory/California Institute of Technology, funded by the National Aeronautics and Space Administration.\"\n",
    "\n",
    "Please also cite the dataset Digital Object Identifier (DOI): [10.26131/IRSA153](https://www.ipac.caltech.edu/doi/irsa/10.26131/IRSA153)"
   ]
  },
  {
   "cell_type": "code",
   "execution_count": null,
   "id": "ebe8b827",
   "metadata": {},
   "outputs": [],
   "source": []
  }
 ],
 "metadata": {
  "jupytext": {
   "text_representation": {
    "extension": ".md",
    "format_name": "myst",
    "format_version": 0.13,
    "jupytext_version": "1.16.2"
   }
  },
  "kernelspec": {
   "display_name": "Python 3 (ipykernel)",
   "language": "python",
   "name": "python3"
  },
  "language_info": {
   "codemirror_mode": {
    "name": "ipython",
    "version": 3
   },
   "file_extension": ".py",
   "mimetype": "text/x-python",
   "name": "python",
   "nbconvert_exporter": "python",
   "pygments_lexer": "ipython3",
   "version": "3.11.9"
  },
  "source_map": [
   12,
   16,
   20,
   24,
   35,
   49,
   62,
   71,
   75,
   79,
   81,
   85,
   89,
   93,
   101,
   103,
   107,
   111,
   113,
   117,
   121,
   125,
   127,
   131,
   135,
   140,
   144,
   147,
   151,
   155,
   160,
   169,
   171,
   175,
   179,
   187,
   191,
   197,
   205
  ]
 },
 "nbformat": 4,
 "nbformat_minor": 5
}