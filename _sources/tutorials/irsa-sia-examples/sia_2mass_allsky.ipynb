{
 "cells": [
  {
   "cell_type": "markdown",
   "id": "d7656d0a",
   "metadata": {},
   "source": [
    "# Searching for 2MASS All-Sky Atlas Images\n",
    "\n",
    "This notebook tutorial demonstrates the process of querying IRSA's Simple Image Access (SIA) service for the 2MASS All-Sky Atlas, making a cutout image (thumbnail), and displaying the cutout."
   ]
  },
  {
   "cell_type": "markdown",
   "id": "296c2b2c",
   "metadata": {},
   "source": [
    "***"
   ]
  },
  {
   "cell_type": "markdown",
   "id": "d981f336",
   "metadata": {
    "jp-MarkdownHeadingCollapsed": true
   },
   "source": [
    "## Learning Goals\n",
    "\n",
    "By the end of this tutorial, you will:\n",
    "\n",
    "* Learn how to search the NASA Astronomical Virtual Observatory Directory web portal for a service that provides access to IRSA's 2MASS images.\n",
    "* Use the Python pyvo package to identify which of IRSA's 2MASS images cover a specified coordinate.\n",
    "* Download one of the identified images.\n",
    "* Create and display a cutout of the downloaded image."
   ]
  },
  {
   "cell_type": "markdown",
   "id": "1e852c08",
   "metadata": {},
   "source": [
    "## Introduction\n",
    "\n",
    "The Two Micron All Sky Survey (2MASS) project uniformly scanned the entire sky in three near-infrared bands to detect and characterize point sources brighter than about 1 mJy in each band, with signal-to-noise ratio (SNR) greater than 10. More information about 2MASS can be found at:\n",
    "\n",
    "https://irsa.ipac.caltech.edu/Missions/2mass.html\n",
    "\n",
    "The [NASA/IPAC Infrared Science Archive (IRSA)](https://irsa.ipac.caltech.edu) at Caltech is the archive for 2MASS images and catalogs. The 2MASS images that are the subject of this tutorial are made accessible via the [International Virtual Observatory Alliance (IVOA)](https://ivoa.net) [Simple Image Access (SIA)](https://wiki.ivoa.net/internal/IVOA/SiaInterface/SIA-V2-Analysis.pdf) protocol. IRSA's 2MASS SIA service is registered in the NASA Astronomical Virtual Observatory (NAVO) [Directory](https://vao.stsci.edu). Based on the registered information, the Python package [pyvo](https://pyvo.readthedocs.io) can be used to query the 2MASS SIA service for a list of images that meet specified criteria, and standard Python libraries can be used to download and manipulate the images.\n",
    "Other datasets at IRSA are available through other SIA services:\n",
    "\n",
    "https://irsa.ipac.caltech.edu/docs/program_interface/api_images.html"
   ]
  },
  {
   "cell_type": "markdown",
   "id": "43bccf19",
   "metadata": {},
   "source": [
    "## Imports\n",
    "\n",
    "- *pyvo* for querying IRSA's 2MASS SIA service\n",
    "- *astropy.coordinates* for defining coordinates\n",
    "- *astropy.nddata* for creating an image cutout\n",
    "- *astropy.wcs* for interpreting the World Coordinate System header keywords of a fits file\n",
    "- *astropy.units* for attaching units to numbers passed to the SIA service\n",
    "- *matplotlib.pyplot* for plotting\n",
    "- *astropy.utils.data* for downloading files\n",
    "- *astropy.io* to manipulate FITS files"
   ]
  },
  {
   "cell_type": "code",
   "execution_count": 1,
   "id": "4e56dc14",
   "metadata": {},
   "outputs": [],
   "source": [
    "# Uncomment the next line to install dependencies if needed.\n",
    "# !pip install matplotlib astropy pyvo"
   ]
  },
  {
   "cell_type": "code",
   "execution_count": 2,
   "id": "42bb9be3",
   "metadata": {},
   "outputs": [],
   "source": [
    "import pyvo as vo\n",
    "from astropy.coordinates import SkyCoord\n",
    "from astropy.nddata import Cutout2D\n",
    "from astropy.wcs import WCS\n",
    "import astropy.units as u\n",
    "import matplotlib.pyplot as plt\n",
    "from astropy.utils.data import download_file\n",
    "from astropy.io import fits"
   ]
  },
  {
   "cell_type": "markdown",
   "id": "fb9ce08e",
   "metadata": {},
   "source": [
    "## Section 1 - Setup"
   ]
  },
  {
   "cell_type": "markdown",
   "id": "70cbe6d0",
   "metadata": {},
   "source": [
    "Set images to display in the notebook"
   ]
  },
  {
   "cell_type": "code",
   "execution_count": 3,
   "id": "95471b97",
   "metadata": {},
   "outputs": [],
   "source": [
    "%matplotlib inline"
   ]
  },
  {
   "cell_type": "markdown",
   "id": "6b63cced",
   "metadata": {},
   "source": [
    "Define coordinates of a bright star"
   ]
  },
  {
   "cell_type": "code",
   "execution_count": 4,
   "id": "8c76b9d1",
   "metadata": {},
   "outputs": [],
   "source": [
    "ra = 314.30417\n",
    "dec = 77.595559\n",
    "pos = SkyCoord(ra=ra, dec=dec, unit='deg')"
   ]
  },
  {
   "cell_type": "markdown",
   "id": "c9d6b986",
   "metadata": {},
   "source": [
    "## Section 2 - Lookup and define a service for 2MASS images"
   ]
  },
  {
   "cell_type": "markdown",
   "id": "214d0a63",
   "metadata": {},
   "source": [
    "Start at STScI VAO Registry at https://vao.stsci.edu/keyword-search/\n",
    "\n",
    "Limit by Publisher \"NASA/IPAC Infrared Science Archive\" and Capability Type \"Simple Image Access Protocol\" then search on \"2MASS\"\n",
    "\n",
    "Locate the SIA URL https://irsa.ipac.caltech.edu/cgi-bin/2MASS/IM/nph-im_sia?type=at&ds=asky&"
   ]
  },
  {
   "cell_type": "code",
   "execution_count": 5,
   "id": "9201affa",
   "metadata": {},
   "outputs": [],
   "source": [
    "twomass_service = vo.dal.SIAService(\"https://irsa.ipac.caltech.edu/cgi-bin/2MASS/IM/nph-im_sia?type=at&ds=asky&\")"
   ]
  },
  {
   "cell_type": "markdown",
   "id": "cfb09d04",
   "metadata": {},
   "source": [
    "## Section 3 - Search the service"
   ]
  },
  {
   "cell_type": "markdown",
   "id": "654f923d",
   "metadata": {},
   "source": [
    "Search for images covering within 1 arcsecond of the star"
   ]
  },
  {
   "cell_type": "code",
   "execution_count": 6,
   "id": "1f37be5d",
   "metadata": {},
   "outputs": [],
   "source": [
    "im_table = twomass_service.search(pos=pos, size=1.0*u.arcsec)"
   ]
  },
  {
   "cell_type": "markdown",
   "id": "6a62f120",
   "metadata": {},
   "source": [
    "Examine the table of images that is returned"
   ]
  },
  {
   "cell_type": "code",
   "execution_count": 7,
   "id": "6895d3df",
   "metadata": {},
   "outputs": [
    {
     "data": {
      "text/html": [
       "<div><i>Table length=12</i>\n",
       "<table id=\"table140108752842192\" class=\"table-striped table-bordered table-condensed\">\n",
       "<thead><tr><th>name</th><th>download</th><th>center_ra</th><th>center_dec</th><th>naxes</th><th>naxis</th><th>scale</th><th>format</th><th>crpix</th><th>crval</th><th>crota2</th><th>band</th><th>bref</th><th>bhi</th><th>blo</th><th>pers_art</th><th>glint_art</th><th>type</th><th>dataset</th><th>pixflags</th><th>id</th><th>scntr</th><th>date</th><th>hem</th><th>scan</th><th>image</th><th>ut_date</th><th>coadd_key</th><th>seesh</th><th>magzp</th><th>msnr10</th><th>bin</th></tr></thead>\n",
       "<thead><tr><th></th><th></th><th>deg</th><th>deg</th><th></th><th></th><th>deg</th><th></th><th></th><th>deg</th><th>deg</th><th></th><th>meters</th><th>meters</th><th>meters</th><th></th><th></th><th></th><th></th><th></th><th></th><th></th><th></th><th></th><th></th><th></th><th></th><th></th><th>arcseconds</th><th></th><th></th><th></th></tr></thead>\n",
       "<thead><tr><th>object</th><th>object</th><th>float64</th><th>float64</th><th>int32</th><th>object</th><th>object</th><th>object</th><th>object</th><th>object</th><th>float64</th><th>object</th><th>float64</th><th>float64</th><th>float64</th><th>object</th><th>object</th><th>object</th><th>object</th><th>object</th><th>object</th><th>object</th><th>object</th><th>object</th><th>int32</th><th>int32</th><th>object</th><th>int32</th><th>float64</th><th>float64</th><th>float64</th><th>int32</th></tr></thead>\n",
       "<tr><td>All-Sky Release Survey J-Band Atlas Image: 000616 n 060 0256</td><td>https://irsa.ipac.caltech.edu:443/cgi-bin/2MASS/IM/nph-im?ds=asky&amp;atdir=/ti08&amp;dh=000616n&amp;scan=060&amp;name=ji0600256.fits</td><td>314.5216579</td><td>77.65369905</td><td>2</td><td>[512 1024]</td><td>[-0.0002777777845 0.0002777777845]</td><td>image/fits</td><td>[256.5 512.5]</td><td>[314.5216579 77.65369905]</td><td>-0.03194277641</td><td>J</td><td>1.235e-06</td><td>1.404e-06</td><td>1.066e-06</td><td>https://irsa.ipac.caltech.edu:443/cgi-bin/2MASS/IM/nph-art?arttype=pers&amp;ds=asky&amp;date=000616&amp;hem=n&amp;scan=060</td><td>https://irsa.ipac.caltech.edu:443/cgi-bin/2MASS/IM/nph-art?arttype=glint&amp;ds=asky&amp;date=000616&amp;hem=n&amp;scan=060</td><td>A</td><td>asky</td><td>CZ</td><td>null</td><td>null</td><td>000616</td><td>n</td><td>60</td><td>256</td><td>000616</td><td>1388256</td><td>2.63965</td><td>20.8408</td><td>16.567</td><td>201030300</td></tr>\n",
       "<tr><td>All-Sky Release Survey J-Band Atlas Image: 000616 n 060 0256</td><td>https://irsa.ipac.caltech.edu:443/cgi-bin/2MASS/IM/nph-im_key?ds=asky&amp;key=1388256&amp;band=J</td><td>314.5216579</td><td>77.65369905</td><td>2</td><td>[512 1024]</td><td>[-0.0002777777845 0.0002777777845]</td><td>text/html</td><td>[256.5 512.5]</td><td>[314.5216579 77.65369905]</td><td>-0.03194277641</td><td>J</td><td>1.235e-06</td><td>1.404e-06</td><td>1.066e-06</td><td>https://irsa.ipac.caltech.edu:443/cgi-bin/2MASS/IM/nph-art?arttype=pers&amp;ds=asky&amp;date=000616&amp;hem=n&amp;scan=060</td><td>https://irsa.ipac.caltech.edu:443/cgi-bin/2MASS/IM/nph-art?arttype=glint&amp;ds=asky&amp;date=000616&amp;hem=n&amp;scan=060</td><td>A</td><td>asky</td><td>CZ</td><td>null</td><td>null</td><td>000616</td><td>n</td><td>60</td><td>256</td><td>000616</td><td>1388256</td><td>2.63965</td><td>20.8408</td><td>16.567</td><td>201030300</td></tr>\n",
       "<tr><td>All-Sky Release Survey H-Band Atlas Image: 000616 n 060 0256</td><td>https://irsa.ipac.caltech.edu:443/cgi-bin/2MASS/IM/nph-im?ds=asky&amp;atdir=/ti08&amp;dh=000616n&amp;scan=060&amp;name=hi0600256.fits</td><td>314.5216579</td><td>77.65369905</td><td>2</td><td>[512 1024]</td><td>[-0.0002777777845 0.0002777777845]</td><td>image/fits</td><td>[256.5 512.5]</td><td>[314.5216579 77.65369905]</td><td>-0.03194277641</td><td>H</td><td>1.662e-06</td><td>1.924e-06</td><td>1.4e-06</td><td>https://irsa.ipac.caltech.edu:443/cgi-bin/2MASS/IM/nph-art?arttype=pers&amp;ds=asky&amp;date=000616&amp;hem=n&amp;scan=060</td><td>https://irsa.ipac.caltech.edu:443/cgi-bin/2MASS/IM/nph-art?arttype=glint&amp;ds=asky&amp;date=000616&amp;hem=n&amp;scan=060</td><td>A</td><td>asky</td><td>CZ</td><td>null</td><td>null</td><td>000616</td><td>n</td><td>60</td><td>256</td><td>000616</td><td>1388256</td><td>2.6083</td><td>20.3352</td><td>15.476</td><td>201030300</td></tr>\n",
       "<tr><td>All-Sky Release Survey H-Band Atlas Image: 000616 n 060 0256</td><td>https://irsa.ipac.caltech.edu:443/cgi-bin/2MASS/IM/nph-im_key?ds=asky&amp;key=1388256&amp;band=H</td><td>314.5216579</td><td>77.65369905</td><td>2</td><td>[512 1024]</td><td>[-0.0002777777845 0.0002777777845]</td><td>text/html</td><td>[256.5 512.5]</td><td>[314.5216579 77.65369905]</td><td>-0.03194277641</td><td>H</td><td>1.662e-06</td><td>1.924e-06</td><td>1.4e-06</td><td>https://irsa.ipac.caltech.edu:443/cgi-bin/2MASS/IM/nph-art?arttype=pers&amp;ds=asky&amp;date=000616&amp;hem=n&amp;scan=060</td><td>https://irsa.ipac.caltech.edu:443/cgi-bin/2MASS/IM/nph-art?arttype=glint&amp;ds=asky&amp;date=000616&amp;hem=n&amp;scan=060</td><td>A</td><td>asky</td><td>CZ</td><td>null</td><td>null</td><td>000616</td><td>n</td><td>60</td><td>256</td><td>000616</td><td>1388256</td><td>2.6083</td><td>20.3352</td><td>15.476</td><td>201030300</td></tr>\n",
       "<tr><td>All-Sky Release Survey K-Band Atlas Image: 000616 n 060 0256</td><td>https://irsa.ipac.caltech.edu:443/cgi-bin/2MASS/IM/nph-im?ds=asky&amp;atdir=/ti08&amp;dh=000616n&amp;scan=060&amp;name=ki0600256.fits</td><td>314.5216579</td><td>77.65369905</td><td>2</td><td>[512 1024]</td><td>[-0.0002777777845 0.0002777777845]</td><td>image/fits</td><td>[256.5 512.5]</td><td>[314.5216579 77.65369905]</td><td>-0.03194277641</td><td>K</td><td>2.159e-06</td><td>2.434e-06</td><td>1.884e-06</td><td>https://irsa.ipac.caltech.edu:443/cgi-bin/2MASS/IM/nph-art?arttype=pers&amp;ds=asky&amp;date=000616&amp;hem=n&amp;scan=060</td><td>https://irsa.ipac.caltech.edu:443/cgi-bin/2MASS/IM/nph-art?arttype=glint&amp;ds=asky&amp;date=000616&amp;hem=n&amp;scan=060</td><td>A</td><td>asky</td><td>CZ</td><td>null</td><td>null</td><td>000616</td><td>n</td><td>60</td><td>256</td><td>000616</td><td>1388256</td><td>2.70235</td><td>20.0396</td><td>14.709</td><td>201030300</td></tr>\n",
       "<tr><td>All-Sky Release Survey K-Band Atlas Image: 000616 n 060 0256</td><td>https://irsa.ipac.caltech.edu:443/cgi-bin/2MASS/IM/nph-im_key?ds=asky&amp;key=1388256&amp;band=K</td><td>314.5216579</td><td>77.65369905</td><td>2</td><td>[512 1024]</td><td>[-0.0002777777845 0.0002777777845]</td><td>text/html</td><td>[256.5 512.5]</td><td>[314.5216579 77.65369905]</td><td>-0.03194277641</td><td>K</td><td>2.159e-06</td><td>2.434e-06</td><td>1.884e-06</td><td>https://irsa.ipac.caltech.edu:443/cgi-bin/2MASS/IM/nph-art?arttype=pers&amp;ds=asky&amp;date=000616&amp;hem=n&amp;scan=060</td><td>https://irsa.ipac.caltech.edu:443/cgi-bin/2MASS/IM/nph-art?arttype=glint&amp;ds=asky&amp;date=000616&amp;hem=n&amp;scan=060</td><td>A</td><td>asky</td><td>CZ</td><td>null</td><td>null</td><td>000616</td><td>n</td><td>60</td><td>256</td><td>000616</td><td>1388256</td><td>2.70235</td><td>20.0396</td><td>14.709</td><td>201030300</td></tr>\n",
       "<tr><td>All-Sky Release Survey J-Band Atlas Image: 001129 n 019 0256</td><td>https://irsa.ipac.caltech.edu:443/cgi-bin/2MASS/IM/nph-im?ds=asky&amp;atdir=/ti08&amp;dh=001129n&amp;scan=019&amp;name=ji0190256.fits</td><td>314.1043524</td><td>77.65121426</td><td>2</td><td>[512 1024]</td><td>[-0.0002777777845 0.0002777777845]</td><td>image/fits</td><td>[256.5 512.5]</td><td>[314.1043524 77.65121426]</td><td>0.04799351843</td><td>J</td><td>1.235e-06</td><td>1.404e-06</td><td>1.066e-06</td><td>https://irsa.ipac.caltech.edu:443/cgi-bin/2MASS/IM/nph-art?arttype=pers&amp;ds=asky&amp;date=001129&amp;hem=n&amp;scan=019</td><td>https://irsa.ipac.caltech.edu:443/cgi-bin/2MASS/IM/nph-art?arttype=glint&amp;ds=asky&amp;date=001129&amp;hem=n&amp;scan=019</td><td>A</td><td>asky</td><td>CZ</td><td>null</td><td>null</td><td>001129</td><td>n</td><td>19</td><td>256</td><td>001129</td><td>1528372</td><td>2.671</td><td>20.9334</td><td>16.406</td><td>201030220</td></tr>\n",
       "<tr><td>All-Sky Release Survey J-Band Atlas Image: 001129 n 019 0256</td><td>https://irsa.ipac.caltech.edu:443/cgi-bin/2MASS/IM/nph-im_key?ds=asky&amp;key=1528372&amp;band=J</td><td>314.1043524</td><td>77.65121426</td><td>2</td><td>[512 1024]</td><td>[-0.0002777777845 0.0002777777845]</td><td>text/html</td><td>[256.5 512.5]</td><td>[314.1043524 77.65121426]</td><td>0.04799351843</td><td>J</td><td>1.235e-06</td><td>1.404e-06</td><td>1.066e-06</td><td>https://irsa.ipac.caltech.edu:443/cgi-bin/2MASS/IM/nph-art?arttype=pers&amp;ds=asky&amp;date=001129&amp;hem=n&amp;scan=019</td><td>https://irsa.ipac.caltech.edu:443/cgi-bin/2MASS/IM/nph-art?arttype=glint&amp;ds=asky&amp;date=001129&amp;hem=n&amp;scan=019</td><td>A</td><td>asky</td><td>CZ</td><td>null</td><td>null</td><td>001129</td><td>n</td><td>19</td><td>256</td><td>001129</td><td>1528372</td><td>2.671</td><td>20.9334</td><td>16.406</td><td>201030220</td></tr>\n",
       "<tr><td>All-Sky Release Survey H-Band Atlas Image: 001129 n 019 0256</td><td>https://irsa.ipac.caltech.edu:443/cgi-bin/2MASS/IM/nph-im?ds=asky&amp;atdir=/ti08&amp;dh=001129n&amp;scan=019&amp;name=hi0190256.fits</td><td>314.1043524</td><td>77.65121426</td><td>2</td><td>[512 1024]</td><td>[-0.0002777777845 0.0002777777845]</td><td>image/fits</td><td>[256.5 512.5]</td><td>[314.1043524 77.65121426]</td><td>0.04799351843</td><td>H</td><td>1.662e-06</td><td>1.924e-06</td><td>1.4e-06</td><td>https://irsa.ipac.caltech.edu:443/cgi-bin/2MASS/IM/nph-art?arttype=pers&amp;ds=asky&amp;date=001129&amp;hem=n&amp;scan=019</td><td>https://irsa.ipac.caltech.edu:443/cgi-bin/2MASS/IM/nph-art?arttype=glint&amp;ds=asky&amp;date=001129&amp;hem=n&amp;scan=019</td><td>A</td><td>asky</td><td>CZ</td><td>null</td><td>null</td><td>001129</td><td>n</td><td>19</td><td>256</td><td>001129</td><td>1528372</td><td>2.6083</td><td>20.3395</td><td>15.132</td><td>201030220</td></tr>\n",
       "<tr><td>All-Sky Release Survey H-Band Atlas Image: 001129 n 019 0256</td><td>https://irsa.ipac.caltech.edu:443/cgi-bin/2MASS/IM/nph-im_key?ds=asky&amp;key=1528372&amp;band=H</td><td>314.1043524</td><td>77.65121426</td><td>2</td><td>[512 1024]</td><td>[-0.0002777777845 0.0002777777845]</td><td>text/html</td><td>[256.5 512.5]</td><td>[314.1043524 77.65121426]</td><td>0.04799351843</td><td>H</td><td>1.662e-06</td><td>1.924e-06</td><td>1.4e-06</td><td>https://irsa.ipac.caltech.edu:443/cgi-bin/2MASS/IM/nph-art?arttype=pers&amp;ds=asky&amp;date=001129&amp;hem=n&amp;scan=019</td><td>https://irsa.ipac.caltech.edu:443/cgi-bin/2MASS/IM/nph-art?arttype=glint&amp;ds=asky&amp;date=001129&amp;hem=n&amp;scan=019</td><td>A</td><td>asky</td><td>CZ</td><td>null</td><td>null</td><td>001129</td><td>n</td><td>19</td><td>256</td><td>001129</td><td>1528372</td><td>2.6083</td><td>20.3395</td><td>15.132</td><td>201030220</td></tr>\n",
       "<tr><td>All-Sky Release Survey K-Band Atlas Image: 001129 n 019 0256</td><td>https://irsa.ipac.caltech.edu:443/cgi-bin/2MASS/IM/nph-im?ds=asky&amp;atdir=/ti08&amp;dh=001129n&amp;scan=019&amp;name=ki0190256.fits</td><td>314.1043524</td><td>77.65121426</td><td>2</td><td>[512 1024]</td><td>[-0.0002777777845 0.0002777777845]</td><td>image/fits</td><td>[256.5 512.5]</td><td>[314.1043524 77.65121426]</td><td>0.04799351843</td><td>K</td><td>2.159e-06</td><td>2.434e-06</td><td>1.884e-06</td><td>https://irsa.ipac.caltech.edu:443/cgi-bin/2MASS/IM/nph-art?arttype=pers&amp;ds=asky&amp;date=001129&amp;hem=n&amp;scan=019</td><td>https://irsa.ipac.caltech.edu:443/cgi-bin/2MASS/IM/nph-art?arttype=glint&amp;ds=asky&amp;date=001129&amp;hem=n&amp;scan=019</td><td>A</td><td>asky</td><td>CZ</td><td>null</td><td>null</td><td>001129</td><td>n</td><td>19</td><td>256</td><td>001129</td><td>1528372</td><td>2.63965</td><td>20.0656</td><td>14.862</td><td>201030220</td></tr>\n",
       "<tr><td>All-Sky Release Survey K-Band Atlas Image: 001129 n 019 0256</td><td>https://irsa.ipac.caltech.edu:443/cgi-bin/2MASS/IM/nph-im_key?ds=asky&amp;key=1528372&amp;band=K</td><td>314.1043524</td><td>77.65121426</td><td>2</td><td>[512 1024]</td><td>[-0.0002777777845 0.0002777777845]</td><td>text/html</td><td>[256.5 512.5]</td><td>[314.1043524 77.65121426]</td><td>0.04799351843</td><td>K</td><td>2.159e-06</td><td>2.434e-06</td><td>1.884e-06</td><td>https://irsa.ipac.caltech.edu:443/cgi-bin/2MASS/IM/nph-art?arttype=pers&amp;ds=asky&amp;date=001129&amp;hem=n&amp;scan=019</td><td>https://irsa.ipac.caltech.edu:443/cgi-bin/2MASS/IM/nph-art?arttype=glint&amp;ds=asky&amp;date=001129&amp;hem=n&amp;scan=019</td><td>A</td><td>asky</td><td>CZ</td><td>null</td><td>null</td><td>001129</td><td>n</td><td>19</td><td>256</td><td>001129</td><td>1528372</td><td>2.63965</td><td>20.0656</td><td>14.862</td><td>201030220</td></tr>\n",
       "</table></div>"
      ],
      "text/plain": [
       "<Table length=12>\n",
       "                            name                             ...    bin   \n",
       "                                                             ...          \n",
       "                           object                            ...   int32  \n",
       "------------------------------------------------------------ ... ---------\n",
       "All-Sky Release Survey J-Band Atlas Image: 000616 n 060 0256 ... 201030300\n",
       "All-Sky Release Survey J-Band Atlas Image: 000616 n 060 0256 ... 201030300\n",
       "All-Sky Release Survey H-Band Atlas Image: 000616 n 060 0256 ... 201030300\n",
       "All-Sky Release Survey H-Band Atlas Image: 000616 n 060 0256 ... 201030300\n",
       "All-Sky Release Survey K-Band Atlas Image: 000616 n 060 0256 ... 201030300\n",
       "All-Sky Release Survey K-Band Atlas Image: 000616 n 060 0256 ... 201030300\n",
       "All-Sky Release Survey J-Band Atlas Image: 001129 n 019 0256 ... 201030220\n",
       "All-Sky Release Survey J-Band Atlas Image: 001129 n 019 0256 ... 201030220\n",
       "All-Sky Release Survey H-Band Atlas Image: 001129 n 019 0256 ... 201030220\n",
       "All-Sky Release Survey H-Band Atlas Image: 001129 n 019 0256 ... 201030220\n",
       "All-Sky Release Survey K-Band Atlas Image: 001129 n 019 0256 ... 201030220\n",
       "All-Sky Release Survey K-Band Atlas Image: 001129 n 019 0256 ... 201030220"
      ]
     },
     "execution_count": 7,
     "metadata": {},
     "output_type": "execute_result"
    }
   ],
   "source": [
    "im_table.to_table()"
   ]
  },
  {
   "cell_type": "markdown",
   "id": "c43123e2",
   "metadata": {},
   "source": [
    "## Section 4 - Locate and download an image of interest"
   ]
  },
  {
   "cell_type": "markdown",
   "id": "212832cc",
   "metadata": {},
   "source": [
    "Locate the first H-band image and display its URL"
   ]
  },
  {
   "cell_type": "code",
   "execution_count": 8,
   "id": "a135a630",
   "metadata": {},
   "outputs": [
    {
     "name": "stdout",
     "output_type": "stream",
     "text": [
      "https://irsa.ipac.caltech.edu:443/cgi-bin/2MASS/IM/nph-im?ds=asky&atdir=/ti08&dh=000616n&scan=060&name=hi0600256.fits\n"
     ]
    }
   ],
   "source": [
    "for i in range(len(im_table)):\n",
    "    if im_table[i]['band'] == 'H':\n",
    "        break\n",
    "print(im_table[i].getdataurl())"
   ]
  },
  {
   "cell_type": "markdown",
   "id": "a5a353da",
   "metadata": {},
   "source": [
    "Download the image and open it in Astropy"
   ]
  },
  {
   "cell_type": "code",
   "execution_count": 9,
   "id": "4f47e124",
   "metadata": {},
   "outputs": [],
   "source": [
    "fname = download_file(im_table[i].getdataurl(), cache=True)\n",
    "image1 = fits.open(fname)"
   ]
  },
  {
   "cell_type": "markdown",
   "id": "3b0c2f6a",
   "metadata": {},
   "source": [
    "## Section 5 - Extract a cutout and plot it"
   ]
  },
  {
   "cell_type": "code",
   "execution_count": 10,
   "id": "1598d7bb",
   "metadata": {},
   "outputs": [],
   "source": [
    "wcs = WCS(image1[0].header)"
   ]
  },
  {
   "cell_type": "code",
   "execution_count": 11,
   "id": "418d6606",
   "metadata": {},
   "outputs": [],
   "source": [
    "cutout = Cutout2D(image1[0].data, pos, (60, 60), wcs=wcs)\n",
    "wcs = cutout.wcs"
   ]
  },
  {
   "cell_type": "code",
   "execution_count": 12,
   "id": "5de1c7ed",
   "metadata": {},
   "outputs": [
    {
     "data": {
      "text/plain": [
       "<matplotlib.collections.PathCollection at 0x7f6d9b987d50>"
      ]
     },
     "execution_count": 12,
     "metadata": {},
     "output_type": "execute_result"
    },
    {
     "data": {
      "image/png": "[encoded data removed]",
      "text/plain": [
       "<Figure size 640x480 with 1 Axes>"
      ]
     },
     "metadata": {},
     "output_type": "display_data"
    }
   ],
   "source": [
    "fig = plt.figure()\n",
    "\n",
    "ax = fig.add_subplot(1, 1, 1, projection=wcs)\n",
    "ax.imshow(cutout.data, cmap='gray_r', origin='lower',\n",
    "          vmax = 1000)\n",
    "ax.scatter(ra, dec, transform=ax.get_transform('fk5'), s=500, edgecolor='red', facecolor='none')"
   ]
  },
  {
   "cell_type": "markdown",
   "id": "f37b8c32",
   "metadata": {},
   "source": [
    "## Exercise"
   ]
  },
  {
   "cell_type": "markdown",
   "id": "09e2ee95",
   "metadata": {},
   "source": [
    "Repeat the steps above to retrieve a cutout from the AllWISE Atlas images"
   ]
  },
  {
   "cell_type": "code",
   "execution_count": null,
   "id": "7aa6aac1",
   "metadata": {},
   "outputs": [],
   "source": []
  },
  {
   "cell_type": "markdown",
   "id": "672fadc5",
   "metadata": {},
   "source": [
    "***"
   ]
  },
  {
   "cell_type": "markdown",
   "id": "8d5b2359",
   "metadata": {},
   "source": [
    "## About this notebook"
   ]
  },
  {
   "cell_type": "markdown",
   "id": "dfacd872",
   "metadata": {},
   "source": [
    "**Author:** David Shupe, IRSA Scientist, and the IRSA Science Team\n",
    "\n",
    "**Updated:** 2023-02-16\n",
    "\n",
    "**Contact:** [the IRSA Helpdesk](https://irsa.ipac.caltech.edu/docs/help_desk.html) with questions or reporting problems."
   ]
  },
  {
   "cell_type": "markdown",
   "id": "6a8c2529",
   "metadata": {},
   "source": [
    "## Citations"
   ]
  },
  {
   "cell_type": "markdown",
   "id": "22a1e4cf",
   "metadata": {},
   "source": [
    "If you use `astropy` for published research, please cite the authors. Follow these links for more information about citing `astropy`:\n",
    "\n",
    "* [Citing `astropy`](https://www.astropy.org/acknowledging.html)"
   ]
  },
  {
   "cell_type": "markdown",
   "id": "b785896c",
   "metadata": {},
   "source": [
    "If you use 2MASS data in published research, please cite the canonical paper [Skrutskie et al (2006)](http://adsabs.harvard.edu/abs/2006AJ....131.1163S), and include the following standard acknowledgment:\n",
    "\n",
    "*\"This publication makes use of data products from the Two Micron All Sky Survey, which is a joint project of the University of Massachusetts and the Infrared Processing and Analysis Center/California Institute of Technology, funded by the National Aeronautics and Space Administration and the National Science Foundation.\"*\n",
    "\n",
    "Please also cite the doi for the 2MASS All-Sky Atlas Image Service at https://www.ipac.caltech.edu/doi/irsa/10.26131/IRSA121"
   ]
  }
 ],
 "metadata": {
  "jupytext": {
   "text_representation": {
    "extension": ".md",
    "format_name": "myst",
    "format_version": 0.13,
    "jupytext_version": "1.16.2"
   }
  },
  "kernelspec": {
   "display_name": "Python 3 (ipykernel)",
   "language": "python",
   "name": "python3"
  },
  "language_info": {
   "codemirror_mode": {
    "name": "ipython",
    "version": 3
   },
   "file_extension": ".py",
   "mimetype": "text/x-python",
   "name": "python",
   "nbconvert_exporter": "python",
   "pygments_lexer": "ipython3",
   "version": "3.11.11"
  },
  "source_map": [
   12,
   18,
   22,
   33,
   46,
   59,
   64,
   73,
   77,
   81,
   83,
   87,
   91,
   95,
   103,
   105,
   109,
   113,
   115,
   119,
   121,
   125,
   129,
   134,
   138,
   141,
   145,
   149,
   154,
   161,
   165,
   169,
   171,
   175,
   179,
   188,
   192,
   198
  ]
 },
 "nbformat": 4,
 "nbformat_minor": 5
}