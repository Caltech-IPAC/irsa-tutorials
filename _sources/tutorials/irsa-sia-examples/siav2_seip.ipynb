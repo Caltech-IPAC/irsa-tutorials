{
 "cells": [
  {
   "cell_type": "markdown",
   "id": "773cb6e4",
   "metadata": {},
   "source": [
    "# Searching for Spitzer Enhanced Imaging Products"
   ]
  },
  {
   "cell_type": "markdown",
   "id": "9a0d0b3f",
   "metadata": {},
   "source": [
    "This notebook tutorial demonstrates the process of querying IRSA's Simple Image Access v2 (SIAv2) service for the Spitzer Enhanced Imaging Products (SEIP), making a cutout image (thumbnail), and displaying the cutout."
   ]
  },
  {
   "cell_type": "markdown",
   "id": "592debd3",
   "metadata": {},
   "source": [
    "***"
   ]
  },
  {
   "cell_type": "markdown",
   "id": "97b7a9f9",
   "metadata": {},
   "source": [
    "## Learning Goals\n",
    "\n",
    "By the end of this tutorial, you will:\n",
    "\n",
    "* Learn how to search the NASA Astronomical Virtual Observatory Directory web portal for a service that provides access to IRSA's Spitzer Enhanced Imaging Products (SEIP) images.\n",
    "* Use the Python pyvo package to identify which of IRSA's SEIP images cover a specified coordinate.\n",
    "* Download one of the identified images.\n",
    "* Create and display a cutout of the downloaded image."
   ]
  },
  {
   "cell_type": "markdown",
   "id": "6ae45bd8",
   "metadata": {},
   "source": [
    "## Introduction\n",
    "\n",
    "The Spitzer Enhanced Imaging Products (SEIP) include Super Mosaics combining data from multiple programs if appropriate, and a high-reliability Source List of compact objects. The SEIP include data from the four channels of IRAC (3.6, 4.5, 5.8, 8 microns) and the 24 micron channel of MIPS. More information about the SEIP can be found at:\n",
    "\n",
    "https://irsa.ipac.caltech.edu/data/SPITZER/Enhanced/SEIP/\n",
    "\n",
    "The [NASA/IPAC Infrared Science Archive (IRSA)](https://irsa.ipac.caltech.edu) at Caltech is the archive for SEIP images and catalogs. The SEIP images that are the subject of this tutorial are made accessible via the [International Virtual Observatory Alliance (IVOA)](https://ivoa.net) [Simple Image Access (SIA)](https://wiki.ivoa.net/internal/IVOA/SiaInterface/SIA-V2-Analysis.pdf) protocol. IRSA's SEIP SIA service is registered in the NASA Astronomical Virtual Observatory (NAVO) [Directory](https://vao.stsci.edu). Based on the registered information, the Python package [pyvo](https://pyvo.readthedocs.io) can be used to query the SEIP SIA service for a list of images that meet specified criteria, and standard Python libraries can be used to download and manipulate the images.\n",
    "Other datasets at IRSA are available through other SIA services:\n",
    "\n",
    "https://irsa.ipac.caltech.edu/docs/program_interface/api_images.html"
   ]
  },
  {
   "cell_type": "markdown",
   "id": "70ab1eea",
   "metadata": {},
   "source": [
    "## Imports\n",
    "\n",
    "- *pyvo* for querying IRSA's SEIP SIA service\n",
    "- *astropy.coordinates* for defining coordinates\n",
    "- *astropy.nddata* for creating an image cutout\n",
    "- *astropy.wcs* for interpreting the World Coordinate System header keywords of a fits file\n",
    "- *astropy.units* for attaching units to numbers passed to the SIA service\n",
    "- *matplotlib.pyplot* for plotting\n",
    "- *astropy.utils.data* for downloading files\n",
    "- *astropy.io* to manipulate FITS files"
   ]
  },
  {
   "cell_type": "code",
   "execution_count": 1,
   "id": "a0dc49bc",
   "metadata": {},
   "outputs": [],
   "source": [
    "# Uncomment the next line to install dependencies if needed.\n",
    "# !pip install matplotlib astropy pyvo"
   ]
  },
  {
   "cell_type": "code",
   "execution_count": 2,
   "id": "29a1023a",
   "metadata": {},
   "outputs": [],
   "source": [
    "import pyvo as vo\n",
    "from astropy.coordinates import SkyCoord\n",
    "from astropy.nddata import Cutout2D\n",
    "from astropy.wcs import WCS\n",
    "import astropy.units as u\n",
    "import matplotlib.pyplot as plt\n",
    "from astropy.utils.data import download_file\n",
    "from astropy.io import fits"
   ]
  },
  {
   "cell_type": "markdown",
   "id": "78c58188",
   "metadata": {},
   "source": [
    "## Section 1 - Setup"
   ]
  },
  {
   "cell_type": "markdown",
   "id": "230c9f1a",
   "metadata": {},
   "source": [
    "Set images to display in the notebook"
   ]
  },
  {
   "cell_type": "code",
   "execution_count": 3,
   "id": "a9796020",
   "metadata": {},
   "outputs": [],
   "source": [
    "%matplotlib inline"
   ]
  },
  {
   "cell_type": "markdown",
   "id": "0bec355c",
   "metadata": {},
   "source": [
    "Define coordinates of a bright star"
   ]
  },
  {
   "cell_type": "code",
   "execution_count": 4,
   "id": "4906f90c",
   "metadata": {},
   "outputs": [],
   "source": [
    "ra = 314.30417\n",
    "dec = 77.595559\n",
    "pos = SkyCoord(ra=ra, dec=dec, unit='deg')"
   ]
  },
  {
   "cell_type": "markdown",
   "id": "31034c2a",
   "metadata": {},
   "source": [
    "## Section 2 - Lookup and define a service for SEIP images"
   ]
  },
  {
   "cell_type": "markdown",
   "id": "2a804ad3",
   "metadata": {},
   "source": [
    "Start at STScI VAO Registry at https://vao.stsci.edu/keyword-search/\n",
    "\n",
    "Search on \"seip\"\n",
    "\n",
    "Locate the COLLECTION=spitzer_seip from the SIA2 URL https://irsa.ipac.caltech.edu/SIA?COLLECTION=spitzer_seip&"
   ]
  },
  {
   "cell_type": "markdown",
   "id": "9789de39",
   "metadata": {},
   "source": [
    "To work with PyVO, define this SIAv2 service and use the collection argument separately"
   ]
  },
  {
   "cell_type": "code",
   "execution_count": 5,
   "id": "a56888e8",
   "metadata": {},
   "outputs": [],
   "source": [
    "seip_service2= vo.dal.sia2.SIA2Service('https://irsa.ipac.caltech.edu/SIA')"
   ]
  },
  {
   "cell_type": "markdown",
   "id": "9a31a246",
   "metadata": {},
   "source": [
    "## Section 3 - Search the service"
   ]
  },
  {
   "cell_type": "markdown",
   "id": "9f2189ea",
   "metadata": {},
   "source": [
    "Search for images covering within 10 arcseconds of the star"
   ]
  },
  {
   "cell_type": "code",
   "execution_count": 6,
   "id": "0f8588eb",
   "metadata": {},
   "outputs": [],
   "source": [
    "im_table = seip_service2.search(pos=(pos.ra.deg, pos.dec.deg, 10*u.arcsec),\n",
    "                                collection='spitzer_seip')"
   ]
  },
  {
   "cell_type": "markdown",
   "id": "276dbebb",
   "metadata": {},
   "source": [
    "Display the table of images that is returned"
   ]
  },
  {
   "cell_type": "code",
   "execution_count": 7,
   "id": "12a75c3b",
   "metadata": {},
   "outputs": [
    {
     "data": {
      "text/html": [
       "<div><i>Table length=328</i>\n",
       "<table id=\"table140041966717200\" class=\"table-striped table-bordered table-condensed\">\n",
       "<thead><tr><th>s_ra</th><th>s_dec</th><th>facility_name</th><th>instrument_name</th><th>dataproduct_subtype</th><th>calib_level</th><th>dataproduct_type</th><th>energy_bandpassname</th><th>energy_emband</th><th>obs_id</th><th>s_resolution</th><th>em_min</th><th>em_max</th><th>em_res_power</th><th>proposal_title</th><th>access_url</th><th>access_format</th><th>access_estsize</th><th>t_exptime</th><th>s_region</th><th>obs_collection</th><th>obs_intent</th><th>algorithm_name</th><th>facility_keywords</th><th>instrument_keywords</th><th>environment_photometric</th><th>proposal_id</th><th>proposal_pi</th><th>proposal_project</th><th>target_name</th><th>target_type</th><th>target_standard</th><th>target_moving</th><th>target_keywords</th><th>obs_release_date</th><th>s_xel1</th><th>s_xel2</th><th>s_pixel_scale</th><th>position_timedependent</th><th>t_min</th><th>t_max</th><th>t_resolution</th><th>t_xel</th><th>obs_publisher_did</th><th>s_fov</th><th>em_xel</th><th>pol_states</th><th>pol_xel</th><th>cloud_access</th><th>o_ucd</th><th>upload_row_id</th></tr></thead>\n",
       "<thead><tr><th>deg</th><th>deg</th><th></th><th></th><th></th><th></th><th></th><th></th><th></th><th></th><th>arcsec</th><th>m</th><th>m</th><th></th><th></th><th></th><th></th><th>kbyte</th><th>s</th><th>deg</th><th></th><th></th><th></th><th></th><th></th><th></th><th></th><th></th><th></th><th></th><th></th><th></th><th></th><th></th><th></th><th></th><th></th><th>arcsec</th><th></th><th>d</th><th>d</th><th>s</th><th></th><th></th><th>deg</th><th></th><th></th><th></th><th></th><th></th><th></th></tr></thead>\n",
       "<thead><tr><th>float64</th><th>float64</th><th>object</th><th>object</th><th>object</th><th>int16</th><th>object</th><th>object</th><th>object</th><th>object</th><th>float64</th><th>float64</th><th>float64</th><th>float64</th><th>object</th><th>object</th><th>object</th><th>int64</th><th>float64</th><th>object</th><th>object</th><th>object</th><th>object</th><th>object</th><th>object</th><th>bool</th><th>object</th><th>object</th><th>object</th><th>object</th><th>object</th><th>bool</th><th>bool</th><th>object</th><th>object</th><th>int64</th><th>int64</th><th>float64</th><th>bool</th><th>float64</th><th>float64</th><th>float64</th><th>int64</th><th>object</th><th>float64</th><th>int64</th><th>object</th><th>int64</th><th>object</th><th>object</th><th>int64</th></tr></thead>\n",
       "<tr><td>314.7482131</td><td>77.4212892</td><td>Spitzer Space Telescope</td><td>IRAC</td><td>weight</td><td>3</td><td>image</td><td>IRAC1</td><td>Infrared</td><td>40019821.40019821-9.IRAC</td><td>1.66</td><td>3.17e-06</td><td>3.92e-06</td><td>4.8</td><td>Spitzer Enhanced Imaging Products</td><td>https://irsa.ipac.caltech.edu/data/SPITZER/Enhanced/SEIP/images/4/0019/40019821/9/40019821-9/40019821.40019821-9-short.IRAC.1.cov.fits</td><td>image/fits</td><td>64394</td><td>--</td><td>POLYGON ICRS 316.0670347 77.0402173 316.1473632 77.7956756 313.3483063 77.7956771 313.4286176 77.0402187 316.0670347 77.0402173</td><td>spitzer_seip</td><td>science</td><td>mosaic</td><td></td><td></td><td>--</td><td></td><td></td><td>Spitzer</td><td></td><td>field</td><td>False</td><td>False</td><td></td><td>2013-12-19 00:00:00</td><td>3550</td><td>4534</td><td>0.600012</td><td>False</td><td>--</td><td>--</td><td>--</td><td>--</td><td>ivo://irsa.ipac/spitzer_seip/40019821.40019821-9.IRAC</td><td>0.6686708174189524</td><td>--</td><td></td><td>--</td><td>{&quot;aws&quot;: {&quot;bucket_name&quot;: &quot;nasa-irsa-spitzer&quot;, &quot;key&quot;:&quot;spitzer/seip/seip_science/images/4/0019/40019821/9/40019821-9/40019821.40019821-9-short.IRAC.1.cov.fits&quot;, &quot;region&quot;: &quot;us-west-2&quot;}}</td><td></td><td>1</td></tr>\n",
       "<tr><td>314.7482131</td><td>77.4212892</td><td>Spitzer Space Telescope</td><td>IRAC</td><td>noise</td><td>3</td><td>image</td><td>IRAC1</td><td>Infrared</td><td>40019821.40019821-9.IRAC</td><td>1.66</td><td>3.17e-06</td><td>3.92e-06</td><td>4.8</td><td>Spitzer Enhanced Imaging Products</td><td>https://irsa.ipac.caltech.edu/data/SPITZER/Enhanced/SEIP/images/4/0019/40019821/9/40019821-9/40019821.40019821-9-short.IRAC.1.median_mosaic_unc.fits</td><td>image/fits</td><td>64394</td><td>--</td><td>POLYGON ICRS 316.0670347 77.0402173 316.1473632 77.7956756 313.3483063 77.7956771 313.4286176 77.0402187 316.0670347 77.0402173</td><td>spitzer_seip</td><td>science</td><td>mosaic</td><td></td><td></td><td>--</td><td></td><td></td><td>Spitzer</td><td></td><td>field</td><td>False</td><td>False</td><td></td><td>2013-12-19 00:00:00</td><td>3550</td><td>4534</td><td>0.600012</td><td>False</td><td>--</td><td>--</td><td>--</td><td>--</td><td>ivo://irsa.ipac/spitzer_seip/40019821.40019821-9.IRAC</td><td>0.6686708174189524</td><td>--</td><td></td><td>--</td><td>{&quot;aws&quot;: {&quot;bucket_name&quot;: &quot;nasa-irsa-spitzer&quot;, &quot;key&quot;:&quot;spitzer/seip/seip_science/images/4/0019/40019821/9/40019821-9/40019821.40019821-9-short.IRAC.1.median_mosaic_unc.fits&quot;, &quot;region&quot;: &quot;us-west-2&quot;}}</td><td></td><td>1</td></tr>\n",
       "<tr><td>314.7482131</td><td>77.4212892</td><td>Spitzer Space Telescope</td><td>IRAC</td><td>science</td><td>3</td><td>image</td><td>IRAC1</td><td>Infrared</td><td>40019821.40019821-9.IRAC</td><td>1.66</td><td>3.17e-06</td><td>3.92e-06</td><td>4.8</td><td>Spitzer Enhanced Imaging Products</td><td>https://irsa.ipac.caltech.edu/data/SPITZER/Enhanced/SEIP/images/4/0019/40019821/9/40019821-9/40019821.40019821-9-short.IRAC.1.median_mosaic.fits</td><td>image/fits</td><td>64394</td><td>--</td><td>POLYGON ICRS 316.0670347 77.0402173 316.1473632 77.7956756 313.3483063 77.7956771 313.4286176 77.0402187 316.0670347 77.0402173</td><td>spitzer_seip</td><td>science</td><td>mosaic</td><td></td><td></td><td>--</td><td></td><td></td><td>Spitzer</td><td></td><td>field</td><td>False</td><td>False</td><td></td><td>2013-12-19 00:00:00</td><td>3550</td><td>4534</td><td>0.600012</td><td>False</td><td>--</td><td>--</td><td>--</td><td>--</td><td>ivo://irsa.ipac/spitzer_seip/40019821.40019821-9.IRAC</td><td>0.6686708174189524</td><td>--</td><td></td><td>--</td><td>{&quot;aws&quot;: {&quot;bucket_name&quot;: &quot;nasa-irsa-spitzer&quot;, &quot;key&quot;:&quot;spitzer/seip/seip_science/images/4/0019/40019821/9/40019821-9/40019821.40019821-9-short.IRAC.1.median_mosaic.fits&quot;, &quot;region&quot;: &quot;us-west-2&quot;}}</td><td></td><td>1</td></tr>\n",
       "<tr><td>314.7482131</td><td>77.4212892</td><td>Spitzer Space Telescope</td><td>IRAC</td><td>noise</td><td>3</td><td>image</td><td>IRAC1</td><td>Infrared</td><td>40019821.40019821-9.IRAC</td><td>1.66</td><td>3.17e-06</td><td>3.92e-06</td><td>4.8</td><td>Spitzer Enhanced Imaging Products</td><td>https://irsa.ipac.caltech.edu/data/SPITZER/Enhanced/SEIP/images/4/0019/40019821/9/40019821-9/40019821.40019821-9-short.IRAC.1.std.fits</td><td>image/fits</td><td>64394</td><td>--</td><td>POLYGON ICRS 316.0670347 77.0402173 316.1473632 77.7956756 313.3483063 77.7956771 313.4286176 77.0402187 316.0670347 77.0402173</td><td>spitzer_seip</td><td>science</td><td>mosaic</td><td></td><td></td><td>--</td><td></td><td></td><td>Spitzer</td><td></td><td>field</td><td>False</td><td>False</td><td></td><td>2013-12-19 00:00:00</td><td>3550</td><td>4534</td><td>0.600012</td><td>False</td><td>--</td><td>--</td><td>--</td><td>--</td><td>ivo://irsa.ipac/spitzer_seip/40019821.40019821-9.IRAC</td><td>0.6686708174189524</td><td>--</td><td></td><td>--</td><td>{&quot;aws&quot;: {&quot;bucket_name&quot;: &quot;nasa-irsa-spitzer&quot;, &quot;key&quot;:&quot;spitzer/seip/seip_science/images/4/0019/40019821/9/40019821-9/40019821.40019821-9-short.IRAC.1.std.fits&quot;, &quot;region&quot;: &quot;us-west-2&quot;}}</td><td></td><td>1</td></tr>\n",
       "<tr><td>314.7482131</td><td>77.4212892</td><td>Spitzer Space Telescope</td><td>IRAC</td><td>noise</td><td>3</td><td>image</td><td>IRAC4</td><td>Infrared</td><td>40019821.40019821-9.IRAC</td><td>1.98</td><td>6.44e-06</td><td>9.28e-06</td><td>2.8</td><td>Spitzer Enhanced Imaging Products</td><td>https://irsa.ipac.caltech.edu/data/SPITZER/Enhanced/SEIP/images/4/0019/40019821/9/40019821-9/40019821.40019821-9-short.IRAC.4.std.fits</td><td>image/fits</td><td>64394</td><td>--</td><td>POLYGON ICRS 316.0670347 77.0402173 316.1473632 77.7956756 313.3483063 77.7956771 313.4286176 77.0402187 316.0670347 77.0402173</td><td>spitzer_seip</td><td>science</td><td>mosaic</td><td></td><td></td><td>--</td><td></td><td></td><td>Spitzer</td><td></td><td>field</td><td>False</td><td>False</td><td></td><td>2013-12-19 00:00:00</td><td>3550</td><td>4534</td><td>0.600012</td><td>False</td><td>--</td><td>--</td><td>--</td><td>--</td><td>ivo://irsa.ipac/spitzer_seip/40019821.40019821-9.IRAC</td><td>0.6686708174189524</td><td>--</td><td></td><td>--</td><td>{&quot;aws&quot;: {&quot;bucket_name&quot;: &quot;nasa-irsa-spitzer&quot;, &quot;key&quot;:&quot;spitzer/seip/seip_science/images/4/0019/40019821/9/40019821-9/40019821.40019821-9-short.IRAC.4.std.fits&quot;, &quot;region&quot;: &quot;us-west-2&quot;}}</td><td></td><td>1</td></tr>\n",
       "<tr><td>314.7482131</td><td>77.4212892</td><td>Spitzer Space Telescope</td><td>IRAC</td><td>noise</td><td>3</td><td>image</td><td>IRAC4</td><td>Infrared</td><td>40019821.40019821-9.IRAC</td><td>1.98</td><td>6.44e-06</td><td>9.28e-06</td><td>2.8</td><td>Spitzer Enhanced Imaging Products</td><td>https://irsa.ipac.caltech.edu/data/SPITZER/Enhanced/SEIP/images/4/0019/40019821/9/40019821-9/40019821.40019821-9-short.IRAC.4.unc.fits</td><td>image/fits</td><td>64394</td><td>--</td><td>POLYGON ICRS 316.0670347 77.0402173 316.1473632 77.7956756 313.3483063 77.7956771 313.4286176 77.0402187 316.0670347 77.0402173</td><td>spitzer_seip</td><td>science</td><td>mosaic</td><td></td><td></td><td>--</td><td></td><td></td><td>Spitzer</td><td></td><td>field</td><td>False</td><td>False</td><td></td><td>2013-12-19 00:00:00</td><td>3550</td><td>4534</td><td>0.600012</td><td>False</td><td>--</td><td>--</td><td>--</td><td>--</td><td>ivo://irsa.ipac/spitzer_seip/40019821.40019821-9.IRAC</td><td>0.6686708174189524</td><td>--</td><td></td><td>--</td><td>{&quot;aws&quot;: {&quot;bucket_name&quot;: &quot;nasa-irsa-spitzer&quot;, &quot;key&quot;:&quot;spitzer/seip/seip_science/images/4/0019/40019821/9/40019821-9/40019821.40019821-9-short.IRAC.4.unc.fits&quot;, &quot;region&quot;: &quot;us-west-2&quot;}}</td><td></td><td>1</td></tr>\n",
       "<tr><td>314.7482131</td><td>77.4212892</td><td>Spitzer Space Telescope</td><td>IRAC</td><td>science</td><td>3</td><td>image</td><td>IRAC4</td><td>Infrared</td><td>40019821.40019821-9.IRAC</td><td>1.98</td><td>6.44e-06</td><td>9.28e-06</td><td>2.8</td><td>Spitzer Enhanced Imaging Products</td><td>https://irsa.ipac.caltech.edu/data/SPITZER/Enhanced/SEIP/images/4/0019/40019821/9/40019821-9/40019821.40019821-9-short.IRAC.4.mosaic.fits</td><td>image/fits</td><td>64394</td><td>--</td><td>POLYGON ICRS 316.0670347 77.0402173 316.1473632 77.7956756 313.3483063 77.7956771 313.4286176 77.0402187 316.0670347 77.0402173</td><td>spitzer_seip</td><td>science</td><td>mosaic</td><td></td><td></td><td>--</td><td></td><td></td><td>Spitzer</td><td></td><td>field</td><td>False</td><td>False</td><td></td><td>2013-12-19 00:00:00</td><td>3550</td><td>4534</td><td>0.600012</td><td>False</td><td>--</td><td>--</td><td>--</td><td>--</td><td>ivo://irsa.ipac/spitzer_seip/40019821.40019821-9.IRAC</td><td>0.6686708174189524</td><td>--</td><td></td><td>--</td><td>{&quot;aws&quot;: {&quot;bucket_name&quot;: &quot;nasa-irsa-spitzer&quot;, &quot;key&quot;:&quot;spitzer/seip/seip_science/images/4/0019/40019821/9/40019821-9/40019821.40019821-9-short.IRAC.4.mosaic.fits&quot;, &quot;region&quot;: &quot;us-west-2&quot;}}</td><td></td><td>1</td></tr>\n",
       "<tr><td>314.7482131</td><td>77.4212892</td><td>Spitzer Space Telescope</td><td>IRAC</td><td>weight</td><td>3</td><td>image</td><td>IRAC4</td><td>Infrared</td><td>40019821.40019821-9.IRAC</td><td>1.98</td><td>6.44e-06</td><td>9.28e-06</td><td>2.8</td><td>Spitzer Enhanced Imaging Products</td><td>https://irsa.ipac.caltech.edu/data/SPITZER/Enhanced/SEIP/images/4/0019/40019821/9/40019821-9/40019821.40019821-9-short.IRAC.4.cov.fits</td><td>image/fits</td><td>64394</td><td>--</td><td>POLYGON ICRS 316.0670347 77.0402173 316.1473632 77.7956756 313.3483063 77.7956771 313.4286176 77.0402187 316.0670347 77.0402173</td><td>spitzer_seip</td><td>science</td><td>mosaic</td><td></td><td></td><td>--</td><td></td><td></td><td>Spitzer</td><td></td><td>field</td><td>False</td><td>False</td><td></td><td>2013-12-19 00:00:00</td><td>3550</td><td>4534</td><td>0.600012</td><td>False</td><td>--</td><td>--</td><td>--</td><td>--</td><td>ivo://irsa.ipac/spitzer_seip/40019821.40019821-9.IRAC</td><td>0.6686708174189524</td><td>--</td><td></td><td>--</td><td>{&quot;aws&quot;: {&quot;bucket_name&quot;: &quot;nasa-irsa-spitzer&quot;, &quot;key&quot;:&quot;spitzer/seip/seip_science/images/4/0019/40019821/9/40019821-9/40019821.40019821-9-short.IRAC.4.cov.fits&quot;, &quot;region&quot;: &quot;us-west-2&quot;}}</td><td></td><td>1</td></tr>\n",
       "<tr><td>314.7482131</td><td>77.4212892</td><td>Spitzer Space Telescope</td><td>IRAC</td><td>weight</td><td>3</td><td>image</td><td>IRAC1</td><td>Infrared</td><td>40019821.40019821-9.IRAC</td><td>1.66</td><td>3.17e-06</td><td>3.92e-06</td><td>4.8</td><td>Spitzer Enhanced Imaging Products</td><td>https://irsa.ipac.caltech.edu/data/SPITZER/Enhanced/SEIP/images/4/0019/40019821/9/40019821-9/40019821.40019821-9-short.IRAC.1.cov.fits</td><td>image/fits</td><td>64394</td><td>--</td><td>POLYGON ICRS 316.0670347 77.0402173 316.1473632 77.7956756 313.3483063 77.7956771 313.4286176 77.0402187 316.0670347 77.0402173</td><td>spitzer_seip</td><td>science</td><td>mosaic</td><td></td><td></td><td>--</td><td></td><td></td><td>Spitzer</td><td></td><td>field</td><td>False</td><td>False</td><td></td><td>2013-12-19 00:00:00</td><td>3550</td><td>4534</td><td>0.600012</td><td>False</td><td>--</td><td>--</td><td>--</td><td>--</td><td>ivo://irsa.ipac/spitzer_seip/40019821.40019821-9.IRAC</td><td>0.6686708174189524</td><td>--</td><td></td><td>--</td><td>{&quot;aws&quot;: {&quot;bucket_name&quot;: &quot;nasa-irsa-spitzer&quot;, &quot;key&quot;:&quot;spitzer/seip/seip_science/images/4/0019/40019821/9/40019821-9/40019821.40019821-9-short.IRAC.1.cov.fits&quot;, &quot;region&quot;: &quot;us-west-2&quot;}}</td><td></td><td>1</td></tr>\n",
       "<tr><td>...</td><td>...</td><td>...</td><td>...</td><td>...</td><td>...</td><td>...</td><td>...</td><td>...</td><td>...</td><td>...</td><td>...</td><td>...</td><td>...</td><td>...</td><td>...</td><td>...</td><td>...</td><td>...</td><td>...</td><td>...</td><td>...</td><td>...</td><td>...</td><td>...</td><td>...</td><td>...</td><td>...</td><td>...</td><td>...</td><td>...</td><td>...</td><td>...</td><td>...</td><td>...</td><td>...</td><td>...</td><td>...</td><td>...</td><td>...</td><td>...</td><td>...</td><td>...</td><td>...</td><td>...</td><td>...</td><td>...</td><td>...</td><td>...</td><td>...</td><td>...</td></tr>\n",
       "<tr><td>314.1546397</td><td>77.9241351</td><td>Spitzer Space Telescope</td><td>MIPS</td><td>noise</td><td>3</td><td>image</td><td>MIPS24</td><td>Infrared</td><td>40019821.40019821-13.MIPS</td><td>6.0</td><td>2.08e-05</td><td>2.61e-05</td><td>4.5</td><td>Spitzer Enhanced Imaging Products</td><td>https://irsa.ipac.caltech.edu/data/SPITZER/Enhanced/SEIP/images/4/0019/40019821/3/40019821-13/40019821.40019821-13.MIPS.1.median_mosaic_unc.fits</td><td>image/fits</td><td>2544</td><td>--</td><td>POLYGON ICRS 315.0377119 77.538868 315.0949554 78.3071067 313.2110739 78.307107 313.2683115 77.5388683 315.0377119 77.538868</td><td>spitzer_seip</td><td>science</td><td>mosaic</td><td></td><td></td><td>--</td><td></td><td></td><td>Spitzer</td><td></td><td>field</td><td>False</td><td>False</td><td></td><td>2013-12-19 00:00:00</td><td>561</td><td>1129</td><td>2.4500016000000002</td><td>False</td><td>--</td><td>--</td><td>--</td><td>--</td><td>ivo://irsa.ipac/spitzer_seip/40019821.40019821-13.MIPS</td><td>0.541616976931299</td><td>--</td><td></td><td>--</td><td>{&quot;aws&quot;: {&quot;bucket_name&quot;: &quot;nasa-irsa-spitzer&quot;, &quot;key&quot;:&quot;spitzer/seip/seip_science/images/4/0019/40019821/3/40019821-13/40019821.40019821-13.MIPS.1.median_mosaic_unc.fits&quot;, &quot;region&quot;: &quot;us-west-2&quot;}}</td><td></td><td>1</td></tr>\n",
       "<tr><td>314.1546397</td><td>77.9241351</td><td>Spitzer Space Telescope</td><td>MIPS</td><td>noise</td><td>3</td><td>image</td><td>MIPS24</td><td>Infrared</td><td>40019821.40019821-13.MIPS</td><td>6.0</td><td>2.08e-05</td><td>2.61e-05</td><td>4.5</td><td>Spitzer Enhanced Imaging Products</td><td>https://irsa.ipac.caltech.edu/data/SPITZER/Enhanced/SEIP/images/4/0019/40019821/3/40019821-13/40019821.40019821-13.MIPS.1.std.fits</td><td>image/fits</td><td>2544</td><td>--</td><td>POLYGON ICRS 315.0377119 77.538868 315.0949554 78.3071067 313.2110739 78.307107 313.2683115 77.5388683 315.0377119 77.538868</td><td>spitzer_seip</td><td>science</td><td>mosaic</td><td></td><td></td><td>--</td><td></td><td></td><td>Spitzer</td><td></td><td>field</td><td>False</td><td>False</td><td></td><td>2013-12-19 00:00:00</td><td>561</td><td>1129</td><td>2.4500016000000002</td><td>False</td><td>--</td><td>--</td><td>--</td><td>--</td><td>ivo://irsa.ipac/spitzer_seip/40019821.40019821-13.MIPS</td><td>0.541616976931299</td><td>--</td><td></td><td>--</td><td>{&quot;aws&quot;: {&quot;bucket_name&quot;: &quot;nasa-irsa-spitzer&quot;, &quot;key&quot;:&quot;spitzer/seip/seip_science/images/4/0019/40019821/3/40019821-13/40019821.40019821-13.MIPS.1.std.fits&quot;, &quot;region&quot;: &quot;us-west-2&quot;}}</td><td></td><td>1</td></tr>\n",
       "<tr><td>314.1546397</td><td>77.9241351</td><td>Spitzer Space Telescope</td><td>MIPS</td><td>weight</td><td>3</td><td>image</td><td>MIPS24</td><td>Infrared</td><td>40019821.40019821-13.MIPS</td><td>6.0</td><td>2.08e-05</td><td>2.61e-05</td><td>4.5</td><td>Spitzer Enhanced Imaging Products</td><td>https://irsa.ipac.caltech.edu/data/SPITZER/Enhanced/SEIP/images/4/0019/40019821/3/40019821-13/40019821.40019821-13.MIPS.1.cov.fits</td><td>image/fits</td><td>2544</td><td>--</td><td>POLYGON ICRS 315.0377119 77.538868 315.0949554 78.3071067 313.2110739 78.307107 313.2683115 77.5388683 315.0377119 77.538868</td><td>spitzer_seip</td><td>science</td><td>mosaic</td><td></td><td></td><td>--</td><td></td><td></td><td>Spitzer</td><td></td><td>field</td><td>False</td><td>False</td><td></td><td>2013-12-19 00:00:00</td><td>561</td><td>1129</td><td>2.4500016000000002</td><td>False</td><td>--</td><td>--</td><td>--</td><td>--</td><td>ivo://irsa.ipac/spitzer_seip/40019821.40019821-13.MIPS</td><td>0.541616976931299</td><td>--</td><td></td><td>--</td><td>{&quot;aws&quot;: {&quot;bucket_name&quot;: &quot;nasa-irsa-spitzer&quot;, &quot;key&quot;:&quot;spitzer/seip/seip_science/images/4/0019/40019821/3/40019821-13/40019821.40019821-13.MIPS.1.cov.fits&quot;, &quot;region&quot;: &quot;us-west-2&quot;}}</td><td></td><td>1</td></tr>\n",
       "<tr><td>314.1546397</td><td>77.9241351</td><td>Spitzer Space Telescope</td><td>MIPS</td><td>noise</td><td>3</td><td>image</td><td>MIPS24</td><td>Infrared</td><td>40019821.40019821-13.MIPS</td><td>6.0</td><td>2.08e-05</td><td>2.61e-05</td><td>4.5</td><td>Spitzer Enhanced Imaging Products</td><td>https://irsa.ipac.caltech.edu/data/SPITZER/Enhanced/SEIP/images/4/0019/40019821/3/40019821-13/40019821.40019821-13.MIPS.1.unc.fits</td><td>image/fits</td><td>2544</td><td>--</td><td>POLYGON ICRS 315.0377119 77.538868 315.0949554 78.3071067 313.2110739 78.307107 313.2683115 77.5388683 315.0377119 77.538868</td><td>spitzer_seip</td><td>science</td><td>mosaic</td><td></td><td></td><td>--</td><td></td><td></td><td>Spitzer</td><td></td><td>field</td><td>False</td><td>False</td><td></td><td>2013-12-19 00:00:00</td><td>561</td><td>1129</td><td>2.4500016000000002</td><td>False</td><td>--</td><td>--</td><td>--</td><td>--</td><td>ivo://irsa.ipac/spitzer_seip/40019821.40019821-13.MIPS</td><td>0.541616976931299</td><td>--</td><td></td><td>--</td><td>{&quot;aws&quot;: {&quot;bucket_name&quot;: &quot;nasa-irsa-spitzer&quot;, &quot;key&quot;:&quot;spitzer/seip/seip_science/images/4/0019/40019821/3/40019821-13/40019821.40019821-13.MIPS.1.unc.fits&quot;, &quot;region&quot;: &quot;us-west-2&quot;}}</td><td></td><td>1</td></tr>\n",
       "<tr><td>314.1546397</td><td>77.9241351</td><td>Spitzer Space Telescope</td><td>MIPS</td><td>science</td><td>3</td><td>image</td><td>MIPS24</td><td>Infrared</td><td>40019821.40019821-13.MIPS</td><td>6.0</td><td>2.08e-05</td><td>2.61e-05</td><td>4.5</td><td>Spitzer Enhanced Imaging Products</td><td>https://irsa.ipac.caltech.edu/data/SPITZER/Enhanced/SEIP/images/4/0019/40019821/3/40019821-13/40019821.40019821-13.MIPS.1.mosaic.fits</td><td>image/fits</td><td>2544</td><td>--</td><td>POLYGON ICRS 315.0377119 77.538868 315.0949554 78.3071067 313.2110739 78.307107 313.2683115 77.5388683 315.0377119 77.538868</td><td>spitzer_seip</td><td>science</td><td>mosaic</td><td></td><td></td><td>--</td><td></td><td></td><td>Spitzer</td><td></td><td>field</td><td>False</td><td>False</td><td></td><td>2013-12-19 00:00:00</td><td>561</td><td>1129</td><td>2.4500016000000002</td><td>False</td><td>--</td><td>--</td><td>--</td><td>--</td><td>ivo://irsa.ipac/spitzer_seip/40019821.40019821-13.MIPS</td><td>0.541616976931299</td><td>--</td><td></td><td>--</td><td>{&quot;aws&quot;: {&quot;bucket_name&quot;: &quot;nasa-irsa-spitzer&quot;, &quot;key&quot;:&quot;spitzer/seip/seip_science/images/4/0019/40019821/3/40019821-13/40019821.40019821-13.MIPS.1.mosaic.fits&quot;, &quot;region&quot;: &quot;us-west-2&quot;}}</td><td></td><td>1</td></tr>\n",
       "<tr><td>314.1546397</td><td>77.9241351</td><td>Spitzer Space Telescope</td><td>MIPS</td><td>auxiliary</td><td>3</td><td>image</td><td>MIPS24</td><td>Infrared</td><td>40019821.40019821-13.MIPS</td><td>6.0</td><td>2.08e-05</td><td>2.61e-05</td><td>4.5</td><td>Spitzer Enhanced Imaging Products</td><td>https://irsa.ipac.caltech.edu/data/SPITZER/Enhanced/SEIP/images/4/0019/40019821/3/40019821-13/40019821.40019821-13.MIPS.1.extmask.fits</td><td>image/fits</td><td>643</td><td>--</td><td>POLYGON ICRS 315.0377119 77.538868 315.0949554 78.3071067 313.2110739 78.307107 313.2683115 77.5388683 315.0377119 77.538868</td><td>spitzer_seip</td><td>science</td><td>mosaic</td><td></td><td></td><td>--</td><td></td><td></td><td>Spitzer</td><td></td><td>field</td><td>False</td><td>False</td><td></td><td>2013-12-19 00:00:00</td><td>561</td><td>1129</td><td>2.4500016000000002</td><td>False</td><td>--</td><td>--</td><td>--</td><td>--</td><td>ivo://irsa.ipac/spitzer_seip/40019821.40019821-13.MIPS</td><td>0.541616976931299</td><td>--</td><td></td><td>--</td><td>{&quot;aws&quot;: {&quot;bucket_name&quot;: &quot;nasa-irsa-spitzer&quot;, &quot;key&quot;:&quot;spitzer/seip/seip_science/images/4/0019/40019821/3/40019821-13/40019821.40019821-13.MIPS.1.extmask.fits&quot;, &quot;region&quot;: &quot;us-west-2&quot;}}</td><td></td><td>1</td></tr>\n",
       "<tr><td>314.1546397</td><td>77.9241351</td><td>Spitzer Space Telescope</td><td>MIPS</td><td>noise</td><td>3</td><td>image</td><td>MIPS24</td><td>Infrared</td><td>40019821.40019821-13.MIPS</td><td>6.0</td><td>2.08e-05</td><td>2.61e-05</td><td>4.5</td><td>Spitzer Enhanced Imaging Products</td><td>https://irsa.ipac.caltech.edu/data/SPITZER/Enhanced/SEIP/images/4/0019/40019821/3/40019821-13/40019821.40019821-13.MIPS.1.std.fits</td><td>image/fits</td><td>2544</td><td>--</td><td>POLYGON ICRS 315.0377119 77.538868 315.0949554 78.3071067 313.2110739 78.307107 313.2683115 77.5388683 315.0377119 77.538868</td><td>spitzer_seip</td><td>science</td><td>mosaic</td><td></td><td></td><td>--</td><td></td><td></td><td>Spitzer</td><td></td><td>field</td><td>False</td><td>False</td><td></td><td>2013-12-19 00:00:00</td><td>561</td><td>1129</td><td>2.4500016000000002</td><td>False</td><td>--</td><td>--</td><td>--</td><td>--</td><td>ivo://irsa.ipac/spitzer_seip/40019821.40019821-13.MIPS</td><td>0.541616976931299</td><td>--</td><td></td><td>--</td><td>{&quot;aws&quot;: {&quot;bucket_name&quot;: &quot;nasa-irsa-spitzer&quot;, &quot;key&quot;:&quot;spitzer/seip/seip_science/images/4/0019/40019821/3/40019821-13/40019821.40019821-13.MIPS.1.std.fits&quot;, &quot;region&quot;: &quot;us-west-2&quot;}}</td><td></td><td>1</td></tr>\n",
       "<tr><td>314.1546397</td><td>77.9241351</td><td>Spitzer Space Telescope</td><td>MIPS</td><td>auxiliary</td><td>3</td><td>image</td><td>MIPS24</td><td>Infrared</td><td>40019821.40019821-13.MIPS</td><td>6.0</td><td>2.08e-05</td><td>2.61e-05</td><td>4.5</td><td>Spitzer Enhanced Imaging Products</td><td>https://irsa.ipac.caltech.edu/data/SPITZER/Enhanced/SEIP/images/4/0019/40019821/3/40019821-13/40019821.40019821-13.MIPS.1.brightmask.fits</td><td>image/fits</td><td>643</td><td>--</td><td>POLYGON ICRS 315.0377119 77.538868 315.0949554 78.3071067 313.2110739 78.307107 313.2683115 77.5388683 315.0377119 77.538868</td><td>spitzer_seip</td><td>science</td><td>mosaic</td><td></td><td></td><td>--</td><td></td><td></td><td>Spitzer</td><td></td><td>field</td><td>False</td><td>False</td><td></td><td>2013-12-19 00:00:00</td><td>561</td><td>1129</td><td>2.4500016000000002</td><td>False</td><td>--</td><td>--</td><td>--</td><td>--</td><td>ivo://irsa.ipac/spitzer_seip/40019821.40019821-13.MIPS</td><td>0.541616976931299</td><td>--</td><td></td><td>--</td><td>{&quot;aws&quot;: {&quot;bucket_name&quot;: &quot;nasa-irsa-spitzer&quot;, &quot;key&quot;:&quot;spitzer/seip/seip_science/images/4/0019/40019821/3/40019821-13/40019821.40019821-13.MIPS.1.brightmask.fits&quot;, &quot;region&quot;: &quot;us-west-2&quot;}}</td><td></td><td>1</td></tr>\n",
       "<tr><td>314.1546397</td><td>77.9241351</td><td>Spitzer Space Telescope</td><td>MIPS</td><td>weight</td><td>3</td><td>image</td><td>MIPS24</td><td>Infrared</td><td>40019821.40019821-13.MIPS</td><td>6.0</td><td>2.08e-05</td><td>2.61e-05</td><td>4.5</td><td>Spitzer Enhanced Imaging Products</td><td>https://irsa.ipac.caltech.edu/data/SPITZER/Enhanced/SEIP/images/4/0019/40019821/3/40019821-13/40019821.40019821-13.MIPS.1.cov.fits</td><td>image/fits</td><td>2544</td><td>--</td><td>POLYGON ICRS 315.0377119 77.538868 315.0949554 78.3071067 313.2110739 78.307107 313.2683115 77.5388683 315.0377119 77.538868</td><td>spitzer_seip</td><td>science</td><td>mosaic</td><td></td><td></td><td>--</td><td></td><td></td><td>Spitzer</td><td></td><td>field</td><td>False</td><td>False</td><td></td><td>2013-12-19 00:00:00</td><td>561</td><td>1129</td><td>2.4500016000000002</td><td>False</td><td>--</td><td>--</td><td>--</td><td>--</td><td>ivo://irsa.ipac/spitzer_seip/40019821.40019821-13.MIPS</td><td>0.541616976931299</td><td>--</td><td></td><td>--</td><td>{&quot;aws&quot;: {&quot;bucket_name&quot;: &quot;nasa-irsa-spitzer&quot;, &quot;key&quot;:&quot;spitzer/seip/seip_science/images/4/0019/40019821/3/40019821-13/40019821.40019821-13.MIPS.1.cov.fits&quot;, &quot;region&quot;: &quot;us-west-2&quot;}}</td><td></td><td>1</td></tr>\n",
       "</table></div>"
      ],
      "text/plain": [
       "<Table length=328>\n",
       "    s_ra      s_dec         facility_name      ... o_ucd  upload_row_id\n",
       "    deg        deg                             ...                     \n",
       "  float64    float64            object         ... object     int64    \n",
       "----------- ---------- ----------------------- ... ------ -------------\n",
       "314.7482131 77.4212892 Spitzer Space Telescope ...                    1\n",
       "314.7482131 77.4212892 Spitzer Space Telescope ...                    1\n",
       "314.7482131 77.4212892 Spitzer Space Telescope ...                    1\n",
       "314.7482131 77.4212892 Spitzer Space Telescope ...                    1\n",
       "314.7482131 77.4212892 Spitzer Space Telescope ...                    1\n",
       "314.7482131 77.4212892 Spitzer Space Telescope ...                    1\n",
       "314.7482131 77.4212892 Spitzer Space Telescope ...                    1\n",
       "314.7482131 77.4212892 Spitzer Space Telescope ...                    1\n",
       "314.7482131 77.4212892 Spitzer Space Telescope ...                    1\n",
       "        ...        ...                     ... ...    ...           ...\n",
       "314.1546397 77.9241351 Spitzer Space Telescope ...                    1\n",
       "314.1546397 77.9241351 Spitzer Space Telescope ...                    1\n",
       "314.1546397 77.9241351 Spitzer Space Telescope ...                    1\n",
       "314.1546397 77.9241351 Spitzer Space Telescope ...                    1\n",
       "314.1546397 77.9241351 Spitzer Space Telescope ...                    1\n",
       "314.1546397 77.9241351 Spitzer Space Telescope ...                    1\n",
       "314.1546397 77.9241351 Spitzer Space Telescope ...                    1\n",
       "314.1546397 77.9241351 Spitzer Space Telescope ...                    1\n",
       "314.1546397 77.9241351 Spitzer Space Telescope ...                    1"
      ]
     },
     "execution_count": 7,
     "metadata": {},
     "output_type": "execute_result"
    }
   ],
   "source": [
    "im_table.to_table()"
   ]
  },
  {
   "cell_type": "markdown",
   "id": "ad998a6b",
   "metadata": {},
   "source": [
    "## Section 4 - Locate and download an image of interest"
   ]
  },
  {
   "cell_type": "markdown",
   "id": "a53fe651",
   "metadata": {},
   "source": [
    "Let's search the image results for a short-exposure IRAC Ch3 mosaic."
   ]
  },
  {
   "cell_type": "code",
   "execution_count": 8,
   "id": "cd7393d0",
   "metadata": {},
   "outputs": [
    {
     "name": "stdout",
     "output_type": "stream",
     "text": [
      "https://irsa.ipac.caltech.edu/data/SPITZER/Enhanced/SEIP/images/4/0019/40019821/9/40019821-9/40019821.40019821-9-short.IRAC.3.mosaic.fits\n"
     ]
    }
   ],
   "source": [
    "for i in range(len(im_table)):\n",
    "    if im_table[i].getdataurl().endswith('short.IRAC.3.mosaic.fits'):\n",
    "        break\n",
    "print(im_table[i].getdataurl())"
   ]
  },
  {
   "cell_type": "markdown",
   "id": "ae89cdd1",
   "metadata": {},
   "source": [
    "Download the image and open it in Astropy"
   ]
  },
  {
   "cell_type": "code",
   "execution_count": 9,
   "id": "2013f7e4",
   "metadata": {},
   "outputs": [],
   "source": [
    "fname = download_file(im_table[i].getdataurl(), cache=True)\n",
    "image1 = fits.open(fname)"
   ]
  },
  {
   "cell_type": "markdown",
   "id": "2dc93092",
   "metadata": {},
   "source": [
    "## Section 5 - Extract a cutout and plot it"
   ]
  },
  {
   "cell_type": "code",
   "execution_count": 10,
   "id": "19e50d05",
   "metadata": {},
   "outputs": [],
   "source": [
    "wcs = WCS(image1[0].header)"
   ]
  },
  {
   "cell_type": "code",
   "execution_count": 11,
   "id": "3cc8bded",
   "metadata": {},
   "outputs": [],
   "source": [
    "cutout = Cutout2D(image1[0].data, pos, (60, 60), wcs=wcs)\n",
    "wcs = cutout.wcs"
   ]
  },
  {
   "cell_type": "code",
   "execution_count": 12,
   "id": "71ad971d",
   "metadata": {},
   "outputs": [
    {
     "data": {
      "text/plain": [
       "<matplotlib.collections.PathCollection at 0x7f5e0b2b6ed0>"
      ]
     },
     "execution_count": 12,
     "metadata": {},
     "output_type": "execute_result"
    },
    {
     "data": {
      "image/png": "[encoded data removed]",
      "text/plain": [
       "<Figure size 640x480 with 1 Axes>"
      ]
     },
     "metadata": {},
     "output_type": "display_data"
    }
   ],
   "source": [
    "fig = plt.figure()\n",
    "\n",
    "ax = fig.add_subplot(1, 1, 1, projection=wcs)\n",
    "ax.imshow(cutout.data, cmap='gray_r', origin='lower', vmax = 10)\n",
    "ax.scatter(ra, dec, transform=ax.get_transform('fk5'), s=500, edgecolor='red', facecolor='none')"
   ]
  },
  {
   "cell_type": "markdown",
   "id": "0880cae6",
   "metadata": {},
   "source": [
    "## Exercise\n",
    "\n",
    "Search the SEIP Source List using IRSA [Gator service](https://irsa.ipac.caltech.edu/cgi-bin/Gator/nph-scan?projshort=SPITZER), find an object of interest and repeat the steps above to extract cutouts in all four IRAC bands."
   ]
  },
  {
   "cell_type": "code",
   "execution_count": null,
   "id": "b86a90a1",
   "metadata": {},
   "outputs": [],
   "source": []
  },
  {
   "cell_type": "markdown",
   "id": "8b6d0768",
   "metadata": {},
   "source": [
    "***"
   ]
  },
  {
   "cell_type": "markdown",
   "id": "e76abb89",
   "metadata": {},
   "source": [
    "## About this notebook"
   ]
  },
  {
   "cell_type": "markdown",
   "id": "46a4be29",
   "metadata": {},
   "source": [
    "**Author:** David Shupe, IRSA Scientist, and the IRSA Science Team\n",
    "\n",
    "**Updated:** 2022-02-14\n",
    "\n",
    "**Contact:** [the IRSA Helpdesk](https://irsa.ipac.caltech.edu/docs/help_desk.html) with questions or reporting problems."
   ]
  },
  {
   "cell_type": "markdown",
   "id": "bfd46058",
   "metadata": {},
   "source": [
    "## Citations"
   ]
  },
  {
   "cell_type": "markdown",
   "id": "473426c3",
   "metadata": {},
   "source": [
    "If you use `astropy` for published research, please cite the authors. Follow these links for more information about citing `astropy`:\n",
    "\n",
    "* [Citing `astropy`](https://www.astropy.org/acknowledging.html)"
   ]
  },
  {
   "cell_type": "markdown",
   "id": "8e7290b7",
   "metadata": {},
   "source": [
    "If you use SEIP data in published research,  please cite the dataset Digital Object Identifier (DOI): [10.26131/IRSA433](https://www.ipac.caltech.edu/doi/irsa/10.26131/IRSA433)."
   ]
  }
 ],
 "metadata": {
  "jupytext": {
   "text_representation": {
    "extension": ".md",
    "format_name": "myst",
    "format_version": 0.13,
    "jupytext_version": "1.16.2"
   }
  },
  "kernelspec": {
   "display_name": "Python 3 (ipykernel)",
   "language": "python",
   "name": "python3"
  },
  "language_info": {
   "codemirror_mode": {
    "name": "ipython",
    "version": 3
   },
   "file_extension": ".py",
   "mimetype": "text/x-python",
   "name": "python",
   "nbconvert_exporter": "python",
   "pygments_lexer": "ipython3",
   "version": "3.11.10"
  },
  "source_map": [
   12,
   16,
   20,
   24,
   35,
   49,
   62,
   67,
   76,
   80,
   84,
   86,
   90,
   94,
   98,
   106,
   110,
   112,
   116,
   120,
   123,
   127,
   129,
   133,
   137,
   142,
   146,
   149,
   153,
   157,
   162,
   168,
   174,
   176,
   180,
   184,
   192,
   196,
   202
  ]
 },
 "nbformat": 4,
 "nbformat_minor": 5
}