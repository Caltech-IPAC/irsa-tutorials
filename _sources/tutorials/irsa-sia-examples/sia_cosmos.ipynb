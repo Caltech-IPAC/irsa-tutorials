{
 "cells": [
  {
   "cell_type": "markdown",
   "id": "eaa216a4",
   "metadata": {},
   "source": [
    "# Searching for contributed COSMOS images"
   ]
  },
  {
   "cell_type": "markdown",
   "id": "b9317952",
   "metadata": {},
   "source": [
    "This notebook tutorial demonstrates the process of querying IRSA's Simple Image Access (SIA) service for the COSMOS images, making a cutout image (thumbnail), and displaying the cutout."
   ]
  },
  {
   "cell_type": "markdown",
   "id": "4211b16b",
   "metadata": {},
   "source": [
    "***"
   ]
  },
  {
   "cell_type": "markdown",
   "id": "535477cc",
   "metadata": {},
   "source": [
    "## Learning Goals\n",
    "\n",
    "By the end of this tutorial, you will:\n",
    "\n",
    "* Learn how to search the NASA Astronomical Virtual Observatory Directory web portal for a service that provides access to IRSA's COSMOS images.\n",
    "* Use the Python pyvo package to identify which of IRSA's COSMOS images cover a specified coordinate.\n",
    "* Download one of the identified images.\n",
    "* Create and display a cutout of the downloaded image."
   ]
  },
  {
   "cell_type": "markdown",
   "id": "cd70e027",
   "metadata": {
    "jp-MarkdownHeadingCollapsed": true
   },
   "source": [
    "## Introduction\n",
    "\n",
    "The COSMOS Archive serves data taken for the Cosmic Evolution Survey with HST (COSMOS) project, using IRSA's general search service, Atlas. COSMOS is an HST Treasury Project to survey a 2 square degree equatorial field with the ACS camera. For more information about COSMOS, see:\n",
    "\n",
    "https://irsa.ipac.caltech.edu/Missions/cosmos.html\n",
    "\n",
    "The [NASA/IPAC Infrared Science Archive (IRSA)](https://irsa.ipac.caltech.edu) at Caltech is one of the archives for COSMOS images and catalogs. The COSMOS images that are the subject of this tutorial are made accessible via the [International Virtual Observatory Alliance (IVOA)](https://ivoa.net) [Simple Image Access (SIA)](https://wiki.ivoa.net/internal/IVOA/SiaInterface/SIA-V2-Analysis.pdf) protocol. IRSA's SEIP SIA service is registered in the NASA Astronomical Virtual Observatory (NAVO) [Directory](https://vao.stsci.edu). Based on the registered information, the Python package [pyvo](https://pyvo.readthedocs.io) can be used to query the SIA service for a list of images that meet specified criteria, and standard Python libraries can be used to download and manipulate the images.\n",
    "Other datasets at IRSA are available through other SIA services:\n",
    "\n",
    "https://irsa.ipac.caltech.edu/docs/program_interface/api_images.html"
   ]
  },
  {
   "cell_type": "markdown",
   "id": "6473655f",
   "metadata": {},
   "source": [
    "## Imports\n",
    "\n",
    "- *pyvo* for querying IRSA's COSMOS SIA service\n",
    "- *astropy.coordinates* for defining coordinates\n",
    "- *astropy.nddata* for creating an image cutout\n",
    "- *astropy.wcs* for interpreting the World Coordinate System header keywords of a fits file\n",
    "- *astropy.units* for attaching units to numbers passed to the SIA service\n",
    "- *matplotlib.pyplot* for plotting\n",
    "- *astropy.utils.data* for downloading files\n",
    "- *astropy.io* to manipulate FITS files"
   ]
  },
  {
   "cell_type": "code",
   "execution_count": 1,
   "id": "0aea331e",
   "metadata": {},
   "outputs": [],
   "source": [
    "# Uncomment the next line to install dependencies if needed.\n",
    "# !pip install matplotlib astropy pyvo"
   ]
  },
  {
   "cell_type": "code",
   "execution_count": 2,
   "id": "d8285a73",
   "metadata": {},
   "outputs": [],
   "source": [
    "import pyvo as vo\n",
    "from astropy.coordinates import SkyCoord\n",
    "from astropy.nddata import Cutout2D\n",
    "from astropy.wcs import WCS\n",
    "import astropy.units as u\n",
    "import matplotlib.pyplot as plt\n",
    "from astropy.utils.data import download_file\n",
    "from astropy.io import fits"
   ]
  },
  {
   "cell_type": "markdown",
   "id": "161dbbd3",
   "metadata": {},
   "source": [
    "## Section 1 - Setup"
   ]
  },
  {
   "cell_type": "markdown",
   "id": "7d8e23aa",
   "metadata": {},
   "source": [
    "Set images to display in the notebook"
   ]
  },
  {
   "cell_type": "code",
   "execution_count": 3,
   "id": "6926c398",
   "metadata": {},
   "outputs": [],
   "source": [
    "%matplotlib inline"
   ]
  },
  {
   "cell_type": "markdown",
   "id": "d39fd0ef",
   "metadata": {},
   "source": [
    "Define coordinates of a bright source"
   ]
  },
  {
   "cell_type": "code",
   "execution_count": 4,
   "id": "1367345c",
   "metadata": {},
   "outputs": [],
   "source": [
    "ra = 149.99986\n",
    "dec = 2.24875\n",
    "pos = SkyCoord(ra=ra, dec=dec, unit='deg')"
   ]
  },
  {
   "cell_type": "markdown",
   "id": "83be726a",
   "metadata": {},
   "source": [
    "## Section 2 - Lookup and define a service for COSMOS images"
   ]
  },
  {
   "cell_type": "markdown",
   "id": "c5096beb",
   "metadata": {},
   "source": [
    "Start at STScI VAO Registry at https://vao.stsci.edu/keyword-search/\n",
    "\n",
    "Limit by Publisher \"NASA/IPAC Infrared Science Archive\" and Capability Type \"Simple Image Access Protocol\" then search on \"COSMOS\"\n",
    "\n",
    "Locate the SIA2 URL https://irsa.ipac.caltech.edu/cgi-bin/Atlas/nph-atlas?mission=COSMOS&hdr_location=%5CCOSMOSDataPath%5C&collection_desc=Cosmic+Evolution+Survey+with+HST+%28COSMOS%29&SIAP_ACTIVE=1&"
   ]
  },
  {
   "cell_type": "code",
   "execution_count": 5,
   "id": "326efa36",
   "metadata": {},
   "outputs": [],
   "source": [
    "cosmos_service = vo.dal.SIAService(\"https://irsa.ipac.caltech.edu/cgi-bin/Atlas/nph-atlas?mission=COSMOS&hdr_location=%5CCOSMOSDataPath%5C&collection_desc=Cosmic+Evolution+Survey+with+HST+%28COSMOS%29&SIAP_ACTIVE=1&\")"
   ]
  },
  {
   "cell_type": "markdown",
   "id": "20042108",
   "metadata": {},
   "source": [
    "## Section 3 - Search the service"
   ]
  },
  {
   "cell_type": "markdown",
   "id": "c27b1ecc",
   "metadata": {},
   "source": [
    "Search for images covering within 1 arcsecond of the star"
   ]
  },
  {
   "cell_type": "code",
   "execution_count": 6,
   "id": "833e51ad",
   "metadata": {},
   "outputs": [],
   "source": [
    "im_table = cosmos_service.search(pos=pos, size=1.0*u.arcsec)"
   ]
  },
  {
   "cell_type": "markdown",
   "id": "da44c9c2",
   "metadata": {},
   "source": [
    "Inspect the table of images that is returned"
   ]
  },
  {
   "cell_type": "code",
   "execution_count": 7,
   "id": "8eeadbf4",
   "metadata": {},
   "outputs": [
    {
     "data": {
      "text/plain": [
       "<DALResultsTable length=279>\n",
       "   ra   ...\n",
       "  deg   ...\n",
       "float64 ...\n",
       "------- ...\n",
       "150.014 ...\n",
       "150.022 ...\n",
       "150.014 ...\n",
       "150.022 ...\n",
       "149.977 ...\n",
       "149.977 ...\n",
       "150.061 ...\n",
       "150.061 ...\n",
       "150.116 ...\n",
       "    ... ...\n",
       "150.061 ...\n",
       "150.061 ...\n",
       "150.061 ...\n",
       "150.061 ...\n",
       "150.061 ...\n",
       "150.061 ...\n",
       "150.061 ...\n",
       "150.061 ...\n",
       "149.995 ..."
      ]
     },
     "execution_count": 7,
     "metadata": {},
     "output_type": "execute_result"
    }
   ],
   "source": [
    "im_table"
   ]
  },
  {
   "cell_type": "code",
   "execution_count": 8,
   "id": "20f7cdbc",
   "metadata": {},
   "outputs": [
    {
     "data": {
      "text/plain": [
       "['ra',\n",
       " 'dec',\n",
       " 'cra',\n",
       " 'cdec',\n",
       " 'naxis1',\n",
       " 'naxis2',\n",
       " 'ctype1',\n",
       " 'ctype2',\n",
       " 'crval1',\n",
       " 'crval2',\n",
       " 'crpix1',\n",
       " 'crpix2',\n",
       " 'cdelt1',\n",
       " 'cdelt2',\n",
       " 'crota2',\n",
       " 'ra1',\n",
       " 'dec1',\n",
       " 'ra2',\n",
       " 'dec2',\n",
       " 'ra3',\n",
       " 'dec3',\n",
       " 'ra4',\n",
       " 'dec4',\n",
       " 'equinox',\n",
       " 'hdu',\n",
       " 'facility_name',\n",
       " 'instrument_name',\n",
       " 'dataproduct_type',\n",
       " 'file_type',\n",
       " 'band_name',\n",
       " 'wavelength',\n",
       " 'access_estsize',\n",
       " 's_fov',\n",
       " 'tile',\n",
       " 'fname',\n",
       " 'dataset',\n",
       " 'cutout',\n",
       " 'sia_desc',\n",
       " 'sia_naxes',\n",
       " 'sia_naxis',\n",
       " 'sia_scale',\n",
       " 'sia_cdmatrix',\n",
       " 'sia_format',\n",
       " 'sia_url']"
      ]
     },
     "execution_count": 8,
     "metadata": {},
     "output_type": "execute_result"
    }
   ],
   "source": [
    "im_table.to_table().colnames"
   ]
  },
  {
   "cell_type": "markdown",
   "id": "ee9f2057",
   "metadata": {},
   "source": [
    "View the first ten entries of the table"
   ]
  },
  {
   "cell_type": "code",
   "execution_count": 9,
   "id": "2900b5cf",
   "metadata": {},
   "outputs": [
    {
     "data": {
      "text/html": [
       "<div><i>Table length=10</i>\n",
       "<table id=\"table140645787912336\" class=\"table-striped table-bordered table-condensed\">\n",
       "<thead><tr><th>ra</th><th>dec</th><th>cra</th><th>cdec</th><th>naxis1</th><th>naxis2</th><th>ctype1</th><th>ctype2</th><th>crval1</th><th>crval2</th><th>crpix1</th><th>crpix2</th><th>cdelt1</th><th>cdelt2</th><th>crota2</th><th>ra1</th><th>dec1</th><th>ra2</th><th>dec2</th><th>ra3</th><th>dec3</th><th>ra4</th><th>dec4</th><th>equinox</th><th>hdu</th><th>facility_name</th><th>instrument_name</th><th>dataproduct_type</th><th>file_type</th><th>band_name</th><th>wavelength</th><th>access_estsize</th><th>s_fov</th><th>tile</th><th>fname</th><th>dataset</th><th>cutout</th><th>sia_desc</th><th>sia_naxes</th><th>sia_naxis</th><th>sia_scale</th><th>sia_cdmatrix</th><th>sia_format</th><th>sia_url</th></tr></thead>\n",
       "<thead><tr><th>deg</th><th>deg</th><th></th><th></th><th></th><th></th><th></th><th></th><th></th><th></th><th></th><th></th><th></th><th></th><th></th><th></th><th></th><th></th><th></th><th></th><th></th><th></th><th></th><th></th><th></th><th></th><th></th><th></th><th></th><th></th><th></th><th></th><th></th><th></th><th></th><th></th><th></th><th></th><th></th><th></th><th></th><th></th><th></th><th></th></tr></thead>\n",
       "<thead><tr><th>float64</th><th>float64</th><th>object</th><th>object</th><th>int32</th><th>int32</th><th>object</th><th>object</th><th>float64</th><th>float64</th><th>float64</th><th>float64</th><th>float64</th><th>float64</th><th>float64</th><th>float64</th><th>float64</th><th>float64</th><th>float64</th><th>float64</th><th>float64</th><th>float64</th><th>float64</th><th>float64</th><th>int32</th><th>object</th><th>object</th><th>object</th><th>object</th><th>object</th><th>float64</th><th>int32</th><th>float64</th><th>int32</th><th>object</th><th>object</th><th>object</th><th>object</th><th>int32</th><th>object</th><th>object</th><th>object</th><th>object</th><th>object</th></tr></thead>\n",
       "<tr><td>150.014</td><td>2.224</td><td>10h 00m 03.41s</td><td>+02d 13m 27.3s</td><td>7500</td><td>7500</td><td>RA---TAN</td><td>DEC--TAN</td><td>150.0142269</td><td>2.224247</td><td>3750.0</td><td>3750.0</td><td>-8.3333333333e-06</td><td>8.3333333333e-06</td><td>260.2377156</td><td>149.9781089</td><td>2.1987513</td><td>150.0397491</td><td>2.188154</td><td>150.0503559</td><td>2.2497487</td><td>149.9887132</td><td>2.2603465</td><td>2000.0</td><td>0</td><td>HST</td><td>ACS</td><td>image</td><td>science</td><td>I</td><td>8.0874e-07</td><td>225043</td><td>0.0625</td><td>-99</td><td>images/acs_2.0/I/acs_I_100003+0213_unrot_sci_20.fits</td><td>HST-ACS</td><td>YES</td><td>Cosmic Evolution Survey with HST (COSMOS)</td><td>2</td><td>[7500 7500]</td><td>[-8.3333333333e-06 8.3333333333e-06]</td><td>[-8.33333e-06 -0.0 -0.0 8.33333e-06]</td><td>image/fits</td><td>https://irsa.ipac.caltech.edu:443/cgi-bin/Subimage/nph-subimage?origfile=/irsadata/COSMOS//images%2Facs_2.0%2FI%2Facs_I_100003%2B0213_unrot_sci_20.fits&amp;ra=149.999860&amp;dec=2.248750&amp;xsize=0.000278</td></tr>\n",
       "<tr><td>150.022</td><td>2.276</td><td>10h 00m 05.35s</td><td>+02d 16m 32.8s</td><td>7500</td><td>7500</td><td>RA---TAN</td><td>DEC--TAN</td><td>150.0223083</td><td>2.2757825</td><td>3750.0</td><td>3750.0</td><td>-8.3333333333e-06</td><td>8.3333333333e-06</td><td>260.2376781</td><td>149.9861889</td><td>2.2502868</td><td>150.0478312</td><td>2.2396894</td><td>150.0584385</td><td>2.3012841</td><td>149.9967936</td><td>2.3118819</td><td>2000.0</td><td>0</td><td>HST</td><td>ACS</td><td>image</td><td>science</td><td>I</td><td>8.0874e-07</td><td>225043</td><td>0.0625</td><td>-99</td><td>images/acs_2.0/I/acs_I_100005+0216_unrot_sci_20.fits</td><td>HST-ACS</td><td>YES</td><td>Cosmic Evolution Survey with HST (COSMOS)</td><td>2</td><td>[7500 7500]</td><td>[-8.3333333333e-06 8.3333333333e-06]</td><td>[-8.33333e-06 -0.0 -0.0 8.33333e-06]</td><td>image/fits</td><td>https://irsa.ipac.caltech.edu:443/cgi-bin/Subimage/nph-subimage?origfile=/irsadata/COSMOS//images%2Facs_2.0%2FI%2Facs_I_100005%2B0216_unrot_sci_20.fits&amp;ra=149.999860&amp;dec=2.248750&amp;xsize=0.000278</td></tr>\n",
       "<tr><td>150.014</td><td>2.224</td><td>10h 00m 03.41s</td><td>+02d 13m 27.3s</td><td>7500</td><td>7500</td><td>RA---TAN</td><td>DEC--TAN</td><td>150.0142269</td><td>2.224247</td><td>3750.0</td><td>3750.0</td><td>-8.3333333333e-06</td><td>8.3333333333e-06</td><td>260.2377156</td><td>149.9781089</td><td>2.1987513</td><td>150.0397491</td><td>2.188154</td><td>150.0503559</td><td>2.2497487</td><td>149.9887132</td><td>2.2603465</td><td>2000.0</td><td>0</td><td>HST</td><td>ACS</td><td>image</td><td>weight</td><td>I</td><td>8.0874e-07</td><td>225043</td><td>0.0625</td><td>-99</td><td>images/acs_2.0/I/acs_I_100003+0213_unrot_wht_20.fits</td><td>HST-ACS</td><td>YES</td><td>Cosmic Evolution Survey with HST (COSMOS)</td><td>2</td><td>[7500 7500]</td><td>[-8.3333333333e-06 8.3333333333e-06]</td><td>[-8.33333e-06 -0.0 -0.0 8.33333e-06]</td><td>image/fits</td><td>https://irsa.ipac.caltech.edu:443/cgi-bin/Subimage/nph-subimage?origfile=/irsadata/COSMOS//images%2Facs_2.0%2FI%2Facs_I_100003%2B0213_unrot_wht_20.fits&amp;ra=149.999860&amp;dec=2.248750&amp;xsize=0.000278</td></tr>\n",
       "<tr><td>150.022</td><td>2.276</td><td>10h 00m 05.35s</td><td>+02d 16m 32.8s</td><td>7500</td><td>7500</td><td>RA---TAN</td><td>DEC--TAN</td><td>150.0223083</td><td>2.2757825</td><td>3750.0</td><td>3750.0</td><td>-8.3333333333e-06</td><td>8.3333333333e-06</td><td>260.2376781</td><td>149.9861889</td><td>2.2502868</td><td>150.0478312</td><td>2.2396894</td><td>150.0584385</td><td>2.3012841</td><td>149.9967936</td><td>2.3118819</td><td>2000.0</td><td>0</td><td>HST</td><td>ACS</td><td>image</td><td>weight</td><td>I</td><td>8.0874e-07</td><td>225043</td><td>0.0625</td><td>-99</td><td>images/acs_2.0/I/acs_I_100005+0216_unrot_wht_20.fits</td><td>HST-ACS</td><td>YES</td><td>Cosmic Evolution Survey with HST (COSMOS)</td><td>2</td><td>[7500 7500]</td><td>[-8.3333333333e-06 8.3333333333e-06]</td><td>[-8.33333e-06 -0.0 -0.0 8.33333e-06]</td><td>image/fits</td><td>https://irsa.ipac.caltech.edu:443/cgi-bin/Subimage/nph-subimage?origfile=/irsadata/COSMOS//images%2Facs_2.0%2FI%2Facs_I_100005%2B0216_unrot_wht_20.fits&amp;ra=149.999860&amp;dec=2.248750&amp;xsize=0.000278</td></tr>\n",
       "<tr><td>149.977</td><td>2.210</td><td>09h 59m 54.57s</td><td>+02d 12m 34.5s</td><td>4096</td><td>4096</td><td>RA---TAN</td><td>DEC--TAN</td><td>150.1163213</td><td>2.2009731</td><td>-1284.5</td><td>1841.0</td><td>-4.166666832e-05</td><td>4.166666832e-05</td><td>0.0</td><td>150.0627846</td><td>2.124243</td><td>149.8919601</td><td>2.1242277</td><td>149.8919344</td><td>2.2949346</td><td>150.0627784</td><td>2.2949512</td><td>2000.0</td><td>0</td><td>CFHT</td><td>MegaPrime</td><td>image</td><td>uncertainty</td><td>u</td><td>3.798e-07</td><td>67115</td><td>0.170667</td><td>66</td><td>images/cfht/u/original_psf/cfht_u_066_rms_50.fits</td><td>CFHT</td><td>NO</td><td>Cosmic Evolution Survey with HST (COSMOS)</td><td>2</td><td>[4096 4096]</td><td>[-4.166666832e-05 4.166666832e-05]</td><td>[-4.16667e-05 -0.0 -0.0 4.16667e-05]</td><td>image/fits</td><td>https://irsa.ipac.caltech.edu:443/data/COSMOS/images/cfht/u/original_psf/cfht_u_066_rms_50.fits</td></tr>\n",
       "<tr><td>149.977</td><td>2.210</td><td>09h 59m 54.57s</td><td>+02d 12m 34.5s</td><td>4096</td><td>4096</td><td>RA---TAN</td><td>DEC--TAN</td><td>150.1163213</td><td>2.2009731</td><td>-1284.5</td><td>1841.0</td><td>-4.166666832e-05</td><td>4.166666832e-05</td><td>0.0</td><td>150.0627846</td><td>2.124243</td><td>149.8919601</td><td>2.1242277</td><td>149.8919344</td><td>2.2949346</td><td>150.0627784</td><td>2.2949512</td><td>2000.0</td><td>0</td><td>CFHT</td><td>MegaPrime</td><td>image</td><td>science</td><td>u</td><td>3.798e-07</td><td>67115</td><td>0.170667</td><td>66</td><td>images/cfht/u/original_psf/cfht_u_066_sci_50.fits</td><td>CFHT</td><td>NO</td><td>Cosmic Evolution Survey with HST (COSMOS)</td><td>2</td><td>[4096 4096]</td><td>[-4.166666832e-05 4.166666832e-05]</td><td>[-4.16667e-05 -0.0 -0.0 4.16667e-05]</td><td>image/fits</td><td>https://irsa.ipac.caltech.edu:443/data/COSMOS/images/cfht/u/original_psf/cfht_u_066_sci_50.fits</td></tr>\n",
       "<tr><td>150.061</td><td>2.293</td><td>10h 00m 14.58s</td><td>+02d 17m 34.5s</td><td>48096</td><td>48096</td><td>RA---TAN</td><td>DEC--TAN</td><td>150.1163213</td><td>2.2009731</td><td>22715.5</td><td>21841.0</td><td>-4.1666667e-05</td><td>4.1666667e-05</td><td>0.0</td><td>151.0628561</td><td>1.290811</td><td>149.0587646</td><td>1.2907673</td><td>149.0573423</td><td>3.2942578</td><td>151.0641292</td><td>3.2943695</td><td>2000.0</td><td>0</td><td>CFHT</td><td>MegaPrime</td><td>image</td><td>science</td><td>i</td><td>7.684e-07</td><td>9252907</td><td>2.004</td><td>0</td><td>images/cfht/mosaics/COSMOS.i_c.original_psf.v2.fits</td><td>CFHT</td><td>NO</td><td>Cosmic Evolution Survey with HST (COSMOS)</td><td>2</td><td>[48096 48096]</td><td>[-4.1666667e-05 4.1666667e-05]</td><td>[-4.16667e-05 -0.0 -0.0 4.16667e-05]</td><td>image/fits</td><td>https://irsa.ipac.caltech.edu:443/data/COSMOS/images/cfht/mosaics/COSMOS.i_c.original_psf.v2.fits</td></tr>\n",
       "<tr><td>150.061</td><td>2.293</td><td>10h 00m 14.58s</td><td>+02d 17m 34.5s</td><td>48096</td><td>48096</td><td>RA---TAN</td><td>DEC--TAN</td><td>150.1163213</td><td>2.2009731</td><td>22715.5</td><td>21841.0</td><td>-4.1666667e-05</td><td>4.1666667e-05</td><td>0.0</td><td>151.0628561</td><td>1.290811</td><td>149.0587646</td><td>1.2907673</td><td>149.0573423</td><td>3.2942578</td><td>151.0641292</td><td>3.2943695</td><td>2000.0</td><td>0</td><td>CFHT</td><td>WIRCAM</td><td>image</td><td>science</td><td>Ks</td><td>2.146e-06</td><td>9252907</td><td>2.004</td><td>0</td><td>images/cfht/mosaics/COSMOS.Ks.original_psf.v5.fits</td><td>CFHT</td><td>NO</td><td>Cosmic Evolution Survey with HST (COSMOS)</td><td>2</td><td>[48096 48096]</td><td>[-4.1666667e-05 4.1666667e-05]</td><td>[-4.16667e-05 -0.0 -0.0 4.16667e-05]</td><td>image/fits</td><td>https://irsa.ipac.caltech.edu:443/data/COSMOS/images/cfht/mosaics/COSMOS.Ks.original_psf.v5.fits</td></tr>\n",
       "<tr><td>150.116</td><td>2.201</td><td>10h 00m 27.92s</td><td>+02d 12m 03.4s</td><td>45334</td><td>43585</td><td>RA---TAN</td><td>DEC--TAN</td><td>150.1163213</td><td>2.2009731</td><td>22667.5</td><td>21793.0</td><td>-4.166666832e-05</td><td>4.166666832e-05</td><td>0.0</td><td>151.0608577</td><td>1.2928109</td><td>149.1718266</td><td>1.292811</td><td>149.1706755</td><td>3.1084954</td><td>151.0620088</td><td>3.1084953</td><td>2000.0</td><td>0</td><td>CFHT</td><td>MegaPrime</td><td>image</td><td>science</td><td>u</td><td>3.798e-07</td><td>7903535</td><td>1.88892</td><td>0</td><td>images/cfht/mosaics/COSMOS.u.original_psf.v5.fits</td><td>CFHT</td><td>NO</td><td>Cosmic Evolution Survey with HST (COSMOS)</td><td>2</td><td>[45334 43585]</td><td>[-4.166666832e-05 4.166666832e-05]</td><td>[-4.16667e-05 -0.0 -0.0 4.16667e-05]</td><td>image/fits</td><td>https://irsa.ipac.caltech.edu:443/data/COSMOS/images/cfht/mosaics/COSMOS.u.original_psf.v5.fits</td></tr>\n",
       "<tr><td>149.977</td><td>2.210</td><td>09h 59m 54.57s</td><td>+02d 12m 34.5s</td><td>4096</td><td>4096</td><td>RA---TAN</td><td>DEC--TAN</td><td>150.1163213</td><td>2.2009731</td><td>-1284.5</td><td>1841.0</td><td>-4.1666667e-05</td><td>4.1666667e-05</td><td>0.0</td><td>150.0627846</td><td>2.124243</td><td>149.8919601</td><td>2.1242277</td><td>149.8919344</td><td>2.2949346</td><td>150.0627784</td><td>2.2949512</td><td>2000.0</td><td>0</td><td>CFHT</td><td>WIRCAM</td><td>image</td><td>science</td><td>Ks</td><td>2.146e-06</td><td>67115</td><td>0.170667</td><td>66</td><td>images/cfht/Ks/original_psf/cfht_Ks_066_sci_50.fits</td><td>CFHT</td><td>NO</td><td>Cosmic Evolution Survey with HST (COSMOS)</td><td>2</td><td>[4096 4096]</td><td>[-4.1666667e-05 4.1666667e-05]</td><td>[-4.16667e-05 -0.0 -0.0 4.16667e-05]</td><td>image/fits</td><td>https://irsa.ipac.caltech.edu:443/data/COSMOS/images/cfht/Ks/original_psf/cfht_Ks_066_sci_50.fits</td></tr>\n",
       "</table></div>"
      ],
      "text/plain": [
       "<Table length=10>\n",
       "   ra   ...\n",
       "  deg   ...\n",
       "float64 ...\n",
       "------- ...\n",
       "150.014 ...\n",
       "150.022 ...\n",
       "150.014 ...\n",
       "150.022 ...\n",
       "149.977 ...\n",
       "149.977 ...\n",
       "150.061 ...\n",
       "150.061 ...\n",
       "150.116 ...\n",
       "149.977 ..."
      ]
     },
     "execution_count": 9,
     "metadata": {},
     "output_type": "execute_result"
    }
   ],
   "source": [
    "im_table.to_table()[:10]"
   ]
  },
  {
   "cell_type": "markdown",
   "id": "dbcd9deb",
   "metadata": {},
   "source": [
    "## Section 4 - Locate and download an image of interest"
   ]
  },
  {
   "cell_type": "markdown",
   "id": "be6ba3d4",
   "metadata": {},
   "source": [
    "Locate the first image in the band_name of i+"
   ]
  },
  {
   "cell_type": "code",
   "execution_count": 10,
   "id": "e5860e63",
   "metadata": {},
   "outputs": [
    {
     "name": "stdout",
     "output_type": "stream",
     "text": [
      "https://irsa.ipac.caltech.edu:443/data/COSMOS/images/subaru/best_psf/ip/subaru_ip_best-psf_066_rms_20.fits\n"
     ]
    }
   ],
   "source": [
    "for i in range(len(im_table)):\n",
    "    if im_table[i]['band_name'] == 'i+':\n",
    "        break\n",
    "print(im_table[i].getdataurl())"
   ]
  },
  {
   "cell_type": "markdown",
   "id": "afba6e36",
   "metadata": {},
   "source": [
    "Download the image"
   ]
  },
  {
   "cell_type": "code",
   "execution_count": 11,
   "id": "f3471d65",
   "metadata": {},
   "outputs": [],
   "source": [
    "fname = download_file(im_table[i].getdataurl(), cache=True)\n",
    "image1 = fits.open(fname)"
   ]
  },
  {
   "cell_type": "markdown",
   "id": "d7d9c25d",
   "metadata": {},
   "source": [
    "## Section 5 - Extract a cutout and plot it"
   ]
  },
  {
   "cell_type": "code",
   "execution_count": 12,
   "id": "11b6b43f",
   "metadata": {},
   "outputs": [],
   "source": [
    "wcs = WCS(image1[0].header)"
   ]
  },
  {
   "cell_type": "markdown",
   "id": "86dbfc6f",
   "metadata": {},
   "source": [
    "Make a cutout centered on the position"
   ]
  },
  {
   "cell_type": "code",
   "execution_count": 13,
   "id": "78e3a4a8",
   "metadata": {},
   "outputs": [],
   "source": [
    "cutout = Cutout2D(image1[0].data, pos, (60, 60), wcs=wcs)\n",
    "wcs = cutout.wcs"
   ]
  },
  {
   "cell_type": "code",
   "execution_count": 14,
   "id": "dfe83f3f",
   "metadata": {},
   "outputs": [
    {
     "data": {
      "text/plain": [
       "<matplotlib.collections.PathCollection at 0x7feaa1cbaf50>"
      ]
     },
     "execution_count": 14,
     "metadata": {},
     "output_type": "execute_result"
    },
    {
     "data": {
      "image/png": "[encoded data removed]",
      "text/plain": [
       "<Figure size 640x480 with 1 Axes>"
      ]
     },
     "metadata": {},
     "output_type": "display_data"
    }
   ],
   "source": [
    "fig = plt.figure()\n",
    "\n",
    "ax = fig.add_subplot(1, 1, 1, projection=wcs)\n",
    "ax.imshow(cutout.data, cmap='gray_r', origin='lower')\n",
    "ax.scatter(ra, dec, transform=ax.get_transform('fk5'), s=500, edgecolor='red', facecolor='none')"
   ]
  },
  {
   "cell_type": "markdown",
   "id": "059d4b96",
   "metadata": {},
   "source": [
    "***"
   ]
  },
  {
   "cell_type": "markdown",
   "id": "8c9ee13f",
   "metadata": {},
   "source": [
    "## About this notebook"
   ]
  },
  {
   "cell_type": "markdown",
   "id": "14902050",
   "metadata": {},
   "source": [
    "**Author:** David Shupe, IRSA Scientist, and the IRSA Science Team\n",
    "\n",
    "**Updated On:** 2022-02-14\n",
    "\n",
    "**Contact:** irsasupport@ipac.caltech.edu or https://jira.ipac.caltech.edu/irsasupport"
   ]
  },
  {
   "cell_type": "markdown",
   "id": "90b521af",
   "metadata": {},
   "source": [
    "## Citations"
   ]
  },
  {
   "cell_type": "markdown",
   "id": "04c9fb24",
   "metadata": {},
   "source": [
    "If you use `astropy` for published research, please cite the authors. Follow these links for more information about citing `astropy`:\n",
    "\n",
    "* [Citing `astropy`](https://www.astropy.org/acknowledging.html)"
   ]
  },
  {
   "cell_type": "markdown",
   "id": "8c910278",
   "metadata": {},
   "source": [
    "If you use COSMOS ACS imaging data in published research,  please cite the dataset Digital Object Identifier (DOI): [10.26131/IRSA178](https://www.ipac.caltech.edu/doi/irsa/10.26131/IRSA178)."
   ]
  },
  {
   "cell_type": "code",
   "execution_count": null,
   "id": "5b0a3041",
   "metadata": {},
   "outputs": [],
   "source": []
  }
 ],
 "metadata": {
  "jupytext": {
   "text_representation": {
    "extension": ".md",
    "format_name": "myst",
    "format_version": 0.13,
    "jupytext_version": "1.16.2"
   }
  },
  "kernelspec": {
   "display_name": "Python 3 (ipykernel)",
   "language": "python",
   "name": "python3"
  },
  "language_info": {
   "codemirror_mode": {
    "name": "ipython",
    "version": 3
   },
   "file_extension": ".py",
   "mimetype": "text/x-python",
   "name": "python",
   "nbconvert_exporter": "python",
   "pygments_lexer": "ipython3",
   "version": "3.11.10"
  },
  "source_map": [
   12,
   16,
   20,
   24,
   35,
   49,
   62,
   67,
   76,
   80,
   84,
   86,
   90,
   94,
   98,
   106,
   108,
   112,
   116,
   118,
   122,
   126,
   128,
   132,
   134,
   138,
   142,
   147,
   151,
   154,
   158,
   160,
   164,
   169,
   175,
   179,
   183,
   191,
   195,
   201,
   205
  ]
 },
 "nbformat": 4,
 "nbformat_minor": 5
}