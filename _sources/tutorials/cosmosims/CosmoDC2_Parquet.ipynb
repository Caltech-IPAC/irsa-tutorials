{
 "cells": [
  {
   "cell_type": "markdown",
   "id": "8a4ede9b",
   "metadata": {},
   "source": [
    "# Working with CosmoDC2 Parquet files\n",
    "\n",
    "This notebook shows how to work with the bulk-downloadable CosmoDC2 files in Parquet format. Goals include:\n",
    "\n",
    "* how to read in a single file\n",
    "* how to plot galaxy properties\n",
    "* how to read in selected columns\n",
    "* how to read from all of the files"
   ]
  },
  {
   "cell_type": "markdown",
   "id": "dd848afb",
   "metadata": {},
   "source": [
    "### Imports\n",
    "\n",
    "The pyarrow package is the underlying engine for reading these files"
   ]
  },
  {
   "cell_type": "code",
   "execution_count": null,
   "id": "3ec663b3",
   "metadata": {},
   "outputs": [],
   "source": [
    "import os\n",
    "\n",
    "from astropy.table import Table\n",
    "import dask.dataframe as dd\n",
    "import numpy as np\n",
    "import matplotlib.colors as clr\n",
    "import matplotlib.pyplot as plt\n",
    "import pandas as pd\n",
    "import pyarrow.parquet as pq"
   ]
  },
  {
   "cell_type": "code",
   "execution_count": null,
   "id": "a516c3d2",
   "metadata": {},
   "outputs": [],
   "source": [
    "%matplotlib inline"
   ]
  },
  {
   "cell_type": "markdown",
   "id": "90e37c2f",
   "metadata": {},
   "source": [
    "### Set data location"
   ]
  },
  {
   "cell_type": "markdown",
   "id": "22f4c584",
   "metadata": {},
   "source": [
    "Modify the `inpath` to your location for the Parquet files."
   ]
  },
  {
   "cell_type": "code",
   "execution_count": null,
   "id": "2b7e8eb4",
   "metadata": {},
   "outputs": [],
   "source": [
    "inpath = '/stage/irsa-data-download10/parquet-work/CosmoDC2'"
   ]
  },
  {
   "cell_type": "markdown",
   "id": "830bc95d",
   "metadata": {},
   "source": [
    "Select a single file for the first demonstrations. The files are numbered by HEALPix number with NSIDE=32. The example here is near the center of the 440 sq deg covered by the simulations."
   ]
  },
  {
   "cell_type": "code",
   "execution_count": null,
   "id": "153ff5cf",
   "metadata": {},
   "outputs": [],
   "source": [
    "infile = 'cosmoDC2_healpix09560.parquet'"
   ]
  },
  {
   "cell_type": "code",
   "execution_count": null,
   "id": "d91e3856",
   "metadata": {},
   "outputs": [],
   "source": [
    "joined = os.path.join(inpath, infile)"
   ]
  },
  {
   "cell_type": "markdown",
   "id": "3ab9a2f4",
   "metadata": {},
   "source": [
    "### Get all column names and types"
   ]
  },
  {
   "cell_type": "markdown",
   "id": "73fa6941",
   "metadata": {},
   "source": [
    "Read a table of zero length to get the column names."
   ]
  },
  {
   "cell_type": "code",
   "execution_count": null,
   "id": "1fc4be10",
   "metadata": {},
   "outputs": [],
   "source": [
    "schema = Table.read(joined, schema_only=True)"
   ]
  },
  {
   "cell_type": "markdown",
   "id": "0baf7c7e",
   "metadata": {},
   "source": [
    "The column names are in case-sensitive alphabetical order here."
   ]
  },
  {
   "cell_type": "code",
   "execution_count": null,
   "id": "a3fd3e60",
   "metadata": {},
   "outputs": [],
   "source": [
    "schema"
   ]
  },
  {
   "cell_type": "markdown",
   "id": "0c97eb95",
   "metadata": {},
   "source": [
    "Alternatively, use the pyarrow package directly."
   ]
  },
  {
   "cell_type": "code",
   "execution_count": null,
   "id": "e633c84d",
   "metadata": {},
   "outputs": [],
   "source": [
    "schema = pq.read_schema(os.path.join(inpath, infile))"
   ]
  },
  {
   "cell_type": "code",
   "execution_count": null,
   "id": "c8a30d67",
   "metadata": {},
   "outputs": [],
   "source": [
    "len(schema)"
   ]
  },
  {
   "cell_type": "markdown",
   "id": "c0813c88",
   "metadata": {},
   "source": [
    "Capitalized magnitudes are absolute magnitudes. Descriptions of the columns are not included in the Parquet files, but are in a separate file (to be specified)."
   ]
  },
  {
   "cell_type": "code",
   "execution_count": null,
   "id": "d46dd95f",
   "metadata": {},
   "outputs": [],
   "source": [
    "print(schema)"
   ]
  },
  {
   "cell_type": "markdown",
   "id": "282c17ad",
   "metadata": {},
   "source": [
    "### Read only the redshifts as a single Astropy table\n",
    "\n",
    "Reading a single column is faster with Parquet files."
   ]
  },
  {
   "cell_type": "code",
   "execution_count": null,
   "id": "f682263b",
   "metadata": {},
   "outputs": [],
   "source": [
    "tab = Table.read(joined, include_names=['redshift'])"
   ]
  },
  {
   "cell_type": "code",
   "execution_count": null,
   "id": "0346c422",
   "metadata": {},
   "outputs": [],
   "source": [
    "tab"
   ]
  },
  {
   "cell_type": "markdown",
   "id": "d5c85987",
   "metadata": {},
   "source": [
    "### Read in all data from a single file"
   ]
  },
  {
   "cell_type": "code",
   "execution_count": null,
   "id": "f028a1fd",
   "metadata": {},
   "outputs": [],
   "source": [
    "d=pd.read_parquet(joined)"
   ]
  },
  {
   "cell_type": "code",
   "execution_count": null,
   "id": "2effa999",
   "metadata": {},
   "outputs": [],
   "source": [
    "len(d)"
   ]
  },
  {
   "cell_type": "markdown",
   "id": "c218cabb",
   "metadata": {},
   "source": [
    "### Plot number counts vs halo mass"
   ]
  },
  {
   "cell_type": "code",
   "execution_count": null,
   "id": "6af94995",
   "metadata": {},
   "outputs": [],
   "source": [
    "plt.figure()\n",
    "h,xbins = np.histogram(np.log10(d['halo_mass']),bins=40)\n",
    "xbins_avg = (xbins[1:]+xbins[:-1])/2.0\n",
    "plt.semilogy(xbins_avg, h)\n",
    "plt.ylabel(r'Galaxy Count')\n",
    "plt.xlabel(r'log10( M$_{\\rm{halo}}$ / M$_\\odot)$')\n",
    "plt.show()"
   ]
  },
  {
   "cell_type": "markdown",
   "id": "2a60b504",
   "metadata": {},
   "source": [
    "### Plot g-r colors vs redshift"
   ]
  },
  {
   "cell_type": "code",
   "execution_count": null,
   "id": "80dfeb9e",
   "metadata": {},
   "outputs": [],
   "source": [
    "plt.figure()\n",
    "gal_clr = d['mag_g_sdss']-d['mag_r_sdss']\n",
    "plt.hist2d(d['redshift'], gal_clr, bins=100, cmap='PuBu', norm=clr.LogNorm())\n",
    "plt.colorbar(label='population density')\n",
    "plt.ylabel('Observed g-r')\n",
    "plt.xlabel('redshift')\n",
    "plt.title('Galaxy Colors in Clusters')\n",
    "plt.tight_layout()"
   ]
  },
  {
   "cell_type": "markdown",
   "id": "4a004013",
   "metadata": {},
   "source": [
    "### Plot r-i colors vs redshift"
   ]
  },
  {
   "cell_type": "code",
   "execution_count": null,
   "id": "24ef8d40",
   "metadata": {},
   "outputs": [],
   "source": [
    "plt.figure()\n",
    "gal_clr = d['mag_r_sdss']-d['mag_i_sdss']\n",
    "plt.hist2d(d['redshift'], gal_clr, bins=100, cmap='PuBu',norm=clr.LogNorm())\n",
    "plt.colorbar(label='population density')\n",
    "plt.ylabel('r-i')\n",
    "plt.xlabel('redshift')\n",
    "plt.title('Galaxy Colors in Clusters')\n",
    "plt.tight_layout()\n",
    "plt.show()"
   ]
  },
  {
   "cell_type": "markdown",
   "id": "d9df75e7",
   "metadata": {},
   "source": [
    "### Read one Parquet file using Pandas, and plot a histogram of redshifts"
   ]
  },
  {
   "cell_type": "code",
   "execution_count": null,
   "id": "ae389b37",
   "metadata": {},
   "outputs": [],
   "source": [
    "df = pd.read_parquet(joined, columns=['redshift'])"
   ]
  },
  {
   "cell_type": "code",
   "execution_count": null,
   "id": "4eceb54e",
   "metadata": {},
   "outputs": [],
   "source": [
    "num_bins = 20\n",
    "n, bins, patches = plt.hist(df.redshift, num_bins,\n",
    "                            facecolor='blue', alpha=0.5)\n",
    "plt.xlabel('Redshift')\n",
    "plt.ylabel('Number')\n",
    "plt.title('Redshift Histogram CosmoDC2 Mock Catalog V1 Abridged')"
   ]
  },
  {
   "cell_type": "markdown",
   "id": "9157db98",
   "metadata": {},
   "source": [
    "### Count the number of records in all the files"
   ]
  },
  {
   "cell_type": "markdown",
   "id": "1167d3e8",
   "metadata": {},
   "source": [
    "This section assumes you have downloaded all the files, or at least multiple files."
   ]
  },
  {
   "cell_type": "code",
   "execution_count": null,
   "id": "e0211be0",
   "metadata": {},
   "outputs": [],
   "source": [
    "ddf = dd.read_parquet(os.path.join(inpath, '*parquet'),\n",
    "                      engine='pyarrow',\n",
    "                      columns=['stellar_mass'])"
   ]
  },
  {
   "cell_type": "code",
   "execution_count": null,
   "id": "3ad35117",
   "metadata": {},
   "outputs": [],
   "source": [
    "%%time\n",
    "len(ddf)"
   ]
  },
  {
   "cell_type": "markdown",
   "id": "a17ef540",
   "metadata": {},
   "source": [
    "### Read multiple files using Dask, and plot the galaxy main sequence in a redshift interval"
   ]
  },
  {
   "cell_type": "markdown",
   "id": "d0db224c",
   "metadata": {},
   "source": [
    "This section assumes you have downloaded all the files, or at least multiple files.\n",
    "Read in stellar mass and absolute magnitudes in a redshift interval from 0.5 to 0.54."
   ]
  },
  {
   "cell_type": "code",
   "execution_count": null,
   "id": "5fbf0de3",
   "metadata": {},
   "outputs": [],
   "source": [
    "ddf = dd.read_parquet(os.path.join(inpath, '*parquet'),\n",
    "                      engine='pyarrow',\n",
    "                      columns=['stellar_mass',\n",
    "                               'Mag_true_g_lsst_z0',\n",
    "                               'Mag_true_r_lsst_z0',\n",
    "                               'Mag_true_i_lsst_z0',\n",
    "                               'Mag_true_z_lsst_z0',\n",
    "                               'Mag_true_y_lsst_z0',\n",
    "                               'redshift'],\n",
    "                      filters=[('redshift', '>', 0.5), \n",
    "                               ('redshift', '<', 0.54)])"
   ]
  },
  {
   "cell_type": "markdown",
   "id": "426314cf",
   "metadata": {},
   "source": [
    "The next cell does the data read and can take several minutes."
   ]
  },
  {
   "cell_type": "code",
   "execution_count": null,
   "id": "13780469",
   "metadata": {},
   "outputs": [],
   "source": [
    "%%time\n",
    "df2d = ddf.compute()"
   ]
  },
  {
   "cell_type": "code",
   "execution_count": null,
   "id": "27cfa857",
   "metadata": {},
   "outputs": [],
   "source": [
    "df2d.head()"
   ]
  },
  {
   "cell_type": "code",
   "execution_count": null,
   "id": "3444a779",
   "metadata": {},
   "outputs": [],
   "source": [
    "len(df2d)"
   ]
  },
  {
   "cell_type": "markdown",
   "id": "a298355b",
   "metadata": {},
   "source": [
    "Since this results in almost 4 million galaxies, we will construct 2D histograms \n",
    "rather than scatter plots."
   ]
  },
  {
   "cell_type": "code",
   "execution_count": null,
   "id": "ef8453c8",
   "metadata": {},
   "outputs": [],
   "source": [
    "plt.hist2d(df2d.Mag_true_r_lsst_z0, \n",
    "           (df2d.Mag_true_g_lsst_z0 - df2d.Mag_true_r_lsst_z0),\n",
    "           bins=200, cmap='plasma', cmax = 500)\n",
    "\n",
    "# Plot a colorbar with label.\n",
    "cb = plt.colorbar()\n",
    "cb.set_label('Number')\n",
    "\n",
    "# Add title and labels to plot.\n",
    "plt.title('True magnitudes and colors in 0.5 < z < 0.54')\n",
    "plt.xlabel('LSST Mag r')\n",
    "plt.ylabel('LSST rest-frame g-r color')\n",
    "\n",
    "# Show the plot.\n",
    "plt.show()"
   ]
  },
  {
   "cell_type": "code",
   "execution_count": null,
   "id": "10f62181",
   "metadata": {},
   "outputs": [],
   "source": []
  }
 ],
 "metadata": {
  "jupytext": {
   "text_representation": {
    "extension": ".md",
    "format_name": "myst",
    "format_version": 0.13,
    "jupytext_version": "1.16.2"
   }
  },
  "kernelspec": {
   "display_name": "Python 3",
   "language": "python",
   "name": "python3"
  },
  "source_map": [
   12,
   23,
   29,
   41,
   43,
   47,
   51,
   53,
   57,
   61,
   63,
   67,
   71,
   73,
   77,
   79,
   83,
   87,
   89,
   93,
   95,
   101,
   105,
   107,
   111,
   115,
   117,
   121,
   129,
   133,
   142,
   146,
   156,
   160,
   164,
   171,
   175,
   179,
   185,
   188,
   192,
   197,
   209,
   213,
   218,
   222,
   224,
   229,
   248
  ]
 },
 "nbformat": 4,
 "nbformat_minor": 5
}