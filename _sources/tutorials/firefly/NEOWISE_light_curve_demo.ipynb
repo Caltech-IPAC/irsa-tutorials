{
 "cells": [
  {
   "cell_type": "markdown",
   "id": "b5056ecc",
   "metadata": {},
   "source": [
    "# Using Firefly visualization tools to understand the light curves of Solar System objects\n",
    "\n",
    "## Learning Goals\n",
    "\n",
    "By the end of this tutorial, you will:\n",
    "\n",
    "- Construct a TAP query to download the necessary data and visualize it via the web browser with an instantiated Firefly environment.\n",
    "- Plot light curves from NEOWISE data using the Firefly Python API.\n",
    "- Format cells containing tables, charts and images viewed in the client.\n",
    "- Overlay a catalog of data onto a HiPS image."
   ]
  },
  {
   "cell_type": "markdown",
   "id": "43a9f0a6",
   "metadata": {},
   "source": [
    "## Introduction\n",
    "\n",
    "This tutorial demonstrates how to plot light curves from NEOWISE data while also flaunting the many useful capabilities of the Firefly Python API. Using the 'Known Solar System Object Possible Association List' catalog from the NEOWISE-R database, we can easily compose a light curve of the faint asteroid `558 Carmen` and show its observed positions in the sky solely through the `firefly_client` package. Minor planet light curves are important in determining their size, spectral class, rotation period and many other properties.\n",
    "\n",
    "Firefly is an astronomical data access and visualization written by Caltech/IPAC-IRSA. The visualization provides user with an integrated experience with brushing and linking capabilities among images, catalogs, and plots. Firefly is used in IRSA GUIs to query and visualize data from missions such as WISE, Spitzer, SOFIA, ZTF, PTF, etc. and a large number of highly-used contributed data products from a diverse set of astrophysics projects.\n",
    "\n",
    "The `firefly_client` package provides a lightweight client class that includes a Python interface to Firefly’s Javascript API.\n",
    "\n",
    "For documentation on the firefly client visit https://caltech-ipac.github.io/firefly_client/."
   ]
  },
  {
   "cell_type": "markdown",
   "id": "2d2ae81d",
   "metadata": {},
   "source": [
    "## Imports\n",
    "\n",
    "- *firefly_client FireflyClient* - Python API to Firefly for displaying tables, images and charts\n",
    "- *firefly_client.plot* for visualizing the light curve in the client\n",
    "- *astropy.utils.data* for downloading the catalog data via TAP query"
   ]
  },
  {
   "cell_type": "code",
   "execution_count": 1,
   "id": "a9910619",
   "metadata": {},
   "outputs": [],
   "source": [
    "from firefly_client import FireflyClient\n",
    "import firefly_client.plot as ffplt\n",
    "import astropy.utils.data"
   ]
  },
  {
   "cell_type": "markdown",
   "id": "bb6b2003",
   "metadata": {},
   "source": [
    "## Step 1\n",
    "\n",
    "Instantiate the client via and view it in a different tab in the web browser.\n",
    "\n",
    "In this example, we use the IRSA Viewer - a public firefly server. The firefly server can also be run locally, e.g. via a Firefly Docker image obtained from https://hub.docker.com/r/ipac/firefly/tags/."
   ]
  },
  {
   "cell_type": "code",
   "execution_count": 2,
   "id": "20cc81cb",
   "metadata": {},
   "outputs": [
    {
     "data": {
      "text/html": [
       "Open your web browser to <a href=\"https://irsa.ipac.caltech.edu/irsaviewer/?__wsch=MjAyNC0wOS0yMA\"\" target=\"_blank\">this link</a>"
      ],
      "text/plain": [
       "<IPython.core.display.HTML object>"
      ]
     },
     "metadata": {},
     "output_type": "display_data"
    }
   ],
   "source": [
    "url = 'https://irsa.ipac.caltech.edu/irsaviewer'\n",
    "# url='http://127.0.0.1:8080/firefly'  # if you have firefly server running locally (preferably through docker)\n",
    "\n",
    "fc = FireflyClient.make_client(url)\n",
    "ffplt.use_client(fc)"
   ]
  },
  {
   "cell_type": "markdown",
   "id": "be2b0485",
   "metadata": {},
   "source": [
    "You can re-initizialize the viewer to return to a clean slate with [`reinit_viewer`](https://caltech-ipac.github.io/firefly_client/api/firefly_client.FireflyClient.html#firefly_client.FireflyClient.reinit_viewer)."
   ]
  },
  {
   "cell_type": "code",
   "execution_count": 3,
   "id": "29fec468",
   "metadata": {},
   "outputs": [],
   "source": [
    "# fc.reinit_viewer();  # The semi-colon suppresses the output of the method when ran"
   ]
  },
  {
   "cell_type": "markdown",
   "id": "ee59e15c",
   "metadata": {},
   "source": [
    "## Step 2\n",
    "\n",
    "Setup the layout of viewer and TAP search the 'Known Solar System Object Possible Association List' catalog from the NEOWISE-R database. The specific target we are looking for is minor planet `558 Carmen`. We can query this target using a TAP search through IRSA; the `table_url` is broken down as follows:\n",
    "\n",
    "- We want to search the data through IRSA, which supports TAP querying, and we want it streamed directly to us via a synchronous search: <br>\"https://<!---->irsa.ipac.caltech.edu/TAP/sync?\"<br><br>\n",
    "- Next, we want to structure query to only retrieve (558) Carmen data from the NEOWISE-R 'Known Solar System Object Possible Association List' catalog. The table name of the catalog can be found using [IRSAViewer](https://irsa.ipac.caltech.edu/irsaviewer/?__action=layout.showDropDown&view=MultiTableSearchCmd) and clicking the **VO TAP Search** tab and changing the 'Project' to **neowiser**. We query all columns of data and we search the target by its object id, which is its name, and use the 'like' condition to only write (558) with a wildcard: <br>\"QUERY=SELECT+*+FROM+neowiser_p1ba_mch+AS+n+WHERE+n.objid+like+'(558)%'\"\n",
    "\n",
    "Construction of the query can be found in the [`IRSA TAP documentation page`](https://irsa.ipac.caltech.edu/docs/program_interface/TAP.html). \n",
    "\n",
    "We first add a cell to the layout that will hold the table; this cell is shown at row = 0, col = 0, with width = 4, height = 2. Once the cell is created, we can request the necessary data from the catalog and display the data as a table using the [`show_table`](https://caltech-ipac.github.io/firefly_client/api/firefly_client.FireflyClient.html#firefly_client.FireflyClient.show_table) method.\n",
    "\n",
    "Alternatively, we can download data from the catalog using [`astropy.utils.data.download_file`](https://docs.astropy.org/en/stable/api/astropy.utils.data.download_file.html) and upload it to the Firefly client shown in the cell below the first method."
   ]
  },
  {
   "cell_type": "code",
   "execution_count": 4,
   "id": "9cea49db",
   "metadata": {},
   "outputs": [],
   "source": [
    "r = fc.add_cell(0, 0, 4, 2, 'tables', 'main')\n",
    "\n",
    "if r['success']:\n",
    "    table_url = (\"https://irsa.ipac.caltech.edu/TAP/sync?QUERY=SELECT+*+FROM+neowiser_p1ba_mch+AS+n+WHERE+n.objid+like+'(558)%'\")\n",
    "    fc.show_table(table_url, tbl_id='tableneo', title='558 Carmen NeoWise Catalog', page_size=50)"
   ]
  },
  {
   "cell_type": "code",
   "execution_count": 5,
   "id": "d9beeb95",
   "metadata": {},
   "outputs": [],
   "source": [
    "# r = fc.add_cell(0, 0, 4, 2, 'tables', 'main')\n",
    "\n",
    "# if r['success']:\n",
    "#     table_url = (\"https://irsa.ipac.caltech.edu/TAP/sync?QUERY=SELECT+*+FROM+neowiser_p1ba_mch+AS+n+WHERE+n.objid+like+'(558)%'\")\n",
    "#     tablename = astropy.utils.data.download_file(table_url, timeout=120, cache=True)\n",
    "    \n",
    "#     file = fc.upload_file(tablename)\n",
    "#     fc.show_table(file, tbl_id='tableneo', title='558 Carmen Catalog', page_size=50)"
   ]
  },
  {
   "cell_type": "markdown",
   "id": "4455aa3d",
   "metadata": {},
   "source": [
    "## Step 3\n",
    "\n",
    "After retrieving the data and displaying it in the client, we can now create a light curve by plotting the Modified Julian Date ('mjd') in the abscissa and the magnitude from band W1 ('w1mpro') in the ordinate. We also flip the ordinate to accurately display magnitude."
   ]
  },
  {
   "cell_type": "code",
   "execution_count": 6,
   "id": "a99fc3ac",
   "metadata": {},
   "outputs": [],
   "source": [
    "r = fc.add_cell(2, 0, 2, 2, 'plot-image', 'light-curve')\n",
    "if r['success']:\n",
    "    status = fc.show_xyplot(tbl_id='tableneo', xCol='mjd', yCol='w1mpro', yOptions='flip')"
   ]
  },
  {
   "cell_type": "markdown",
   "id": "2f35a5e7",
   "metadata": {},
   "source": [
    "## Step 4\n",
    "\n",
    "Finally, we can overlay the catalog of data in the table onto a HiPS image using the [`show_coverage`](https://caltech-ipac.github.io/firefly_client/api/firefly_client.FireflyClient.html#firefly_client.FireflyClient.show_coverage) method.\n",
    "\n",
    "You will notice that there are colored squares that signify where the object was observed based on the RA and Dec given in the catalog."
   ]
  },
  {
   "cell_type": "code",
   "execution_count": 7,
   "id": "b0307f09",
   "metadata": {},
   "outputs": [],
   "source": [
    "r = fc.add_cell(2, 2, 2, 2, 'catalog-image', 'target')\n",
    "if r['success']:\n",
    "    fc.show_coverage();"
   ]
  },
  {
   "cell_type": "markdown",
   "id": "cb4cc116",
   "metadata": {},
   "source": [
    "Alternatively, we can queue a HiPS image using the method [`show_hips`](https://caltech-ipac.github.io/firefly_client/api/firefly_client.FireflyClient.html#firefly_client.FireflyClient.show_hips). However, this method requires target coordinates for the object you want to analyze."
   ]
  },
  {
   "cell_type": "code",
   "execution_count": 8,
   "id": "7c000813",
   "metadata": {},
   "outputs": [],
   "source": [
    "target='229.851396;-9.720647;EQ_J2000'\n",
    "viewer_id = 'hipsDiv'\n",
    "hips_url = 'http://alasky.u-strasbg.fr/AllWISE/RGB-W4-W2-W1'\n",
    "\n",
    "r = fc.add_cell(2, 2, 2, 2, 'catalog-image', 'target')\n",
    "if r['success']:\n",
    "    status = fc.show_hips(viewer_id=viewer_id, plot_id='aHipsID1-1', hips_root_url = hips_url, \n",
    "                          Title='HiPS-WISE', WorldPt=target)"
   ]
  },
  {
   "cell_type": "markdown",
   "id": "57bf9c88",
   "metadata": {},
   "source": [
    "## Summary\n",
    "\n",
    "Firefly allows you to visualize data for specific targets. In conjuction with Astropy, one can manipulate a catalog of observations to display a light curve in an instantiated Firefly enviroment on their web browser.\n",
    "\n",
    "1. We import all necessary modules to create a Firefly client and to download the catalog of data for our target.\n",
    "\n",
    "2. We start the client in our web browser and prep the layout to appropiately display our tables, plots and images.\n",
    "\n",
    "3. We use the TAP schema to display the data for our target &mdash; [`558 Carmen`](https://irsa.ipac.caltech.edu/irsaviewer/?__action=table.search&request=%7B%22startIdx%22%3A0%2C%22SearchMethod%22%3A%22AllSky%22%2C%22RequestedDataSet%22%3A%22NEOWISE%20Reactivation%20Database%22%2C%22id%22%3A%22GatorQuery%22%2C%22tbl_id%22%3A%22tbl_id-cf48-45%22%2C%22META_INFO%22%3A%7B%22title%22%3A%22WISE-neowiser_p1ba_mch%20(AllSky)%22%2C%22tbl_id%22%3A%22tbl_id-cf48-45%22%2C%22tbl_pref_key%22%3A%22WISE-neowiser_p1ba_mch%22%7D%2C%22catalogProject%22%3A%22WISE%22%2C%22catalog%22%3A%22neowiser_p1ba_mch%22%2C%22constraints%22%3A%22objid%20like%20%27%25(558)%20Carmen%25%27%22%2C%22pageSize%22%3A100%7D&options=%7B%22backgroundable%22%3Atrue%2C%22pageSize%22%3A100%7D) &mdash; via a table and visualize such data through charts.\n",
    "\n",
    "4. We finally overlay the catalog onto a HiPS image to dynamically view where our target has been observed in space."
   ]
  },
  {
   "cell_type": "markdown",
   "id": "4ab3a32c",
   "metadata": {},
   "source": [
    "***\n",
    "\n",
    "## About This Notebook"
   ]
  },
  {
   "cell_type": "markdown",
   "id": "f9e655b8",
   "metadata": {},
   "source": [
    "**Author:** Eric Bratton II (IRSA Scientist) in conjunction with the IRSA Science Team<br>\n",
    "**Updated On:** 2024-07-31<br>\n",
    "**Contact:** irsasupport@ipac.caltech.edu or  https://irsa.ipac.caltech.edu/docs/help_desk.html"
   ]
  }
 ],
 "metadata": {
  "jupytext": {
   "text_representation": {
    "extension": ".md",
    "format_name": "myst",
    "format_version": 0.13,
    "jupytext_version": "1.16.2"
   }
  },
  "kernelspec": {
   "display_name": "Python 3 (ipykernel)",
   "language": "python",
   "name": "python3"
  },
  "language_info": {
   "codemirror_mode": {
    "name": "ipython",
    "version": 3
   },
   "file_extension": ".py",
   "mimetype": "text/x-python",
   "name": "python",
   "nbconvert_exporter": "python",
   "pygments_lexer": "ipython3",
   "version": "3.11.10"
  },
  "source_map": [
   12,
   25,
   37,
   45,
   49,
   57,
   63,
   67,
   69,
   84,
   92,
   101,
   107,
   111,
   119,
   123,
   127,
   136,
   150,
   156
  ]
 },
 "nbformat": 4,
 "nbformat_minor": 5
}