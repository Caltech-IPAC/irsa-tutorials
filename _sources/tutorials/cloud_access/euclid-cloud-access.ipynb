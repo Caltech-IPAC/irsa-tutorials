{
 "cells": [
  {
   "cell_type": "markdown",
   "id": "86ceff22",
   "metadata": {},
   "source": [
    "# Euclid Quick Release 1: Cloud Access"
   ]
  },
  {
   "cell_type": "markdown",
   "id": "f4e499c2",
   "metadata": {},
   "source": [
    "```{warning}\n",
    "This notebook requires public access to the Euclid Q1 data, therefore is expected to not work before the 19th of March 2025.\n",
    "\n",
    "We will update the rendered HTML pages with the expected outputs of the code cells once the data is public.\n",
    "```\n",
    "\n",
    "## Learning Goals\n",
    "By the end of this tutorial, you will:\n",
    "- Learn where Euclid Q1 data are stored in the cloud.\n",
    "- Retrieve an image cutout from the cloud.\n",
    "- Retrieve a spectrum from the cloud."
   ]
  },
  {
   "cell_type": "markdown",
   "id": "20d5204c",
   "metadata": {},
   "source": [
    "## 1. Introduction\n",
    "Euclid launched in July 2023 as a European Space Agency (ESA) mission with involvement by NASA. The primary science goals of Euclid are to better understand the composition and evolution of the dark Universe. The Euclid mission is providing space-based imaging and spectroscopy as well as supporting ground-based imaging to achieve these primary goals. These data will be archived by multiple global repositories, including IRSA, where they will support transformational work in many areas of astrophysics.\n",
    "\n",
    "Euclid Quick Release 1 (Q1) consists of consists of ~30 TB of imaging, spectroscopy, and catalogs covering four non-contiguous fields: Euclid Deep Field North (22.9 sq deg), Euclid Deep Field Fornax (12.1 sq deg), Euclid Deep Field South (28.1 sq deg), and LDN1641.\n",
    "\n",
    "Euclid Q1 data were released on-premises at IPAC and in the cloud via Amazon Web Services' Open Data Repository. This notebook introduces users to accessing Euclid Q1 data from the cloud. Additional Euclid-specific notebooks can be found at [\"Accessing Euclid data\" section](https://caltech-ipac.github.io/irsa-tutorials/#accessing-euclid-data) and additional notebooks about how to access IRSA-curated data from the AWS ODR can be found at [\"Accessing IRSA's cloud holdings\" section](https://caltech-ipac.github.io/irsa-tutorials/#accessing-irsa-s-cloud-holdings)."
   ]
  },
  {
   "cell_type": "markdown",
   "id": "786cd4b8",
   "metadata": {},
   "source": [
    "## 2. Imports\n",
    "- `s3fs` for browsing S3 buckets\n",
    "- `astropy` for handling coordinates, units, FITS I/O, tables, images, etc.\n",
    "- `astroquery` for querying Euclid data products from IRSA\n",
    "- `matplotlib` for visualization\n",
    "- `json` for decoding JSON strings"
   ]
  },
  {
   "cell_type": "code",
   "execution_count": null,
   "id": "8998663d",
   "metadata": {},
   "outputs": [],
   "source": [
    "# Uncomment the next line to install dependencies if needed.\n",
    "# !pip install s3fs astropy astroquery>=0.4.10 matploltib"
   ]
  },
  {
   "cell_type": "code",
   "execution_count": null,
   "id": "739c5aef",
   "metadata": {},
   "outputs": [],
   "source": [
    "import s3fs\n",
    "from astropy.coordinates import SkyCoord\n",
    "import astropy.units as u\n",
    "from astropy.visualization import ImageNormalize, PercentileInterval, AsinhStretch\n",
    "from astropy.io import fits\n",
    "from astropy.nddata import Cutout2D\n",
    "from astropy.wcs import WCS\n",
    "from astropy.table import Table\n",
    "from astroquery.ipac.irsa import Irsa\n",
    "from matplotlib import pyplot as plt\n",
    "import json"
   ]
  },
  {
   "cell_type": "markdown",
   "id": "00ad5e4b",
   "metadata": {},
   "source": [
    "## 3. Browse Euclid Q1 cloud-hosted data"
   ]
  },
  {
   "cell_type": "code",
   "execution_count": null,
   "id": "0ac1a667",
   "metadata": {},
   "outputs": [],
   "source": [
    "BUCKET_NAME = 'nasa-irsa-euclid-q1'"
   ]
  },
  {
   "cell_type": "markdown",
   "id": "c5650298",
   "metadata": {},
   "source": [
    "[s3fs](https://s3fs.readthedocs.io/en/latest/) provides a filesystem-like python interface for AWS S3 buckets. First we create a s3 client:"
   ]
  },
  {
   "cell_type": "code",
   "execution_count": null,
   "id": "a44eb7fb",
   "metadata": {},
   "outputs": [],
   "source": [
    "s3 = s3fs.S3FileSystem(anon=True)"
   ]
  },
  {
   "cell_type": "markdown",
   "id": "0eec3c54",
   "metadata": {},
   "source": [
    "Then we list the `q1` directory that contains Euclid Q1 data products:"
   ]
  },
  {
   "cell_type": "code",
   "execution_count": null,
   "id": "489f7512",
   "metadata": {},
   "outputs": [],
   "source": [
    "s3.ls(f'{BUCKET_NAME}/q1')"
   ]
  },
  {
   "cell_type": "markdown",
   "id": "7637b74c",
   "metadata": {},
   "source": [
    "Let's navigate to MER images (available as FITS files):"
   ]
  },
  {
   "cell_type": "code",
   "execution_count": null,
   "id": "2d6f17dc",
   "metadata": {},
   "outputs": [],
   "source": [
    "s3.ls(f'{BUCKET_NAME}/q1/MER')[:10] # ls only top 10 to limit the long output"
   ]
  },
  {
   "cell_type": "code",
   "execution_count": null,
   "id": "53bfc4d7",
   "metadata": {},
   "outputs": [],
   "source": [
    "s3.ls(f'{BUCKET_NAME}/q1/MER/102018211') # pick any tile ID from above"
   ]
  },
  {
   "cell_type": "code",
   "execution_count": null,
   "id": "99e0744e",
   "metadata": {},
   "outputs": [],
   "source": [
    "s3.ls(f'{BUCKET_NAME}/q1/MER/102018211/VIS') # pick any instrument from above"
   ]
  },
  {
   "cell_type": "markdown",
   "id": "9c318688",
   "metadata": {},
   "source": [
    "As per \"Browsable Directories\" section in [user guide](https://irsa.ipac.caltech.edu/data/Euclid/docs/euclid_archive_at_irsa_user_guide.pdf), we need `MER/{tile_id}/{instrument}/EUC_MER_BGSUB-MOSAIC*.fits` for displaying background-subtracted mosiac images. But these images are stored under TILE IDs so first we need to find TILE ID for a coordinate search we are interested in. We will use astroquery (in next section) to retrieve FITS file paths for our coordinates by doing spatial search."
   ]
  },
  {
   "cell_type": "markdown",
   "id": "0c7e0587",
   "metadata": {},
   "source": [
    "## 4. Do a spatial search for MER mosaics\n",
    "\n",
    "Pick a target and search radius:"
   ]
  },
  {
   "cell_type": "code",
   "execution_count": null,
   "id": "2d524009",
   "metadata": {},
   "outputs": [],
   "source": [
    "target_name = 'TYC 4429-1677-1'\n",
    "coord = SkyCoord.from_name(target_name)\n",
    "search_radius = 10 * u.arcsec"
   ]
  },
  {
   "cell_type": "markdown",
   "id": "766396e2",
   "metadata": {},
   "source": [
    "List all Simple Image Access (SIA) collections for IRSA with names containing \"euclid\":"
   ]
  },
  {
   "cell_type": "code",
   "execution_count": null,
   "id": "efdfe263",
   "metadata": {},
   "outputs": [],
   "source": [
    "collections = Irsa.list_collections(servicetype='SIA', filter='euclid')\n",
    "collections"
   ]
  },
  {
   "cell_type": "markdown",
   "id": "b8a876e3",
   "metadata": {},
   "source": [
    "As per \"Data Products Overview\" in [user guide](https://irsa.ipac.caltech.edu/data/Euclid/docs/euclid_archive_at_irsa_user_guide.pdf) and above table, we identify that MER Mosiacs are available as the following collection:"
   ]
  },
  {
   "cell_type": "code",
   "execution_count": null,
   "id": "7aaa6294",
   "metadata": {},
   "outputs": [],
   "source": [
    "img_collection = 'euclid_DpdMerBksMosaic'"
   ]
  },
  {
   "cell_type": "markdown",
   "id": "6e4afc93",
   "metadata": {},
   "source": [
    "Now query this collection for our target's coordinates and search radius:"
   ]
  },
  {
   "cell_type": "code",
   "execution_count": null,
   "id": "e6776c43",
   "metadata": {},
   "outputs": [],
   "source": [
    "img_tbl = Irsa.query_sia(pos=(coord, search_radius), collection=img_collection)\n",
    "img_tbl"
   ]
  },
  {
   "cell_type": "markdown",
   "id": "0d1037eb",
   "metadata": {},
   "source": [
    "Let's narrow it down to the images with science dataproduct subtype and Euclid facility:"
   ]
  },
  {
   "cell_type": "code",
   "execution_count": null,
   "id": "e8049d82",
   "metadata": {},
   "outputs": [],
   "source": [
    "euclid_sci_img_tbl = img_tbl[[row['facility_name']=='Euclid'\n",
    "                              and row['dataproduct_subtype']=='science'\n",
    "                              for row in img_tbl]]\n",
    "euclid_sci_img_tbl"
   ]
  },
  {
   "cell_type": "markdown",
   "id": "0f75bc05",
   "metadata": {},
   "source": [
    "We can see there's a `cloud_access` column that gives us the location info of the image files we are interested in. So let's extract the S3 bucket file path from it:"
   ]
  },
  {
   "cell_type": "code",
   "execution_count": null,
   "id": "357e034f",
   "metadata": {},
   "outputs": [],
   "source": [
    "def get_s3_fpath(cloud_access):\n",
    "    cloud_info = json.loads(cloud_access) # converts str to dict\n",
    "    bucket_name = cloud_info['aws']['bucket_name']\n",
    "    key = cloud_info['aws']['key']\n",
    "\n",
    "    return f'{bucket_name}/{key}'"
   ]
  },
  {
   "cell_type": "code",
   "execution_count": null,
   "id": "a6b99ed5",
   "metadata": {},
   "outputs": [],
   "source": [
    "[get_s3_fpath(row['cloud_access']) for row in euclid_sci_img_tbl]"
   ]
  },
  {
   "cell_type": "markdown",
   "id": "58e3178e",
   "metadata": {},
   "source": [
    "Let's also extract filter names to use when displaying the images:"
   ]
  },
  {
   "cell_type": "code",
   "execution_count": null,
   "id": "66397f18",
   "metadata": {},
   "outputs": [],
   "source": [
    "def get_filter_name(instrument, bandpass):\n",
    "    return f'{instrument}_{bandpass}' if instrument!=bandpass else instrument"
   ]
  },
  {
   "cell_type": "code",
   "execution_count": null,
   "id": "3b1672d0",
   "metadata": {},
   "outputs": [],
   "source": [
    "[get_filter_name(row['instrument_name'], row['energy_bandpassname']) for row in euclid_sci_img_tbl]"
   ]
  },
  {
   "cell_type": "markdown",
   "id": "f88bd62c",
   "metadata": {},
   "source": [
    "## 5. Efficiently retrieve mosaic cutouts\n",
    "These image files are very big (~1.4GB), so we use astropy's lazy-loading capability of FITS for better performance. (See [Obtaining subsets from cloud-hosted FITS files](https://docs.astropy.org/en/stable/io/fits/usage/cloud.html#fits-io-cloud).)"
   ]
  },
  {
   "cell_type": "code",
   "execution_count": null,
   "id": "cf6ccdb5",
   "metadata": {},
   "outputs": [],
   "source": [
    "cutout_size = 1 * u.arcmin"
   ]
  },
  {
   "cell_type": "code",
   "execution_count": null,
   "id": "ebfa7c9b",
   "metadata": {},
   "outputs": [],
   "source": [
    "cutouts = []\n",
    "filters = []\n",
    "\n",
    "for row in euclid_sci_img_tbl:\n",
    "    s3_fpath = get_s3_fpath(row['cloud_access'])\n",
    "    filter_name = get_filter_name(row['instrument_name'], row['energy_bandpassname'])\n",
    "\n",
    "    with fits.open(f's3://{s3_fpath}', fsspec_kwargs={\"anon\": True}) as hdul:\n",
    "        print(f'Retrieving cutout for {filter_name} ...')\n",
    "        cutout = Cutout2D(hdul[0].section,\n",
    "                          position=coord,\n",
    "                          size=cutout_size,\n",
    "                          wcs=WCS(hdul[0].header))\n",
    "        cutouts.append(cutout)\n",
    "        filters.append(filter_name)"
   ]
  },
  {
   "cell_type": "code",
   "execution_count": null,
   "id": "0f8b0a31",
   "metadata": {},
   "outputs": [],
   "source": [
    "fig, axes = plt.subplots(2, 2, figsize=(4 * 2, 4 * 2), subplot_kw={'projection': cutouts[0].wcs})\n",
    "\n",
    "for idx, ax in enumerate(axes.flat):\n",
    "    norm = ImageNormalize(cutouts[idx].data, interval=PercentileInterval(99), stretch=AsinhStretch())\n",
    "    ax.imshow(cutouts[idx].data, cmap='gray', origin='lower', norm=norm)\n",
    "    ax.set_xlabel('RA')\n",
    "    ax.set_ylabel('Dec')\n",
    "    ax.text(0.95, 0.05, filters[idx], color='white', fontsize=14, transform=ax.transAxes, va='bottom', ha='right')\n",
    "\n",
    "plt.tight_layout()"
   ]
  },
  {
   "cell_type": "markdown",
   "id": "0e97d7ad",
   "metadata": {},
   "source": [
    "## 6. Find the MER catalog for a given tile\n",
    "Let's navigate to MER catalog in the Euclid Q1 bucket:"
   ]
  },
  {
   "cell_type": "code",
   "execution_count": null,
   "id": "b7991f88",
   "metadata": {},
   "outputs": [],
   "source": [
    "s3.ls(f'{BUCKET_NAME}/q1/catalogs')"
   ]
  },
  {
   "cell_type": "code",
   "execution_count": null,
   "id": "b548c5df",
   "metadata": {},
   "outputs": [],
   "source": [
    "s3.ls(f'{BUCKET_NAME}/q1/catalogs/MER_FINAL_CATALOG')[:10] # ls only top 10 to limit the long output"
   ]
  },
  {
   "cell_type": "code",
   "execution_count": null,
   "id": "3e25d9d1",
   "metadata": {},
   "outputs": [],
   "source": [
    "mer_tile_id = 102160339 # from the image paths for the target we picked\n",
    "s3.ls(f'{BUCKET_NAME}/q1/catalogs/MER_FINAL_CATALOG/{mer_tile_id}')"
   ]
  },
  {
   "cell_type": "markdown",
   "id": "263dae44",
   "metadata": {},
   "source": [
    "As per \"Browsable Directiories\" section in [user guide](https://irsa.ipac.caltech.edu/data/Euclid/docs/euclid_archive_at_irsa_user_guide.pdf), we can use `catalogs/MER_FINAL_CATALOG/{tile_id}/EUC_MER_FINAL-CAT*.fits` for listing the objects catalogued. We can read the identified FITS file as table and do filtering on ra, dec columns to find object ID(s) only for the target we picked. But it will be an expensive operation so we will instead use astroquery (in next section) to do a spatial search in the MER catalog provided by IRSA.\n",
    "\n",
    "```{note}\n",
    "Once the catalogs are available as Parquet files in the cloud, we can efficiently do spatial filtering directly on the cloud-hosted file to identify object ID(s) for our target. But for the time being, we can use catalog VO services through astroquery to do the same.\n",
    "```"
   ]
  },
  {
   "cell_type": "markdown",
   "id": "d7e8c28a",
   "metadata": {},
   "source": [
    "## 7. Find the MER Object ID for our target\n",
    "First, list the Euclid catalogs provided by IRSA:"
   ]
  },
  {
   "cell_type": "code",
   "execution_count": null,
   "id": "7282f034",
   "metadata": {},
   "outputs": [],
   "source": [
    "catalogs = Irsa.list_catalogs(full=True, filter='euclid')\n",
    "catalogs"
   ]
  },
  {
   "cell_type": "markdown",
   "id": "a57689fa",
   "metadata": {},
   "source": [
    "From this table, we can extract the MER catalog name. We also see several other interesting catalogs, let's also extract spectral file association catalog for retrieving spectra later."
   ]
  },
  {
   "cell_type": "code",
   "execution_count": null,
   "id": "a3300014",
   "metadata": {},
   "outputs": [],
   "source": [
    "euclid_mer_catalog = 'euclid_q1_mer_catalogue'\n",
    "euclid_spec_association_catalog = 'euclid.objectid_spectrafile_association_q1'"
   ]
  },
  {
   "cell_type": "markdown",
   "id": "3316b9e1",
   "metadata": {},
   "source": [
    "Now, we do a region search within a cone of 5 arcsec around our target to pinpoint its object ID in Euclid catalog:"
   ]
  },
  {
   "cell_type": "code",
   "execution_count": null,
   "id": "ef0518de",
   "metadata": {},
   "outputs": [],
   "source": [
    "search_radius = 5 * u.arcsec\n",
    "\n",
    "mer_catalog_tbl = Irsa.query_region(coordinates=coord, spatial='Cone',\n",
    "                                    catalog=euclid_mer_catalog, radius=search_radius)\n",
    "mer_catalog_tbl"
   ]
  },
  {
   "cell_type": "code",
   "execution_count": null,
   "id": "6ed3b554",
   "metadata": {},
   "outputs": [],
   "source": [
    "object_id = int(mer_catalog_tbl['object_id'][0])\n",
    "object_id"
   ]
  },
  {
   "cell_type": "markdown",
   "id": "e418f798",
   "metadata": {},
   "source": [
    "## 8. Find the spectrum of an object in the MER catalog\n",
    "Using the object ID(s) we extracted above, we can narrow down the spectral file association catalog to identify spectra file path(s). So we do the following TAP search:"
   ]
  },
  {
   "cell_type": "code",
   "execution_count": null,
   "id": "26fe8ca3",
   "metadata": {},
   "outputs": [],
   "source": [
    "adql_query = f\"SELECT * FROM {euclid_spec_association_catalog} \\\n",
    "    WHERE objectid = {object_id}\"\n",
    "\n",
    "spec_association_tbl = Irsa.query_tap(adql_query).to_table()\n",
    "spec_association_tbl"
   ]
  },
  {
   "cell_type": "markdown",
   "id": "43c7d6a4",
   "metadata": {},
   "source": [
    "```{warning}\n",
    "If you picked a target other than what this notebook uses, it's possible that there is no spectrum associated for your target's object ID. In that case, `spec_association_tbl` will contain 0 rows.\n",
    "```\n",
    "\n",
    "In above table, we can see that the `uri` column gives us location of spectra file on IBE. We can map it to S3 bucket key to retrieve spectra file from the cloud. This is a very big FITS spectra file with multiple extensions where each extension contains spectrum of one object. The `hdu` column gives us the extension number for our object. So let's extract both of these."
   ]
  },
  {
   "cell_type": "code",
   "execution_count": null,
   "id": "980806ac",
   "metadata": {},
   "outputs": [],
   "source": [
    "spec_fpath_key = spec_association_tbl['uri'][0].replace('ibe/data/euclid/', '')\n",
    "spec_fpath_key"
   ]
  },
  {
   "cell_type": "code",
   "execution_count": null,
   "id": "a2d66604",
   "metadata": {},
   "outputs": [],
   "source": [
    "object_hdu_idx = int(spec_association_tbl['hdu'][0])\n",
    "object_hdu_idx"
   ]
  },
  {
   "cell_type": "markdown",
   "id": "93af6eab",
   "metadata": {},
   "source": [
    "Again, we use astropy's lazy-loading capability of FITS to only retrieve the spectrum table of our object from the S3 bucket."
   ]
  },
  {
   "cell_type": "code",
   "execution_count": null,
   "id": "60efa361",
   "metadata": {},
   "outputs": [],
   "source": [
    "with fits.open(f's3://{BUCKET_NAME}/{spec_fpath_key}', fsspec_kwargs={'anon': True}) as hdul:\n",
    "    spec_hdu = hdul[object_hdu_idx]\n",
    "    spec_tbl = Table.read(spec_hdu)"
   ]
  },
  {
   "cell_type": "code",
   "execution_count": null,
   "id": "03c41b23",
   "metadata": {},
   "outputs": [],
   "source": [
    "spec_tbl"
   ]
  },
  {
   "cell_type": "code",
   "execution_count": null,
   "id": "2a6182a2",
   "metadata": {},
   "outputs": [],
   "source": [
    "plt.plot(spec_tbl['WAVELENGTH'], spec_tbl['SIGNAL'])\n",
    "plt.xlabel(spec_tbl['WAVELENGTH'].unit.to_string('latex_inline'))\n",
    "plt.ylabel(spec_tbl['SIGNAL'].unit.to_string('latex_inline'))\n",
    "\n",
    "plt.title(f'Spectrum of Target: {target_name}\\n(Euclid Object ID: {object_id})');"
   ]
  },
  {
   "cell_type": "markdown",
   "id": "c1c4b989",
   "metadata": {},
   "source": [
    "## About this Notebook\n",
    "\n",
    "**Author:** Jaladh Singhal (IRSA Developer) in conjunction with Vandana Desai, Brigitta Sipőcz, Tiffany Meshkat and the IPAC Science Platform team\n",
    "\n",
    "**Updated:** 2025-03-17\n",
    "\n",
    "**Contact:** the [IRSA Helpdesk](https://irsa.ipac.caltech.edu/docs/help_desk.html) with questions or reporting problems."
   ]
  }
 ],
 "metadata": {
  "jupytext": {
   "text_representation": {
    "extension": ".md",
    "format_name": "myst",
    "format_version": 0.13,
    "jupytext_version": "1.16.3"
   }
  },
  "kernelspec": {
   "display_name": "Python 3 (ipykernel)",
   "language": "python",
   "name": "python3"
  },
  "source_map": [
   12,
   16,
   31,
   40,
   49,
   54,
   66,
   70,
   72,
   76,
   78,
   82,
   84,
   88,
   92,
   96,
   98,
   102,
   108,
   112,
   116,
   119,
   123,
   125,
   129,
   132,
   136,
   141,
   145,
   154,
   156,
   160,
   165,
   167,
   172,
   176,
   194,
   205,
   210,
   214,
   218,
   221,
   229,
   234,
   237,
   241,
   244,
   248,
   256,
   259,
   264,
   270,
   278,
   283,
   286,
   290,
   296,
   300,
   306
  ]
 },
 "nbformat": 4,
 "nbformat_minor": 5
}