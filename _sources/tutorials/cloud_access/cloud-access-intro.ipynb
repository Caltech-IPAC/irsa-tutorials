{
 "cells": [
  {
   "cell_type": "markdown",
   "id": "8e2f3390",
   "metadata": {},
   "source": [
    "# IRSA cloud access introduction\n",
    "\n",
    "This is the introductory tutorial demonstrating basic python access to the IRSA-curated images and catalogs available in AWS S3 cloud storage buckets.\n",
    "\n",
    "Learning Goals:\n",
    "\n",
    "- Find datasets and connection information.\n",
    "- Browse buckets.\n",
    "- Find an image and retrieve a cutout.\n",
    "- Navigate a catalog and perform a basic query."
   ]
  },
  {
   "cell_type": "markdown",
   "id": "77c2e144",
   "metadata": {},
   "source": [
    "## 1. Cloud basics\n",
    "\n",
    "### 1.1 Terminology\n",
    "\n",
    "AWS S3 is an [object store](https://en.wikipedia.org/wiki/Object_storage) where the fundamental entities are \"buckets\" and \"objects\".\n",
    "Buckets are containers for objects, and objects are blobs of data.\n",
    "Users may be more familiar with [filesystem](https://en.wikipedia.org/wiki/File_system) \"files\" and \"directories\".\n",
    "Files are analogous to objects, and the terms are often used interchangeably.\n",
    "While there is no directory-like structure in S3 itself, various layers on top of S3 have implemented functionality to mimic it.\n",
    "As a result, users can generally interact using familiar filesystem logic, but may notice subtle differences.\n",
    "\n",
    "The following S3 terms are also used in this notebook:\n",
    "\n",
    "- Key: Unique ID for an object, relative to the bucket. Analogous to the full path to a file.\n",
    "- Prefix: String of characters at the beginning of the object key. Analogous to the full path to a directory."
   ]
  },
  {
   "cell_type": "markdown",
   "id": "76948c0c",
   "metadata": {},
   "source": [
    "### 1.2 General access\n",
    "\n",
    "Most of the common python methods used to read images and catalogs from a local disk can also be pointed at cloud storage buckets.\n",
    "This includes methods like Astropy `fits.open` and Pandas `read_parquet`.\n",
    "The cloud connection is handled by a separate library, usually [s3fs](https://s3fs.readthedocs.io), [fsspec](https://filesystem-spec.readthedocs.io), or [pyarrow.fs](https://arrow.apache.org/docs/python/api/filesystems.html).\n",
    "\n",
    "The IRSA buckets are public and access is free.\n",
    "Credentials are not required.\n",
    "Anonymous connections can be made, often by setting a keyword argument like `anon=True`."
   ]
  },
  {
   "cell_type": "markdown",
   "id": "e9be1fec",
   "metadata": {},
   "source": [
    "## 2. Find datasets and connection information\n",
    "\n",
    "A listing of the available datasets is maintained on [IRSA's Cloud Access](https://irsa.ipac.caltech.edu/cloud_access/) page.\n",
    "It can be used to substitute values for the following variables, which are used throughout this notebook and identified by all caps:\n",
    "\n",
    "| Cloud Access Variable | Definition |\n",
    "| --- | --- |\n",
    "| `BUCKET_NAME` | AWS S3 bucket name. |\n",
    "| `BUCKET_REGION` | AWS region the bucket is in. |\n",
    "| `IMAGES_PREFIX`| S3 prefix to the base of an image set. |\n",
    "| `CATALOG_PREFIX` | S3 prefix to the base of a catalog. |\n",
    "| `PARQUET_NAME` | Path to the base of the catalog's Parquet dataset, relative to the prefix. |"
   ]
  },
  {
   "cell_type": "markdown",
   "id": "3a0adab2",
   "metadata": {},
   "source": [
    "## 3. Imports\n",
    "\n",
    "The following libraries will be used:\n",
    "\n",
    "- astropy: perform image cutouts\n",
    "- hpgeom: map sky location to catalog partition\n",
    "- matplotlib: view results\n",
    "- pandas: query Parquet datasets\n",
    "- pyarrow: work with Parquet datasets\n",
    "- pyvo: locate images in the cloud (pyvo>=1.5 required)\n",
    "- s3fs: browse buckets\n",
    "\n",
    "Libraries are imported at the top of each section where used.\n",
    "This cell will install them if needed:"
   ]
  },
  {
   "cell_type": "code",
   "execution_count": 1,
   "id": "5d0d96b6",
   "metadata": {},
   "outputs": [],
   "source": [
    "# Uncomment the next line to install dependencies if needed.\n",
    "# !pip install astropy hpgeom pandas pyarrow 'pyvo>=1.5' s3fs matplotlib astroquery"
   ]
  },
  {
   "cell_type": "markdown",
   "id": "c83d5e6c",
   "metadata": {},
   "source": [
    "## 4. Browse buckets\n",
    "\n",
    "Generally, it is not necessary to look through the buckets.\n",
    "The Cloud Access page is the best way to understand what is available.\n",
    "However, browsing buckets can sometimes be useful.\n",
    "\n",
    "The [s3fs](https://s3fs.readthedocs.io) library offers a filesystem-like experience and is demonstrated below.\n",
    "Beware that these datasets can contain millions of files or more --\n",
    "if calls are taking a long time to return, try narrowing the search by adding additional levels to the prefix.\n",
    "\n",
    "Users who want to interact with the buckets and objects more directly may instead prefer the [AWS Boto3](https://boto3.amazonaws.com/v1/documentation/api/latest/reference/services/s3.html) library."
   ]
  },
  {
   "cell_type": "code",
   "execution_count": 2,
   "id": "be8453ea",
   "metadata": {},
   "outputs": [],
   "source": [
    "import s3fs"
   ]
  },
  {
   "cell_type": "code",
   "execution_count": 3,
   "id": "206eb29a",
   "metadata": {},
   "outputs": [],
   "source": [
    "# create an S3 client\n",
    "s3 = s3fs.S3FileSystem(anon=True)"
   ]
  },
  {
   "cell_type": "markdown",
   "id": "7320a56c",
   "metadata": {},
   "source": [
    "`ls` the root directory of the Spitzer SEIP Super Mosaics image set:"
   ]
  },
  {
   "cell_type": "code",
   "execution_count": 4,
   "id": "8d3ce76f",
   "metadata": {},
   "outputs": [
    {
     "data": {
      "text/plain": [
       "['nasa-irsa-spitzer/spitzer/seip/seip_science/images/2',\n",
       " 'nasa-irsa-spitzer/spitzer/seip/seip_science/images/3',\n",
       " 'nasa-irsa-spitzer/spitzer/seip/seip_science/images/4',\n",
       " 'nasa-irsa-spitzer/spitzer/seip/seip_science/images/5',\n",
       " 'nasa-irsa-spitzer/spitzer/seip/seip_science/images/6',\n",
       " 'nasa-irsa-spitzer/spitzer/seip/seip_science/images/7']"
      ]
     },
     "execution_count": 4,
     "metadata": {},
     "output_type": "execute_result"
    }
   ],
   "source": [
    "BUCKET_NAME = \"nasa-irsa-spitzer\"\n",
    "IMAGES_PREFIX = \"spitzer/seip/seip_science/images\"\n",
    "\n",
    "s3.ls(f\"{BUCKET_NAME}/{IMAGES_PREFIX}/\")"
   ]
  },
  {
   "cell_type": "markdown",
   "id": "65198269",
   "metadata": {},
   "source": [
    "Use wildcard (glob) matching to find mosaics.\n",
    "This can be slow if looking through a large number of files, so we'll add a few levels to the base prefix to reduce the number of files in the search.\n",
    "The additional levels can be found using `ls` recursively or constructed using information on the Cloud Access page."
   ]
  },
  {
   "cell_type": "code",
   "execution_count": 5,
   "id": "69b2dbdf",
   "metadata": {},
   "outputs": [
    {
     "data": {
      "text/plain": [
       "['nasa-irsa-spitzer/spitzer/seip/seip_science/images/4/0019/40019821/9/40019821-19/40019821.40019821-19.MIPS.1.mosaic.fits',\n",
       " 'nasa-irsa-spitzer/spitzer/seip/seip_science/images/4/0019/40019821/9/40019821-9/40019821.40019821-9-short.IRAC.1.mosaic.fits',\n",
       " 'nasa-irsa-spitzer/spitzer/seip/seip_science/images/4/0019/40019821/9/40019821-9/40019821.40019821-9-short.IRAC.2.mosaic.fits',\n",
       " 'nasa-irsa-spitzer/spitzer/seip/seip_science/images/4/0019/40019821/9/40019821-9/40019821.40019821-9-short.IRAC.3.mosaic.fits',\n",
       " 'nasa-irsa-spitzer/spitzer/seip/seip_science/images/4/0019/40019821/9/40019821-9/40019821.40019821-9-short.IRAC.4.mosaic.fits',\n",
       " 'nasa-irsa-spitzer/spitzer/seip/seip_science/images/4/0019/40019821/9/40019821-9/40019821.40019821-9.IRAC.1.mosaic.fits',\n",
       " 'nasa-irsa-spitzer/spitzer/seip/seip_science/images/4/0019/40019821/9/40019821-9/40019821.40019821-9.IRAC.2.mosaic.fits',\n",
       " 'nasa-irsa-spitzer/spitzer/seip/seip_science/images/4/0019/40019821/9/40019821-9/40019821.40019821-9.IRAC.3.mosaic.fits',\n",
       " 'nasa-irsa-spitzer/spitzer/seip/seip_science/images/4/0019/40019821/9/40019821-9/40019821.40019821-9.IRAC.4.mosaic.fits',\n",
       " 'nasa-irsa-spitzer/spitzer/seip/seip_science/images/4/0019/40019821/9/40019821-9/40019821.40019821-9.MIPS.1.mosaic.fits']"
      ]
     },
     "execution_count": 5,
     "metadata": {},
     "output_type": "execute_result"
    }
   ],
   "source": [
    "sub_prefix = \"4/0019/40019821/9\"\n",
    "glob_pattern = \"**/*.mosaic.fits\"\n",
    "\n",
    "s3.glob(f\"{BUCKET_NAME}/{IMAGES_PREFIX}/{sub_prefix}/{glob_pattern}\")"
   ]
  },
  {
   "cell_type": "markdown",
   "id": "33da601f",
   "metadata": {},
   "source": [
    "## 5. Find an image and retrieve a cutout\n",
    "\n",
    "A basic image cutout using [Astropy](https://docs.astropy.org/en/stable/) is demonstrated in section 5.2.\n",
    "It requires a bucket name and image key.\n",
    "Section 5.1 demonstrates how to query IRSA for this information using [PyVO](https://pyvo.readthedocs.io/en/latest/index.html) and a coordinate search.\n",
    "\n",
    "Note: There may be a delay between the time when a new dataset is made available in S3 and when IRSA's image services are able to return the new cloud access information.\n",
    "In this case, the IRSA URL that is returned by the service can be mapped to the cloud information.\n",
    "This is explained further on the Cloud Access page, and also demonstrated in section 5.1 below."
   ]
  },
  {
   "cell_type": "code",
   "execution_count": 6,
   "id": "a94663bf",
   "metadata": {},
   "outputs": [],
   "source": [
    "import astropy.io\n",
    "import json\n",
    "import pyvo\n",
    "from astropy import units as u\n",
    "from astropy.coordinates import SkyCoord\n",
    "from astropy.nddata import Cutout2D\n",
    "from astropy.wcs import WCS\n",
    "from matplotlib import pyplot as plt"
   ]
  },
  {
   "cell_type": "markdown",
   "id": "d0a68850",
   "metadata": {},
   "source": [
    "### 5.1 Find an image using PyVO and a coordinate search"
   ]
  },
  {
   "cell_type": "code",
   "execution_count": 7,
   "id": "6e0554bd",
   "metadata": {},
   "outputs": [],
   "source": [
    "coords = SkyCoord(\"150.01d 2.2d\", frame=\"icrs\")\n",
    "size = 0.01 * u.deg"
   ]
  },
  {
   "cell_type": "markdown",
   "id": "26acc13a",
   "metadata": {},
   "source": [
    "For the full list of datasets that can be used with the `collection` parameter in the SIA search below, uncomment the next cell.\n",
    "Note that only some of these are currently available in cloud storage.\n",
    "To request that additional datasets be made available in cloud storage, please contact IRSA's [Help Desk](https://irsa.ipac.caltech.edu/docs/help_desk.html)."
   ]
  },
  {
   "cell_type": "code",
   "execution_count": 8,
   "id": "998a28a3",
   "metadata": {},
   "outputs": [],
   "source": [
    "# from astroquery.ipac.irsa import Irsa\n",
    "\n",
    "# Irsa.list_collections()"
   ]
  },
  {
   "cell_type": "markdown",
   "id": "55b7d24f",
   "metadata": {},
   "source": [
    "Use PyVO to execute a search for Spitzer SEIP Super Mosaics and find cloud access information:"
   ]
  },
  {
   "cell_type": "code",
   "execution_count": 9,
   "id": "f91bd938",
   "metadata": {},
   "outputs": [
    {
     "data": {
      "text/plain": [
       "masked_array(data=['{\"aws\": {\"bucket_name\": \"nasa-irsa-spitzer\", \"key\":\"spitzer/seip/seip_science/images/6/0095/60095931/4/60095931-14/60095931.60095931-14.IRAC.1.std.fits\", \"region\": \"us-west-2\"}}',\n",
       "                   '{\"aws\": {\"bucket_name\": \"nasa-irsa-spitzer\", \"key\":\"spitzer/seip/seip_science/images/6/0095/60095931/4/60095931-14/60095931.60095931-14.IRAC.1.median_mosaic.fits\", \"region\": \"us-west-2\"}}',\n",
       "                   '{\"aws\": {\"bucket_name\": \"nasa-irsa-spitzer\", \"key\":\"spitzer/seip/seip_science/images/6/0095/60095931/4/60095931-14/60095931.60095931-14.IRAC.1.median_mosaic_unc.fits\", \"region\": \"us-west-2\"}}',\n",
       "                   '{\"aws\": {\"bucket_name\": \"nasa-irsa-spitzer\", \"key\":\"spitzer/seip/seip_science/images/6/0095/60095931/4/60095931-14/60095931.60095931-14.IRAC.1.cov.fits\", \"region\": \"us-west-2\"}}',\n",
       "                   '{\"aws\": {\"bucket_name\": \"nasa-irsa-spitzer\", \"key\":\"spitzer/seip/seip_science/images/6/0095/60095931/4/60095931-14/60095931.60095931-14.IRAC.3.std.fits\", \"region\": \"us-west-2\"}}'],\n",
       "             mask=[False, False, False, False, False],\n",
       "       fill_value=array('?', dtype='<U1'),\n",
       "            dtype=object)"
      ]
     },
     "execution_count": 9,
     "metadata": {},
     "output_type": "execute_result"
    }
   ],
   "source": [
    "irsa_SIA = pyvo.dal.SIA2Service(\"https://irsa.ipac.caltech.edu/SIA\")\n",
    "seip_results = irsa_SIA.search((coords, size), collection=\"spitzer_seip\")\n",
    "\n",
    "# view cloud access info for the first few files overlapping the search area\n",
    "seip_results[\"cloud_access\"][:5]"
   ]
  },
  {
   "cell_type": "markdown",
   "id": "ae0dac81",
   "metadata": {},
   "source": [
    "**Option 1**: Extract the cloud information from the \"cloud_access\" column for a single mosaic file:"
   ]
  },
  {
   "cell_type": "code",
   "execution_count": 10,
   "id": "af642b0b",
   "metadata": {},
   "outputs": [],
   "source": [
    "# find the first mosaic file in the results\n",
    "# use json to convert the string containing the cloud info to a dictionary\n",
    "mosaics = [i for i in seip_results[\"cloud_access\"] if \".mosaic.fits\" in i]\n",
    "seip_mosaic_cloud_info = json.loads(mosaics[0])\n",
    "\n",
    "# extract\n",
    "BUCKET_NAME = seip_mosaic_cloud_info[\"aws\"][\"bucket_name\"]\n",
    "image_key = seip_mosaic_cloud_info[\"aws\"][\"key\"]"
   ]
  },
  {
   "cell_type": "markdown",
   "id": "49c9c615",
   "metadata": {},
   "source": [
    "**Option 2**: Construct the cloud information for a single mosaic file from the IRSA URL (useful if you know the dataset is in S3, but results in the \"cloud_access\" column were empty):"
   ]
  },
  {
   "cell_type": "code",
   "execution_count": 11,
   "id": "07b19ca4",
   "metadata": {},
   "outputs": [],
   "source": [
    "BUCKET_NAME = \"nasa-irsa-spitzer\"\n",
    "IMAGES_PREFIX = \"spitzer/seip/seip_science/images\"\n",
    "\n",
    "# find the first mosaic URL in the results\n",
    "image_url = [url for url in seip_results[\"access_url\"] if \".mosaic.fits\" in url][0]\n",
    "\n",
    "# construct the key by replacing the first part of the URL with the IMAGES_PREFIX\n",
    "# split the URL at the data product ID, the final level of the prefix\n",
    "data_product_id = IMAGES_PREFIX.split(\"/\")[-1]\n",
    "key_suffix = image_url.split(f\"/{data_product_id}/\")[-1]\n",
    "image_key = f\"{IMAGES_PREFIX}/{key_suffix}\""
   ]
  },
  {
   "cell_type": "markdown",
   "id": "237e3673",
   "metadata": {},
   "source": [
    "### 5.2 Retrieve a cutout using Astropy\n",
    "\n",
    "Lazy-load data for better performance.\n",
    "The relevant options are enabled by default when using `astropy.io.fits.open` with `fsspec`.\n",
    "In addition, use the HDU `section` method in place of the usual `data` to avoid downloading the full data block.\n",
    "(See [Obtaining subsets from cloud-hosted FITS files](https://docs.astropy.org/en/stable/io/fits/usage/cloud.html#fits-io-cloud).)"
   ]
  },
  {
   "cell_type": "code",
   "execution_count": 12,
   "id": "5cb974e4",
   "metadata": {},
   "outputs": [],
   "source": [
    "s3_image_path = f\"s3://{BUCKET_NAME}/{image_key}\"\n",
    "with astropy.io.fits.open(s3_image_path, fsspec_kwargs={\"anon\": True}) as hdul:\n",
    "    cutout = Cutout2D(hdul[0].section, position=coords, size=size, wcs=WCS(hdul[0].header))"
   ]
  },
  {
   "cell_type": "markdown",
   "id": "2f5f1bfc",
   "metadata": {},
   "source": [
    "Show the cutout:"
   ]
  },
  {
   "cell_type": "code",
   "execution_count": 13,
   "id": "9394bc06",
   "metadata": {},
   "outputs": [
    {
     "data": {
      "text/plain": [
       "<matplotlib.image.AxesImage at 0x7fab8e8be190>"
      ]
     },
     "execution_count": 13,
     "metadata": {},
     "output_type": "execute_result"
    },
    {
     "data": {
      "image/png": "[encoded data removed]",
      "text/plain": [
       "<Figure size 640x480 with 1 Axes>"
      ]
     },
     "metadata": {},
     "output_type": "display_data"
    }
   ],
   "source": [
    "plt.imshow(cutout.data, cmap=\"gray\")"
   ]
  },
  {
   "cell_type": "markdown",
   "id": "248b43be",
   "metadata": {},
   "source": [
    "## 6. Navigate a catalog and perform a basic query\n",
    "\n",
    "The catalogs are in Apache Parquet format and partitioned spatially using HEALPix order k=5.\n",
    "Parquet datasets can be queried directly using SQL-like logic by applying filters during the file reads.\n",
    "For queries that have a spatial constraint, including a filter on the partitioning column can greatly improve performance.\n",
    "\n",
    "Section 6.1 demonstrates how to view the catalog schema using [PyArrow](https://arrow.apache.org/docs/python/) to find the column names, etc. needed for constructing queries.\n",
    "A basic spatial query using [Pandas](https://pandas.pydata.org/docs/) is shown in section 6.2 and includes finding the relevant partitions using [HPGeom](https://hpgeom.readthedocs.io/en/latest/)."
   ]
  },
  {
   "cell_type": "code",
   "execution_count": 14,
   "id": "278d7322",
   "metadata": {},
   "outputs": [],
   "source": [
    "import hpgeom\n",
    "import pandas as pd\n",
    "import pyarrow.dataset\n",
    "import pyarrow.fs\n",
    "from matplotlib import colors"
   ]
  },
  {
   "cell_type": "code",
   "execution_count": 15,
   "id": "a6cd0ec0",
   "metadata": {},
   "outputs": [],
   "source": [
    "BUCKET_NAME = \"nasa-irsa-wise\"\n",
    "BUCKET_REGION = \"us-west-2\"\n",
    "\n",
    "CATALOG_PREFIX = \"wise/allwise/catalogs/p3as_psd/healpix_k5\"\n",
    "PARQUET_NAME = \"wise-allwise.parquet\"\n",
    "\n",
    "parquet_root = f\"{BUCKET_NAME}/{CATALOG_PREFIX}/{PARQUET_NAME}\"\n",
    "\n",
    "fs = pyarrow.fs.S3FileSystem(region=BUCKET_REGION, anonymous=True)"
   ]
  },
  {
   "cell_type": "markdown",
   "id": "20a26084",
   "metadata": {},
   "source": [
    "### 6.1 View the schema using PyArrow"
   ]
  },
  {
   "cell_type": "code",
   "execution_count": 16,
   "id": "c69668b2",
   "metadata": {},
   "outputs": [],
   "source": [
    "# load the schema from the \"_common_metadata\" file\n",
    "s3_schema_path = f\"{parquet_root}/_common_metadata\"\n",
    "schema = pyarrow.dataset.parquet_dataset(s3_schema_path, filesystem=fs).schema\n",
    "\n",
    "# the full schema can be quite large since catalogs often have hundreds of columns\n",
    "# but if you do want to look at the entire schema, uncomment the next line\n",
    "# schema"
   ]
  },
  {
   "cell_type": "markdown",
   "id": "d25279d3",
   "metadata": {},
   "source": [
    "Search through the column names to find the HEALPix partitioning columns:"
   ]
  },
  {
   "cell_type": "code",
   "execution_count": 17,
   "id": "99bcefad",
   "metadata": {},
   "outputs": [
    {
     "data": {
      "text/plain": [
       "['healpix_k0', 'healpix_k5']"
      ]
     },
     "execution_count": 17,
     "metadata": {},
     "output_type": "execute_result"
    }
   ],
   "source": [
    "[name for name in schema.names if \"healpix\" in name]\n",
    "# the result shows that both orders k=0 and k=5 are available, but typical use cases only need k=5"
   ]
  },
  {
   "cell_type": "markdown",
   "id": "d7e048df",
   "metadata": {},
   "source": [
    "Look at a specific column (\"ext_flg\" will be used below to query for likely stars):"
   ]
  },
  {
   "cell_type": "code",
   "execution_count": 18,
   "id": "cc4d9a17",
   "metadata": {},
   "outputs": [
    {
     "data": {
      "text/plain": [
       "pyarrow.Field<ext_flg: int64>"
      ]
     },
     "execution_count": 18,
     "metadata": {},
     "output_type": "execute_result"
    }
   ],
   "source": [
    "# this will display basic information like name and type\n",
    "schema.field(\"ext_flg\")"
   ]
  },
  {
   "cell_type": "code",
   "execution_count": 19,
   "id": "af2f3995",
   "metadata": {},
   "outputs": [
    {
     "data": {
      "text/plain": [
       "{b'units': b'',\n",
       " b'description': b'Extended source flag. This is an integer flag, the value of which indicates whether or not the morphology of a source is consistent with the WISE point spread function in any band, or whether the source is associated with or superimposed on a previously known extended object from the 2MASS Extended Source Catalog (XSC). The values of the ext_flg indicate the following conditions: 0 - The source shape is consistent with a point-source and the source is not associated with or superimposed on a 2MASS XSC source 1 - The profile-fit photometry goodness-of-fit, w?rchi2, is >3.0 in one or more bands. 2 - The source falls within the extrapolated isophotal footprint of a 2MASS XSC source. 3 - The profile-fit photometry goodness-of-fit, w?rchi2, is >3.0 in one or more bands, and The source falls within the extrapolated isophotal footprint of a 2MASS XSC source. 4 - The source position falls within 5\" of a 2MASS XSC source. 5 - The profile-fit photometry goodness-of-fit, w?rchi2, is >3.0 in one or more bands, and the source position falls within 5\" of a 2MASS XSC source. CAUTION: WISE profile-fit (w?mpro) and standard aperture (w?mag) measurements are optimized for point sources and will systematically underestimate the true flux of resolved objects. If a source entry has ext_flg>0, you may wish to examine the large aperture photometry, or the elliptical aperture photometry which are measured using areas that are scaled from 2MASS XSC morphologies.'}"
      ]
     },
     "execution_count": 19,
     "metadata": {},
     "output_type": "execute_result"
    }
   ],
   "source": [
    "# units and descriptions are in the field's metadata attribute\n",
    "schema.field(\"ext_flg\").metadata"
   ]
  },
  {
   "cell_type": "markdown",
   "id": "eb1e21eb",
   "metadata": {},
   "source": [
    "### 6.2 Perform a basic spatial search with Pandas\n",
    "\n",
    "Query the AllWISE catalog for likely stars within an RA/Dec polygon.\n",
    "\n",
    "Spatial limits roughly covering the Taurus L1495 star-forming region:"
   ]
  },
  {
   "cell_type": "code",
   "execution_count": 20,
   "id": "f3164df4",
   "metadata": {},
   "outputs": [],
   "source": [
    "ra_min, ra_max, dec_min, dec_max = 62, 66, 25, 29  # deg\n",
    "\n",
    "polygon_corners = [(ra_min, dec_min), (ra_min, dec_max), (ra_max, dec_max), (ra_max, dec_min)]\n",
    "corners = list(zip(*polygon_corners))  # [(ra values), (dec values)]"
   ]
  },
  {
   "cell_type": "markdown",
   "id": "5bc6658d",
   "metadata": {},
   "source": [
    "Find the partitions (HEALPix pixel indexes) that overlap the polygon:"
   ]
  },
  {
   "cell_type": "code",
   "execution_count": 21,
   "id": "2d850419",
   "metadata": {},
   "outputs": [],
   "source": [
    "k = 5\n",
    "polygon_pixels = hpgeom.query_polygon(\n",
    "    a=corners[0], b=corners[1], nside=hpgeom.order_to_nside(k), inclusive=True\n",
    ")"
   ]
  },
  {
   "cell_type": "markdown",
   "id": "d3cc005c",
   "metadata": {},
   "source": [
    "Query:"
   ]
  },
  {
   "cell_type": "code",
   "execution_count": 22,
   "id": "cb951189",
   "metadata": {},
   "outputs": [],
   "source": [
    "results_df = pd.read_parquet(\n",
    "    parquet_root,\n",
    "    filesystem=fs,\n",
    "    # columns to be returned. similar to a SQL SELECT clause.\n",
    "    columns=[\"designation\", \"w1mpro\", \"w2mpro\", \"w3mpro\", \"w4mpro\", f\"healpix_k{k}\"],\n",
    "    # row filters. similar to a SQL WHERE clause.\n",
    "    # supported operators: ==, !=, <, >, <=, >=, in, not in\n",
    "    # tuple conditions are joined by AND (for OR, use a list of lists)\n",
    "    filters=[\n",
    "        (\"ext_flg\", \"==\", 0),\n",
    "        (\"ra\", \">\", ra_min),\n",
    "        (\"ra\", \"<\", ra_max),\n",
    "        (\"dec\", \">\", dec_min),\n",
    "        (\"dec\", \"<\", dec_max),\n",
    "        # include filter on partition column for efficiency. similar to a database index.\n",
    "        (f\"healpix_k{k}\", \"in\", polygon_pixels),\n",
    "    ],\n",
    ")"
   ]
  },
  {
   "cell_type": "markdown",
   "id": "36d2b67b",
   "metadata": {},
   "source": [
    "View results on a color-color diagram:"
   ]
  },
  {
   "cell_type": "code",
   "execution_count": 23,
   "id": "fb6aa229",
   "metadata": {},
   "outputs": [
    {
     "data": {
      "text/plain": [
       "<Axes: xlabel='W2-W3', ylabel='W1-W2'>"
      ]
     },
     "execution_count": 23,
     "metadata": {},
     "output_type": "execute_result"
    },
    {
     "data": {
      "image/png": "[encoded data removed]",
      "text/plain": [
       "<Figure size 640x480 with 2 Axes>"
      ]
     },
     "metadata": {},
     "output_type": "display_data"
    }
   ],
   "source": [
    "results_df[\"W1-W2\"] = results_df[\"w1mpro\"] - results_df[\"w2mpro\"]\n",
    "results_df[\"W2-W3\"] = results_df[\"w2mpro\"] - results_df[\"w3mpro\"]\n",
    "results_df.plot.hexbin(\"W2-W3\", \"W1-W2\", norm=colors.LogNorm(vmin=1, vmax=500))"
   ]
  },
  {
   "cell_type": "markdown",
   "id": "4a17e141",
   "metadata": {},
   "source": [
    "***\n",
    "\n",
    "## About this notebook\n",
    "\n",
    "**Author:** Troy Raen (IRSA Developer) in conjunction with Brigitta Sipőcz, Jessica Krick and the IPAC Science Platform team\n",
    "\n",
    "**Updated:** 2024-07-29\n",
    "\n",
    "**Contact:** [the IRSA Helpdesk](https://irsa.ipac.caltech.edu/docs/help_desk.html) with questions or reporting problems."
   ]
  }
 ],
 "metadata": {
  "jupytext": {
   "text_representation": {
    "extension": ".md",
    "format_name": "myst",
    "format_version": 0.13,
    "jupytext_version": "1.16.7"
   }
  },
  "kernelspec": {
   "display_name": "Python 3 (ipykernel)",
   "language": "python",
   "name": "python3"
  },
  "language_info": {
   "codemirror_mode": {
    "name": "ipython",
    "version": 3
   },
   "file_extension": ".py",
   "mimetype": "text/x-python",
   "name": "python",
   "nbconvert_exporter": "python",
   "pygments_lexer": "ipython3",
   "version": "3.11.13"
  },
  "source_map": [
   12,
   25,
   43,
   55,
   70,
   87,
   90,
   104,
   108,
   111,
   115,
   120,
   126,
   131,
   143,
   152,
   156,
   159,
   165,
   169,
   173,
   179,
   183,
   192,
   196,
   208,
   217,
   221,
   225,
   227,
   238,
   246,
   256,
   260,
   268,
   272,
   275,
   279,
   284,
   287,
   295,
   300,
   304,
   309,
   313,
   332,
   336,
   340
  ]
 },
 "nbformat": 4,
 "nbformat_minor": 5
}